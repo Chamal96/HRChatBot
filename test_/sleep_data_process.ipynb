{
 "cells": [
  {
   "cell_type": "markdown",
   "metadata": {},
   "source": [
    "# Import Libraries"
   ]
  },
  {
   "cell_type": "code",
   "execution_count": 36,
   "metadata": {},
   "outputs": [],
   "source": [
    " \n",
    "\n",
    "import math\n",
    "import matplotlib.pyplot as plt\n",
    "import numpy as np\n",
    "from numpy.random import seed\n",
    "seed(1)\n",
    "import pandas as pd\n",
    "import statsmodels.api as sm\n",
    "import statsmodels.formula.api as smf\n",
    "import tensorflow\n",
    "tensorflow.random.set_seed(1)\n",
    "from tensorflow.keras.layers import Dense, Activation,BatchNormalization\n",
    "from tensorflow.keras.layers import Dropout\n",
    "from tensorflow.keras.models import Model,Sequential\n",
    "# from tensorflow.python.keras.wrappers.scikit_learn import KerasRegressor\n",
    "from tensorflow.keras.optimizers import Adam\n",
    "\n",
    "from sklearn.metrics import mean_absolute_error\n",
    "from sklearn.metrics import mean_squared_error\n",
    "from sklearn.model_selection import train_test_split\n",
    "from sklearn.preprocessing import MinMaxScaler"
   ]
  },
  {
   "cell_type": "markdown",
   "metadata": {},
   "source": [
    "# Data Loading"
   ]
  },
  {
   "cell_type": "code",
   "execution_count": 37,
   "metadata": {},
   "outputs": [
    {
     "data": {
      "text/html": [
       "<div>\n",
       "<style scoped>\n",
       "    .dataframe tbody tr th:only-of-type {\n",
       "        vertical-align: middle;\n",
       "    }\n",
       "\n",
       "    .dataframe tbody tr th {\n",
       "        vertical-align: top;\n",
       "    }\n",
       "\n",
       "    .dataframe thead th {\n",
       "        text-align: right;\n",
       "    }\n",
       "</style>\n",
       "<table border=\"1\" class=\"dataframe\">\n",
       "  <thead>\n",
       "    <tr style=\"text-align: right;\">\n",
       "      <th></th>\n",
       "      <th>Age</th>\n",
       "      <th>Gender</th>\n",
       "      <th>SleepHour</th>\n",
       "      <th>WorkingAdditionalHour</th>\n",
       "      <th>Stressed</th>\n",
       "    </tr>\n",
       "  </thead>\n",
       "  <tbody>\n",
       "    <tr>\n",
       "      <th>0</th>\n",
       "      <td>18 - 30</td>\n",
       "      <td>Female</td>\n",
       "      <td>6-7 hours</td>\n",
       "      <td>5-10 hours</td>\n",
       "      <td>Rarely</td>\n",
       "    </tr>\n",
       "    <tr>\n",
       "      <th>1</th>\n",
       "      <td>18 - 30</td>\n",
       "      <td>Male</td>\n",
       "      <td>6-7 hours</td>\n",
       "      <td>less than 5 hours</td>\n",
       "      <td>Sometimes</td>\n",
       "    </tr>\n",
       "    <tr>\n",
       "      <th>2</th>\n",
       "      <td>18 - 30</td>\n",
       "      <td>Male</td>\n",
       "      <td>6-7 hours</td>\n",
       "      <td>5-10 hours</td>\n",
       "      <td>Sometimes</td>\n",
       "    </tr>\n",
       "    <tr>\n",
       "      <th>3</th>\n",
       "      <td>18 - 30</td>\n",
       "      <td>Female</td>\n",
       "      <td>4-6  hours</td>\n",
       "      <td>less than 5 hours</td>\n",
       "      <td>Sometimes</td>\n",
       "    </tr>\n",
       "    <tr>\n",
       "      <th>4</th>\n",
       "      <td>18 - 30</td>\n",
       "      <td>Female</td>\n",
       "      <td>4-6  hours</td>\n",
       "      <td>5-10 hours</td>\n",
       "      <td>Sometimes</td>\n",
       "    </tr>\n",
       "    <tr>\n",
       "      <th>...</th>\n",
       "      <td>...</td>\n",
       "      <td>...</td>\n",
       "      <td>...</td>\n",
       "      <td>...</td>\n",
       "      <td>...</td>\n",
       "    </tr>\n",
       "    <tr>\n",
       "      <th>388</th>\n",
       "      <td>31- 45</td>\n",
       "      <td>Male</td>\n",
       "      <td>4-6  hours</td>\n",
       "      <td>5-10 hours</td>\n",
       "      <td>Sometimes</td>\n",
       "    </tr>\n",
       "    <tr>\n",
       "      <th>389</th>\n",
       "      <td>18 - 30</td>\n",
       "      <td>Male</td>\n",
       "      <td>4-6  hours</td>\n",
       "      <td>10-15 hours</td>\n",
       "      <td>Sometimes</td>\n",
       "    </tr>\n",
       "    <tr>\n",
       "      <th>390</th>\n",
       "      <td>18 - 30</td>\n",
       "      <td>Male</td>\n",
       "      <td>4-6  hours</td>\n",
       "      <td>5-10 hours</td>\n",
       "      <td>Sometimes</td>\n",
       "    </tr>\n",
       "    <tr>\n",
       "      <th>391</th>\n",
       "      <td>18 - 30</td>\n",
       "      <td>Male</td>\n",
       "      <td>More than 7 hours</td>\n",
       "      <td>less than 5 hours</td>\n",
       "      <td>Rarely</td>\n",
       "    </tr>\n",
       "    <tr>\n",
       "      <th>392</th>\n",
       "      <td>18 - 30</td>\n",
       "      <td>Male</td>\n",
       "      <td>6-7 hours</td>\n",
       "      <td>less than 5 hours</td>\n",
       "      <td>Rarely</td>\n",
       "    </tr>\n",
       "  </tbody>\n",
       "</table>\n",
       "<p>393 rows × 5 columns</p>\n",
       "</div>"
      ],
      "text/plain": [
       "         Age  Gender          SleepHour WorkingAdditionalHour   Stressed\n",
       "0    18 - 30  Female          6-7 hours            5-10 hours     Rarely\n",
       "1    18 - 30    Male          6-7 hours     less than 5 hours  Sometimes\n",
       "2    18 - 30    Male          6-7 hours            5-10 hours  Sometimes\n",
       "3    18 - 30  Female         4-6  hours     less than 5 hours  Sometimes\n",
       "4    18 - 30  Female         4-6  hours            5-10 hours  Sometimes\n",
       "..       ...     ...                ...                   ...        ...\n",
       "388   31- 45    Male         4-6  hours            5-10 hours  Sometimes\n",
       "389  18 - 30    Male         4-6  hours           10-15 hours  Sometimes\n",
       "390  18 - 30    Male         4-6  hours            5-10 hours  Sometimes\n",
       "391  18 - 30    Male  More than 7 hours     less than 5 hours     Rarely\n",
       "392  18 - 30    Male          6-7 hours     less than 5 hours     Rarely\n",
       "\n",
       "[393 rows x 5 columns]"
      ]
     },
     "execution_count": 37,
     "metadata": {},
     "output_type": "execute_result"
    }
   ],
   "source": [
    "train_df = pd.read_csv('sleep_data.csv')\n",
    "a=train_df.head()\n",
    "b=train_df\n",
    "b"
   ]
  },
  {
   "cell_type": "markdown",
   "metadata": {},
   "source": [
    "# Categorical variables\n"
   ]
  },
  {
   "cell_type": "code",
   "execution_count": 38,
   "metadata": {},
   "outputs": [],
   "source": [
    "Age = train_df.Age.astype(\"category\").cat.codes\n",
    "Age=pd.Series(Age)\n",
    "\n",
    "Gender= train_df.Gender.astype(\"category\").cat.codes\n",
    "Gender=pd.Series(Gender)\n",
    "\n",
    "SleepHour= train_df.SleepHour.astype(\"category\").cat.codes\n",
    "SleepHour=pd.Series(SleepHour)\n",
    "\n",
    "WorkingAdditionalHour= train_df.WorkingAdditionalHour.astype(\"category\").cat.codes\n",
    "WorkingAdditionalHour=pd.Series(WorkingAdditionalHour)\n",
    "\n",
    "Stressed= train_df.Stressed.astype(\"category\").cat.codes\n",
    "Stressed=pd.Series(Stressed)\n"
   ]
  },
  {
   "cell_type": "markdown",
   "metadata": {},
   "source": [
    "# Categorical representation"
   ]
  },
  {
   "cell_type": "code",
   "execution_count": 39,
   "metadata": {},
   "outputs": [
    {
     "name": "stdout",
     "output_type": "stream",
     "text": [
      "{0: '18 - 30', 1: '31- 45', 2: '46 - 60'}\n"
     ]
    }
   ],
   "source": [
    "Age = dict(enumerate(train_df.Age.astype(\"category\").cat.categories))\n",
    "print (Age)"
   ]
  },
  {
   "cell_type": "code",
   "execution_count": 40,
   "metadata": {},
   "outputs": [
    {
     "name": "stdout",
     "output_type": "stream",
     "text": [
      "{0: 'Female', 1: 'Male'}\n"
     ]
    }
   ],
   "source": [
    "Gender = dict(enumerate(train_df.Gender.astype(\"category\").cat.categories))\n",
    "print (Gender)"
   ]
  },
  {
   "cell_type": "code",
   "execution_count": 41,
   "metadata": {},
   "outputs": [
    {
     "name": "stdout",
     "output_type": "stream",
     "text": [
      "{0: '4', 1: '4-6  hours', 2: '6-7 hours', 3: 'Less than 4 hours', 4: 'More than 7 hours'}\n"
     ]
    }
   ],
   "source": [
    "SleepHour = dict(enumerate(train_df.SleepHour.astype(\"category\").cat.categories))\n",
    "print (SleepHour)"
   ]
  },
  {
   "cell_type": "code",
   "execution_count": 42,
   "metadata": {},
   "outputs": [
    {
     "name": "stdout",
     "output_type": "stream",
     "text": [
      "{0: '10-15 hours', 1: '5-10 hours', 2: 'less than 5 hours', 3: 'more than 15'}\n"
     ]
    }
   ],
   "source": [
    "WorkingAdditionalHour = dict(enumerate(train_df.WorkingAdditionalHour.astype(\"category\").cat.categories))\n",
    "print (WorkingAdditionalHour)"
   ]
  },
  {
   "cell_type": "code",
   "execution_count": 43,
   "metadata": {},
   "outputs": [
    {
     "name": "stdout",
     "output_type": "stream",
     "text": [
      "{0: 'Always', 1: 'Never', 2: 'Rarely', 3: 'Sometimes', 4: 'Very Often'}\n"
     ]
    }
   ],
   "source": [
    "Stressed = dict(enumerate(train_df.Stressed.astype(\"category\").cat.categories))\n",
    "print (Stressed)"
   ]
  },
  {
   "cell_type": "code",
   "execution_count": 44,
   "metadata": {},
   "outputs": [],
   "source": [
    "age_encoding = {\n",
    "    '18 - 30': 0,\n",
    "    '31- 45': 1,\n",
    "    '46 - 60': 2 \n",
    "}"
   ]
  },
  {
   "cell_type": "code",
   "execution_count": 45,
   "metadata": {},
   "outputs": [],
   "source": [
    "gender_encoding = {\n",
    "    'Female': 0,\n",
    "    'Male': 1 \n",
    "}"
   ]
  },
  {
   "cell_type": "code",
   "execution_count": 46,
   "metadata": {},
   "outputs": [],
   "source": [
    "sleepHour_encoding = {\n",
    "    '4': 0,\n",
    "    '4-6  hours': 1,\n",
    "    '6-7 hours': 2,\n",
    "    'Less than 4 hours': 3,\n",
    "    'More than 7 hours': 4\n",
    "}"
   ]
  },
  {
   "cell_type": "code",
   "execution_count": 47,
   "metadata": {},
   "outputs": [],
   "source": [
    "working_encoding = {\n",
    "    '10-15 hours': 0,\n",
    "    '5-10 hours': 1,\n",
    "    'less than 5 hours': 2,\n",
    "    'more than 15': 3,\n",
    "}"
   ]
  },
  {
   "cell_type": "code",
   "execution_count": 48,
   "metadata": {},
   "outputs": [],
   "source": [
    "stressed_encoding = {\n",
    "    'Always': 0,\n",
    "    'Never': 1 ,\n",
    "    'Rarely': 2 ,\n",
    "    'Sometimes': 3 ,\n",
    "    'Very Often': 4 ,\n",
    "}"
   ]
  },
  {
   "cell_type": "code",
   "execution_count": 49,
   "metadata": {},
   "outputs": [],
   "source": [
    "train_df['Age'] = train_df['Age'].map(age_encoding)"
   ]
  },
  {
   "cell_type": "code",
   "execution_count": 50,
   "metadata": {},
   "outputs": [],
   "source": [
    "train_df['Gender'] = train_df['Gender'].map(gender_encoding)"
   ]
  },
  {
   "cell_type": "code",
   "execution_count": 51,
   "metadata": {},
   "outputs": [],
   "source": [
    "train_df['SleepHour'] = train_df['SleepHour'].map(sleepHour_encoding)"
   ]
  },
  {
   "cell_type": "code",
   "execution_count": 52,
   "metadata": {},
   "outputs": [],
   "source": [
    "train_df['WorkingAdditionalHour'] = train_df['WorkingAdditionalHour'].map(working_encoding)"
   ]
  },
  {
   "cell_type": "code",
   "execution_count": 53,
   "metadata": {},
   "outputs": [],
   "source": [
    "train_df['Stressed'] = train_df['Stressed'].map(stressed_encoding)"
   ]
  },
  {
   "cell_type": "code",
   "execution_count": 54,
   "metadata": {},
   "outputs": [],
   "source": [
    "train_df.to_csv(\"sleep_data_processed.csv\",index=False)"
   ]
  },
  {
   "cell_type": "code",
   "execution_count": 55,
   "metadata": {},
   "outputs": [],
   "source": [
    "train_df = pd.read_csv(\"sleep_data_processed.csv\")"
   ]
  },
  {
   "cell_type": "code",
   "execution_count": 56,
   "metadata": {},
   "outputs": [
    {
     "data": {
      "text/html": [
       "<div>\n",
       "<style scoped>\n",
       "    .dataframe tbody tr th:only-of-type {\n",
       "        vertical-align: middle;\n",
       "    }\n",
       "\n",
       "    .dataframe tbody tr th {\n",
       "        vertical-align: top;\n",
       "    }\n",
       "\n",
       "    .dataframe thead th {\n",
       "        text-align: right;\n",
       "    }\n",
       "</style>\n",
       "<table border=\"1\" class=\"dataframe\">\n",
       "  <thead>\n",
       "    <tr style=\"text-align: right;\">\n",
       "      <th></th>\n",
       "      <th>Age</th>\n",
       "      <th>Gender</th>\n",
       "      <th>SleepHour</th>\n",
       "      <th>WorkingAdditionalHour</th>\n",
       "      <th>Stressed</th>\n",
       "    </tr>\n",
       "  </thead>\n",
       "  <tbody>\n",
       "    <tr>\n",
       "      <th>0</th>\n",
       "      <td>0</td>\n",
       "      <td>0</td>\n",
       "      <td>2</td>\n",
       "      <td>1</td>\n",
       "      <td>2</td>\n",
       "    </tr>\n",
       "    <tr>\n",
       "      <th>1</th>\n",
       "      <td>0</td>\n",
       "      <td>1</td>\n",
       "      <td>2</td>\n",
       "      <td>2</td>\n",
       "      <td>3</td>\n",
       "    </tr>\n",
       "    <tr>\n",
       "      <th>2</th>\n",
       "      <td>0</td>\n",
       "      <td>1</td>\n",
       "      <td>2</td>\n",
       "      <td>1</td>\n",
       "      <td>3</td>\n",
       "    </tr>\n",
       "    <tr>\n",
       "      <th>3</th>\n",
       "      <td>0</td>\n",
       "      <td>0</td>\n",
       "      <td>1</td>\n",
       "      <td>2</td>\n",
       "      <td>3</td>\n",
       "    </tr>\n",
       "    <tr>\n",
       "      <th>4</th>\n",
       "      <td>0</td>\n",
       "      <td>0</td>\n",
       "      <td>1</td>\n",
       "      <td>1</td>\n",
       "      <td>3</td>\n",
       "    </tr>\n",
       "    <tr>\n",
       "      <th>...</th>\n",
       "      <td>...</td>\n",
       "      <td>...</td>\n",
       "      <td>...</td>\n",
       "      <td>...</td>\n",
       "      <td>...</td>\n",
       "    </tr>\n",
       "    <tr>\n",
       "      <th>388</th>\n",
       "      <td>1</td>\n",
       "      <td>1</td>\n",
       "      <td>1</td>\n",
       "      <td>1</td>\n",
       "      <td>3</td>\n",
       "    </tr>\n",
       "    <tr>\n",
       "      <th>389</th>\n",
       "      <td>0</td>\n",
       "      <td>1</td>\n",
       "      <td>1</td>\n",
       "      <td>0</td>\n",
       "      <td>3</td>\n",
       "    </tr>\n",
       "    <tr>\n",
       "      <th>390</th>\n",
       "      <td>0</td>\n",
       "      <td>1</td>\n",
       "      <td>1</td>\n",
       "      <td>1</td>\n",
       "      <td>3</td>\n",
       "    </tr>\n",
       "    <tr>\n",
       "      <th>391</th>\n",
       "      <td>0</td>\n",
       "      <td>1</td>\n",
       "      <td>4</td>\n",
       "      <td>2</td>\n",
       "      <td>2</td>\n",
       "    </tr>\n",
       "    <tr>\n",
       "      <th>392</th>\n",
       "      <td>0</td>\n",
       "      <td>1</td>\n",
       "      <td>2</td>\n",
       "      <td>2</td>\n",
       "      <td>2</td>\n",
       "    </tr>\n",
       "  </tbody>\n",
       "</table>\n",
       "<p>393 rows × 5 columns</p>\n",
       "</div>"
      ],
      "text/plain": [
       "     Age  Gender  SleepHour  WorkingAdditionalHour  Stressed\n",
       "0      0       0          2                      1         2\n",
       "1      0       1          2                      2         3\n",
       "2      0       1          2                      1         3\n",
       "3      0       0          1                      2         3\n",
       "4      0       0          1                      1         3\n",
       "..   ...     ...        ...                    ...       ...\n",
       "388    1       1          1                      1         3\n",
       "389    0       1          1                      0         3\n",
       "390    0       1          1                      1         3\n",
       "391    0       1          4                      2         2\n",
       "392    0       1          2                      2         2\n",
       "\n",
       "[393 rows x 5 columns]"
      ]
     },
     "execution_count": 56,
     "metadata": {},
     "output_type": "execute_result"
    }
   ],
   "source": [
    "train_df"
   ]
  }
 ],
 "metadata": {
  "kernelspec": {
   "display_name": "Python 3 (ipykernel)",
   "language": "python",
   "name": "python3"
  },
  "language_info": {
   "codemirror_mode": {
    "name": "ipython",
    "version": 3
   },
   "file_extension": ".py",
   "mimetype": "text/x-python",
   "name": "python",
   "nbconvert_exporter": "python",
   "pygments_lexer": "ipython3",
   "version": "3.8.16"
  }
 },
 "nbformat": 4,
 "nbformat_minor": 4
}
