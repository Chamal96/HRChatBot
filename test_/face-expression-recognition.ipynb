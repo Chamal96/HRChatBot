{
 "metadata": {
  "kernelspec": {
   "language": "python",
   "display_name": "Python 3",
   "name": "python3"
  },
  "language_info": {
   "pygments_lexer": "ipython3",
   "nbconvert_exporter": "python",
   "version": "3.6.4",
   "file_extension": ".py",
   "codemirror_mode": {
    "name": "ipython",
    "version": 3
   },
   "name": "python",
   "mimetype": "text/x-python"
  },
  "kaggle": {
   "accelerator": "gpu",
   "dataSources": [
    {
     "sourceId": 234911,
     "sourceType": "datasetVersion",
     "datasetId": 99505
    }
   ],
   "dockerImageVersionId": 30301,
   "isInternetEnabled": false,
   "language": "python",
   "sourceType": "notebook",
   "isGpuEnabled": true
  }
 },
 "nbformat_minor": 4,
 "nbformat": 4,
 "cells": [
  {
   "cell_type": "code",
   "source": [
    "import torch\n",
    "from torch import nn\n",
    "from torch.utils.data import Dataset\n",
    "# from torchvision import datasets\n",
    "from torch.utils.data import DataLoader\n",
    "# from torchvision import transforms\n",
    "from torchvision.io import read_image\n",
    "import torch.nn.functional as F\n",
    "\n",
    "import matplotlib.pyplot as plt\n",
    "import pandas as pd\n",
    "import numpy as np\n",
    "from sklearn.metrics import classification_report\n",
    "\n",
    "import os"
   ],
   "metadata": {
    "execution": {
     "iopub.status.busy": "2022-11-23T09:34:20.175916Z",
     "iopub.execute_input": "2022-11-23T09:34:20.176293Z",
     "iopub.status.idle": "2022-11-23T09:34:20.18295Z",
     "shell.execute_reply.started": "2022-11-23T09:34:20.176263Z",
     "shell.execute_reply": "2022-11-23T09:34:20.181681Z"
    },
    "trusted": true
   },
   "execution_count": 1,
   "outputs": []
  },
  {
   "cell_type": "code",
   "execution_count": 2,
   "outputs": [],
   "source": [
    "# https://www.kaggle.com/code/chamaljayasinghe123/face-expression-recognition/edit"
   ],
   "metadata": {
    "collapsed": false
   }
  },
  {
   "cell_type": "markdown",
   "source": [
    "# Generate CVS file that store images' directory and their labels"
   ],
   "metadata": {}
  },
  {
   "cell_type": "code",
   "source": [
    "encode_labels = {\n",
    "    'angry': 0,\n",
    "    \"disgust\": 1,\n",
    "    'fear': 2,\n",
    "    \"happy\": 3,\n",
    "    'neutral' : 4, \n",
    "    'sad': 5,\n",
    "    'surprise': 6\n",
    "}"
   ],
   "metadata": {
    "execution": {
     "iopub.status.busy": "2022-11-23T09:34:22.441296Z",
     "iopub.execute_input": "2022-11-23T09:34:22.441677Z",
     "iopub.status.idle": "2022-11-23T09:34:22.446678Z",
     "shell.execute_reply.started": "2022-11-23T09:34:22.441643Z",
     "shell.execute_reply": "2022-11-23T09:34:22.445464Z"
    },
    "trusted": true
   },
   "execution_count": 2,
   "outputs": []
  },
  {
   "cell_type": "code",
   "source": [
    "a = np.array([\"BTC\", \"ETH\", \"AUD\", \"DOGE\"])\n",
    "endswidth = \"USD\"\n",
    "\n",
    "print(np.core.defchararray.add(endswidth, a).tolist())"
   ],
   "metadata": {
    "execution": {
     "iopub.status.busy": "2022-11-23T09:34:22.448692Z",
     "iopub.execute_input": "2022-11-23T09:34:22.449116Z",
     "iopub.status.idle": "2022-11-23T09:34:22.45999Z",
     "shell.execute_reply.started": "2022-11-23T09:34:22.449081Z",
     "shell.execute_reply": "2022-11-23T09:34:22.458817Z"
    },
    "trusted": true
   },
   "execution_count": 3,
   "outputs": [
    {
     "name": "stdout",
     "output_type": "stream",
     "text": [
      "['USDBTC', 'USDETH', 'USDAUD', 'USDDOGE']\n"
     ]
    }
   ]
  },
  {
   "cell_type": "code",
   "source": [
    "def createCSVfile(input_directory, output_directory, file_name):\n",
    "    # input_directory: train/test's package\n",
    "    dir_list = os.listdir(input_directory)\n",
    "\n",
    "    data = {\n",
    "        \"image\": [],\n",
    "        \"label\": []\n",
    "    }\n",
    "\n",
    "    for dir in dir_list:\n",
    "        currentPath = os.path.join(input_directory, dir)\n",
    "        images = os.listdir(currentPath)\n",
    "        labels = [encode_labels[dir]] * len(images)\n",
    "\n",
    "        data['image'] += np.core.defchararray.add(currentPath + \"/\", np.array(images)).tolist()\n",
    "        data['label'] += labels\n",
    "\n",
    "    df = pd.DataFrame.from_dict(data)\n",
    "\n",
    "    out_dir = output_directory + file_name\n",
    "    if not os.path.exists(output_directory):\n",
    "        os.mkdir(out_dir)\n",
    "        if os.path.exists(out_dir):\n",
    "            os.remove(out_dir)\n",
    "    df.to_csv(out_dir, index=False)"
   ],
   "metadata": {
    "execution": {
     "iopub.status.busy": "2022-11-23T09:34:23.798573Z",
     "iopub.execute_input": "2022-11-23T09:34:23.799218Z",
     "iopub.status.idle": "2022-11-23T09:34:23.809Z",
     "shell.execute_reply.started": "2022-11-23T09:34:23.799186Z",
     "shell.execute_reply": "2022-11-23T09:34:23.80787Z"
    },
    "trusted": true
   },
   "execution_count": 4,
   "outputs": []
  },
  {
   "cell_type": "markdown",
   "source": [
    "# Create Dataset"
   ],
   "metadata": {}
  },
  {
   "cell_type": "code",
   "source": [
    "class FaceExpressionDataset(Dataset):\n",
    "    def __init__(self, csv_file, transform=None, target_transform=None):\n",
    "        self.img_labels = pd.read_csv(csv_file)\n",
    "        self.transform = transform\n",
    "        self.target_transform = target_transform\n",
    "\n",
    "    def __len__(self):\n",
    "        return len(self.img_labels)\n",
    "\n",
    "    def __getitem__(self, idx):\n",
    "        img_path = self.img_labels.iloc[idx, 0]\n",
    "        image = read_image(img_path)\n",
    "        label = self.img_labels.iloc[idx, 1]\n",
    "        if self.transform:\n",
    "            image = self.transform(image)\n",
    "        if self.target_transform:\n",
    "            label = self.target_transform(label)\n",
    "        return image, label\n",
    "    \n",
    "    def get_labels(self):\n",
    "        return self.img_labels['label']\n",
    "        "
   ],
   "metadata": {
    "execution": {
     "iopub.status.busy": "2022-11-23T09:34:23.813903Z",
     "iopub.execute_input": "2022-11-23T09:34:23.814167Z",
     "iopub.status.idle": "2022-11-23T09:34:23.824616Z",
     "shell.execute_reply.started": "2022-11-23T09:34:23.814142Z",
     "shell.execute_reply": "2022-11-23T09:34:23.823646Z"
    },
    "trusted": true
   },
   "execution_count": 5,
   "outputs": []
  },
  {
   "cell_type": "code",
   "source": [
    "createCSVfile('images/train/', './', 'train.csv')\n",
    "createCSVfile('images/validation/', './', 'validation.csv')"
   ],
   "metadata": {
    "execution": {
     "iopub.status.busy": "2022-11-23T09:34:23.826627Z",
     "iopub.execute_input": "2022-11-23T09:34:23.827543Z",
     "iopub.status.idle": "2022-11-23T09:34:23.964838Z",
     "shell.execute_reply.started": "2022-11-23T09:34:23.827489Z",
     "shell.execute_reply": "2022-11-23T09:34:23.96348Z"
    },
    "trusted": true
   },
   "execution_count": 6,
   "outputs": []
  },
  {
   "cell_type": "markdown",
   "source": [
    "## Plot dataset"
   ],
   "metadata": {}
  },
  {
   "cell_type": "code",
   "source": [
    "def barchartOutput(csv_file):\n",
    "    data = pd.read_csv(csv_file)\n",
    "    y = data.label\n",
    "    \n",
    "    output = {\n",
    "      i: len(y[y == i]) for i in range(7)\n",
    "    }\n",
    "    plt.bar(output.keys(), output.values())"
   ],
   "metadata": {
    "execution": {
     "iopub.status.busy": "2022-11-23T09:34:26.97813Z",
     "iopub.execute_input": "2022-11-23T09:34:26.978911Z",
     "iopub.status.idle": "2022-11-23T09:34:26.984497Z",
     "shell.execute_reply.started": "2022-11-23T09:34:26.978879Z",
     "shell.execute_reply": "2022-11-23T09:34:26.983487Z"
    },
    "trusted": true
   },
   "execution_count": 7,
   "outputs": []
  },
  {
   "cell_type": "code",
   "source": [
    "barchartOutput('./train.csv')\n",
    "barchartOutput('./validation.csv')"
   ],
   "metadata": {
    "execution": {
     "iopub.status.busy": "2022-11-23T09:34:26.986408Z",
     "iopub.execute_input": "2022-11-23T09:34:26.987381Z",
     "iopub.status.idle": "2022-11-23T09:34:27.228422Z",
     "shell.execute_reply.started": "2022-11-23T09:34:26.987346Z",
     "shell.execute_reply": "2022-11-23T09:34:27.227434Z"
    },
    "trusted": true
   },
   "execution_count": 8,
   "outputs": [
    {
     "data": {
      "text/plain": "<Figure size 640x480 with 1 Axes>",
      "image/png": "[encoded data removed]"
     },
     "metadata": {},
     "output_type": "display_data"
    }
   ]
  },
  {
   "cell_type": "markdown",
   "source": [
    "# Read Dataset"
   ],
   "metadata": {}
  },
  {
   "cell_type": "code",
   "source": [
    "# !pip install torchsampler"
   ],
   "metadata": {
    "execution": {
     "iopub.status.busy": "2022-11-23T09:35:51.825544Z",
     "iopub.execute_input": "2022-11-23T09:35:51.825939Z",
     "iopub.status.idle": "2022-11-23T09:36:02.40181Z",
     "shell.execute_reply.started": "2022-11-23T09:35:51.825908Z",
     "shell.execute_reply": "2022-11-23T09:36:02.400466Z"
    },
    "trusted": true
   },
   "execution_count": 10,
   "outputs": []
  },
  {
   "cell_type": "code",
   "source": [
    "from torchsampler import ImbalancedDatasetSampler"
   ],
   "metadata": {
    "execution": {
     "iopub.status.busy": "2022-11-23T09:36:41.512103Z",
     "iopub.execute_input": "2022-11-23T09:36:41.512604Z",
     "iopub.status.idle": "2022-11-23T09:36:41.547864Z",
     "shell.execute_reply.started": "2022-11-23T09:36:41.512562Z",
     "shell.execute_reply": "2022-11-23T09:36:41.546915Z"
    },
    "trusted": true
   },
   "execution_count": 9,
   "outputs": []
  },
  {
   "cell_type": "code",
   "source": [
    "training_set = FaceExpressionDataset(csv_file='./train.csv')\n",
    "test_set = FaceExpressionDataset(csv_file='./validation.csv')"
   ],
   "metadata": {
    "execution": {
     "iopub.status.busy": "2022-11-23T09:36:02.404198Z",
     "iopub.execute_input": "2022-11-23T09:36:02.405178Z",
     "iopub.status.idle": "2022-11-23T09:36:02.458764Z",
     "shell.execute_reply.started": "2022-11-23T09:36:02.405143Z",
     "shell.execute_reply": "2022-11-23T09:36:02.457844Z"
    },
    "trusted": true
   },
   "execution_count": 10,
   "outputs": []
  },
  {
   "cell_type": "code",
   "source": [
    "train_dataloader = DataLoader(training_set, batch_size=128, num_workers=2, shuffle=False, sampler=ImbalancedDatasetSampler(training_set))\n",
    "test_dataloader = DataLoader(test_set, batch_size=128, num_workers=2, shuffle=False)"
   ],
   "metadata": {
    "execution": {
     "iopub.status.busy": "2022-11-23T09:36:46.803719Z",
     "iopub.execute_input": "2022-11-23T09:36:46.804465Z",
     "iopub.status.idle": "2022-11-23T09:36:46.831067Z",
     "shell.execute_reply.started": "2022-11-23T09:36:46.804431Z",
     "shell.execute_reply": "2022-11-23T09:36:46.830168Z"
    },
    "trusted": true
   },
   "execution_count": 11,
   "outputs": []
  },
  {
   "cell_type": "code",
   "source": [
    "for X, y in train_dataloader:\n",
    "    print(f\"Shape of X [N, C, H, W]: {X.shape}\")\n",
    "    print(f\"Shape of y: {y.shape} {y.dtype}\")\n",
    "    break"
   ],
   "metadata": {
    "execution": {
     "iopub.status.busy": "2022-11-23T09:36:59.095277Z",
     "iopub.execute_input": "2022-11-23T09:36:59.095734Z",
     "iopub.status.idle": "2022-11-23T09:37:00.798398Z",
     "shell.execute_reply.started": "2022-11-23T09:36:59.095693Z",
     "shell.execute_reply": "2022-11-23T09:37:00.797348Z"
    },
    "trusted": true,
    "pycharm": {
     "is_executing": true
    }
   },
   "execution_count": null,
   "outputs": []
  },
  {
   "cell_type": "code",
   "source": [
    "labels_map = {v: k for k, v in encode_labels.items()}\n",
    "figure = plt.figure(figsize=(8, 8))\n",
    "cols, rows = 3, 3\n",
    "for i in range(1, cols * rows + 1):\n",
    "    sample_idx = torch.randint(len(training_set), size=(1,)).item()\n",
    "    img, label = training_set[sample_idx]\n",
    "    figure.add_subplot(rows, cols, i)\n",
    "    plt.title(labels_map[label])\n",
    "    plt.axis(\"off\")\n",
    "    plt.imshow(img.squeeze(), cmap=\"gray\")\n",
    "plt.show()"
   ],
   "metadata": {
    "execution": {
     "iopub.status.busy": "2022-11-23T09:37:00.800344Z",
     "iopub.execute_input": "2022-11-23T09:37:00.800729Z",
     "iopub.status.idle": "2022-11-23T09:37:01.290377Z",
     "shell.execute_reply.started": "2022-11-23T09:37:00.800691Z",
     "shell.execute_reply": "2022-11-23T09:37:01.289473Z"
    },
    "trusted": true,
    "pycharm": {
     "is_executing": true
    }
   },
   "execution_count": null,
   "outputs": []
  },
  {
   "cell_type": "markdown",
   "source": [
    "# Train with Neural Network"
   ],
   "metadata": {}
  },
  {
   "cell_type": "code",
   "source": [
    "# Get cpu or gpu device for training.\n",
    "device = \"cuda\" if torch.cuda.is_available() else \"cpu\"\n",
    "print(f\"Using {device} device\")"
   ],
   "metadata": {
    "execution": {
     "iopub.status.busy": "2022-11-23T09:37:01.291366Z",
     "iopub.execute_input": "2022-11-23T09:37:01.292593Z",
     "iopub.status.idle": "2022-11-23T09:37:01.359338Z",
     "shell.execute_reply.started": "2022-11-23T09:37:01.292554Z",
     "shell.execute_reply": "2022-11-23T09:37:01.358383Z"
    },
    "trusted": true,
    "pycharm": {
     "is_executing": true
    }
   },
   "execution_count": null,
   "outputs": []
  },
  {
   "cell_type": "code",
   "source": [
    "class NeuralNetwork(nn.Module):\n",
    "    def __init__(self):\n",
    "        super().__init__()\n",
    "        self.flatten = nn.Flatten()\n",
    "        self.linear_relu_stack = nn.Sequential(\n",
    "            nn.Linear(48*48, 512),\n",
    "            nn.ReLU(),\n",
    "            nn.Linear(512, 512),\n",
    "            nn.ReLU(),\n",
    "            nn.Linear(512, 7)\n",
    "        )\n",
    "\n",
    "    def forward(self, x):\n",
    "        x = self.flatten(x)\n",
    "        logits = self.linear_relu_stack(x)\n",
    "        return logits\n",
    "\n",
    "model = NeuralNetwork().to(device)\n",
    "print(model)"
   ],
   "metadata": {
    "execution": {
     "iopub.status.busy": "2022-11-23T09:37:01.36361Z",
     "iopub.execute_input": "2022-11-23T09:37:01.36395Z",
     "iopub.status.idle": "2022-11-23T09:37:04.247488Z",
     "shell.execute_reply.started": "2022-11-23T09:37:01.363916Z",
     "shell.execute_reply": "2022-11-23T09:37:04.246325Z"
    },
    "trusted": true,
    "pycharm": {
     "is_executing": true
    }
   },
   "execution_count": null,
   "outputs": []
  },
  {
   "cell_type": "code",
   "source": [
    "loss_fn = nn.CrossEntropyLoss()\n",
    "optimizer = torch.optim.Adam(model.parameters(), lr=1e-3)"
   ],
   "metadata": {
    "execution": {
     "iopub.status.busy": "2022-11-23T09:37:04.249158Z",
     "iopub.execute_input": "2022-11-23T09:37:04.249568Z",
     "iopub.status.idle": "2022-11-23T09:37:04.25531Z",
     "shell.execute_reply.started": "2022-11-23T09:37:04.249528Z",
     "shell.execute_reply": "2022-11-23T09:37:04.25415Z"
    },
    "trusted": true,
    "pycharm": {
     "is_executing": true
    }
   },
   "execution_count": null,
   "outputs": []
  },
  {
   "cell_type": "code",
   "source": [
    "def train(dataloader, model, loss_fn, optimizer):\n",
    "    size = len(dataloader.dataset)\n",
    "    model.train()\n",
    "    for batch, (X, y) in enumerate(dataloader):\n",
    "        X, y = X.to(device), y.to(device)\n",
    "    \n",
    "        # Compute prediction error\n",
    "        pred = model(X.float() / 255)\n",
    "        loss = loss_fn(pred, y)\n",
    "\n",
    "        # Backpropagation\n",
    "        optimizer.zero_grad()\n",
    "        loss.backward()\n",
    "        optimizer.step()\n",
    "\n",
    "        if batch % 100 == 0:\n",
    "            loss, current = loss.item(), batch * len(X)\n",
    "            print(f\"loss: {loss:>7f}  [{current:>5d}/{size:>5d}]\")"
   ],
   "metadata": {
    "execution": {
     "iopub.status.busy": "2022-11-23T09:37:04.257062Z",
     "iopub.execute_input": "2022-11-23T09:37:04.257487Z",
     "iopub.status.idle": "2022-11-23T09:37:04.266173Z",
     "shell.execute_reply.started": "2022-11-23T09:37:04.25745Z",
     "shell.execute_reply": "2022-11-23T09:37:04.26511Z"
    },
    "trusted": true,
    "pycharm": {
     "is_executing": true
    }
   },
   "execution_count": null,
   "outputs": []
  },
  {
   "cell_type": "code",
   "source": [
    "def test(dataloader, model, loss_fn):\n",
    "    size = len(dataloader.dataset)\n",
    "    num_batches = len(dataloader)\n",
    "    model.eval()\n",
    "    test_loss, correct = 0, 0\n",
    "    f1_score = 0\n",
    "    \n",
    "    y_pred, y_true = [], []\n",
    "    with torch.no_grad():\n",
    "        for X, y in dataloader:\n",
    "            X, y = X.to(device), y.to(device)\n",
    "            pred = model(X.float() / 255)\n",
    "            test_loss += loss_fn(pred, y).item()\n",
    "            correct += (pred.argmax(1) == y).type(torch.float).sum().item()\n",
    "            \n",
    "            y_pred.extend(pred.argmax(1).cpu().numpy())\n",
    "            y_true.extend(y.cpu().numpy())\n",
    "            \n",
    "    test_loss /= num_batches\n",
    "    correct /= size\n",
    "    print(f\"Test Error: \\n Accuracy: {(100*correct):>0.1f}%, Avg loss: {test_loss:>8f} \\n\")\n",
    "    print(classification_report(y_true, y_pred))"
   ],
   "metadata": {
    "execution": {
     "iopub.status.busy": "2022-11-23T09:37:04.267435Z",
     "iopub.execute_input": "2022-11-23T09:37:04.267886Z",
     "iopub.status.idle": "2022-11-23T09:37:04.280601Z",
     "shell.execute_reply.started": "2022-11-23T09:37:04.267843Z",
     "shell.execute_reply": "2022-11-23T09:37:04.279462Z"
    },
    "trusted": true,
    "pycharm": {
     "is_executing": true
    }
   },
   "execution_count": null,
   "outputs": []
  },
  {
   "cell_type": "code",
   "execution_count": 21,
   "outputs": [],
   "source": [
    "# model.fit(X_train,Y_train,epochs=50,validation_data=(X_test,Y_test))"
   ],
   "metadata": {
    "collapsed": false
   }
  },
  {
   "cell_type": "code",
   "source": [
    "epochs = 5\n",
    "\n",
    "for epoch in range(epochs):\n",
    "    print(f\"Epoch {epoch + 1}\\n-------------------------------\")\n",
    "\n",
    "    # Training phase\n",
    "    train(train_dataloader, model, loss_fn, optimizer)\n",
    "\n",
    "    # Evaluation phase\n",
    "    test_loss, accuracy = test(test_dataloader, model, loss_fn)\n",
    "\n",
    "    # Print or store the evaluation metrics\n",
    "    print(f\"\\nEvaluation - Epoch {epoch + 1}:\")\n",
    "    print(f\"Test Loss: {test_loss:.4f}\")\n",
    "    print(f\"Accuracy: {accuracy * 100:.2f}%\")\n",
    "\n",
    "print(\"Training and Evaluation Done!\")\n"
   ],
   "metadata": {
    "execution": {
     "iopub.status.busy": "2022-11-23T09:37:04.282367Z",
     "iopub.execute_input": "2022-11-23T09:37:04.283037Z",
     "iopub.status.idle": "2022-11-23T09:39:59.208847Z",
     "shell.execute_reply.started": "2022-11-23T09:37:04.283002Z",
     "shell.execute_reply": "2022-11-23T09:39:59.207459Z"
    },
    "trusted": true,
    "pycharm": {
     "is_executing": true
    }
   },
   "execution_count": null,
   "outputs": []
  },
  {
   "cell_type": "markdown",
   "source": [
    "# Train with Resnet"
   ],
   "metadata": {}
  },
  {
   "cell_type": "code",
   "source": [
    "from torchvision.models import resnet18, resnet34, resnet50\n",
    "\n",
    "model = resnet50(num_classes = 7)\n",
    "model.conv1 = nn.Conv2d(1, 64, kernel_size=(3, 3), stride=(1, 1), padding=(1, 1), bias=False)\n",
    "\n",
    "model = model.to(device)"
   ],
   "metadata": {
    "execution": {
     "iopub.status.busy": "2022-11-23T09:39:59.211204Z",
     "iopub.execute_input": "2022-11-23T09:39:59.212031Z",
     "iopub.status.idle": "2022-11-23T09:39:59.643255Z",
     "shell.execute_reply.started": "2022-11-23T09:39:59.211981Z",
     "shell.execute_reply": "2022-11-23T09:39:59.642237Z"
    },
    "trusted": true,
    "pycharm": {
     "is_executing": true
    }
   },
   "execution_count": null,
   "outputs": []
  },
  {
   "cell_type": "code",
   "source": [
    "model"
   ],
   "metadata": {
    "execution": {
     "iopub.status.busy": "2022-11-23T09:39:59.647046Z",
     "iopub.execute_input": "2022-11-23T09:39:59.647402Z",
     "iopub.status.idle": "2022-11-23T09:39:59.65715Z",
     "shell.execute_reply.started": "2022-11-23T09:39:59.647373Z",
     "shell.execute_reply": "2022-11-23T09:39:59.656177Z"
    },
    "trusted": true,
    "pycharm": {
     "is_executing": true
    }
   },
   "execution_count": null,
   "outputs": []
  },
  {
   "cell_type": "code",
   "source": [
    "loss_fn = nn.CrossEntropyLoss()\n",
    "\n",
    "optimizer = torch.optim.Adam(model.parameters(), lr=1e-3)"
   ],
   "metadata": {
    "execution": {
     "iopub.status.busy": "2022-11-23T09:39:59.658659Z",
     "iopub.execute_input": "2022-11-23T09:39:59.659254Z",
     "iopub.status.idle": "2022-11-23T09:39:59.666545Z",
     "shell.execute_reply.started": "2022-11-23T09:39:59.659209Z",
     "shell.execute_reply": "2022-11-23T09:39:59.665563Z"
    },
    "trusted": true,
    "pycharm": {
     "is_executing": true
    }
   },
   "execution_count": null,
   "outputs": []
  },
  {
   "cell_type": "code",
   "source": [
    "epochs = 5\n",
    "for t in range(epochs):\n",
    "    print(f\"Epoch {t+1}\\n-------------------------------\")\n",
    "    train(train_dataloader, model, loss_fn, optimizer)\n",
    "    test(test_dataloader, model, loss_fn)\n",
    "print(\"Done!\")"
   ],
   "metadata": {
    "execution": {
     "iopub.status.busy": "2022-11-23T09:39:59.668407Z",
     "iopub.execute_input": "2022-11-23T09:39:59.669057Z",
     "iopub.status.idle": "2022-11-23T09:43:17.665646Z",
     "shell.execute_reply.started": "2022-11-23T09:39:59.669022Z",
     "shell.execute_reply": "2022-11-23T09:43:17.663556Z"
    },
    "trusted": true,
    "pycharm": {
     "is_executing": true
    }
   },
   "execution_count": null,
   "outputs": []
  },
  {
   "cell_type": "markdown",
   "source": [
    "# Train with CNN"
   ],
   "metadata": {}
  },
  {
   "cell_type": "code",
   "source": [
    "class CNN(nn.Module):\n",
    "    def __init__(self):\n",
    "        super(CNN, self).__init__()\n",
    "        self.conv1 = nn.Conv2d(1, 32, 3, 1, 1)\n",
    "        self.relu1 = nn.ReLU()\n",
    "        self.conv2 = nn.Conv2d(32, 64, 3, 1, 1)\n",
    "        self.relu2 = nn.ReLU()\n",
    "        self.dropout1 = nn.Dropout(0.25)\n",
    "        self.dropout2 = nn.Dropout(0.5)\n",
    "        self.fc1 = nn.Linear(9216, 128)\n",
    "        self.relu3 = nn.ReLU()\n",
    "        self.fc2 = nn.Linear(128, 7)\n",
    "\n",
    "    def forward(self, x):\n",
    "        x = self.conv1(x)\n",
    "        x = F.max_pool2d(x, 2)\n",
    "        x = self.relu1(x)\n",
    "        \n",
    "        x = self.conv2(x)\n",
    "        x = F.max_pool2d(x, 2)\n",
    "        x = self.relu2(x)\n",
    "        x = self.dropout1(x)\n",
    "        \n",
    "        x = torch.flatten(x, 1)\n",
    "        x = self.fc1(x)\n",
    "        x = self.relu3(x)\n",
    "        x = self.dropout2(x)\n",
    "        \n",
    "        x = self.fc2(x)\n",
    "        return x"
   ],
   "metadata": {
    "execution": {
     "iopub.status.busy": "2022-11-23T09:43:17.667727Z",
     "iopub.execute_input": "2022-11-23T09:43:17.668182Z",
     "iopub.status.idle": "2022-11-23T09:43:17.680151Z",
     "shell.execute_reply.started": "2022-11-23T09:43:17.668132Z",
     "shell.execute_reply": "2022-11-23T09:43:17.678752Z"
    },
    "trusted": true,
    "pycharm": {
     "is_executing": true
    }
   },
   "execution_count": null,
   "outputs": []
  },
  {
   "cell_type": "code",
   "source": [
    "model = CNN().to(device)"
   ],
   "metadata": {
    "execution": {
     "iopub.status.busy": "2022-11-23T09:43:17.682055Z",
     "iopub.execute_input": "2022-11-23T09:43:17.682453Z",
     "iopub.status.idle": "2022-11-23T09:43:17.710072Z",
     "shell.execute_reply.started": "2022-11-23T09:43:17.682413Z",
     "shell.execute_reply": "2022-11-23T09:43:17.708852Z"
    },
    "trusted": true,
    "pycharm": {
     "is_executing": true
    }
   },
   "execution_count": null,
   "outputs": []
  },
  {
   "cell_type": "code",
   "source": [
    "loss_fn = nn.CrossEntropyLoss()\n",
    "\n",
    "optimizer = torch.optim.Adam(model.parameters(), lr=1e-3)"
   ],
   "metadata": {
    "execution": {
     "iopub.status.busy": "2022-11-23T09:43:17.711701Z",
     "iopub.execute_input": "2022-11-23T09:43:17.712077Z",
     "iopub.status.idle": "2022-11-23T09:43:17.718597Z",
     "shell.execute_reply.started": "2022-11-23T09:43:17.712039Z",
     "shell.execute_reply": "2022-11-23T09:43:17.717375Z"
    },
    "trusted": true,
    "pycharm": {
     "is_executing": true
    }
   },
   "execution_count": null,
   "outputs": []
  },
  {
   "cell_type": "code",
   "source": [
    "epochs = 5\n",
    "for t in range(epochs):\n",
    "    print(f\"Epoch {t+1}\\n-------------------------------\")\n",
    "    train(train_dataloader, model, loss_fn, optimizer)\n",
    "    test(test_dataloader, model, loss_fn)\n",
    "print(\"Done!\")"
   ],
   "metadata": {
    "execution": {
     "iopub.status.busy": "2022-11-23T09:43:17.720475Z",
     "iopub.execute_input": "2022-11-23T09:43:17.721177Z",
     "iopub.status.idle": "2022-11-23T09:44:46.145783Z",
     "shell.execute_reply.started": "2022-11-23T09:43:17.721136Z",
     "shell.execute_reply": "2022-11-23T09:44:46.144596Z"
    },
    "trusted": true,
    "pycharm": {
     "is_executing": true
    }
   },
   "execution_count": null,
   "outputs": []
  }
 ]
}
