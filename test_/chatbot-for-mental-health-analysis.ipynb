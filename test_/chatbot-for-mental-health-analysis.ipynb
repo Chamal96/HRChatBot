{
 "metadata": {
  "kernelspec": {
   "language": "python",
   "display_name": "Python 3",
   "name": "python3"
  },
  "language_info": {
   "pygments_lexer": "ipython3",
   "nbconvert_exporter": "python",
   "version": "3.6.4",
   "file_extension": ".py",
   "codemirror_mode": {
    "name": "ipython",
    "version": 3
   },
   "name": "python",
   "mimetype": "text/x-python"
  },
  "kaggle": {
   "accelerator": "none",
   "dataSources": [
    {
     "sourceId": 4429121,
     "sourceType": "datasetVersion",
     "datasetId": 2594075
    }
   ],
   "dockerImageVersionId": 30357,
   "isInternetEnabled": false,
   "language": "python",
   "sourceType": "notebook",
   "isGpuEnabled": false
  }
 },
 "nbformat_minor": 4,
 "nbformat": 4,
 "cells": [
  {
   "cell_type": "code",
   "source": [
    "import numpy as np # linear algebra\n",
    "import pandas as pd # data processing, CSV file I/O (e.g. pd.read_csv)"
   ],
   "metadata": {
    "_uuid": "8f2839f25d086af736a60e9eeb907d3b93b6e0e5",
    "_cell_guid": "b1076dfc-b9ad-4769-8c92-a6c4dae69d19",
    "execution": {
     "iopub.status.busy": "2023-01-19T11:57:05.236236Z",
     "iopub.execute_input": "2023-01-19T11:57:05.236823Z",
     "iopub.status.idle": "2023-01-19T11:57:05.275199Z",
     "shell.execute_reply.started": "2023-01-19T11:57:05.236641Z",
     "shell.execute_reply": "2023-01-19T11:57:05.274084Z"
    },
    "trusted": true
   },
   "execution_count": 15,
   "outputs": []
  },
  {
   "cell_type": "markdown",
   "source": [
    "# Data Reading"
   ],
   "metadata": {}
  },
  {
   "cell_type": "markdown",
   "source": [
    "Data is in json format; so it's better to convert it to a Pandas data frame format."
   ],
   "metadata": {}
  },
  {
   "cell_type": "code",
   "source": [
    "import json\n",
    "\n",
    "with open('mental.json', 'r') as f:\n",
    "    data = json.load(f)\n",
    "\n",
    "df = pd.DataFrame(data['intents'])\n",
    "df"
   ],
   "metadata": {
    "execution": {
     "iopub.status.busy": "2023-01-19T11:57:07.526722Z",
     "iopub.execute_input": "2023-01-19T11:57:07.528446Z",
     "iopub.status.idle": "2023-01-19T11:57:07.58528Z",
     "shell.execute_reply.started": "2023-01-19T11:57:07.528358Z",
     "shell.execute_reply": "2023-01-19T11:57:07.58378Z"
    },
    "trusted": true
   },
   "execution_count": 16,
   "outputs": [
    {
     "data": {
      "text/plain": "          tag                                           patterns  \\\n0    greeting  [Hi, Hey, Is anyone there?, Hi there, Hello, H...   \n1     morning                                     [Good morning]   \n2   afternoon                                   [Good afternoon]   \n3     evening                                     [Good evening]   \n4       night                                       [Good night]   \n..        ...                                                ...   \n75    fact-28  [What do I do if I'm worried about my mental h...   \n76    fact-29                     [How do I know if I'm unwell?]   \n77    fact-30  [How can I maintain social connections? What i...   \n78    fact-31  [What's the difference between anxiety and str...   \n79    fact-32  [What's the difference between sadness and dep...   \n\n                                            responses  \n0   [Hello there. Tell me how are you feeling toda...  \n1   [Good morning. I hope you had a good night's s...  \n2            [Good afternoon. How is your day going?]  \n3              [Good evening. How has your day been?]  \n4   [Good night. Get some proper sleep, Good night...  \n..                                                ...  \n75  [The most important thing is to talk to someon...  \n76  [If your beliefs , thoughts , feelings or beha...  \n77  [A lot of people are alone right now, but we d...  \n78  [Stress and anxiety are often used interchange...  \n79  [Sadness is a normal reaction to a loss, disap...  \n\n[80 rows x 3 columns]",
      "text/html": "<div>\n<style scoped>\n    .dataframe tbody tr th:only-of-type {\n        vertical-align: middle;\n    }\n\n    .dataframe tbody tr th {\n        vertical-align: top;\n    }\n\n    .dataframe thead th {\n        text-align: right;\n    }\n</style>\n<table border=\"1\" class=\"dataframe\">\n  <thead>\n    <tr style=\"text-align: right;\">\n      <th></th>\n      <th>tag</th>\n      <th>patterns</th>\n      <th>responses</th>\n    </tr>\n  </thead>\n  <tbody>\n    <tr>\n      <th>0</th>\n      <td>greeting</td>\n      <td>[Hi, Hey, Is anyone there?, Hi there, Hello, H...</td>\n      <td>[Hello there. Tell me how are you feeling toda...</td>\n    </tr>\n    <tr>\n      <th>1</th>\n      <td>morning</td>\n      <td>[Good morning]</td>\n      <td>[Good morning. I hope you had a good night's s...</td>\n    </tr>\n    <tr>\n      <th>2</th>\n      <td>afternoon</td>\n      <td>[Good afternoon]</td>\n      <td>[Good afternoon. How is your day going?]</td>\n    </tr>\n    <tr>\n      <th>3</th>\n      <td>evening</td>\n      <td>[Good evening]</td>\n      <td>[Good evening. How has your day been?]</td>\n    </tr>\n    <tr>\n      <th>4</th>\n      <td>night</td>\n      <td>[Good night]</td>\n      <td>[Good night. Get some proper sleep, Good night...</td>\n    </tr>\n    <tr>\n      <th>...</th>\n      <td>...</td>\n      <td>...</td>\n      <td>...</td>\n    </tr>\n    <tr>\n      <th>75</th>\n      <td>fact-28</td>\n      <td>[What do I do if I'm worried about my mental h...</td>\n      <td>[The most important thing is to talk to someon...</td>\n    </tr>\n    <tr>\n      <th>76</th>\n      <td>fact-29</td>\n      <td>[How do I know if I'm unwell?]</td>\n      <td>[If your beliefs , thoughts , feelings or beha...</td>\n    </tr>\n    <tr>\n      <th>77</th>\n      <td>fact-30</td>\n      <td>[How can I maintain social connections? What i...</td>\n      <td>[A lot of people are alone right now, but we d...</td>\n    </tr>\n    <tr>\n      <th>78</th>\n      <td>fact-31</td>\n      <td>[What's the difference between anxiety and str...</td>\n      <td>[Stress and anxiety are often used interchange...</td>\n    </tr>\n    <tr>\n      <th>79</th>\n      <td>fact-32</td>\n      <td>[What's the difference between sadness and dep...</td>\n      <td>[Sadness is a normal reaction to a loss, disap...</td>\n    </tr>\n  </tbody>\n</table>\n<p>80 rows × 3 columns</p>\n</div>"
     },
     "execution_count": 16,
     "metadata": {},
     "output_type": "execute_result"
    }
   ]
  },
  {
   "cell_type": "markdown",
   "source": [
    "Each tag contains several questions(patterns) and several answers(responses); Now I want to seperate these patterns based on their tags and responses and finally convert them to a DataFrame."
   ],
   "metadata": {}
  },
  {
   "cell_type": "code",
   "source": [
    "dic = {\"tag\":[], \"patterns\":[], \"responses\":[]}\n",
    "for i in range(len(df)):\n",
    "    ptrns = df[df.index == i]['patterns'].values[0]\n",
    "    rspns = df[df.index == i]['responses'].values[0]\n",
    "    tag = df[df.index == i]['tag'].values[0]\n",
    "    for j in range(len(ptrns)):\n",
    "        dic['tag'].append(tag)\n",
    "        dic['patterns'].append(ptrns[j])\n",
    "        dic['responses'].append(rspns)\n",
    "\n",
    "df = pd.DataFrame.from_dict(dic)\n",
    "df"
   ],
   "metadata": {
    "execution": {
     "iopub.status.busy": "2023-01-19T11:57:10.164689Z",
     "iopub.execute_input": "2023-01-19T11:57:10.165233Z",
     "iopub.status.idle": "2023-01-19T11:57:10.296121Z",
     "shell.execute_reply.started": "2023-01-19T11:57:10.16519Z",
     "shell.execute_reply": "2023-01-19T11:57:10.29495Z"
    },
    "trusted": true
   },
   "execution_count": 17,
   "outputs": [
    {
     "data": {
      "text/plain": "          tag                                           patterns  \\\n0    greeting                                                 Hi   \n1    greeting                                                Hey   \n2    greeting                                   Is anyone there?   \n3    greeting                                           Hi there   \n4    greeting                                              Hello   \n..        ...                                                ...   \n227   fact-29                       How do I know if I'm unwell?   \n228   fact-30  How can I maintain social connections? What if...   \n229   fact-31  What's the difference between anxiety and stress?   \n230   fact-32  What's the difference between sadness and depr...   \n231   fact-32          difference between sadness and depression   \n\n                                             responses  \n0    [Hello there. Tell me how are you feeling toda...  \n1    [Hello there. Tell me how are you feeling toda...  \n2    [Hello there. Tell me how are you feeling toda...  \n3    [Hello there. Tell me how are you feeling toda...  \n4    [Hello there. Tell me how are you feeling toda...  \n..                                                 ...  \n227  [If your beliefs , thoughts , feelings or beha...  \n228  [A lot of people are alone right now, but we d...  \n229  [Stress and anxiety are often used interchange...  \n230  [Sadness is a normal reaction to a loss, disap...  \n231  [Sadness is a normal reaction to a loss, disap...  \n\n[232 rows x 3 columns]",
      "text/html": "<div>\n<style scoped>\n    .dataframe tbody tr th:only-of-type {\n        vertical-align: middle;\n    }\n\n    .dataframe tbody tr th {\n        vertical-align: top;\n    }\n\n    .dataframe thead th {\n        text-align: right;\n    }\n</style>\n<table border=\"1\" class=\"dataframe\">\n  <thead>\n    <tr style=\"text-align: right;\">\n      <th></th>\n      <th>tag</th>\n      <th>patterns</th>\n      <th>responses</th>\n    </tr>\n  </thead>\n  <tbody>\n    <tr>\n      <th>0</th>\n      <td>greeting</td>\n      <td>Hi</td>\n      <td>[Hello there. Tell me how are you feeling toda...</td>\n    </tr>\n    <tr>\n      <th>1</th>\n      <td>greeting</td>\n      <td>Hey</td>\n      <td>[Hello there. Tell me how are you feeling toda...</td>\n    </tr>\n    <tr>\n      <th>2</th>\n      <td>greeting</td>\n      <td>Is anyone there?</td>\n      <td>[Hello there. Tell me how are you feeling toda...</td>\n    </tr>\n    <tr>\n      <th>3</th>\n      <td>greeting</td>\n      <td>Hi there</td>\n      <td>[Hello there. Tell me how are you feeling toda...</td>\n    </tr>\n    <tr>\n      <th>4</th>\n      <td>greeting</td>\n      <td>Hello</td>\n      <td>[Hello there. Tell me how are you feeling toda...</td>\n    </tr>\n    <tr>\n      <th>...</th>\n      <td>...</td>\n      <td>...</td>\n      <td>...</td>\n    </tr>\n    <tr>\n      <th>227</th>\n      <td>fact-29</td>\n      <td>How do I know if I'm unwell?</td>\n      <td>[If your beliefs , thoughts , feelings or beha...</td>\n    </tr>\n    <tr>\n      <th>228</th>\n      <td>fact-30</td>\n      <td>How can I maintain social connections? What if...</td>\n      <td>[A lot of people are alone right now, but we d...</td>\n    </tr>\n    <tr>\n      <th>229</th>\n      <td>fact-31</td>\n      <td>What's the difference between anxiety and stress?</td>\n      <td>[Stress and anxiety are often used interchange...</td>\n    </tr>\n    <tr>\n      <th>230</th>\n      <td>fact-32</td>\n      <td>What's the difference between sadness and depr...</td>\n      <td>[Sadness is a normal reaction to a loss, disap...</td>\n    </tr>\n    <tr>\n      <th>231</th>\n      <td>fact-32</td>\n      <td>difference between sadness and depression</td>\n      <td>[Sadness is a normal reaction to a loss, disap...</td>\n    </tr>\n  </tbody>\n</table>\n<p>232 rows × 3 columns</p>\n</div>"
     },
     "execution_count": 17,
     "metadata": {},
     "output_type": "execute_result"
    }
   ]
  },
  {
   "cell_type": "code",
   "source": [
    "df['tag'].unique()"
   ],
   "metadata": {
    "execution": {
     "iopub.status.busy": "2023-01-19T14:36:53.365512Z",
     "iopub.execute_input": "2023-01-19T14:36:53.365921Z",
     "iopub.status.idle": "2023-01-19T14:36:53.378062Z",
     "shell.execute_reply.started": "2023-01-19T14:36:53.365889Z",
     "shell.execute_reply": "2023-01-19T14:36:53.377061Z"
    },
    "trusted": true
   },
   "execution_count": 18,
   "outputs": [
    {
     "data": {
      "text/plain": "array(['greeting', 'morning', 'afternoon', 'evening', 'night', 'goodbye',\n       'thanks', 'no-response', 'neutral-response', 'about', 'skill',\n       'creation', 'name', 'help', 'sad', 'stressed', 'worthless',\n       'depressed', 'happy', 'casual', 'anxious', 'not-talking', 'sleep',\n       'scared', 'death', 'understand', 'done', 'suicide', 'hate-you',\n       'hate-me', 'default', 'jokes', 'repeat', 'wrong', 'stupid',\n       'location', 'something-else', 'friends', 'ask', 'problem',\n       'no-approach', 'learn-more', 'user-agree', 'meditation',\n       'user-meditation', 'pandora-useful', 'user-advice',\n       'learn-mental-health', 'mental-health-fact', 'fact-1', 'fact-2',\n       'fact-3', 'fact-5', 'fact-6', 'fact-7', 'fact-8', 'fact-9',\n       'fact-10', 'fact-11', 'fact-12', 'fact-13', 'fact-14', 'fact-15',\n       'fact-16', 'fact-17', 'fact-18', 'fact-19', 'fact-20', 'fact-21',\n       'fact-22', 'fact-23', 'fact-24', 'fact-25', 'fact-26', 'fact-27',\n       'fact-28', 'fact-29', 'fact-30', 'fact-31', 'fact-32'],\n      dtype=object)"
     },
     "execution_count": 18,
     "metadata": {},
     "output_type": "execute_result"
    }
   ]
  },
  {
   "cell_type": "markdown",
   "source": [
    "# Data Preprocessing"
   ],
   "metadata": {}
  },
  {
   "cell_type": "markdown",
   "source": [
    "Now I am going to apply some text preprocessing stuffs such as lowering, punctuation removing and then tokenize the patterns."
   ],
   "metadata": {}
  },
  {
   "cell_type": "code",
   "source": [
    "from tensorflow.keras.preprocessing.text import Tokenizer\n",
    "\n",
    "tokenizer = Tokenizer(lower=True, split=' ')\n",
    "tokenizer.fit_on_texts(df['patterns'])\n",
    "tokenizer.get_config()"
   ],
   "metadata": {
    "execution": {
     "iopub.status.busy": "2023-01-19T11:57:12.221256Z",
     "iopub.execute_input": "2023-01-19T11:57:12.222095Z",
     "iopub.status.idle": "2023-01-19T11:57:20.55786Z",
     "shell.execute_reply.started": "2023-01-19T11:57:12.222056Z",
     "shell.execute_reply": "2023-01-19T11:57:20.556384Z"
    },
    "trusted": true
   },
   "execution_count": 19,
   "outputs": [
    {
     "data": {
      "text/plain": "{'num_words': None,\n 'filters': '!\"#$%&()*+,-./:;<=>?@[\\\\]^_`{|}~\\t\\n',\n 'lower': True,\n 'split': ' ',\n 'char_level': False,\n 'oov_token': None,\n 'document_count': 232,\n 'word_counts': '{\"hi\": 2, \"hey\": 2, \"is\": 13, \"anyone\": 2, \"there\": 5, \"hello\": 1, \"howdy\": 1, \"hola\": 1, \"bonjour\": 1, \"konnichiwa\": 1, \"guten\": 1, \"tag\": 1, \"ola\": 1, \"good\": 5, \"morning\": 1, \"afternoon\": 1, \"evening\": 1, \"night\": 1, \"bye\": 3, \"see\": 2, \"you\": 38, \"later\": 1, \"goodbye\": 1, \"au\": 1, \"revoir\": 1, \"sayonara\": 1, \"ok\": 4, \"then\": 1, \"fare\": 1, \"thee\": 1, \"well\": 2, \"thanks\": 2, \"thank\": 3, \"that\\'s\": 3, \"helpful\": 1, \"for\": 10, \"the\": 10, \"help\": 6, \"than\": 1, \"very\": 3, \"much\": 4, \"nothing\": 3, \"who\": 6, \"are\": 15, \"what\": 29, \"tell\": 6, \"me\": 19, \"more\": 6, \"about\": 20, \"yourself\": 3, \"your\": 3, \"name\": 4, \"should\": 3, \"i\": 95, \"call\": 1, \"what\\'s\": 3, \"can\": 16, \"do\": 14, \"created\": 2, \"how\": 8, \"were\": 2, \"made\": 1, \"my\": 13, \"am\": 17, \"go\": 4, \"by\": 1, \"could\": 2, \"give\": 1, \"a\": 12, \"hand\": 1, \"please\": 2, \"need\": 6, \"support\": 3, \"feeling\": 1, \"lonely\": 4, \"so\": 10, \"feel\": 16, \"down\": 1, \"sad\": 2, \"empty\": 1, \"don\\'t\": 11, \"have\": 9, \"stressed\": 4, \"out\": 3, \"stuck\": 1, \"still\": 1, \"burned\": 1, \"worthless\": 1, \"no\": 5, \"one\": 1, \"likes\": 1, \"can\\'t\": 7, \"anything\": 2, \"useless\": 2, \"makes\": 1, \"sense\": 2, \"anymore\": 2, \"take\": 1, \"it\": 7, \"depressed\": 3, \"think\": 3, \"i\\'m\": 9, \"depression\": 7, \"great\": 1, \"today\": 1, \"happy\": 2, \"cheerful\": 1, \"fine\": 2, \"oh\": 1, \"okay\": 1, \"nice\": 1, \"whatever\": 1, \"k\": 1, \"yeah\": 3, \"yes\": 2, \"not\": 5, \"really\": 2, \"anxious\": 2, \"because\": 4, \"of\": 8, \"want\": 9, \"to\": 24, \"talk\": 5, \"just\": 3, \"stay\": 1, \"away\": 4, \"bring\": 1, \"myself\": 7, \"open\": 1, \"up\": 2, \"shut\": 1, \"insominia\": 1, \"suffering\": 2, \"from\": 2, \"insomnia\": 1, \"sleep\": 3, \"haven\\'t\": 2, \"slept\": 1, \"last\": 1, \"days\": 2, \"seem\": 1, \"had\": 1, \"proper\": 1, \"past\": 1, \"few\": 1, \"scared\": 2, \"that\": 8, \"sounds\": 3, \"awful\": 1, \"this\": 3, \"way\": 1, \"mom\": 1, \"died\": 3, \"brother\": 1, \"dad\": 1, \"passed\": 3, \"sister\": 1, \"someone\": 2, \"in\": 3, \"family\": 2, \"friend\": 1, \"understand\": 1, \"you\\'re\": 5, \"some\": 4, \"robot\": 1, \"would\": 5, \"know\": 8, \"possibly\": 1, \"going\": 3, \"through\": 1, \"nobody\": 1, \"understands\": 1, \"all\": 4, \"say\": 2, \"else\": 4, \"be\": 2, \"kill\": 2, \"i\\'ve\": 2, \"thought\": 1, \"killing\": 1, \"die\": 1, \"commit\": 1, \"suicide\": 1, \"hate\": 3, \"like\": 6, \"trust\": 1, \"exams\": 4, \"friends\": 2, \"relationship\": 1, \"boyfriend\": 1, \"girlfriend\": 1, \"money\": 1, \"financial\": 1, \"problems\": 5, \"joke\": 2, \"another\": 2, \"already\": 2, \"told\": 1, \"mentioned\": 1, \"why\": 2, \"repeating\": 1, \"saying\": 1, \"doesn\\'t\": 1, \"make\": 1, \"wrong\": 2, \"response\": 1, \"answer\": 1, \"stupid\": 1, \"crazy\": 1, \"dumb\": 2, \"where\": 6, \"live\": 1, \"location\": 1, \"something\": 4, \"let\\'s\": 1, \"we\": 1, \"any\": 2, \"ask\": 1, \"probably\": 2, \"approaching\": 1, \"prepared\": 1, \"enough\": 1, \"guess\": 2, \"sure\": 1, \"learn\": 6, \"right\": 3, \"deserve\": 1, \"break\": 1, \"absolutely\": 1, \"hmmm\": 1, \"useful\": 2, \"did\": 1, \"said\": 1, \"and\": 5, \"alot\": 1, \"better\": 2, \"now\": 1, \"again\": 1, \"i\\'ll\": 1, \"continue\": 1, \"practicing\": 1, \"meditation\": 1, \"focus\": 1, \"on\": 2, \"control\": 1, \"advice\": 3, \"mental\": 25, \"health\": 19, \"interested\": 1, \"learning\": 1, \"fact\": 2, \"define\": 2, \"important\": 1, \"importance\": 1, \"if\": 6, \"mentally\": 1, \"ill\": 1, \"therapist\": 2, \"does\": 3, \"therapy\": 4, \"mean\": 1, \"illness\": 5, \"affect\": 1, \"causes\": 2, \"warning\": 1, \"signs\": 1, \"people\": 1, \"with\": 1, \"recover\": 1, \"appears\": 1, \"symptoms\": 1, \"disorder\": 1, \"find\": 4, \"professional\": 2, \"or\": 2, \"child\": 2, \"treatment\": 3, \"options\": 1, \"available\": 1, \"become\": 1, \"involved\": 1, \"difference\": 4, \"between\": 4, \"professionals\": 2, \"get\": 1, \"before\": 1, \"starting\": 1, \"new\": 1, \"medication\": 1, \"types\": 2, \"different\": 1, \"group\": 1, \"prevent\": 1, \"cures\": 1, \"cure\": 1, \"worried\": 1, \"unwell\": 1, \"maintain\": 1, \"social\": 1, \"connections\": 1, \"anxiety\": 1, \"stress\": 1, \"sadness\": 2}',\n 'word_docs': '{\"hi\": 2, \"hey\": 2, \"there\": 5, \"anyone\": 2, \"is\": 13, \"hello\": 1, \"howdy\": 1, \"hola\": 1, \"bonjour\": 1, \"konnichiwa\": 1, \"guten\": 1, \"tag\": 1, \"ola\": 1, \"morning\": 1, \"good\": 5, \"afternoon\": 1, \"evening\": 1, \"night\": 1, \"bye\": 3, \"later\": 1, \"you\": 37, \"see\": 2, \"goodbye\": 1, \"au\": 1, \"revoir\": 1, \"sayonara\": 1, \"ok\": 4, \"then\": 1, \"fare\": 1, \"well\": 2, \"thee\": 1, \"thanks\": 2, \"thank\": 3, \"that\\'s\": 3, \"helpful\": 1, \"help\": 6, \"for\": 10, \"the\": 10, \"very\": 3, \"much\": 4, \"than\": 1, \"nothing\": 3, \"who\": 6, \"are\": 15, \"what\": 29, \"tell\": 6, \"about\": 20, \"more\": 6, \"yourself\": 3, \"me\": 19, \"your\": 3, \"name\": 4, \"call\": 1, \"i\": 88, \"should\": 3, \"what\\'s\": 3, \"can\": 16, \"do\": 12, \"created\": 2, \"were\": 2, \"made\": 1, \"how\": 8, \"my\": 13, \"am\": 17, \"go\": 4, \"by\": 1, \"could\": 2, \"a\": 12, \"hand\": 1, \"please\": 2, \"give\": 1, \"need\": 6, \"support\": 3, \"feeling\": 1, \"lonely\": 4, \"so\": 10, \"feel\": 16, \"down\": 1, \"sad\": 2, \"empty\": 1, \"don\\'t\": 11, \"have\": 9, \"out\": 3, \"stressed\": 4, \"stuck\": 1, \"still\": 1, \"burned\": 1, \"worthless\": 1, \"one\": 1, \"no\": 5, \"likes\": 1, \"anything\": 2, \"can\\'t\": 7, \"useless\": 2, \"anymore\": 2, \"makes\": 1, \"sense\": 2, \"it\": 7, \"take\": 1, \"depressed\": 3, \"think\": 3, \"i\\'m\": 9, \"depression\": 7, \"today\": 1, \"great\": 1, \"happy\": 2, \"cheerful\": 1, \"fine\": 2, \"oh\": 1, \"okay\": 1, \"nice\": 1, \"whatever\": 1, \"k\": 1, \"yeah\": 3, \"yes\": 2, \"really\": 2, \"not\": 5, \"anxious\": 2, \"of\": 7, \"because\": 3, \"want\": 9, \"to\": 23, \"talk\": 5, \"just\": 3, \"stay\": 1, \"away\": 4, \"bring\": 1, \"myself\": 7, \"open\": 1, \"up\": 2, \"shut\": 1, \"insominia\": 1, \"suffering\": 2, \"from\": 2, \"insomnia\": 1, \"sleep\": 3, \"slept\": 1, \"days\": 2, \"haven\\'t\": 2, \"last\": 1, \"seem\": 1, \"few\": 1, \"had\": 1, \"past\": 1, \"proper\": 1, \"scared\": 2, \"that\": 8, \"sounds\": 3, \"awful\": 1, \"this\": 3, \"way\": 1, \"died\": 3, \"mom\": 1, \"brother\": 1, \"dad\": 1, \"passed\": 3, \"sister\": 1, \"family\": 2, \"someone\": 2, \"in\": 3, \"friend\": 1, \"understand\": 1, \"would\": 5, \"you\\'re\": 5, \"know\": 8, \"some\": 4, \"robot\": 1, \"possibly\": 1, \"going\": 3, \"through\": 1, \"understands\": 1, \"nobody\": 1, \"all\": 4, \"say\": 2, \"else\": 4, \"be\": 2, \"kill\": 2, \"killing\": 1, \"thought\": 1, \"i\\'ve\": 2, \"die\": 1, \"commit\": 1, \"suicide\": 1, \"hate\": 3, \"like\": 6, \"trust\": 1, \"exams\": 4, \"friends\": 2, \"relationship\": 1, \"boyfriend\": 1, \"girlfriend\": 1, \"money\": 1, \"financial\": 1, \"problems\": 5, \"joke\": 2, \"another\": 2, \"already\": 2, \"told\": 1, \"mentioned\": 1, \"why\": 2, \"repeating\": 1, \"saying\": 1, \"make\": 1, \"doesn\\'t\": 1, \"response\": 1, \"wrong\": 2, \"answer\": 1, \"stupid\": 1, \"crazy\": 1, \"dumb\": 2, \"where\": 6, \"live\": 1, \"location\": 1, \"something\": 4, \"let\\'s\": 1, \"we\": 1, \"any\": 2, \"ask\": 1, \"prepared\": 1, \"enough\": 1, \"probably\": 2, \"approaching\": 1, \"guess\": 2, \"learn\": 6, \"sure\": 1, \"deserve\": 1, \"break\": 1, \"right\": 3, \"absolutely\": 1, \"useful\": 2, \"hmmm\": 1, \"said\": 1, \"and\": 5, \"alot\": 1, \"better\": 2, \"did\": 1, \"now\": 1, \"focus\": 1, \"again\": 1, \"continue\": 1, \"on\": 2, \"practicing\": 1, \"i\\'ll\": 1, \"control\": 1, \"meditation\": 1, \"advice\": 3, \"health\": 19, \"mental\": 25, \"learning\": 1, \"interested\": 1, \"fact\": 2, \"define\": 2, \"important\": 1, \"importance\": 1, \"if\": 6, \"mentally\": 1, \"ill\": 1, \"therapist\": 2, \"does\": 3, \"therapy\": 4, \"mean\": 1, \"illness\": 5, \"affect\": 1, \"causes\": 2, \"warning\": 1, \"signs\": 1, \"recover\": 1, \"with\": 1, \"people\": 1, \"symptoms\": 1, \"appears\": 1, \"disorder\": 1, \"find\": 4, \"child\": 2, \"professional\": 2, \"or\": 2, \"available\": 1, \"options\": 1, \"treatment\": 3, \"involved\": 1, \"become\": 1, \"between\": 4, \"difference\": 4, \"professionals\": 2, \"get\": 1, \"medication\": 1, \"before\": 1, \"starting\": 1, \"new\": 1, \"types\": 2, \"different\": 1, \"group\": 1, \"prevent\": 1, \"cures\": 1, \"cure\": 1, \"worried\": 1, \"unwell\": 1, \"social\": 1, \"maintain\": 1, \"connections\": 1, \"stress\": 1, \"anxiety\": 1, \"sadness\": 2}',\n 'index_docs': '{\"95\": 2, \"96\": 2, \"41\": 5, \"97\": 2, \"14\": 13, \"150\": 1, \"151\": 1, \"152\": 1, \"153\": 1, \"154\": 1, \"155\": 1, \"156\": 1, \"157\": 1, \"158\": 1, \"42\": 5, \"159\": 1, \"160\": 1, \"161\": 1, \"68\": 3, \"162\": 1, \"2\": 37, \"98\": 2, \"163\": 1, \"164\": 1, \"165\": 1, \"166\": 1, \"51\": 4, \"167\": 1, \"168\": 1, \"99\": 2, \"169\": 1, \"100\": 2, \"69\": 3, \"70\": 3, \"170\": 1, \"32\": 6, \"18\": 10, \"19\": 10, \"71\": 3, \"52\": 4, \"171\": 1, \"72\": 3, \"33\": 6, \"12\": 15, \"3\": 29, \"34\": 6, \"6\": 20, \"35\": 6, \"73\": 3, \"7\": 19, \"74\": 3, \"53\": 4, \"172\": 1, \"1\": 88, \"75\": 3, \"76\": 3, \"10\": 16, \"13\": 12, \"101\": 2, \"102\": 2, \"173\": 1, \"24\": 8, \"15\": 13, \"9\": 17, \"54\": 4, \"174\": 1, \"103\": 2, \"16\": 12, \"176\": 1, \"104\": 2, \"175\": 1, \"36\": 6, \"77\": 3, \"177\": 1, \"55\": 4, \"20\": 10, \"11\": 16, \"178\": 1, \"105\": 2, \"179\": 1, \"17\": 11, \"21\": 9, \"78\": 3, \"56\": 4, \"180\": 1, \"181\": 1, \"182\": 1, \"183\": 1, \"184\": 1, \"43\": 5, \"185\": 1, \"106\": 2, \"28\": 7, \"107\": 2, \"109\": 2, \"186\": 1, \"108\": 2, \"29\": 7, \"187\": 1, \"79\": 3, \"80\": 3, \"22\": 9, \"30\": 7, \"189\": 1, \"188\": 1, \"110\": 2, \"190\": 1, \"111\": 2, \"191\": 1, \"192\": 1, \"193\": 1, \"194\": 1, \"195\": 1, \"81\": 3, \"112\": 2, \"113\": 2, \"44\": 5, \"114\": 2, \"25\": 7, \"57\": 3, \"23\": 9, \"5\": 23, \"45\": 5, \"82\": 3, \"196\": 1, \"58\": 4, \"197\": 1, \"31\": 7, \"198\": 1, \"115\": 2, \"199\": 1, \"200\": 1, \"116\": 2, \"117\": 2, \"201\": 1, \"83\": 3, \"202\": 1, \"119\": 2, \"118\": 2, \"203\": 1, \"204\": 1, \"208\": 1, \"205\": 1, \"207\": 1, \"206\": 1, \"120\": 2, \"26\": 8, \"84\": 3, \"209\": 1, \"85\": 3, \"210\": 1, \"86\": 3, \"211\": 1, \"212\": 1, \"213\": 1, \"87\": 3, \"214\": 1, \"122\": 2, \"121\": 2, \"88\": 3, \"215\": 1, \"216\": 1, \"47\": 5, \"46\": 5, \"27\": 8, \"59\": 4, \"217\": 1, \"218\": 1, \"89\": 3, \"219\": 1, \"221\": 1, \"220\": 1, \"60\": 4, \"123\": 2, \"61\": 4, \"124\": 2, \"125\": 2, \"223\": 1, \"222\": 1, \"126\": 2, \"224\": 1, \"225\": 1, \"226\": 1, \"90\": 3, \"37\": 6, \"227\": 1, \"62\": 4, \"127\": 2, \"228\": 1, \"229\": 1, \"230\": 1, \"231\": 1, \"232\": 1, \"48\": 5, \"128\": 2, \"129\": 2, \"130\": 2, \"233\": 1, \"234\": 1, \"131\": 2, \"235\": 1, \"236\": 1, \"238\": 1, \"237\": 1, \"239\": 1, \"132\": 2, \"240\": 1, \"241\": 1, \"242\": 1, \"133\": 2, \"38\": 6, \"243\": 1, \"244\": 1, \"63\": 4, \"245\": 1, \"246\": 1, \"134\": 2, \"247\": 1, \"249\": 1, \"250\": 1, \"135\": 2, \"248\": 1, \"136\": 2, \"39\": 6, \"251\": 1, \"252\": 1, \"253\": 1, \"91\": 3, \"254\": 1, \"137\": 2, \"255\": 1, \"257\": 1, \"49\": 5, \"258\": 1, \"138\": 2, \"256\": 1, \"259\": 1, \"265\": 1, \"260\": 1, \"262\": 1, \"139\": 2, \"263\": 1, \"261\": 1, \"266\": 1, \"264\": 1, \"92\": 3, \"8\": 19, \"4\": 25, \"268\": 1, \"267\": 1, \"140\": 2, \"141\": 2, \"269\": 1, \"270\": 1, \"40\": 6, \"271\": 1, \"272\": 1, \"142\": 2, \"93\": 3, \"64\": 4, \"273\": 1, \"50\": 5, \"274\": 1, \"143\": 2, \"275\": 1, \"276\": 1, \"279\": 1, \"278\": 1, \"277\": 1, \"281\": 1, \"280\": 1, \"282\": 1, \"65\": 4, \"146\": 2, \"144\": 2, \"145\": 2, \"284\": 1, \"283\": 1, \"94\": 3, \"286\": 1, \"285\": 1, \"67\": 4, \"66\": 4, \"147\": 2, \"287\": 1, \"291\": 1, \"288\": 1, \"289\": 1, \"290\": 1, \"148\": 2, \"292\": 1, \"293\": 1, \"294\": 1, \"295\": 1, \"296\": 1, \"297\": 1, \"298\": 1, \"300\": 1, \"299\": 1, \"301\": 1, \"303\": 1, \"302\": 1, \"149\": 2}',\n 'index_word': '{\"1\": \"i\", \"2\": \"you\", \"3\": \"what\", \"4\": \"mental\", \"5\": \"to\", \"6\": \"about\", \"7\": \"me\", \"8\": \"health\", \"9\": \"am\", \"10\": \"can\", \"11\": \"feel\", \"12\": \"are\", \"13\": \"do\", \"14\": \"is\", \"15\": \"my\", \"16\": \"a\", \"17\": \"don\\'t\", \"18\": \"for\", \"19\": \"the\", \"20\": \"so\", \"21\": \"have\", \"22\": \"i\\'m\", \"23\": \"want\", \"24\": \"how\", \"25\": \"of\", \"26\": \"that\", \"27\": \"know\", \"28\": \"can\\'t\", \"29\": \"it\", \"30\": \"depression\", \"31\": \"myself\", \"32\": \"help\", \"33\": \"who\", \"34\": \"tell\", \"35\": \"more\", \"36\": \"need\", \"37\": \"like\", \"38\": \"where\", \"39\": \"learn\", \"40\": \"if\", \"41\": \"there\", \"42\": \"good\", \"43\": \"no\", \"44\": \"not\", \"45\": \"talk\", \"46\": \"you\\'re\", \"47\": \"would\", \"48\": \"problems\", \"49\": \"and\", \"50\": \"illness\", \"51\": \"ok\", \"52\": \"much\", \"53\": \"name\", \"54\": \"go\", \"55\": \"lonely\", \"56\": \"stressed\", \"57\": \"because\", \"58\": \"away\", \"59\": \"some\", \"60\": \"all\", \"61\": \"else\", \"62\": \"exams\", \"63\": \"something\", \"64\": \"therapy\", \"65\": \"find\", \"66\": \"difference\", \"67\": \"between\", \"68\": \"bye\", \"69\": \"thank\", \"70\": \"that\\'s\", \"71\": \"very\", \"72\": \"nothing\", \"73\": \"yourself\", \"74\": \"your\", \"75\": \"should\", \"76\": \"what\\'s\", \"77\": \"support\", \"78\": \"out\", \"79\": \"depressed\", \"80\": \"think\", \"81\": \"yeah\", \"82\": \"just\", \"83\": \"sleep\", \"84\": \"sounds\", \"85\": \"this\", \"86\": \"died\", \"87\": \"passed\", \"88\": \"in\", \"89\": \"going\", \"90\": \"hate\", \"91\": \"right\", \"92\": \"advice\", \"93\": \"does\", \"94\": \"treatment\", \"95\": \"hi\", \"96\": \"hey\", \"97\": \"anyone\", \"98\": \"see\", \"99\": \"well\", \"100\": \"thanks\", \"101\": \"created\", \"102\": \"were\", \"103\": \"could\", \"104\": \"please\", \"105\": \"sad\", \"106\": \"anything\", \"107\": \"useless\", \"108\": \"sense\", \"109\": \"anymore\", \"110\": \"happy\", \"111\": \"fine\", \"112\": \"yes\", \"113\": \"really\", \"114\": \"anxious\", \"115\": \"up\", \"116\": \"suffering\", \"117\": \"from\", \"118\": \"haven\\'t\", \"119\": \"days\", \"120\": \"scared\", \"121\": \"someone\", \"122\": \"family\", \"123\": \"say\", \"124\": \"be\", \"125\": \"kill\", \"126\": \"i\\'ve\", \"127\": \"friends\", \"128\": \"joke\", \"129\": \"another\", \"130\": \"already\", \"131\": \"why\", \"132\": \"wrong\", \"133\": \"dumb\", \"134\": \"any\", \"135\": \"probably\", \"136\": \"guess\", \"137\": \"useful\", \"138\": \"better\", \"139\": \"on\", \"140\": \"fact\", \"141\": \"define\", \"142\": \"therapist\", \"143\": \"causes\", \"144\": \"professional\", \"145\": \"or\", \"146\": \"child\", \"147\": \"professionals\", \"148\": \"types\", \"149\": \"sadness\", \"150\": \"hello\", \"151\": \"howdy\", \"152\": \"hola\", \"153\": \"bonjour\", \"154\": \"konnichiwa\", \"155\": \"guten\", \"156\": \"tag\", \"157\": \"ola\", \"158\": \"morning\", \"159\": \"afternoon\", \"160\": \"evening\", \"161\": \"night\", \"162\": \"later\", \"163\": \"goodbye\", \"164\": \"au\", \"165\": \"revoir\", \"166\": \"sayonara\", \"167\": \"then\", \"168\": \"fare\", \"169\": \"thee\", \"170\": \"helpful\", \"171\": \"than\", \"172\": \"call\", \"173\": \"made\", \"174\": \"by\", \"175\": \"give\", \"176\": \"hand\", \"177\": \"feeling\", \"178\": \"down\", \"179\": \"empty\", \"180\": \"stuck\", \"181\": \"still\", \"182\": \"burned\", \"183\": \"worthless\", \"184\": \"one\", \"185\": \"likes\", \"186\": \"makes\", \"187\": \"take\", \"188\": \"great\", \"189\": \"today\", \"190\": \"cheerful\", \"191\": \"oh\", \"192\": \"okay\", \"193\": \"nice\", \"194\": \"whatever\", \"195\": \"k\", \"196\": \"stay\", \"197\": \"bring\", \"198\": \"open\", \"199\": \"shut\", \"200\": \"insominia\", \"201\": \"insomnia\", \"202\": \"slept\", \"203\": \"last\", \"204\": \"seem\", \"205\": \"had\", \"206\": \"proper\", \"207\": \"past\", \"208\": \"few\", \"209\": \"awful\", \"210\": \"way\", \"211\": \"mom\", \"212\": \"brother\", \"213\": \"dad\", \"214\": \"sister\", \"215\": \"friend\", \"216\": \"understand\", \"217\": \"robot\", \"218\": \"possibly\", \"219\": \"through\", \"220\": \"nobody\", \"221\": \"understands\", \"222\": \"thought\", \"223\": \"killing\", \"224\": \"die\", \"225\": \"commit\", \"226\": \"suicide\", \"227\": \"trust\", \"228\": \"relationship\", \"229\": \"boyfriend\", \"230\": \"girlfriend\", \"231\": \"money\", \"232\": \"financial\", \"233\": \"told\", \"234\": \"mentioned\", \"235\": \"repeating\", \"236\": \"saying\", \"237\": \"doesn\\'t\", \"238\": \"make\", \"239\": \"response\", \"240\": \"answer\", \"241\": \"stupid\", \"242\": \"crazy\", \"243\": \"live\", \"244\": \"location\", \"245\": \"let\\'s\", \"246\": \"we\", \"247\": \"ask\", \"248\": \"approaching\", \"249\": \"prepared\", \"250\": \"enough\", \"251\": \"sure\", \"252\": \"deserve\", \"253\": \"break\", \"254\": \"absolutely\", \"255\": \"hmmm\", \"256\": \"did\", \"257\": \"said\", \"258\": \"alot\", \"259\": \"now\", \"260\": \"again\", \"261\": \"i\\'ll\", \"262\": \"continue\", \"263\": \"practicing\", \"264\": \"meditation\", \"265\": \"focus\", \"266\": \"control\", \"267\": \"interested\", \"268\": \"learning\", \"269\": \"important\", \"270\": \"importance\", \"271\": \"mentally\", \"272\": \"ill\", \"273\": \"mean\", \"274\": \"affect\", \"275\": \"warning\", \"276\": \"signs\", \"277\": \"people\", \"278\": \"with\", \"279\": \"recover\", \"280\": \"appears\", \"281\": \"symptoms\", \"282\": \"disorder\", \"283\": \"options\", \"284\": \"available\", \"285\": \"become\", \"286\": \"involved\", \"287\": \"get\", \"288\": \"before\", \"289\": \"starting\", \"290\": \"new\", \"291\": \"medication\", \"292\": \"different\", \"293\": \"group\", \"294\": \"prevent\", \"295\": \"cures\", \"296\": \"cure\", \"297\": \"worried\", \"298\": \"unwell\", \"299\": \"maintain\", \"300\": \"social\", \"301\": \"connections\", \"302\": \"anxiety\", \"303\": \"stress\"}',\n 'word_index': '{\"i\": 1, \"you\": 2, \"what\": 3, \"mental\": 4, \"to\": 5, \"about\": 6, \"me\": 7, \"health\": 8, \"am\": 9, \"can\": 10, \"feel\": 11, \"are\": 12, \"do\": 13, \"is\": 14, \"my\": 15, \"a\": 16, \"don\\'t\": 17, \"for\": 18, \"the\": 19, \"so\": 20, \"have\": 21, \"i\\'m\": 22, \"want\": 23, \"how\": 24, \"of\": 25, \"that\": 26, \"know\": 27, \"can\\'t\": 28, \"it\": 29, \"depression\": 30, \"myself\": 31, \"help\": 32, \"who\": 33, \"tell\": 34, \"more\": 35, \"need\": 36, \"like\": 37, \"where\": 38, \"learn\": 39, \"if\": 40, \"there\": 41, \"good\": 42, \"no\": 43, \"not\": 44, \"talk\": 45, \"you\\'re\": 46, \"would\": 47, \"problems\": 48, \"and\": 49, \"illness\": 50, \"ok\": 51, \"much\": 52, \"name\": 53, \"go\": 54, \"lonely\": 55, \"stressed\": 56, \"because\": 57, \"away\": 58, \"some\": 59, \"all\": 60, \"else\": 61, \"exams\": 62, \"something\": 63, \"therapy\": 64, \"find\": 65, \"difference\": 66, \"between\": 67, \"bye\": 68, \"thank\": 69, \"that\\'s\": 70, \"very\": 71, \"nothing\": 72, \"yourself\": 73, \"your\": 74, \"should\": 75, \"what\\'s\": 76, \"support\": 77, \"out\": 78, \"depressed\": 79, \"think\": 80, \"yeah\": 81, \"just\": 82, \"sleep\": 83, \"sounds\": 84, \"this\": 85, \"died\": 86, \"passed\": 87, \"in\": 88, \"going\": 89, \"hate\": 90, \"right\": 91, \"advice\": 92, \"does\": 93, \"treatment\": 94, \"hi\": 95, \"hey\": 96, \"anyone\": 97, \"see\": 98, \"well\": 99, \"thanks\": 100, \"created\": 101, \"were\": 102, \"could\": 103, \"please\": 104, \"sad\": 105, \"anything\": 106, \"useless\": 107, \"sense\": 108, \"anymore\": 109, \"happy\": 110, \"fine\": 111, \"yes\": 112, \"really\": 113, \"anxious\": 114, \"up\": 115, \"suffering\": 116, \"from\": 117, \"haven\\'t\": 118, \"days\": 119, \"scared\": 120, \"someone\": 121, \"family\": 122, \"say\": 123, \"be\": 124, \"kill\": 125, \"i\\'ve\": 126, \"friends\": 127, \"joke\": 128, \"another\": 129, \"already\": 130, \"why\": 131, \"wrong\": 132, \"dumb\": 133, \"any\": 134, \"probably\": 135, \"guess\": 136, \"useful\": 137, \"better\": 138, \"on\": 139, \"fact\": 140, \"define\": 141, \"therapist\": 142, \"causes\": 143, \"professional\": 144, \"or\": 145, \"child\": 146, \"professionals\": 147, \"types\": 148, \"sadness\": 149, \"hello\": 150, \"howdy\": 151, \"hola\": 152, \"bonjour\": 153, \"konnichiwa\": 154, \"guten\": 155, \"tag\": 156, \"ola\": 157, \"morning\": 158, \"afternoon\": 159, \"evening\": 160, \"night\": 161, \"later\": 162, \"goodbye\": 163, \"au\": 164, \"revoir\": 165, \"sayonara\": 166, \"then\": 167, \"fare\": 168, \"thee\": 169, \"helpful\": 170, \"than\": 171, \"call\": 172, \"made\": 173, \"by\": 174, \"give\": 175, \"hand\": 176, \"feeling\": 177, \"down\": 178, \"empty\": 179, \"stuck\": 180, \"still\": 181, \"burned\": 182, \"worthless\": 183, \"one\": 184, \"likes\": 185, \"makes\": 186, \"take\": 187, \"great\": 188, \"today\": 189, \"cheerful\": 190, \"oh\": 191, \"okay\": 192, \"nice\": 193, \"whatever\": 194, \"k\": 195, \"stay\": 196, \"bring\": 197, \"open\": 198, \"shut\": 199, \"insominia\": 200, \"insomnia\": 201, \"slept\": 202, \"last\": 203, \"seem\": 204, \"had\": 205, \"proper\": 206, \"past\": 207, \"few\": 208, \"awful\": 209, \"way\": 210, \"mom\": 211, \"brother\": 212, \"dad\": 213, \"sister\": 214, \"friend\": 215, \"understand\": 216, \"robot\": 217, \"possibly\": 218, \"through\": 219, \"nobody\": 220, \"understands\": 221, \"thought\": 222, \"killing\": 223, \"die\": 224, \"commit\": 225, \"suicide\": 226, \"trust\": 227, \"relationship\": 228, \"boyfriend\": 229, \"girlfriend\": 230, \"money\": 231, \"financial\": 232, \"told\": 233, \"mentioned\": 234, \"repeating\": 235, \"saying\": 236, \"doesn\\'t\": 237, \"make\": 238, \"response\": 239, \"answer\": 240, \"stupid\": 241, \"crazy\": 242, \"live\": 243, \"location\": 244, \"let\\'s\": 245, \"we\": 246, \"ask\": 247, \"approaching\": 248, \"prepared\": 249, \"enough\": 250, \"sure\": 251, \"deserve\": 252, \"break\": 253, \"absolutely\": 254, \"hmmm\": 255, \"did\": 256, \"said\": 257, \"alot\": 258, \"now\": 259, \"again\": 260, \"i\\'ll\": 261, \"continue\": 262, \"practicing\": 263, \"meditation\": 264, \"focus\": 265, \"control\": 266, \"interested\": 267, \"learning\": 268, \"important\": 269, \"importance\": 270, \"mentally\": 271, \"ill\": 272, \"mean\": 273, \"affect\": 274, \"warning\": 275, \"signs\": 276, \"people\": 277, \"with\": 278, \"recover\": 279, \"appears\": 280, \"symptoms\": 281, \"disorder\": 282, \"options\": 283, \"available\": 284, \"become\": 285, \"involved\": 286, \"get\": 287, \"before\": 288, \"starting\": 289, \"new\": 290, \"medication\": 291, \"different\": 292, \"group\": 293, \"prevent\": 294, \"cures\": 295, \"cure\": 296, \"worried\": 297, \"unwell\": 298, \"maintain\": 299, \"social\": 300, \"connections\": 301, \"anxiety\": 302, \"stress\": 303}'}"
     },
     "execution_count": 19,
     "metadata": {},
     "output_type": "execute_result"
    }
   ]
  },
  {
   "cell_type": "code",
   "source": [
    "vacab_size = len(tokenizer.word_index)\n",
    "print('number of unique words = ', vacab_size)"
   ],
   "metadata": {
    "execution": {
     "iopub.status.busy": "2023-01-19T11:57:41.827853Z",
     "iopub.execute_input": "2023-01-19T11:57:41.82868Z",
     "iopub.status.idle": "2023-01-19T11:57:41.83628Z",
     "shell.execute_reply.started": "2023-01-19T11:57:41.828618Z",
     "shell.execute_reply": "2023-01-19T11:57:41.834402Z"
    },
    "trusted": true
   },
   "execution_count": 20,
   "outputs": [
    {
     "name": "stdout",
     "output_type": "stream",
     "text": [
      "number of unique words =  303\n"
     ]
    }
   ]
  },
  {
   "cell_type": "code",
   "source": [
    "from tensorflow.keras.preprocessing.sequence import pad_sequences\n",
    "from sklearn.preprocessing import LabelEncoder\n",
    "\n",
    "ptrn2seq = tokenizer.texts_to_sequences(df['patterns'])\n",
    "X = pad_sequences(ptrn2seq, padding='post')\n",
    "print('X shape = ', X.shape)\n",
    "\n",
    "lbl_enc = LabelEncoder()\n",
    "y = lbl_enc.fit_transform(df['tag'])\n",
    "print('y shape = ', y.shape)\n",
    "print('num of classes = ', len(np.unique(y)))"
   ],
   "metadata": {
    "execution": {
     "iopub.status.busy": "2023-01-19T11:57:46.596777Z",
     "iopub.execute_input": "2023-01-19T11:57:46.597774Z",
     "iopub.status.idle": "2023-01-19T11:57:47.129319Z",
     "shell.execute_reply.started": "2023-01-19T11:57:46.597712Z",
     "shell.execute_reply": "2023-01-19T11:57:47.12738Z"
    },
    "trusted": true
   },
   "execution_count": 21,
   "outputs": [
    {
     "name": "stdout",
     "output_type": "stream",
     "text": [
      "X shape =  (232, 18)\n",
      "y shape =  (232,)\n",
      "num of classes =  80\n"
     ]
    }
   ]
  },
  {
   "cell_type": "markdown",
   "source": [
    "# Build and Train Model"
   ],
   "metadata": {}
  },
  {
   "cell_type": "code",
   "source": [
    "import tensorflow\n",
    "from tensorflow import keras\n",
    "from tensorflow.keras.models import Sequential\n",
    "from tensorflow.keras.layers import Input, Embedding, LSTM, LayerNormalization, Dense, Dropout\n",
    "from tensorflow.keras.utils import plot_model\n",
    "\n",
    "model = Sequential()\n",
    "model.add(Input(shape=(X.shape[1])))\n",
    "model.add(Embedding(input_dim=vacab_size+1, output_dim=100, mask_zero=True))\n",
    "model.add(LSTM(32, return_sequences=True))\n",
    "model.add(LayerNormalization())\n",
    "model.add(LSTM(32, return_sequences=True))\n",
    "model.add(LayerNormalization())\n",
    "model.add(LSTM(32))\n",
    "model.add(LayerNormalization())\n",
    "model.add(Dense(128, activation=\"relu\"))\n",
    "model.add(LayerNormalization())\n",
    "model.add(Dropout(0.2))\n",
    "model.add(Dense(128, activation=\"relu\"))\n",
    "model.add(LayerNormalization())\n",
    "model.add(Dropout(0.2))\n",
    "model.add(Dense(len(np.unique(y)), activation=\"softmax\"))\n",
    "model.compile(optimizer='adam', loss=\"sparse_categorical_crossentropy\", metrics=['accuracy'])\n",
    "\n",
    "model.summary()\n",
    "plot_model(model, show_shapes=True)"
   ],
   "metadata": {
    "execution": {
     "iopub.status.busy": "2023-01-19T12:12:24.930822Z",
     "iopub.execute_input": "2023-01-19T12:12:24.932304Z",
     "iopub.status.idle": "2023-01-19T12:12:28.639678Z",
     "shell.execute_reply.started": "2023-01-19T12:12:24.932256Z",
     "shell.execute_reply": "2023-01-19T12:12:28.63811Z"
    },
    "trusted": true
   },
   "execution_count": 22,
   "outputs": [
    {
     "name": "stdout",
     "output_type": "stream",
     "text": [
      "Model: \"sequential_1\"\n",
      "_________________________________________________________________\n",
      " Layer (type)                Output Shape              Param #   \n",
      "=================================================================\n",
      " embedding_1 (Embedding)     (None, 18, 100)           30400     \n",
      "                                                                 \n",
      " lstm_3 (LSTM)               (None, 18, 32)            17024     \n",
      "                                                                 \n",
      " layer_normalization_5 (Lay  (None, 18, 32)            64        \n",
      " erNormalization)                                                \n",
      "                                                                 \n",
      " lstm_4 (LSTM)               (None, 18, 32)            8320      \n",
      "                                                                 \n",
      " layer_normalization_6 (Lay  (None, 18, 32)            64        \n",
      " erNormalization)                                                \n",
      "                                                                 \n",
      " lstm_5 (LSTM)               (None, 32)                8320      \n",
      "                                                                 \n",
      " layer_normalization_7 (Lay  (None, 32)                64        \n",
      " erNormalization)                                                \n",
      "                                                                 \n",
      " dense_3 (Dense)             (None, 128)               4224      \n",
      "                                                                 \n",
      " layer_normalization_8 (Lay  (None, 128)               256       \n",
      " erNormalization)                                                \n",
      "                                                                 \n",
      " dropout_2 (Dropout)         (None, 128)               0         \n",
      "                                                                 \n",
      " dense_4 (Dense)             (None, 128)               16512     \n",
      "                                                                 \n",
      " layer_normalization_9 (Lay  (None, 128)               256       \n",
      " erNormalization)                                                \n",
      "                                                                 \n",
      " dropout_3 (Dropout)         (None, 128)               0         \n",
      "                                                                 \n",
      " dense_5 (Dense)             (None, 80)                10320     \n",
      "                                                                 \n",
      "=================================================================\n",
      "Total params: 95824 (374.31 KB)\n",
      "Trainable params: 95824 (374.31 KB)\n",
      "Non-trainable params: 0 (0.00 Byte)\n",
      "_________________________________________________________________\n",
      "You must install pydot (`pip install pydot`) and install graphviz (see instructions at https://graphviz.gitlab.io/download/) for plot_model to work.\n"
     ]
    }
   ]
  },
  {
   "cell_type": "code",
   "source": [
    "model_history = model.fit(x=X,\n",
    "                          y=y,\n",
    "                          batch_size=10,\n",
    "                          callbacks=[tensorflow.keras.callbacks.EarlyStopping(monitor='accuracy', patience=3)],\n",
    "                          epochs=50)"
   ],
   "metadata": {
    "execution": {
     "iopub.status.busy": "2023-01-19T12:12:38.482084Z",
     "iopub.execute_input": "2023-01-19T12:12:38.48275Z",
     "iopub.status.idle": "2023-01-19T12:13:21.140182Z",
     "shell.execute_reply.started": "2023-01-19T12:12:38.482691Z",
     "shell.execute_reply": "2023-01-19T12:13:21.139153Z"
    },
    "trusted": true
   },
   "execution_count": 23,
   "outputs": [
    {
     "name": "stdout",
     "output_type": "stream",
     "text": [
      "Epoch 1/50\n",
      "24/24 [==============================] - 12s 26ms/step - loss: 4.7049 - accuracy: 0.0302\n",
      "Epoch 2/50\n",
      "24/24 [==============================] - 1s 27ms/step - loss: 3.6160 - accuracy: 0.1552\n",
      "Epoch 3/50\n",
      "24/24 [==============================] - 1s 25ms/step - loss: 2.9805 - accuracy: 0.3319\n",
      "Epoch 4/50\n",
      "24/24 [==============================] - 1s 24ms/step - loss: 2.3757 - accuracy: 0.4310\n",
      "Epoch 5/50\n",
      "24/24 [==============================] - 1s 25ms/step - loss: 1.8641 - accuracy: 0.5862\n",
      "Epoch 6/50\n",
      "24/24 [==============================] - 1s 27ms/step - loss: 1.5913 - accuracy: 0.6379\n",
      "Epoch 7/50\n",
      "24/24 [==============================] - 1s 26ms/step - loss: 1.2765 - accuracy: 0.7241\n",
      "Epoch 8/50\n",
      "24/24 [==============================] - 1s 24ms/step - loss: 1.1176 - accuracy: 0.7457\n",
      "Epoch 9/50\n",
      "24/24 [==============================] - 1s 27ms/step - loss: 0.9113 - accuracy: 0.8190\n",
      "Epoch 10/50\n",
      "24/24 [==============================] - 1s 27ms/step - loss: 0.7365 - accuracy: 0.8621\n",
      "Epoch 11/50\n",
      "24/24 [==============================] - 1s 34ms/step - loss: 0.6461 - accuracy: 0.8966\n",
      "Epoch 12/50\n",
      "24/24 [==============================] - 1s 25ms/step - loss: 0.5261 - accuracy: 0.9009\n",
      "Epoch 13/50\n",
      "24/24 [==============================] - 1s 24ms/step - loss: 0.4915 - accuracy: 0.9095\n",
      "Epoch 14/50\n",
      "24/24 [==============================] - 1s 54ms/step - loss: 0.4441 - accuracy: 0.9052\n",
      "Epoch 15/50\n",
      "24/24 [==============================] - 1s 54ms/step - loss: 0.3378 - accuracy: 0.9483\n",
      "Epoch 16/50\n",
      "24/24 [==============================] - 2s 76ms/step - loss: 0.2758 - accuracy: 0.9655\n",
      "Epoch 17/50\n",
      "24/24 [==============================] - 1s 34ms/step - loss: 0.2083 - accuracy: 0.9784\n",
      "Epoch 18/50\n",
      "24/24 [==============================] - 1s 49ms/step - loss: 0.2090 - accuracy: 0.9655\n",
      "Epoch 19/50\n",
      "24/24 [==============================] - 1s 30ms/step - loss: 0.1766 - accuracy: 0.9828\n",
      "Epoch 20/50\n",
      "24/24 [==============================] - 1s 30ms/step - loss: 0.1502 - accuracy: 0.9914\n",
      "Epoch 21/50\n",
      "24/24 [==============================] - 1s 30ms/step - loss: 0.1545 - accuracy: 0.9741\n",
      "Epoch 22/50\n",
      "24/24 [==============================] - 1s 38ms/step - loss: 0.1438 - accuracy: 0.9871\n",
      "Epoch 23/50\n",
      "24/24 [==============================] - 1s 30ms/step - loss: 0.1288 - accuracy: 0.9871\n"
     ]
    }
   ]
  },
  {
   "cell_type": "code",
   "execution_count": 24,
   "outputs": [
    {
     "name": "stderr",
     "output_type": "stream",
     "text": [
      "D:\\MyWork\\DataScience\\HRChatBot\\env\\lib\\site-packages\\keras\\src\\engine\\training.py:3103: UserWarning: You are saving your model as an HDF5 file via `model.save()`. This file format is considered legacy. We recommend using instead the native Keras format, e.g. `model.save('my_model.keras')`.\n",
      "  saving_api.save_model(\n"
     ]
    }
   ],
   "source": [
    "model.save('bot_model.h5')\n"
   ],
   "metadata": {
    "collapsed": false
   }
  },
  {
   "cell_type": "markdown",
   "source": [
    "# Model Testing"
   ],
   "metadata": {}
  },
  {
   "cell_type": "markdown",
   "source": [
    "First we should apply some text preprocessing on the pattern that is passed to the function. Next we convert the text to vector of numbers and give it to model for prediction its tag; Finally based on the tag, we choose a answer(response) randomly and return it."
   ],
   "metadata": {}
  },
  {
   "cell_type": "code",
   "source": [
    "import re\n",
    "import random\n",
    "\n",
    "def generate_answer(pattern):\n",
    "    text = []\n",
    "    txt = re.sub('[^a-zA-Z\\']', ' ', pattern)\n",
    "    txt = txt.lower()\n",
    "    txt = txt.split()\n",
    "    txt = \" \".join(txt)\n",
    "    text.append(txt)\n",
    "\n",
    "    x_test = tokenizer.texts_to_sequences(text)\n",
    "    x_test = np.array(x_test).squeeze()\n",
    "    x_test = pad_sequences([x_test], padding='post', maxlen=X.shape[1])\n",
    "    y_pred = model.predict(x_test)\n",
    "    y_pred = y_pred.argmax()\n",
    "    tag = lbl_enc.inverse_transform([y_pred])[0]\n",
    "    responses = df[df['tag'] == tag]['responses'].values[0]\n",
    "\n",
    "    print(\"you: {}\".format(pattern))\n",
    "    print(\"model: {}\".format(random.choice(responses)))"
   ],
   "metadata": {
    "execution": {
     "iopub.status.busy": "2023-01-19T14:30:27.746751Z",
     "iopub.execute_input": "2023-01-19T14:30:27.747198Z",
     "iopub.status.idle": "2023-01-19T14:30:27.757329Z",
     "shell.execute_reply.started": "2023-01-19T14:30:27.747164Z",
     "shell.execute_reply": "2023-01-19T14:30:27.755852Z"
    },
    "trusted": true
   },
   "execution_count": 25,
   "outputs": []
  },
  {
   "cell_type": "code",
   "source": [
    "generate_answer('Hi! How are you?')"
   ],
   "metadata": {
    "execution": {
     "iopub.status.busy": "2023-01-19T14:30:33.389416Z",
     "iopub.execute_input": "2023-01-19T14:30:33.389891Z",
     "iopub.status.idle": "2023-01-19T14:30:33.46504Z",
     "shell.execute_reply.started": "2023-01-19T14:30:33.389854Z",
     "shell.execute_reply": "2023-01-19T14:30:33.463625Z"
    },
    "trusted": true
   },
   "execution_count": 26,
   "outputs": [
    {
     "name": "stdout",
     "output_type": "stream",
     "text": [
      "1/1 [==============================] - 3s 3s/step\n",
      "you: Hi! How are you?\n",
      "model: The real question is: Who created you?\n"
     ]
    }
   ]
  },
  {
   "cell_type": "code",
   "source": [
    "generate_answer('Good morning')"
   ],
   "metadata": {
    "execution": {
     "iopub.status.busy": "2023-01-19T14:31:32.126323Z",
     "iopub.execute_input": "2023-01-19T14:31:32.127Z",
     "iopub.status.idle": "2023-01-19T14:31:32.199864Z",
     "shell.execute_reply.started": "2023-01-19T14:31:32.126952Z",
     "shell.execute_reply": "2023-01-19T14:31:32.198427Z"
    },
    "trusted": true
   },
   "execution_count": 30,
   "outputs": [
    {
     "name": "stdout",
     "output_type": "stream",
     "text": [
      "1/1 [==============================] - 0s 29ms/step\n",
      "you: Good morning\n",
      "model: Good morning. I hope you had a good night's sleep. How are you feeling today? \n"
     ]
    }
   ]
  },
  {
   "cell_type": "code",
   "source": [
    "generate_answer('Where can I learn about types of physical health treatment?')"
   ],
   "metadata": {
    "execution": {
     "iopub.status.busy": "2023-01-19T14:34:57.106355Z",
     "iopub.execute_input": "2023-01-19T14:34:57.106803Z",
     "iopub.status.idle": "2023-01-19T14:34:57.189026Z",
     "shell.execute_reply.started": "2023-01-19T14:34:57.106771Z",
     "shell.execute_reply": "2023-01-19T14:34:57.187485Z"
    },
    "trusted": true
   },
   "execution_count": 28,
   "outputs": [
    {
     "name": "stdout",
     "output_type": "stream",
     "text": [
      "1/1 [==============================] - 0s 27ms/step\n",
      "you: Where can I learn about types of physical health treatment?\n",
      "model: Mental health conditions are often treated with medication, therapy or a combination of the two. However, there are many different types of treatment available, including Complementary & Alternative Treatments, self-help plans, and peer support. Treatments are very personal and should be discussed by the person with the mental health conditions and his or her team.\n"
     ]
    }
   ]
  },
  {
   "cell_type": "code",
   "execution_count": 28,
   "outputs": [],
   "source": [],
   "metadata": {
    "collapsed": false
   }
  }
 ]
}
