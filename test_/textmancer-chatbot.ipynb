{
 "metadata": {
  "kernelspec": {
   "language": "python",
   "display_name": "Python 3",
   "name": "python3"
  },
  "language_info": {
   "name": "python",
   "version": "3.7.12",
   "mimetype": "text/x-python",
   "codemirror_mode": {
    "name": "ipython",
    "version": 3
   },
   "pygments_lexer": "ipython3",
   "nbconvert_exporter": "python",
   "file_extension": ".py"
  },
  "kaggle": {
   "accelerator": "gpu",
   "dataSources": [
    {
     "sourceId": 1245709,
     "sourceType": "datasetVersion",
     "datasetId": 715041
    }
   ],
   "dockerImageVersionId": 30260,
   "isInternetEnabled": false,
   "language": "python",
   "sourceType": "notebook",
   "isGpuEnabled": true
  }
 },
 "nbformat_minor": 4,
 "nbformat": 4,
 "cells": [
  {
   "cell_type": "code",
   "source": [
    "import numpy as np \n",
    "import pandas as pd\n",
    "import matplotlib.pyplot as plt\n",
    "import tensorflow as tf\n",
    "import keras \n",
    "from keras.layers import Dense\n",
    "import json \n",
    "import re\n",
    "import string\n",
    "from sklearn.feature_extraction.text import TfidfVectorizer\n",
    "import unicodedata\n",
    "from sklearn.model_selection import train_test_split\n",
    "import matplotlib.pyplot as plt\n",
    "from collections import Counter\n",
    "import matplotlib.pyplot as plt\n",
    "import re\n",
    "import nltk\n",
    "from nltk.sentiment import SentimentIntensityAnalyzer\n",
    "import matplotlib.pyplot as plt\n",
    "import nltk\n",
    "from nltk import ngrams\n",
    "from collections import Counter\n",
    "\n"
   ],
   "metadata": {
    "execution": {
     "iopub.status.busy": "2023-11-29T08:34:15.232029Z",
     "iopub.execute_input": "2023-11-29T08:34:15.232708Z",
     "iopub.status.idle": "2023-11-29T08:34:15.246278Z",
     "shell.execute_reply.started": "2023-11-29T08:34:15.232651Z",
     "shell.execute_reply": "2023-11-29T08:34:15.244748Z"
    },
    "trusted": true
   },
   "execution_count": 1,
   "outputs": [
    {
     "name": "stdout",
     "output_type": "stream",
     "text": [
      "WARNING:tensorflow:From D:\\MyWork\\DataScience\\HRChatBot\\env\\lib\\site-packages\\keras\\src\\losses.py:2976: The name tf.losses.sparse_softmax_cross_entropy is deprecated. Please use tf.compat.v1.losses.sparse_softmax_cross_entropy instead.\n",
      "\n"
     ]
    }
   ]
  },
  {
   "cell_type": "code",
   "source": [
    "question  =[]\n",
    "answer = []\n",
    "with open(\"data/chat.txt\",'r') as f :\n",
    "    for line in f :\n",
    "        line  =  line.split('\\t')\n",
    "        question.append(line[0])\n",
    "        answer.append(line[1])\n",
    "print(len(question) == len(answer))"
   ],
   "metadata": {
    "execution": {
     "iopub.status.busy": "2023-11-29T08:30:16.946488Z",
     "iopub.execute_input": "2023-11-29T08:30:16.947101Z",
     "iopub.status.idle": "2023-11-29T08:30:16.95878Z",
     "shell.execute_reply.started": "2023-11-29T08:30:16.947066Z",
     "shell.execute_reply": "2023-11-29T08:30:16.957723Z"
    },
    "trusted": true
   },
   "execution_count": 2,
   "outputs": [
    {
     "name": "stdout",
     "output_type": "stream",
     "text": [
      "True\n"
     ]
    }
   ]
  },
  {
   "cell_type": "code",
   "source": [
    "question[:5]"
   ],
   "metadata": {
    "execution": {
     "iopub.status.busy": "2022-10-20T06:23:17.115322Z",
     "iopub.execute_input": "2022-10-20T06:23:17.115692Z",
     "iopub.status.idle": "2022-10-20T06:23:17.122809Z",
     "shell.execute_reply.started": "2022-10-20T06:23:17.115662Z",
     "shell.execute_reply": "2022-10-20T06:23:17.121666Z"
    },
    "trusted": true
   },
   "execution_count": 3,
   "outputs": [
    {
     "data": {
      "text/plain": "['hi, how are you doing?',\n \"i'm fine. how about yourself?\",\n \"i'm pretty good. thanks for asking.\",\n 'no problem. so how have you been?',\n \"i've been great. what about you?\"]"
     },
     "execution_count": 3,
     "metadata": {},
     "output_type": "execute_result"
    }
   ]
  },
  {
   "cell_type": "code",
   "source": [
    "answer[:5]"
   ],
   "metadata": {
    "execution": {
     "iopub.status.busy": "2022-10-20T06:02:43.923231Z",
     "iopub.execute_input": "2022-10-20T06:02:43.930284Z",
     "iopub.status.idle": "2022-10-20T06:02:43.943984Z",
     "shell.execute_reply.started": "2022-10-20T06:02:43.930253Z",
     "shell.execute_reply": "2022-10-20T06:02:43.941559Z"
    },
    "trusted": true
   },
   "execution_count": 4,
   "outputs": [
    {
     "data": {
      "text/plain": "[\"i'm fine. how about yourself?\\n\",\n \"i'm pretty good. thanks for asking.\\n\",\n 'no problem. so how have you been?\\n',\n \"i've been great. what about you?\\n\",\n \"i've been good. i'm in school right now.\\n\"]"
     },
     "execution_count": 4,
     "metadata": {},
     "output_type": "execute_result"
    }
   ]
  },
  {
   "cell_type": "code",
   "source": [
    "answer = [ i.replace(\"\\n\",\"\") for i in answer]"
   ],
   "metadata": {
    "execution": {
     "iopub.status.busy": "2022-10-20T06:02:43.946652Z",
     "iopub.execute_input": "2022-10-20T06:02:43.946926Z",
     "iopub.status.idle": "2022-10-20T06:02:43.95284Z",
     "shell.execute_reply.started": "2022-10-20T06:02:43.946902Z",
     "shell.execute_reply": "2022-10-20T06:02:43.951577Z"
    },
    "trusted": true
   },
   "execution_count": 5,
   "outputs": []
  },
  {
   "cell_type": "code",
   "source": [
    "answer[:5]"
   ],
   "metadata": {
    "execution": {
     "iopub.status.busy": "2022-10-20T06:02:43.954338Z",
     "iopub.execute_input": "2022-10-20T06:02:43.954953Z",
     "iopub.status.idle": "2022-10-20T06:02:43.964899Z",
     "shell.execute_reply.started": "2022-10-20T06:02:43.954918Z",
     "shell.execute_reply": "2022-10-20T06:02:43.963951Z"
    },
    "trusted": true
   },
   "execution_count": 6,
   "outputs": [
    {
     "data": {
      "text/plain": "[\"i'm fine. how about yourself?\",\n \"i'm pretty good. thanks for asking.\",\n 'no problem. so how have you been?',\n \"i've been great. what about you?\",\n \"i've been good. i'm in school right now.\"]"
     },
     "execution_count": 6,
     "metadata": {},
     "output_type": "execute_result"
    }
   ]
  },
  {
   "cell_type": "code",
   "source": [
    "data = pd.DataFrame({\"question\" : question ,\"answer\":answer})\n",
    "data.head()"
   ],
   "metadata": {
    "execution": {
     "iopub.status.busy": "2022-10-20T06:02:43.966066Z",
     "iopub.execute_input": "2022-10-20T06:02:43.966342Z",
     "iopub.status.idle": "2022-10-20T06:02:43.988291Z",
     "shell.execute_reply.started": "2022-10-20T06:02:43.966318Z",
     "shell.execute_reply": "2022-10-20T06:02:43.987282Z"
    },
    "trusted": true
   },
   "execution_count": 7,
   "outputs": [
    {
     "data": {
      "text/plain": "                              question  \\\n0               hi, how are you doing?   \n1        i'm fine. how about yourself?   \n2  i'm pretty good. thanks for asking.   \n3    no problem. so how have you been?   \n4     i've been great. what about you?   \n\n                                     answer  \n0             i'm fine. how about yourself?  \n1       i'm pretty good. thanks for asking.  \n2         no problem. so how have you been?  \n3          i've been great. what about you?  \n4  i've been good. i'm in school right now.  ",
      "text/html": "<div>\n<style scoped>\n    .dataframe tbody tr th:only-of-type {\n        vertical-align: middle;\n    }\n\n    .dataframe tbody tr th {\n        vertical-align: top;\n    }\n\n    .dataframe thead th {\n        text-align: right;\n    }\n</style>\n<table border=\"1\" class=\"dataframe\">\n  <thead>\n    <tr style=\"text-align: right;\">\n      <th></th>\n      <th>question</th>\n      <th>answer</th>\n    </tr>\n  </thead>\n  <tbody>\n    <tr>\n      <th>0</th>\n      <td>hi, how are you doing?</td>\n      <td>i'm fine. how about yourself?</td>\n    </tr>\n    <tr>\n      <th>1</th>\n      <td>i'm fine. how about yourself?</td>\n      <td>i'm pretty good. thanks for asking.</td>\n    </tr>\n    <tr>\n      <th>2</th>\n      <td>i'm pretty good. thanks for asking.</td>\n      <td>no problem. so how have you been?</td>\n    </tr>\n    <tr>\n      <th>3</th>\n      <td>no problem. so how have you been?</td>\n      <td>i've been great. what about you?</td>\n    </tr>\n    <tr>\n      <th>4</th>\n      <td>i've been great. what about you?</td>\n      <td>i've been good. i'm in school right now.</td>\n    </tr>\n  </tbody>\n</table>\n</div>"
     },
     "execution_count": 7,
     "metadata": {},
     "output_type": "execute_result"
    }
   ]
  },
  {
   "cell_type": "code",
   "source": [
    "def unicode_to_ascii(s):\n",
    "    return ''.join(c for c in unicodedata.normalize('NFD', s)\n",
    "      if unicodedata.category(c) != 'Mn')"
   ],
   "metadata": {
    "execution": {
     "iopub.status.busy": "2022-10-20T06:02:43.989828Z",
     "iopub.execute_input": "2022-10-20T06:02:43.990191Z",
     "iopub.status.idle": "2022-10-20T06:02:43.995418Z",
     "shell.execute_reply.started": "2022-10-20T06:02:43.990158Z",
     "shell.execute_reply": "2022-10-20T06:02:43.994354Z"
    },
    "trusted": true
   },
   "execution_count": 8,
   "outputs": []
  },
  {
   "cell_type": "code",
   "source": [
    "def clean_text(text):\n",
    "    text = unicode_to_ascii(text.lower().strip())\n",
    "    text = re.sub(r\"i'm\", \"i am\", text)\n",
    "    text = re.sub(r\"\\r\", \"\", text)\n",
    "    text = re.sub(r\"he's\", \"he is\", text)\n",
    "    text = re.sub(r\"she's\", \"she is\", text)\n",
    "    text = re.sub(r\"it's\", \"it is\", text)\n",
    "    text = re.sub(r\"that's\", \"that is\", text)\n",
    "    text = re.sub(r\"what's\", \"that is\", text)\n",
    "    text = re.sub(r\"where's\", \"where is\", text)\n",
    "    text = re.sub(r\"how's\", \"how is\", text)\n",
    "    text = re.sub(r\"\\'ll\", \" will\", text)\n",
    "    text = re.sub(r\"\\'ve\", \" have\", text)\n",
    "    text = re.sub(r\"\\'re\", \" are\", text)\n",
    "    text = re.sub(r\"\\'d\", \" would\", text)\n",
    "    text = re.sub(r\"\\'re\", \" are\", text)\n",
    "    text = re.sub(r\"won't\", \"will not\", text)\n",
    "    text = re.sub(r\"can't\", \"cannot\", text)\n",
    "    text = re.sub(r\"n't\", \" not\", text)\n",
    "    text = re.sub(r\"n'\", \"ng\", text)\n",
    "    text = re.sub(r\"'bout\", \"about\", text)\n",
    "    text = re.sub(r\"'til\", \"until\", text)\n",
    "    text = re.sub(r\"[-()\\\"#/@;:<>{}`+=~|.!?,]\", \"\", text)\n",
    "    text = text.translate(str.maketrans('', '', string.punctuation)) \n",
    "    text = re.sub(\"(\\\\W)\",\" \",text) \n",
    "    text = re.sub('\\S*\\d\\S*\\s*','', text)\n",
    "    text =  \"<sos> \" +  text + \" <eos>\"\n",
    "    return text\n",
    "    "
   ],
   "metadata": {
    "execution": {
     "iopub.status.busy": "2022-10-20T06:02:43.997155Z",
     "iopub.execute_input": "2022-10-20T06:02:43.997526Z",
     "iopub.status.idle": "2022-10-20T06:02:44.009449Z",
     "shell.execute_reply.started": "2022-10-20T06:02:43.997492Z",
     "shell.execute_reply": "2022-10-20T06:02:44.008366Z"
    },
    "trusted": true
   },
   "execution_count": 9,
   "outputs": []
  },
  {
   "cell_type": "code",
   "source": [
    "data[\"question\"][0]"
   ],
   "metadata": {
    "execution": {
     "iopub.status.busy": "2022-10-20T06:02:44.014317Z",
     "iopub.execute_input": "2022-10-20T06:02:44.014746Z",
     "iopub.status.idle": "2022-10-20T06:02:44.027739Z",
     "shell.execute_reply.started": "2022-10-20T06:02:44.014721Z",
     "shell.execute_reply": "2022-10-20T06:02:44.026621Z"
    },
    "trusted": true
   },
   "execution_count": 10,
   "outputs": [
    {
     "data": {
      "text/plain": "'hi, how are you doing?'"
     },
     "execution_count": 10,
     "metadata": {},
     "output_type": "execute_result"
    }
   ]
  },
  {
   "cell_type": "code",
   "source": [
    "data[\"question\"] = data.question.apply(clean_text)"
   ],
   "metadata": {
    "execution": {
     "iopub.status.busy": "2022-10-20T06:02:44.029284Z",
     "iopub.execute_input": "2022-10-20T06:02:44.029751Z",
     "iopub.status.idle": "2022-10-20T06:02:44.184007Z",
     "shell.execute_reply.started": "2022-10-20T06:02:44.029714Z",
     "shell.execute_reply": "2022-10-20T06:02:44.183023Z"
    },
    "trusted": true
   },
   "execution_count": 11,
   "outputs": []
  },
  {
   "cell_type": "code",
   "source": [
    "data[\"question\"][0]"
   ],
   "metadata": {
    "execution": {
     "iopub.status.busy": "2022-10-20T06:02:44.185346Z",
     "iopub.execute_input": "2022-10-20T06:02:44.185696Z",
     "iopub.status.idle": "2022-10-20T06:02:44.19474Z",
     "shell.execute_reply.started": "2022-10-20T06:02:44.185662Z",
     "shell.execute_reply": "2022-10-20T06:02:44.193721Z"
    },
    "trusted": true
   },
   "execution_count": 12,
   "outputs": [
    {
     "data": {
      "text/plain": "'<sos> hi how are you doing <eos>'"
     },
     "execution_count": 12,
     "metadata": {},
     "output_type": "execute_result"
    }
   ]
  },
  {
   "cell_type": "code",
   "source": [
    "data[\"answer\"] = data.answer.apply(clean_text)"
   ],
   "metadata": {
    "execution": {
     "iopub.status.busy": "2022-10-20T06:02:44.19613Z",
     "iopub.execute_input": "2022-10-20T06:02:44.197193Z",
     "iopub.status.idle": "2022-10-20T06:02:44.383305Z",
     "shell.execute_reply.started": "2022-10-20T06:02:44.197095Z",
     "shell.execute_reply": "2022-10-20T06:02:44.382251Z"
    },
    "trusted": true
   },
   "execution_count": 13,
   "outputs": []
  },
  {
   "cell_type": "code",
   "source": [
    "question  = data.question.values.tolist()\n",
    "answer =  data.answer.values.tolist()"
   ],
   "metadata": {
    "execution": {
     "iopub.status.busy": "2022-10-20T06:02:44.385347Z",
     "iopub.execute_input": "2022-10-20T06:02:44.38598Z",
     "iopub.status.idle": "2022-10-20T06:02:44.392561Z",
     "shell.execute_reply.started": "2022-10-20T06:02:44.385939Z",
     "shell.execute_reply": "2022-10-20T06:02:44.391351Z"
    },
    "trusted": true
   },
   "execution_count": 14,
   "outputs": []
  },
  {
   "cell_type": "code",
   "source": [
    "def tokenize(lang):\n",
    "    lang_tokenizer = tf.keras.preprocessing.text.Tokenizer(\n",
    "      filters='')\n",
    "    lang_tokenizer.fit_on_texts(lang)\n",
    "    tensor = lang_tokenizer.texts_to_sequences(lang)\n",
    "\n",
    "    tensor = tf.keras.preprocessing.sequence.pad_sequences(tensor,\n",
    "                                                         padding='post')\n",
    "\n",
    "    return tensor, lang_tokenizer"
   ],
   "metadata": {
    "execution": {
     "iopub.status.busy": "2022-10-20T06:02:44.393995Z",
     "iopub.execute_input": "2022-10-20T06:02:44.395657Z",
     "iopub.status.idle": "2022-10-20T06:02:44.403476Z",
     "shell.execute_reply.started": "2022-10-20T06:02:44.395617Z",
     "shell.execute_reply": "2022-10-20T06:02:44.40244Z"
    },
    "trusted": true
   },
   "execution_count": 15,
   "outputs": []
  },
  {
   "cell_type": "code",
   "source": [
    "input_tensor , inp_lang  =  tokenize(question)"
   ],
   "metadata": {
    "execution": {
     "iopub.status.busy": "2022-10-20T06:15:34.39732Z",
     "iopub.execute_input": "2022-10-20T06:15:34.397682Z",
     "iopub.status.idle": "2022-10-20T06:15:34.473597Z",
     "shell.execute_reply.started": "2022-10-20T06:15:34.397652Z",
     "shell.execute_reply": "2022-10-20T06:15:34.472681Z"
    },
    "trusted": true
   },
   "execution_count": 16,
   "outputs": []
  },
  {
   "cell_type": "code",
   "source": [
    "target_tensor , targ_lang  =  tokenize(answer)"
   ],
   "metadata": {
    "execution": {
     "iopub.status.busy": "2022-10-20T06:15:34.663458Z",
     "iopub.execute_input": "2022-10-20T06:15:34.663828Z",
     "iopub.status.idle": "2022-10-20T06:15:34.739215Z",
     "shell.execute_reply.started": "2022-10-20T06:15:34.663796Z",
     "shell.execute_reply": "2022-10-20T06:15:34.73822Z"
    },
    "trusted": true
   },
   "execution_count": 17,
   "outputs": []
  },
  {
   "cell_type": "code",
   "source": [
    " #len(inp_question) ==  len(inp_answer)"
   ],
   "metadata": {
    "execution": {
     "iopub.status.busy": "2022-10-20T06:15:35.417139Z",
     "iopub.execute_input": "2022-10-20T06:15:35.419386Z",
     "iopub.status.idle": "2022-10-20T06:15:35.425934Z",
     "shell.execute_reply.started": "2022-10-20T06:15:35.419335Z",
     "shell.execute_reply": "2022-10-20T06:15:35.42487Z"
    },
    "trusted": true
   },
   "execution_count": null,
   "outputs": []
  },
  {
   "cell_type": "code",
   "source": [
    "def remove_tags(sentence):\n",
    "    return sentence.split(\"<start>\")[-1].split(\"<end>\")[0]"
   ],
   "metadata": {
    "execution": {
     "iopub.status.busy": "2022-10-20T06:33:27.065969Z",
     "iopub.execute_input": "2022-10-20T06:33:27.066597Z",
     "iopub.status.idle": "2022-10-20T06:33:27.072788Z",
     "shell.execute_reply.started": "2022-10-20T06:33:27.066551Z",
     "shell.execute_reply": "2022-10-20T06:33:27.071679Z"
    },
    "trusted": true
   },
   "execution_count": 18,
   "outputs": []
  },
  {
   "cell_type": "code",
   "source": [
    "max_length_targ, max_length_inp = target_tensor.shape[1], input_tensor.shape[1]\n"
   ],
   "metadata": {
    "execution": {
     "iopub.status.busy": "2022-10-20T06:15:47.673377Z",
     "iopub.execute_input": "2022-10-20T06:15:47.673947Z",
     "iopub.status.idle": "2022-10-20T06:15:47.679008Z",
     "shell.execute_reply.started": "2022-10-20T06:15:47.673913Z",
     "shell.execute_reply": "2022-10-20T06:15:47.677894Z"
    },
    "trusted": true
   },
   "execution_count": 19,
   "outputs": []
  },
  {
   "cell_type": "code",
   "source": [
    "# Creating training and validation sets using an 80-20 split\n",
    "input_tensor_train, input_tensor_val, target_tensor_train, target_tensor_val = train_test_split(input_tensor, target_tensor, test_size=0.2)"
   ],
   "metadata": {
    "execution": {
     "iopub.status.busy": "2022-10-20T06:16:01.142896Z",
     "iopub.execute_input": "2022-10-20T06:16:01.14328Z",
     "iopub.status.idle": "2022-10-20T06:16:01.149642Z",
     "shell.execute_reply.started": "2022-10-20T06:16:01.143249Z",
     "shell.execute_reply": "2022-10-20T06:16:01.148704Z"
    },
    "trusted": true
   },
   "execution_count": 20,
   "outputs": []
  },
  {
   "cell_type": "code",
   "source": [
    "#print(len(train_inp) , len(val_inp) , len(train_target) , len(val_target))"
   ],
   "metadata": {
    "execution": {
     "iopub.status.busy": "2022-10-20T06:16:07.678214Z",
     "iopub.execute_input": "2022-10-20T06:16:07.678721Z",
     "iopub.status.idle": "2022-10-20T06:16:07.683848Z",
     "shell.execute_reply.started": "2022-10-20T06:16:07.678668Z",
     "shell.execute_reply": "2022-10-20T06:16:07.682797Z"
    },
    "trusted": true
   },
   "execution_count": null,
   "outputs": []
  },
  {
   "cell_type": "code",
   "source": [
    "BUFFER_SIZE = len(input_tensor_train)\n",
    "BATCH_SIZE = 64\n",
    "steps_per_epoch = len(input_tensor_train)//BATCH_SIZE\n",
    "embedding_dim = 256\n",
    "units = 1024\n",
    "vocab_inp_size = len(inp_lang.word_index)+1\n",
    "vocab_tar_size = len(targ_lang.word_index)+1\n",
    "\n",
    "dataset = tf.data.Dataset.from_tensor_slices((input_tensor_train, target_tensor_train)).shuffle(BUFFER_SIZE)\n",
    "dataset = dataset.batch(BATCH_SIZE, drop_remainder=True)\n",
    "\n",
    "example_input_batch, example_target_batch = next(iter(dataset))\n",
    "example_input_batch.shape, example_target_batch.shape"
   ],
   "metadata": {
    "execution": {
     "iopub.status.busy": "2022-10-20T06:16:34.899618Z",
     "iopub.execute_input": "2022-10-20T06:16:34.900102Z",
     "iopub.status.idle": "2022-10-20T06:16:34.935241Z",
     "shell.execute_reply.started": "2022-10-20T06:16:34.900035Z",
     "shell.execute_reply": "2022-10-20T06:16:34.934286Z"
    },
    "trusted": true
   },
   "execution_count": 21,
   "outputs": [
    {
     "data": {
      "text/plain": "(TensorShape([64, 22]), TensorShape([64, 22]))"
     },
     "execution_count": 21,
     "metadata": {},
     "output_type": "execute_result"
    }
   ]
  },
  {
   "cell_type": "code",
   "source": [
    "class Encoder(tf.keras.Model):\n",
    "    def __init__(self, vocab_size, embedding_dim, enc_units, batch_sz):\n",
    "        super(Encoder, self).__init__()\n",
    "        self.batch_sz = batch_sz\n",
    "        self.enc_units = enc_units\n",
    "        self.embedding = tf.keras.layers.Embedding(vocab_size, embedding_dim)\n",
    "        self.gru = tf.keras.layers.GRU(self.enc_units,\n",
    "                                       return_sequences=True,\n",
    "                                       return_state=True,\n",
    "                                       recurrent_initializer='glorot_uniform')\n",
    "\n",
    "    def call(self, x,hidden):\n",
    "        x = self.embedding(x)\n",
    "        output, state = self.gru(x, initial_state = hidden)\n",
    "        return output, state\n",
    "    \n",
    "    def initialize_hidden_state(self):\n",
    "        return tf.zeros((self.batch_sz, self.enc_units))"
   ],
   "metadata": {
    "execution": {
     "iopub.status.busy": "2022-10-20T06:16:40.581002Z",
     "iopub.execute_input": "2022-10-20T06:16:40.58149Z",
     "iopub.status.idle": "2022-10-20T06:16:40.589286Z",
     "shell.execute_reply.started": "2022-10-20T06:16:40.581448Z",
     "shell.execute_reply": "2022-10-20T06:16:40.588137Z"
    },
    "trusted": true
   },
   "execution_count": 22,
   "outputs": []
  },
  {
   "cell_type": "code",
   "source": [
    "encoder = Encoder(vocab_inp_size, embedding_dim, units, BATCH_SIZE)\n",
    "\n",
    "# sample input\n",
    "sample_hidden = encoder.initialize_hidden_state()\n",
    "sample_output, sample_hidden = encoder(example_input_batch, sample_hidden)\n",
    "print ('Encoder output shape: (batch size, sequence length, units) {}'.format(sample_output.shape))\n",
    "print ('Encoder Hidden state shape: (batch size, units) {}'.format(sample_hidden.shape))"
   ],
   "metadata": {
    "execution": {
     "iopub.status.busy": "2022-10-20T06:16:44.99493Z",
     "iopub.execute_input": "2022-10-20T06:16:44.997682Z",
     "iopub.status.idle": "2022-10-20T06:16:45.019996Z",
     "shell.execute_reply.started": "2022-10-20T06:16:44.997633Z",
     "shell.execute_reply": "2022-10-20T06:16:45.019099Z"
    },
    "trusted": true
   },
   "execution_count": 23,
   "outputs": [
    {
     "name": "stdout",
     "output_type": "stream",
     "text": [
      "WARNING:tensorflow:From D:\\MyWork\\DataScience\\HRChatBot\\env\\lib\\site-packages\\keras\\src\\backend.py:873: The name tf.get_default_graph is deprecated. Please use tf.compat.v1.get_default_graph instead.\n",
      "\n",
      "Encoder output shape: (batch size, sequence length, units) (64, 22, 1024)\n",
      "Encoder Hidden state shape: (batch size, units) (64, 1024)\n"
     ]
    }
   ]
  },
  {
   "cell_type": "code",
   "source": [
    "class BahdanauAttention(tf.keras.layers.Layer):\n",
    "    def __init__(self, units):\n",
    "        super(BahdanauAttention, self).__init__()\n",
    "        self.W1 = tf.keras.layers.Dense(units)\n",
    "        self.W2 = tf.keras.layers.Dense(units)\n",
    "        self.V = tf.keras.layers.Dense(1)\n",
    "\n",
    "    def call(self, query, values):\n",
    "        # query hidden state shape == (batch_size, hidden size)\n",
    "        # query_with_time_axis shape == (batch_size, 1, hidden size)\n",
    "        # values shape == (batch_size, max_len, hidden size)\n",
    "        # we are doing this to broadcast addition along the time axis to calculate the score\n",
    "        query_with_time_axis = tf.expand_dims(query, 1)\n",
    "\n",
    "        # score shape == (batch_size, max_length, 1)\n",
    "        # we get 1 at the last axis because we are applying score to self.V\n",
    "        # the shape of the tensor before applying self.V is (batch_size, max_length, units)\n",
    "        score = self.V(tf.nn.tanh(\n",
    "            self.W1(query_with_time_axis) + self.W2(values)))\n",
    "\n",
    "        # attention_weights shape == (batch_size, max_length, 1)\n",
    "        attention_weights = tf.nn.softmax(score, axis=1)\n",
    "\n",
    "        # context_vector shape after sum == (batch_size, hidden_size)\n",
    "        context_vector = attention_weights * values\n",
    "        context_vector = tf.reduce_sum(context_vector, axis=1)\n",
    "\n",
    "        return context_vector, attention_weights"
   ],
   "metadata": {
    "execution": {
     "iopub.status.busy": "2022-10-20T06:16:48.795972Z",
     "iopub.execute_input": "2022-10-20T06:16:48.796632Z",
     "iopub.status.idle": "2022-10-20T06:16:48.807391Z",
     "shell.execute_reply.started": "2022-10-20T06:16:48.796594Z",
     "shell.execute_reply": "2022-10-20T06:16:48.80623Z"
    },
    "trusted": true
   },
   "execution_count": 24,
   "outputs": []
  },
  {
   "cell_type": "code",
   "source": [
    "attention_layer = BahdanauAttention(10)\n",
    "attention_result, attention_weights = attention_layer(sample_hidden, sample_output)\n",
    "\n",
    "print(\"Attention result shape: (batch size, units) {}\".format(attention_result.shape))\n",
    "print(\"Attention weights shape: (batch_size, sequence_length, 1) {}\".format(attention_weights.shape))"
   ],
   "metadata": {
    "execution": {
     "iopub.status.busy": "2022-10-20T06:16:51.167367Z",
     "iopub.execute_input": "2022-10-20T06:16:51.167736Z",
     "iopub.status.idle": "2022-10-20T06:16:51.197868Z",
     "shell.execute_reply.started": "2022-10-20T06:16:51.167705Z",
     "shell.execute_reply": "2022-10-20T06:16:51.197017Z"
    },
    "trusted": true
   },
   "execution_count": 25,
   "outputs": [
    {
     "name": "stdout",
     "output_type": "stream",
     "text": [
      "Attention result shape: (batch size, units) (64, 1024)\n",
      "Attention weights shape: (batch_size, sequence_length, 1) (64, 22, 1)\n"
     ]
    }
   ]
  },
  {
   "cell_type": "code",
   "source": [
    "class Decoder(tf.keras.Model):\n",
    "    def __init__(self, vocab_size, embedding_dim, dec_units, batch_sz):\n",
    "        super(Decoder, self).__init__()\n",
    "        self.batch_sz = batch_sz\n",
    "        self.dec_units = dec_units\n",
    "        self.embedding = tf.keras.layers.Embedding(vocab_size, embedding_dim)\n",
    "        self.gru = tf.keras.layers.GRU(self.dec_units,\n",
    "                                       return_sequences=True,\n",
    "                                       return_state=True,\n",
    "                                       recurrent_initializer='glorot_uniform')\n",
    "        self.fc = tf.keras.layers.Dense(vocab_size)\n",
    "\n",
    "        # used for attention\n",
    "        self.attention = BahdanauAttention(self.dec_units)\n",
    "\n",
    "    def call(self, x, hidden, enc_output):\n",
    "        # enc_output shape == (batch_size, max_length, hidden_size)\n",
    "        context_vector, attention_weights = self.attention(hidden, enc_output)\n",
    "\n",
    "        # x shape after passing through embedding == (batch_size, 1, embedding_dim)\n",
    "        x = self.embedding(x)\n",
    "\n",
    "        # x shape after concatenation == (batch_size, 1, embedding_dim + hidden_size)\n",
    "        x = tf.concat([tf.expand_dims(context_vector, 1), x], axis=-1)\n",
    "\n",
    "        # passing the concatenated vector to the GRU\n",
    "        output, state = self.gru(x)\n",
    "\n",
    "        # output shape == (batch_size * 1, hidden_size)\n",
    "        output = tf.reshape(output, (-1, output.shape[2]))\n",
    "\n",
    "        # output shape == (batch_size, vocab)\n",
    "        x = self.fc(output)\n",
    "\n",
    "        return x, state, attention_weights\n"
   ],
   "metadata": {
    "execution": {
     "iopub.status.busy": "2022-10-20T06:16:52.032599Z",
     "iopub.execute_input": "2022-10-20T06:16:52.035428Z",
     "iopub.status.idle": "2022-10-20T06:16:52.045288Z",
     "shell.execute_reply.started": "2022-10-20T06:16:52.035388Z",
     "shell.execute_reply": "2022-10-20T06:16:52.04422Z"
    },
    "trusted": true
   },
   "execution_count": 26,
   "outputs": []
  },
  {
   "cell_type": "code",
   "source": [
    "decoder = Decoder(vocab_tar_size, embedding_dim, units, BATCH_SIZE)\n",
    "\n",
    "sample_decoder_output, _, _ = decoder(tf.random.uniform((BATCH_SIZE, 1)),\n",
    "                                      sample_hidden, sample_output)\n",
    "\n",
    "print ('Decoder output shape: (batch_size, vocab size) {}'.format(sample_decoder_output.shape))"
   ],
   "metadata": {
    "execution": {
     "iopub.status.busy": "2022-10-20T06:16:55.523169Z",
     "iopub.execute_input": "2022-10-20T06:16:55.523534Z",
     "iopub.status.idle": "2022-10-20T06:16:55.559251Z",
     "shell.execute_reply.started": "2022-10-20T06:16:55.523502Z",
     "shell.execute_reply": "2022-10-20T06:16:55.558216Z"
    },
    "trusted": true
   },
   "execution_count": 27,
   "outputs": [
    {
     "name": "stdout",
     "output_type": "stream",
     "text": [
      "Decoder output shape: (batch_size, vocab size) (64, 2357)\n"
     ]
    }
   ]
  },
  {
   "cell_type": "code",
   "source": [
    "optimizer = tf.keras.optimizers.Adam()\n",
    "loss_object = tf.keras.losses.SparseCategoricalCrossentropy(\n",
    "    from_logits=True, reduction='none')\n",
    "\n",
    "def loss_function(real, pred):\n",
    "    mask = tf.math.logical_not(tf.math.equal(real, 0))\n",
    "    loss_ = loss_object(real, pred)\n",
    "\n",
    "    mask = tf.cast(mask, dtype=loss_.dtype)\n",
    "    loss_ *= mask\n",
    "\n",
    "    return tf.reduce_mean(loss_)"
   ],
   "metadata": {
    "execution": {
     "iopub.status.busy": "2022-10-20T06:16:56.163988Z",
     "iopub.execute_input": "2022-10-20T06:16:56.16481Z",
     "iopub.status.idle": "2022-10-20T06:16:56.174297Z",
     "shell.execute_reply.started": "2022-10-20T06:16:56.164776Z",
     "shell.execute_reply": "2022-10-20T06:16:56.173121Z"
    },
    "trusted": true
   },
   "execution_count": 28,
   "outputs": []
  },
  {
   "cell_type": "code",
   "source": [
    "@tf.function\n",
    "def train_step(inp, targ, enc_hidden):\n",
    "    loss = 0\n",
    "\n",
    "    with tf.GradientTape() as tape:\n",
    "        enc_output, enc_hidden = encoder(inp, enc_hidden)\n",
    "\n",
    "        dec_hidden = enc_hidden\n",
    "\n",
    "        dec_input = tf.expand_dims([targ_lang.word_index['<sos>']] * BATCH_SIZE, 1)\n",
    "\n",
    "        # Teacher forcing - feeding the target as the next input\n",
    "        for t in range(1, targ.shape[1]):\n",
    "            # passing enc_output to the decoder\n",
    "            predictions, dec_hidden, _ = decoder(dec_input, dec_hidden, enc_output)\n",
    "\n",
    "            loss += loss_function(targ[:, t], predictions)\n",
    "\n",
    "            # using teacher forcing\n",
    "            dec_input = tf.expand_dims(targ[:, t], 1)\n",
    "\n",
    "    batch_loss = (loss / int(targ.shape[1]))\n",
    "\n",
    "    variables = encoder.trainable_variables + decoder.trainable_variables\n",
    "\n",
    "    gradients = tape.gradient(loss, variables)\n",
    "\n",
    "    optimizer.apply_gradients(zip(gradients, variables))\n",
    "\n",
    "    return batch_loss"
   ],
   "metadata": {
    "execution": {
     "iopub.status.busy": "2022-10-20T06:17:49.395072Z",
     "iopub.execute_input": "2022-10-20T06:17:49.395749Z",
     "iopub.status.idle": "2022-10-20T06:17:49.407607Z",
     "shell.execute_reply.started": "2022-10-20T06:17:49.395713Z",
     "shell.execute_reply": "2022-10-20T06:17:49.406291Z"
    },
    "trusted": true
   },
   "execution_count": 29,
   "outputs": []
  },
  {
   "cell_type": "code",
   "source": [
    "EPOCHS = 40\n",
    "\n",
    "for epoch in range(1, EPOCHS + 1):\n",
    "    enc_hidden = encoder.initialize_hidden_state()\n",
    "    total_loss = 0\n",
    "\n",
    "    for (batch, (inp, targ)) in enumerate(dataset.take(steps_per_epoch)):\n",
    "        batch_loss = train_step(inp, targ, enc_hidden)\n",
    "        total_loss += batch_loss\n",
    "\n",
    "    if(epoch % 4 == 0):\n",
    "        print('Epoch:{:3d} Loss:{:.4f}'.format(epoch,\n",
    "                                          total_loss / steps_per_epoch))"
   ],
   "metadata": {
    "execution": {
     "iopub.status.busy": "2022-10-20T06:17:54.907521Z",
     "iopub.execute_input": "2022-10-20T06:17:54.9084Z",
     "iopub.status.idle": "2022-10-20T06:21:26.661301Z",
     "shell.execute_reply.started": "2022-10-20T06:17:54.908363Z",
     "shell.execute_reply": "2022-10-20T06:21:26.660119Z"
    },
    "trusted": true
   },
   "execution_count": 30,
   "outputs": [
    {
     "name": "stdout",
     "output_type": "stream",
     "text": [
      "Epoch:  4 Loss:1.5705\n",
      "Epoch:  8 Loss:1.3377\n",
      "Epoch: 12 Loss:1.1582\n",
      "Epoch: 16 Loss:0.9987\n",
      "Epoch: 20 Loss:0.8338\n",
      "Epoch: 24 Loss:0.6514\n",
      "Epoch: 28 Loss:0.4636\n",
      "Epoch: 32 Loss:0.2744\n",
      "Epoch: 36 Loss:0.1391\n",
      "Epoch: 40 Loss:0.0645\n"
     ]
    }
   ]
  },
  {
   "cell_type": "code",
   "source": [
    "def evaluate(sentence):\n",
    "    sentence = clean_text(sentence)\n",
    "\n",
    "    inputs = [inp_lang.word_index[i] for i in sentence.split(' ')]\n",
    "    inputs = tf.keras.preprocessing.sequence.pad_sequences([inputs],\n",
    "                                                         maxlen=max_length_inp,\n",
    "                                                         padding='post')\n",
    "    inputs = tf.convert_to_tensor(inputs)\n",
    "\n",
    "    result = ''\n",
    "\n",
    "    hidden = [tf.zeros((1, units))]\n",
    "    enc_out, enc_hidden = encoder(inputs, hidden)\n",
    "\n",
    "    dec_hidden = enc_hidden\n",
    "    dec_input = tf.expand_dims([targ_lang.word_index['<sos>']], 0)\n",
    "\n",
    "    for t in range(max_length_targ):\n",
    "        predictions, dec_hidden, attention_weights = decoder(dec_input,\n",
    "                                                             dec_hidden,\n",
    "                                                             enc_out)\n",
    "\n",
    "        # storing the attention weights to plot later on\n",
    "        attention_weights = tf.reshape(attention_weights, (-1, ))\n",
    "\n",
    "        predicted_id = tf.argmax(predictions[0]).numpy()\n",
    "\n",
    "        result += targ_lang.index_word[predicted_id] + ' '\n",
    "\n",
    "        if targ_lang.index_word[predicted_id] == '<eos>':\n",
    "            return remove_tags(result), remove_tags(sentence)\n",
    "\n",
    "        # the predicted ID is fed back into the model\n",
    "        dec_input = tf.expand_dims([predicted_id], 0)\n",
    "\n",
    "    return remove_tags(result), remove_tags(sentence)"
   ],
   "metadata": {
    "execution": {
     "iopub.status.busy": "2022-10-20T06:21:43.834926Z",
     "iopub.execute_input": "2022-10-20T06:21:43.835631Z",
     "iopub.status.idle": "2022-10-20T06:21:43.847194Z",
     "shell.execute_reply.started": "2022-10-20T06:21:43.835587Z",
     "shell.execute_reply": "2022-10-20T06:21:43.844922Z"
    },
    "trusted": true
   },
   "execution_count": 31,
   "outputs": []
  },
  {
   "cell_type": "code",
   "source": [
    "questions  =[]\n",
    "answers = []\n",
    "with open(\"data/chat.txt\",'r') as f :\n",
    "    for line in f :\n",
    "        line  =  line.split('\\t')\n",
    "        questions.append(line[0])\n",
    "        answers.append(line[1])\n",
    "print(len(question) == len(answer))"
   ],
   "metadata": {
    "execution": {
     "iopub.status.busy": "2022-10-20T06:23:46.10979Z",
     "iopub.execute_input": "2022-10-20T06:23:46.110189Z",
     "iopub.status.idle": "2022-10-20T06:23:46.12512Z",
     "shell.execute_reply.started": "2022-10-20T06:23:46.110157Z",
     "shell.execute_reply": "2022-10-20T06:23:46.123716Z"
    },
    "trusted": true
   },
   "execution_count": 32,
   "outputs": [
    {
     "name": "stdout",
     "output_type": "stream",
     "text": [
      "True\n"
     ]
    }
   ]
  },
  {
   "cell_type": "code",
   "source": [
    "def ask(sentence):\n",
    "    result, sentence = evaluate(sentence)\n",
    "\n",
    "    print('Question: %s' % (sentence))\n",
    "    print('Predicted answer: {}'.format(result))\n",
    "ask(questions[100])"
   ],
   "metadata": {
    "execution": {
     "iopub.status.busy": "2023-11-29T08:26:23.139714Z",
     "iopub.execute_input": "2023-11-29T08:26:23.140675Z",
     "iopub.status.idle": "2023-11-29T08:26:23.156954Z",
     "shell.execute_reply.started": "2023-11-29T08:26:23.140635Z",
     "shell.execute_reply": "2023-11-29T08:26:23.155519Z"
    },
    "trusted": true
   },
   "execution_count": 33,
   "outputs": [
    {
     "name": "stdout",
     "output_type": "stream",
     "text": [
      "Question: <sos> i believe so <eos>\n",
      "Predicted answer: good i hope it does not cool off this weekend <eos> \n"
     ]
    }
   ]
  },
  {
   "cell_type": "code",
   "source": [
    "\n",
    "question_lengths = [len(q.split()) for q in question]\n",
    "\n",
    "# Plotting the distribution\n",
    "plt.hist(question_lengths, bins=20, color='skyblue', edgecolor='black')\n",
    "plt.title('Distribution of Question Lengths')\n",
    "plt.xlabel('Number of Words in Question')\n",
    "plt.ylabel('Frequency')\n",
    "plt.show()"
   ],
   "metadata": {
    "execution": {
     "iopub.status.busy": "2023-11-29T08:27:09.375733Z",
     "iopub.execute_input": "2023-11-29T08:27:09.377002Z",
     "iopub.status.idle": "2023-11-29T08:27:09.680155Z",
     "shell.execute_reply.started": "2023-11-29T08:27:09.376951Z",
     "shell.execute_reply": "2023-11-29T08:27:09.679066Z"
    },
    "trusted": true
   },
   "execution_count": 34,
   "outputs": [
    {
     "data": {
      "text/plain": "<Figure size 640x480 with 1 Axes>",
      "image/png": "[encoded data removed]"
     },
     "metadata": {},
     "output_type": "display_data"
    }
   ]
  },
  {
   "cell_type": "code",
   "source": [
    "print(answers[50])"
   ],
   "metadata": {
    "execution": {
     "iopub.status.busy": "2022-10-20T06:24:45.690708Z",
     "iopub.execute_input": "2022-10-20T06:24:45.69109Z",
     "iopub.status.idle": "2022-10-20T06:24:45.696803Z",
     "shell.execute_reply.started": "2022-10-20T06:24:45.691038Z",
     "shell.execute_reply": "2022-10-20T06:24:45.695602Z"
    },
    "trusted": true
   },
   "execution_count": 35,
   "outputs": [
    {
     "name": "stdout",
     "output_type": "stream",
     "text": [
      "that's how i feel, i want winter to come soon.\n",
      "\n"
     ]
    }
   ]
  },
  {
   "cell_type": "code",
   "source": [
    "# Assuming 'answer' is a list containing your answers\n",
    "answer_lengths = [len(a.split()) for a in answer]\n",
    "\n",
    "# Plotting the distribution\n",
    "plt.hist(answer_lengths, bins=20, color='lightcoral', edgecolor='black')\n",
    "plt.title('Distribution of Answer Lengths')\n",
    "plt.xlabel('Number of Words in Answer')\n",
    "plt.ylabel('Frequency')\n",
    "plt.show()"
   ],
   "metadata": {
    "execution": {
     "iopub.status.busy": "2023-11-29T08:30:22.889553Z",
     "iopub.execute_input": "2023-11-29T08:30:22.89054Z",
     "iopub.status.idle": "2023-11-29T08:30:23.180791Z",
     "shell.execute_reply.started": "2023-11-29T08:30:22.890503Z",
     "shell.execute_reply": "2023-11-29T08:30:23.179889Z"
    },
    "trusted": true
   },
   "execution_count": 36,
   "outputs": [
    {
     "data": {
      "text/plain": "<Figure size 640x480 with 1 Axes>",
      "image/png": "[encoded data removed]"
     },
     "metadata": {},
     "output_type": "display_data"
    }
   ]
  },
  {
   "cell_type": "code",
   "source": [
    "all_questions = ' '.join(question)\n",
    "all_answers = ' '.join(answer)\n",
    "\n",
    "# Function to preprocess text (remove punctuation and convert to lowercase)\n",
    "def preprocess_text(text):\n",
    "    text = re.sub(r'[^\\w\\s]', '', text)  # Remove punctuation\n",
    "    text = text.lower()  # Convert to lowercase\n",
    "    return text\n",
    "\n",
    "# Preprocess the text\n",
    "all_questions = preprocess_text(all_questions)\n",
    "all_answers = preprocess_text(all_answers)\n",
    "\n",
    "# Tokenize the text\n",
    "question_tokens = all_questions.split()\n",
    "answer_tokens = all_answers.split()\n",
    "\n",
    "# Calculate the most frequent words\n",
    "question_word_freq = Counter(question_tokens)\n",
    "answer_word_freq = Counter(answer_tokens)\n",
    "\n",
    "# Display the most common words\n",
    "print(\"Top 10 most frequent words in questions:\")\n",
    "print(question_word_freq.most_common(10))\n",
    "\n",
    "print(\"\\nTop 10 most frequent words in answers:\")\n",
    "print(answer_word_freq.most_common(10))\n",
    "\n",
    "# Plotting the distribution of the most frequent words\n",
    "def plot_word_frequency(word_freq, title):\n",
    "    words, counts = zip(*word_freq.most_common(10))\n",
    "    plt.bar(words, counts, color='lightskyblue')\n",
    "    plt.title(title)\n",
    "    plt.xlabel('Words')\n",
    "    plt.ylabel('Frequency')\n",
    "    plt.show()\n",
    "\n",
    "# Plot the distribution of the most frequent words\n",
    "plot_word_frequency(question_word_freq, 'Top 10 most frequent words in questions')\n",
    "plot_word_frequency(answer_word_freq, 'Top 10 most frequent words in answers')"
   ],
   "metadata": {
    "execution": {
     "iopub.status.busy": "2023-11-29T08:31:38.946907Z",
     "iopub.execute_input": "2023-11-29T08:31:38.947356Z",
     "iopub.status.idle": "2023-11-29T08:31:39.409014Z",
     "shell.execute_reply.started": "2023-11-29T08:31:38.947319Z",
     "shell.execute_reply": "2023-11-29T08:31:39.408102Z"
    },
    "trusted": true
   },
   "execution_count": 37,
   "outputs": [
    {
     "name": "stdout",
     "output_type": "stream",
     "text": [
      "Top 10 most frequent words in questions:\n",
      "[('sos', 3725), ('eos', 3725), ('i', 1270), ('you', 972), ('the', 764), ('is', 710), ('to', 683), ('it', 652), ('a', 636), ('that', 522)]\n",
      "\n",
      "Top 10 most frequent words in answers:\n",
      "[('sos', 3725), ('eos', 3725), ('i', 1284), ('you', 959), ('the', 760), ('it', 694), ('is', 690), ('to', 668), ('a', 651), ('that', 524)]\n"
     ]
    },
    {
     "data": {
      "text/plain": "<Figure size 640x480 with 1 Axes>",
      "image/png": "[encoded data removed]"
     },
     "metadata": {},
     "output_type": "display_data"
    },
    {
     "data": {
      "text/plain": "<Figure size 640x480 with 1 Axes>",
      "image/png": "[encoded data removed]"
     },
     "metadata": {},
     "output_type": "display_data"
    }
   ]
  },
  {
   "cell_type": "code",
   "source": [
    "# Download the VADER sentiment analysis model (if not already downloaded)\n",
    "nltk.download('vader_lexicon')\n",
    "\n",
    "# Assuming 'answer' is a list containing your answers\n",
    "all_answers = ' '.join(answer)\n",
    "\n",
    "# Function to get sentiment polarity\n",
    "def get_sentiment_polarity(text):\n",
    "    sid = SentimentIntensityAnalyzer()\n",
    "    sentiment_scores = sid.polarity_scores(text)\n",
    "    # Classify the compound score as positive, negative, or neutral\n",
    "    if sentiment_scores['compound'] >= 0.05:\n",
    "        return 'positive'\n",
    "    elif sentiment_scores['compound'] <= -0.05:\n",
    "        return 'negative'\n",
    "    else:\n",
    "        return 'neutral'\n",
    "\n",
    "# Apply sentiment analysis to each answer\n",
    "answer_sentiments = [get_sentiment_polarity(a) for a in answer]\n",
    "\n",
    "# Count the occurrences of each sentiment\n",
    "sentiment_counts = Counter(answer_sentiments)\n",
    "\n",
    "# Plotting the distribution of sentiments\n",
    "labels, counts = zip(*sentiment_counts.items())\n",
    "colors = ['lightgreen', 'lightcoral', 'lightskyblue']\n",
    "\n",
    "plt.pie(counts, labels=labels, colors=colors, autopct='%1.1f%%', startangle=140)\n",
    "plt.title('Distribution of Sentiments in Answers')\n",
    "plt.show()"
   ],
   "metadata": {
    "execution": {
     "iopub.status.busy": "2023-11-29T08:33:42.466368Z",
     "iopub.execute_input": "2023-11-29T08:33:42.467121Z",
     "iopub.status.idle": "2023-11-29T08:34:15.230068Z",
     "shell.execute_reply.started": "2023-11-29T08:33:42.467082Z",
     "shell.execute_reply": "2023-11-29T08:34:15.229099Z"
    },
    "trusted": true
   },
   "execution_count": 38,
   "outputs": [
    {
     "name": "stderr",
     "output_type": "stream",
     "text": [
      "[nltk_data] Downloading package vader_lexicon to\n",
      "[nltk_data]     C:\\Users\\chama\\AppData\\Roaming\\nltk_data...\n"
     ]
    },
    {
     "data": {
      "text/plain": "<Figure size 640x480 with 1 Axes>",
      "image/png": "[encoded data removed]"
     },
     "metadata": {},
     "output_type": "display_data"
    }
   ]
  },
  {
   "cell_type": "code",
   "source": [
    "# Assuming 'question' and 'answer' are lists containing your questions and answers\n",
    "all_questions = ' '.join(question)\n",
    "all_answers = ' '.join(answer)\n",
    "\n",
    "# Function to get n-grams\n",
    "def get_ngrams(text, n):\n",
    "    tokens = nltk.word_tokenize(text)\n",
    "    return list(ngrams(tokens, n))\n",
    "\n",
    "# Function to get common n-grams\n",
    "def get_common_ngrams(text, n, top_n=10):\n",
    "    ngram_list = get_ngrams(text, n)\n",
    "    ngram_counts = Counter(ngram_list)\n",
    "    return ngram_counts.most_common(top_n)\n",
    "\n",
    "# Specify the value of n for n-grams\n",
    "n_value = 2  # You can change this to 3, 4, etc., for different n-grams\n",
    "\n",
    "# Get common n-grams for questions and answers\n",
    "common_question_ngrams = get_common_ngrams(all_questions, n_value)\n",
    "common_answer_ngrams = get_common_ngrams(all_answers, n_value)\n",
    "\n",
    "# Display common n-grams\n",
    "print(f\"Top {n_value}-grams in questions:\")\n",
    "print(common_question_ngrams)\n",
    "\n",
    "print(f\"\\nTop {n_value}-grams in answers:\")\n",
    "print(common_answer_ngrams)"
   ],
   "metadata": {
    "execution": {
     "iopub.status.busy": "2023-11-29T08:34:21.473342Z",
     "iopub.execute_input": "2023-11-29T08:34:21.474315Z",
     "iopub.status.idle": "2023-11-29T08:34:22.688421Z",
     "shell.execute_reply.started": "2023-11-29T08:34:21.474277Z",
     "shell.execute_reply": "2023-11-29T08:34:22.687399Z"
    },
    "trusted": true
   },
   "execution_count": 39,
   "outputs": [
    {
     "name": "stdout",
     "output_type": "stream",
     "text": [
      "Top 2-grams in questions:\n",
      "[(('<', 'sos'), 3725), (('sos', '>'), 3725), (('<', 'eos'), 3725), (('eos', '>'), 3725), (('>', '<'), 3725), (('>', 'i'), 782), (('>', 'that'), 218), (('that', 'is'), 215), (('it', 'is'), 195), (('>', 'what'), 181)]\n",
      "\n",
      "Top 2-grams in answers:\n",
      "[(('<', 'sos'), 3725), (('sos', '>'), 3725), (('<', 'eos'), 3725), (('eos', '>'), 3725), (('>', '<'), 3725), (('>', 'i'), 738), (('that', 'is'), 215), (('>', 'that'), 211), (('it', 'is'), 197), (('>', 'it'), 167)]\n"
     ]
    }
   ]
  },
  {
   "cell_type": "code",
   "source": [],
   "metadata": {},
   "execution_count": null,
   "outputs": []
  }
 ]
}
