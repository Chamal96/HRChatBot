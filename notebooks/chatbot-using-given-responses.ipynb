{
 "metadata": {
  "kernelspec": {
   "language": "python",
   "display_name": "Python 3",
   "name": "python3"
  },
  "language_info": {
   "pygments_lexer": "ipython3",
   "nbconvert_exporter": "python",
   "version": "3.6.4",
   "file_extension": ".py",
   "codemirror_mode": {
    "name": "ipython",
    "version": 3
   },
   "name": "python",
   "mimetype": "text/x-python"
  },
  "kaggle": {
   "accelerator": "none",
   "dataSources": [
    {
     "sourceId": 1582026,
     "sourceType": "datasetVersion",
     "datasetId": 935560
    }
   ],
   "dockerImageVersionId": 30035,
   "isInternetEnabled": false,
   "language": "python",
   "sourceType": "notebook",
   "isGpuEnabled": false
  }
 },
 "nbformat_minor": 4,
 "nbformat": 4,
 "cells": [
  {
   "cell_type": "markdown",
   "source": [
    "# ChatBot using the Given Data"
   ],
   "metadata": {}
  },
  {
   "cell_type": "code",
   "source": [
    "import pandas as pd\n",
    "import json\n",
    "from sklearn.feature_extraction.text import CountVectorizer\n",
    "from scipy.spatial import distance\n",
    "import pickle"
   ],
   "metadata": {
    "_uuid": "8f2839f25d086af736a60e9eeb907d3b93b6e0e5",
    "_cell_guid": "b1076dfc-b9ad-4769-8c92-a6c4dae69d19",
    "trusted": true
   },
   "execution_count": 1,
   "outputs": []
  },
  {
   "cell_type": "markdown",
   "source": [
    "# Creating Dataset"
   ],
   "metadata": {}
  },
  {
   "cell_type": "code",
   "source": [
    "# Load the dataset\n",
    "with open('../data/chat/chat_18-28.json') as json_file:\n",
    "    data = json.load(json_file)\n",
    "data = data['intents']"
   ],
   "metadata": {
    "trusted": true
   },
   "execution_count": 2,
   "outputs": []
  },
  {
   "cell_type": "markdown",
   "source": [
    "# Cosine Distance for Similarity of Texts"
   ],
   "metadata": {}
  },
  {
   "cell_type": "code",
   "source": [
    "# Convert the JSON data into a DataFrame\n",
    "rows = []\n",
    "for i in data:\n",
    "    intent = i['intent']\n",
    "    for t, r in zip(i['text'], i['responses']):\n",
    "        row = {'intent': intent, 'text': t, 'response': r}\n",
    "        rows.append(row)\n",
    "dataset = pd.DataFrame(rows)"
   ],
   "metadata": {
    "trusted": true
   },
   "execution_count": 3,
   "outputs": []
  },
  {
   "cell_type": "markdown",
   "source": [
    "# Finding Response\n",
    "\n",
    "The following function will find the most suitable reponse using the cosine distance to find the closest match to the input in the text field and giving the corresponding response."
   ],
   "metadata": {}
  },
  {
   "cell_type": "code",
   "source": [
    "# Define cosine distance function\n",
    "def cosine_distance_countvectorizer_method(s1, s2):\n",
    "    all_sentences = [s1, s2]\n",
    "    vectorizer = CountVectorizer()\n",
    "    all_sentences_to_vector = vectorizer.fit_transform(all_sentences)\n",
    "    text_to_vector_v1 = all_sentences_to_vector.toarray()[0].tolist()\n",
    "    text_to_vector_v2 = all_sentences_to_vector.toarray()[1].tolist()\n",
    "    cosine = distance.cosine(text_to_vector_v1, text_to_vector_v2)\n",
    "    return round((1 - cosine), 2)"
   ],
   "metadata": {
    "trusted": true
   },
   "execution_count": 4,
   "outputs": []
  },
  {
   "cell_type": "markdown",
   "source": [
    "# Chat"
   ],
   "metadata": {}
  },
  {
   "cell_type": "code",
   "source": [
    "# Function to respond to user input\n",
    "def respond(text):\n",
    "    maximum = float('-inf')\n",
    "    response = \"\"\n",
    "    closest = \"\"\n",
    "    for i in dataset.iterrows():\n",
    "        sim = cosine_distance_countvectorizer_method(text, i[1]['text'])\n",
    "        if sim > maximum:\n",
    "            maximum = sim\n",
    "            response = i[1]['response']\n",
    "            closest = i[1]['text']\n",
    "    return response"
   ],
   "metadata": {
    "trusted": true
   },
   "execution_count": 5,
   "outputs": []
  },
  {
   "cell_type": "code",
   "execution_count": 6,
   "outputs": [],
   "source": [
    "# Save the model and dataset\n",
    "with open(\"../models/cosine_model.pkl\", 'wb') as f:\n",
    "    pickle.dump((dataset, cosine_distance_countvectorizer_method), f)"
   ],
   "metadata": {
    "collapsed": false
   }
  },
  {
   "cell_type": "code",
   "execution_count": 7,
   "outputs": [],
   "source": [
    "# Example usage:\n",
    "# Load the model\n",
    "with open(\"../models/cosine_model.pkl\", 'rb') as f:\n",
    "    loaded_model = pickle.load(f)\n"
   ],
   "metadata": {
    "collapsed": false
   }
  },
  {
   "cell_type": "code",
   "execution_count": 9,
   "outputs": [
    {
     "name": "stdout",
     "output_type": "stream",
     "text": [
      "Response: That's geat to hear. I'm glad you're feeling this way.\n"
     ]
    }
   ],
   "source": [
    "\n",
    "# Use the loaded model\n",
    "dataset, cosine_distance_countvectorizer_method = loaded_model\n",
    "\n",
    "# Example usage:\n",
    "text = \"I am tired today\"\n",
    "print(\"Response:\", respond(text))"
   ],
   "metadata": {
    "collapsed": false
   }
  }
 ]
}
