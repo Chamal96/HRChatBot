{
 "metadata": {
  "kernelspec": {
   "language": "python",
   "display_name": "Python 3",
   "name": "python3"
  },
  "language_info": {
   "pygments_lexer": "ipython3",
   "nbconvert_exporter": "python",
   "version": "3.6.4",
   "file_extension": ".py",
   "codemirror_mode": {
    "name": "ipython",
    "version": 3
   },
   "name": "python",
   "mimetype": "text/x-python"
  },
  "kaggle": {
   "accelerator": "none",
   "dataSources": [
    {
     "sourceId": 5213244,
     "sourceType": "datasetVersion",
     "datasetId": 3032450
    }
   ],
   "dockerImageVersionId": 30558,
   "isInternetEnabled": false,
   "language": "python",
   "sourceType": "notebook",
   "isGpuEnabled": false
  }
 },
 "nbformat_minor": 4,
 "nbformat": 4,
 "cells": [
  {
   "cell_type": "code",
   "source": [
    "import pandas as pd"
   ],
   "metadata": {
    "_uuid": "8f2839f25d086af736a60e9eeb907d3b93b6e0e5",
    "_cell_guid": "b1076dfc-b9ad-4769-8c92-a6c4dae69d19",
    "execution": {
     "iopub.status.busy": "2023-11-04T11:55:45.778315Z",
     "iopub.execute_input": "2023-11-04T11:55:45.778753Z",
     "iopub.status.idle": "2023-11-04T11:55:45.78397Z",
     "shell.execute_reply.started": "2023-11-04T11:55:45.778724Z",
     "shell.execute_reply": "2023-11-04T11:55:45.782855Z"
    },
    "trusted": true
   },
   "execution_count": 1,
   "outputs": []
  },
  {
   "cell_type": "code",
   "source": [
    "data = pd.read_csv('../data/chat/chat_dataset.csv')"
   ],
   "metadata": {
    "execution": {
     "iopub.status.busy": "2023-11-04T11:55:45.789121Z",
     "iopub.execute_input": "2023-11-04T11:55:45.78957Z",
     "iopub.status.idle": "2023-11-04T11:55:45.804952Z",
     "shell.execute_reply.started": "2023-11-04T11:55:45.789535Z",
     "shell.execute_reply": "2023-11-04T11:55:45.803513Z"
    },
    "trusted": true
   },
   "execution_count": 2,
   "outputs": []
  },
  {
   "cell_type": "code",
   "source": [
    "data.head()"
   ],
   "metadata": {
    "execution": {
     "iopub.status.busy": "2023-11-04T11:55:45.806563Z",
     "iopub.execute_input": "2023-11-04T11:55:45.806934Z",
     "iopub.status.idle": "2023-11-04T11:55:45.819609Z",
     "shell.execute_reply.started": "2023-11-04T11:55:45.806904Z",
     "shell.execute_reply": "2023-11-04T11:55:45.818231Z"
    },
    "trusted": true
   },
   "execution_count": 3,
   "outputs": [
    {
     "data": {
      "text/plain": "                              message sentiment\n0          I really enjoyed the movie  positive\n1               The food was terrible  negative\n2  I'm not sure how I feel about this   neutral\n3           The service was excellent  positive\n4              I had a bad experience  negative",
      "text/html": "<div>\n<style scoped>\n    .dataframe tbody tr th:only-of-type {\n        vertical-align: middle;\n    }\n\n    .dataframe tbody tr th {\n        vertical-align: top;\n    }\n\n    .dataframe thead th {\n        text-align: right;\n    }\n</style>\n<table border=\"1\" class=\"dataframe\">\n  <thead>\n    <tr style=\"text-align: right;\">\n      <th></th>\n      <th>message</th>\n      <th>sentiment</th>\n    </tr>\n  </thead>\n  <tbody>\n    <tr>\n      <th>0</th>\n      <td>I really enjoyed the movie</td>\n      <td>positive</td>\n    </tr>\n    <tr>\n      <th>1</th>\n      <td>The food was terrible</td>\n      <td>negative</td>\n    </tr>\n    <tr>\n      <th>2</th>\n      <td>I'm not sure how I feel about this</td>\n      <td>neutral</td>\n    </tr>\n    <tr>\n      <th>3</th>\n      <td>The service was excellent</td>\n      <td>positive</td>\n    </tr>\n    <tr>\n      <th>4</th>\n      <td>I had a bad experience</td>\n      <td>negative</td>\n    </tr>\n  </tbody>\n</table>\n</div>"
     },
     "execution_count": 3,
     "metadata": {},
     "output_type": "execute_result"
    }
   ]
  },
  {
   "cell_type": "code",
   "source": [
    "blanks = []\n",
    "\n",
    "for i, rv, lb in data.itertuples():\n",
    "    if type(rv)==str:\n",
    "        if rv.isspace():\n",
    "            blanks.append(i)"
   ],
   "metadata": {
    "execution": {
     "iopub.status.busy": "2023-11-04T11:55:45.821312Z",
     "iopub.execute_input": "2023-11-04T11:55:45.821699Z",
     "iopub.status.idle": "2023-11-04T11:55:45.834234Z",
     "shell.execute_reply.started": "2023-11-04T11:55:45.821667Z",
     "shell.execute_reply": "2023-11-04T11:55:45.833241Z"
    },
    "trusted": true
   },
   "execution_count": 4,
   "outputs": []
  },
  {
   "cell_type": "code",
   "source": [
    "blanks"
   ],
   "metadata": {
    "execution": {
     "iopub.status.busy": "2023-11-04T11:55:45.835966Z",
     "iopub.execute_input": "2023-11-04T11:55:45.836392Z",
     "iopub.status.idle": "2023-11-04T11:55:45.85104Z",
     "shell.execute_reply.started": "2023-11-04T11:55:45.836353Z",
     "shell.execute_reply": "2023-11-04T11:55:45.849823Z"
    },
    "trusted": true
   },
   "execution_count": 5,
   "outputs": [
    {
     "data": {
      "text/plain": "[]"
     },
     "execution_count": 5,
     "metadata": {},
     "output_type": "execute_result"
    }
   ]
  },
  {
   "cell_type": "code",
   "source": [
    "from nltk.sentiment.vader import SentimentIntensityAnalyzer"
   ],
   "metadata": {
    "execution": {
     "iopub.status.busy": "2023-11-04T11:55:45.853168Z",
     "iopub.execute_input": "2023-11-04T11:55:45.853536Z",
     "iopub.status.idle": "2023-11-04T11:55:45.864054Z",
     "shell.execute_reply.started": "2023-11-04T11:55:45.853505Z",
     "shell.execute_reply": "2023-11-04T11:55:45.862946Z"
    },
    "trusted": true
   },
   "execution_count": 6,
   "outputs": []
  },
  {
   "cell_type": "code",
   "source": [
    "sid = SentimentIntensityAnalyzer()"
   ],
   "metadata": {
    "execution": {
     "iopub.status.busy": "2023-11-04T11:55:45.865617Z",
     "iopub.execute_input": "2023-11-04T11:55:45.866509Z",
     "iopub.status.idle": "2023-11-04T11:55:45.887068Z",
     "shell.execute_reply.started": "2023-11-04T11:55:45.866473Z",
     "shell.execute_reply": "2023-11-04T11:55:45.886Z"
    },
    "trusted": true
   },
   "execution_count": 7,
   "outputs": []
  },
  {
   "cell_type": "code",
   "source": [
    "data['score'] = data['message'].apply(lambda sentence: sid.polarity_scores(sentence))"
   ],
   "metadata": {
    "execution": {
     "iopub.status.busy": "2023-11-04T11:55:45.889958Z",
     "iopub.execute_input": "2023-11-04T11:55:45.890648Z",
     "iopub.status.idle": "2023-11-04T11:55:45.99314Z",
     "shell.execute_reply.started": "2023-11-04T11:55:45.890603Z",
     "shell.execute_reply": "2023-11-04T11:55:45.991978Z"
    },
    "trusted": true
   },
   "execution_count": 8,
   "outputs": []
  },
  {
   "cell_type": "code",
   "source": [
    "data.sentiment.value_counts()"
   ],
   "metadata": {
    "execution": {
     "iopub.status.busy": "2023-11-04T11:55:45.994548Z",
     "iopub.execute_input": "2023-11-04T11:55:45.995076Z",
     "iopub.status.idle": "2023-11-04T11:55:46.006143Z",
     "shell.execute_reply.started": "2023-11-04T11:55:45.995035Z",
     "shell.execute_reply": "2023-11-04T11:55:46.004917Z"
    },
    "trusted": true
   },
   "execution_count": 9,
   "outputs": [
    {
     "data": {
      "text/plain": "sentiment\nneutral     259\npositive    178\nnegative    147\nName: count, dtype: int64"
     },
     "execution_count": 9,
     "metadata": {},
     "output_type": "execute_result"
    }
   ]
  },
  {
   "cell_type": "code",
   "source": [
    "data.head()"
   ],
   "metadata": {
    "execution": {
     "iopub.status.busy": "2023-11-04T11:55:46.009471Z",
     "iopub.execute_input": "2023-11-04T11:55:46.009857Z",
     "iopub.status.idle": "2023-11-04T11:55:46.026136Z",
     "shell.execute_reply.started": "2023-11-04T11:55:46.009827Z",
     "shell.execute_reply": "2023-11-04T11:55:46.024838Z"
    },
    "trusted": true
   },
   "execution_count": 10,
   "outputs": [
    {
     "data": {
      "text/plain": "                              message sentiment  \\\n0          I really enjoyed the movie  positive   \n1               The food was terrible  negative   \n2  I'm not sure how I feel about this   neutral   \n3           The service was excellent  positive   \n4              I had a bad experience  negative   \n\n                                               score  \n0  {'neg': 0.0, 'neu': 0.455, 'pos': 0.545, 'comp...  \n1  {'neg': 0.508, 'neu': 0.492, 'pos': 0.0, 'comp...  \n2  {'neg': 0.246, 'neu': 0.754, 'pos': 0.0, 'comp...  \n3  {'neg': 0.0, 'neu': 0.448, 'pos': 0.552, 'comp...  \n4  {'neg': 0.636, 'neu': 0.364, 'pos': 0.0, 'comp...  ",
      "text/html": "<div>\n<style scoped>\n    .dataframe tbody tr th:only-of-type {\n        vertical-align: middle;\n    }\n\n    .dataframe tbody tr th {\n        vertical-align: top;\n    }\n\n    .dataframe thead th {\n        text-align: right;\n    }\n</style>\n<table border=\"1\" class=\"dataframe\">\n  <thead>\n    <tr style=\"text-align: right;\">\n      <th></th>\n      <th>message</th>\n      <th>sentiment</th>\n      <th>score</th>\n    </tr>\n  </thead>\n  <tbody>\n    <tr>\n      <th>0</th>\n      <td>I really enjoyed the movie</td>\n      <td>positive</td>\n      <td>{'neg': 0.0, 'neu': 0.455, 'pos': 0.545, 'comp...</td>\n    </tr>\n    <tr>\n      <th>1</th>\n      <td>The food was terrible</td>\n      <td>negative</td>\n      <td>{'neg': 0.508, 'neu': 0.492, 'pos': 0.0, 'comp...</td>\n    </tr>\n    <tr>\n      <th>2</th>\n      <td>I'm not sure how I feel about this</td>\n      <td>neutral</td>\n      <td>{'neg': 0.246, 'neu': 0.754, 'pos': 0.0, 'comp...</td>\n    </tr>\n    <tr>\n      <th>3</th>\n      <td>The service was excellent</td>\n      <td>positive</td>\n      <td>{'neg': 0.0, 'neu': 0.448, 'pos': 0.552, 'comp...</td>\n    </tr>\n    <tr>\n      <th>4</th>\n      <td>I had a bad experience</td>\n      <td>negative</td>\n      <td>{'neg': 0.636, 'neu': 0.364, 'pos': 0.0, 'comp...</td>\n    </tr>\n  </tbody>\n</table>\n</div>"
     },
     "execution_count": 10,
     "metadata": {},
     "output_type": "execute_result"
    }
   ]
  },
  {
   "cell_type": "code",
   "execution_count": 11,
   "outputs": [],
   "source": [
    "import pickle\n",
    "# Save the SentimentIntensityAnalyzer\n",
    "with open(\"../models/sentiment_analyzer.pkl\", 'wb') as f:\n",
    "    pickle.dump(sid, f)"
   ],
   "metadata": {
    "collapsed": false
   }
  },
  {
   "cell_type": "code",
   "source": [
    "data['compound'] = data['score'].apply(lambda sc: sc['compound'])"
   ],
   "metadata": {
    "execution": {
     "iopub.status.busy": "2023-11-04T11:55:46.027961Z",
     "iopub.execute_input": "2023-11-04T11:55:46.028646Z",
     "iopub.status.idle": "2023-11-04T11:55:46.037271Z",
     "shell.execute_reply.started": "2023-11-04T11:55:46.028605Z",
     "shell.execute_reply": "2023-11-04T11:55:46.036179Z"
    },
    "trusted": true
   },
   "execution_count": 12,
   "outputs": []
  },
  {
   "cell_type": "code",
   "source": [
    "data.head()"
   ],
   "metadata": {
    "execution": {
     "iopub.status.busy": "2023-11-04T11:55:46.039629Z",
     "iopub.execute_input": "2023-11-04T11:55:46.040067Z",
     "iopub.status.idle": "2023-11-04T11:55:46.060587Z",
     "shell.execute_reply.started": "2023-11-04T11:55:46.040027Z",
     "shell.execute_reply": "2023-11-04T11:55:46.059485Z"
    },
    "trusted": true
   },
   "execution_count": 13,
   "outputs": [
    {
     "data": {
      "text/plain": "                              message sentiment  \\\n0          I really enjoyed the movie  positive   \n1               The food was terrible  negative   \n2  I'm not sure how I feel about this   neutral   \n3           The service was excellent  positive   \n4              I had a bad experience  negative   \n\n                                               score  compound  \n0  {'neg': 0.0, 'neu': 0.455, 'pos': 0.545, 'comp...    0.5563  \n1  {'neg': 0.508, 'neu': 0.492, 'pos': 0.0, 'comp...   -0.4767  \n2  {'neg': 0.246, 'neu': 0.754, 'pos': 0.0, 'comp...   -0.2411  \n3  {'neg': 0.0, 'neu': 0.448, 'pos': 0.552, 'comp...    0.5719  \n4  {'neg': 0.636, 'neu': 0.364, 'pos': 0.0, 'comp...   -0.5423  ",
      "text/html": "<div>\n<style scoped>\n    .dataframe tbody tr th:only-of-type {\n        vertical-align: middle;\n    }\n\n    .dataframe tbody tr th {\n        vertical-align: top;\n    }\n\n    .dataframe thead th {\n        text-align: right;\n    }\n</style>\n<table border=\"1\" class=\"dataframe\">\n  <thead>\n    <tr style=\"text-align: right;\">\n      <th></th>\n      <th>message</th>\n      <th>sentiment</th>\n      <th>score</th>\n      <th>compound</th>\n    </tr>\n  </thead>\n  <tbody>\n    <tr>\n      <th>0</th>\n      <td>I really enjoyed the movie</td>\n      <td>positive</td>\n      <td>{'neg': 0.0, 'neu': 0.455, 'pos': 0.545, 'comp...</td>\n      <td>0.5563</td>\n    </tr>\n    <tr>\n      <th>1</th>\n      <td>The food was terrible</td>\n      <td>negative</td>\n      <td>{'neg': 0.508, 'neu': 0.492, 'pos': 0.0, 'comp...</td>\n      <td>-0.4767</td>\n    </tr>\n    <tr>\n      <th>2</th>\n      <td>I'm not sure how I feel about this</td>\n      <td>neutral</td>\n      <td>{'neg': 0.246, 'neu': 0.754, 'pos': 0.0, 'comp...</td>\n      <td>-0.2411</td>\n    </tr>\n    <tr>\n      <th>3</th>\n      <td>The service was excellent</td>\n      <td>positive</td>\n      <td>{'neg': 0.0, 'neu': 0.448, 'pos': 0.552, 'comp...</td>\n      <td>0.5719</td>\n    </tr>\n    <tr>\n      <th>4</th>\n      <td>I had a bad experience</td>\n      <td>negative</td>\n      <td>{'neg': 0.636, 'neu': 0.364, 'pos': 0.0, 'comp...</td>\n      <td>-0.5423</td>\n    </tr>\n  </tbody>\n</table>\n</div>"
     },
     "execution_count": 13,
     "metadata": {},
     "output_type": "execute_result"
    }
   ]
  },
  {
   "cell_type": "code",
   "source": [
    "data['comp_score'] = data['compound'].apply(lambda C: 'positive' if C>0.2 else('negative' if C<-0.2 else 'neutral'))"
   ],
   "metadata": {
    "execution": {
     "iopub.status.busy": "2023-11-04T11:55:46.061804Z",
     "iopub.execute_input": "2023-11-04T11:55:46.062122Z",
     "iopub.status.idle": "2023-11-04T11:55:46.068707Z",
     "shell.execute_reply.started": "2023-11-04T11:55:46.062095Z",
     "shell.execute_reply": "2023-11-04T11:55:46.067899Z"
    },
    "trusted": true
   },
   "execution_count": 14,
   "outputs": []
  },
  {
   "cell_type": "code",
   "source": [
    "data.head()"
   ],
   "metadata": {
    "execution": {
     "iopub.status.busy": "2023-11-04T11:55:46.069759Z",
     "iopub.execute_input": "2023-11-04T11:55:46.070081Z",
     "iopub.status.idle": "2023-11-04T11:55:46.092997Z",
     "shell.execute_reply.started": "2023-11-04T11:55:46.070053Z",
     "shell.execute_reply": "2023-11-04T11:55:46.091659Z"
    },
    "trusted": true
   },
   "execution_count": 15,
   "outputs": [
    {
     "data": {
      "text/plain": "                              message sentiment  \\\n0          I really enjoyed the movie  positive   \n1               The food was terrible  negative   \n2  I'm not sure how I feel about this   neutral   \n3           The service was excellent  positive   \n4              I had a bad experience  negative   \n\n                                               score  compound comp_score  \n0  {'neg': 0.0, 'neu': 0.455, 'pos': 0.545, 'comp...    0.5563   positive  \n1  {'neg': 0.508, 'neu': 0.492, 'pos': 0.0, 'comp...   -0.4767   negative  \n2  {'neg': 0.246, 'neu': 0.754, 'pos': 0.0, 'comp...   -0.2411   negative  \n3  {'neg': 0.0, 'neu': 0.448, 'pos': 0.552, 'comp...    0.5719   positive  \n4  {'neg': 0.636, 'neu': 0.364, 'pos': 0.0, 'comp...   -0.5423   negative  ",
      "text/html": "<div>\n<style scoped>\n    .dataframe tbody tr th:only-of-type {\n        vertical-align: middle;\n    }\n\n    .dataframe tbody tr th {\n        vertical-align: top;\n    }\n\n    .dataframe thead th {\n        text-align: right;\n    }\n</style>\n<table border=\"1\" class=\"dataframe\">\n  <thead>\n    <tr style=\"text-align: right;\">\n      <th></th>\n      <th>message</th>\n      <th>sentiment</th>\n      <th>score</th>\n      <th>compound</th>\n      <th>comp_score</th>\n    </tr>\n  </thead>\n  <tbody>\n    <tr>\n      <th>0</th>\n      <td>I really enjoyed the movie</td>\n      <td>positive</td>\n      <td>{'neg': 0.0, 'neu': 0.455, 'pos': 0.545, 'comp...</td>\n      <td>0.5563</td>\n      <td>positive</td>\n    </tr>\n    <tr>\n      <th>1</th>\n      <td>The food was terrible</td>\n      <td>negative</td>\n      <td>{'neg': 0.508, 'neu': 0.492, 'pos': 0.0, 'comp...</td>\n      <td>-0.4767</td>\n      <td>negative</td>\n    </tr>\n    <tr>\n      <th>2</th>\n      <td>I'm not sure how I feel about this</td>\n      <td>neutral</td>\n      <td>{'neg': 0.246, 'neu': 0.754, 'pos': 0.0, 'comp...</td>\n      <td>-0.2411</td>\n      <td>negative</td>\n    </tr>\n    <tr>\n      <th>3</th>\n      <td>The service was excellent</td>\n      <td>positive</td>\n      <td>{'neg': 0.0, 'neu': 0.448, 'pos': 0.552, 'comp...</td>\n      <td>0.5719</td>\n      <td>positive</td>\n    </tr>\n    <tr>\n      <th>4</th>\n      <td>I had a bad experience</td>\n      <td>negative</td>\n      <td>{'neg': 0.636, 'neu': 0.364, 'pos': 0.0, 'comp...</td>\n      <td>-0.5423</td>\n      <td>negative</td>\n    </tr>\n  </tbody>\n</table>\n</div>"
     },
     "execution_count": 15,
     "metadata": {},
     "output_type": "execute_result"
    }
   ]
  },
  {
   "cell_type": "code",
   "source": [
    "data[data['sentiment']=='neutral']"
   ],
   "metadata": {
    "execution": {
     "iopub.status.busy": "2023-11-04T11:55:46.096597Z",
     "iopub.execute_input": "2023-11-04T11:55:46.09702Z",
     "iopub.status.idle": "2023-11-04T11:55:46.124647Z",
     "shell.execute_reply.started": "2023-11-04T11:55:46.096984Z",
     "shell.execute_reply": "2023-11-04T11:55:46.123578Z"
    },
    "trusted": true
   },
   "execution_count": 16,
   "outputs": [
    {
     "data": {
      "text/plain": "                                               message sentiment  \\\n2                   I'm not sure how I feel about this   neutral   \n7                              The price is a bit high   neutral   \n10                      I'm feeling neutral about this   neutral   \n16               I don't know what to think about this   neutral   \n20                     I don't have an opinion on this   neutral   \n..                                                 ...       ...   \n564       I'm studying for my final exams next week 📚📝   neutral   \n565  I'm planning a road trip for this summer with ...   neutral   \n566  I'm browsing the internet for ideas on how to ...   neutral   \n567  I'm doing laundry and folding my clothes right...   neutral   \n568  I need to buy new shoes for work. my old ones ...   neutral   \n\n                                                 score  compound comp_score  \n2    {'neg': 0.246, 'neu': 0.754, 'pos': 0.0, 'comp...   -0.2411   negative  \n7    {'neg': 0.0, 'neu': 1.0, 'pos': 0.0, 'compound...    0.0000    neutral  \n10   {'neg': 0.0, 'neu': 0.727, 'pos': 0.273, 'comp...    0.1280    neutral  \n16   {'neg': 0.0, 'neu': 1.0, 'pos': 0.0, 'compound...    0.0000    neutral  \n20   {'neg': 0.0, 'neu': 1.0, 'pos': 0.0, 'compound...    0.0000    neutral  \n..                                                 ...       ...        ...  \n564  {'neg': 0.0, 'neu': 1.0, 'pos': 0.0, 'compound...    0.0000    neutral  \n565  {'neg': 0.0, 'neu': 0.763, 'pos': 0.237, 'comp...    0.4767   positive  \n566  {'neg': 0.0, 'neu': 1.0, 'pos': 0.0, 'compound...    0.0000    neutral  \n567  {'neg': 0.0, 'neu': 1.0, 'pos': 0.0, 'compound...    0.0000    neutral  \n568  {'neg': 0.145, 'neu': 0.855, 'pos': 0.0, 'comp...   -0.2960   negative  \n\n[259 rows x 5 columns]",
      "text/html": "<div>\n<style scoped>\n    .dataframe tbody tr th:only-of-type {\n        vertical-align: middle;\n    }\n\n    .dataframe tbody tr th {\n        vertical-align: top;\n    }\n\n    .dataframe thead th {\n        text-align: right;\n    }\n</style>\n<table border=\"1\" class=\"dataframe\">\n  <thead>\n    <tr style=\"text-align: right;\">\n      <th></th>\n      <th>message</th>\n      <th>sentiment</th>\n      <th>score</th>\n      <th>compound</th>\n      <th>comp_score</th>\n    </tr>\n  </thead>\n  <tbody>\n    <tr>\n      <th>2</th>\n      <td>I'm not sure how I feel about this</td>\n      <td>neutral</td>\n      <td>{'neg': 0.246, 'neu': 0.754, 'pos': 0.0, 'comp...</td>\n      <td>-0.2411</td>\n      <td>negative</td>\n    </tr>\n    <tr>\n      <th>7</th>\n      <td>The price is a bit high</td>\n      <td>neutral</td>\n      <td>{'neg': 0.0, 'neu': 1.0, 'pos': 0.0, 'compound...</td>\n      <td>0.0000</td>\n      <td>neutral</td>\n    </tr>\n    <tr>\n      <th>10</th>\n      <td>I'm feeling neutral about this</td>\n      <td>neutral</td>\n      <td>{'neg': 0.0, 'neu': 0.727, 'pos': 0.273, 'comp...</td>\n      <td>0.1280</td>\n      <td>neutral</td>\n    </tr>\n    <tr>\n      <th>16</th>\n      <td>I don't know what to think about this</td>\n      <td>neutral</td>\n      <td>{'neg': 0.0, 'neu': 1.0, 'pos': 0.0, 'compound...</td>\n      <td>0.0000</td>\n      <td>neutral</td>\n    </tr>\n    <tr>\n      <th>20</th>\n      <td>I don't have an opinion on this</td>\n      <td>neutral</td>\n      <td>{'neg': 0.0, 'neu': 1.0, 'pos': 0.0, 'compound...</td>\n      <td>0.0000</td>\n      <td>neutral</td>\n    </tr>\n    <tr>\n      <th>...</th>\n      <td>...</td>\n      <td>...</td>\n      <td>...</td>\n      <td>...</td>\n      <td>...</td>\n    </tr>\n    <tr>\n      <th>564</th>\n      <td>I'm studying for my final exams next week 📚📝</td>\n      <td>neutral</td>\n      <td>{'neg': 0.0, 'neu': 1.0, 'pos': 0.0, 'compound...</td>\n      <td>0.0000</td>\n      <td>neutral</td>\n    </tr>\n    <tr>\n      <th>565</th>\n      <td>I'm planning a road trip for this summer with ...</td>\n      <td>neutral</td>\n      <td>{'neg': 0.0, 'neu': 0.763, 'pos': 0.237, 'comp...</td>\n      <td>0.4767</td>\n      <td>positive</td>\n    </tr>\n    <tr>\n      <th>566</th>\n      <td>I'm browsing the internet for ideas on how to ...</td>\n      <td>neutral</td>\n      <td>{'neg': 0.0, 'neu': 1.0, 'pos': 0.0, 'compound...</td>\n      <td>0.0000</td>\n      <td>neutral</td>\n    </tr>\n    <tr>\n      <th>567</th>\n      <td>I'm doing laundry and folding my clothes right...</td>\n      <td>neutral</td>\n      <td>{'neg': 0.0, 'neu': 1.0, 'pos': 0.0, 'compound...</td>\n      <td>0.0000</td>\n      <td>neutral</td>\n    </tr>\n    <tr>\n      <th>568</th>\n      <td>I need to buy new shoes for work. my old ones ...</td>\n      <td>neutral</td>\n      <td>{'neg': 0.145, 'neu': 0.855, 'pos': 0.0, 'comp...</td>\n      <td>-0.2960</td>\n      <td>negative</td>\n    </tr>\n  </tbody>\n</table>\n<p>259 rows × 5 columns</p>\n</div>"
     },
     "execution_count": 16,
     "metadata": {},
     "output_type": "execute_result"
    }
   ]
  },
  {
   "cell_type": "code",
   "source": [
    "data[data['sentiment']=='negative']"
   ],
   "metadata": {
    "execution": {
     "iopub.status.busy": "2023-11-04T11:55:46.126062Z",
     "iopub.execute_input": "2023-11-04T11:55:46.126616Z",
     "iopub.status.idle": "2023-11-04T11:55:46.152049Z",
     "shell.execute_reply.started": "2023-11-04T11:55:46.126568Z",
     "shell.execute_reply": "2023-11-04T11:55:46.150741Z"
    },
    "trusted": true
   },
   "execution_count": 17,
   "outputs": [
    {
     "data": {
      "text/plain": "                                               message sentiment  \\\n1                                The food was terrible  negative   \n4                               I had a bad experience  negative   \n6                            I wouldn't recommend this  negative   \n9                              The traffic is horrible  negative   \n12                   The customer service was terrible  negative   \n..                                                 ...       ...   \n579  I have to cancel my vacation plans because I c...  negative   \n580  My computer crashed and I lost all my importan...  negative   \n581  I got into a car accident and my car is totale...  negative   \n582  I have a cold and can't stop coughing. it's re...  negative   \n583  I just found out my ex is dating someone new. ...  negative   \n\n                                                 score  compound comp_score  \n1    {'neg': 0.508, 'neu': 0.492, 'pos': 0.0, 'comp...   -0.4767   negative  \n4    {'neg': 0.636, 'neu': 0.364, 'pos': 0.0, 'comp...   -0.5423   negative  \n6    {'neg': 0.513, 'neu': 0.487, 'pos': 0.0, 'comp...   -0.2755   negative  \n9    {'neg': 0.538, 'neu': 0.462, 'pos': 0.0, 'comp...   -0.5423   negative  \n12   {'neg': 0.437, 'neu': 0.563, 'pos': 0.0, 'comp...   -0.4767   negative  \n..                                                 ...       ...        ...  \n579  {'neg': 0.143, 'neu': 0.857, 'pos': 0.0, 'comp...   -0.2500   negative  \n580  {'neg': 0.19, 'neu': 0.661, 'pos': 0.149, 'com...   -0.1280    neutral  \n581  {'neg': 0.256, 'neu': 0.744, 'pos': 0.0, 'comp...   -0.4767   negative  \n582  {'neg': 0.125, 'neu': 0.736, 'pos': 0.139, 'co...    0.0503    neutral  \n583  {'neg': 0.314, 'neu': 0.686, 'pos': 0.0, 'comp...   -0.7573   negative  \n\n[147 rows x 5 columns]",
      "text/html": "<div>\n<style scoped>\n    .dataframe tbody tr th:only-of-type {\n        vertical-align: middle;\n    }\n\n    .dataframe tbody tr th {\n        vertical-align: top;\n    }\n\n    .dataframe thead th {\n        text-align: right;\n    }\n</style>\n<table border=\"1\" class=\"dataframe\">\n  <thead>\n    <tr style=\"text-align: right;\">\n      <th></th>\n      <th>message</th>\n      <th>sentiment</th>\n      <th>score</th>\n      <th>compound</th>\n      <th>comp_score</th>\n    </tr>\n  </thead>\n  <tbody>\n    <tr>\n      <th>1</th>\n      <td>The food was terrible</td>\n      <td>negative</td>\n      <td>{'neg': 0.508, 'neu': 0.492, 'pos': 0.0, 'comp...</td>\n      <td>-0.4767</td>\n      <td>negative</td>\n    </tr>\n    <tr>\n      <th>4</th>\n      <td>I had a bad experience</td>\n      <td>negative</td>\n      <td>{'neg': 0.636, 'neu': 0.364, 'pos': 0.0, 'comp...</td>\n      <td>-0.5423</td>\n      <td>negative</td>\n    </tr>\n    <tr>\n      <th>6</th>\n      <td>I wouldn't recommend this</td>\n      <td>negative</td>\n      <td>{'neg': 0.513, 'neu': 0.487, 'pos': 0.0, 'comp...</td>\n      <td>-0.2755</td>\n      <td>negative</td>\n    </tr>\n    <tr>\n      <th>9</th>\n      <td>The traffic is horrible</td>\n      <td>negative</td>\n      <td>{'neg': 0.538, 'neu': 0.462, 'pos': 0.0, 'comp...</td>\n      <td>-0.5423</td>\n      <td>negative</td>\n    </tr>\n    <tr>\n      <th>12</th>\n      <td>The customer service was terrible</td>\n      <td>negative</td>\n      <td>{'neg': 0.437, 'neu': 0.563, 'pos': 0.0, 'comp...</td>\n      <td>-0.4767</td>\n      <td>negative</td>\n    </tr>\n    <tr>\n      <th>...</th>\n      <td>...</td>\n      <td>...</td>\n      <td>...</td>\n      <td>...</td>\n      <td>...</td>\n    </tr>\n    <tr>\n      <th>579</th>\n      <td>I have to cancel my vacation plans because I c...</td>\n      <td>negative</td>\n      <td>{'neg': 0.143, 'neu': 0.857, 'pos': 0.0, 'comp...</td>\n      <td>-0.2500</td>\n      <td>negative</td>\n    </tr>\n    <tr>\n      <th>580</th>\n      <td>My computer crashed and I lost all my importan...</td>\n      <td>negative</td>\n      <td>{'neg': 0.19, 'neu': 0.661, 'pos': 0.149, 'com...</td>\n      <td>-0.1280</td>\n      <td>neutral</td>\n    </tr>\n    <tr>\n      <th>581</th>\n      <td>I got into a car accident and my car is totale...</td>\n      <td>negative</td>\n      <td>{'neg': 0.256, 'neu': 0.744, 'pos': 0.0, 'comp...</td>\n      <td>-0.4767</td>\n      <td>negative</td>\n    </tr>\n    <tr>\n      <th>582</th>\n      <td>I have a cold and can't stop coughing. it's re...</td>\n      <td>negative</td>\n      <td>{'neg': 0.125, 'neu': 0.736, 'pos': 0.139, 'co...</td>\n      <td>0.0503</td>\n      <td>neutral</td>\n    </tr>\n    <tr>\n      <th>583</th>\n      <td>I just found out my ex is dating someone new. ...</td>\n      <td>negative</td>\n      <td>{'neg': 0.314, 'neu': 0.686, 'pos': 0.0, 'comp...</td>\n      <td>-0.7573</td>\n      <td>negative</td>\n    </tr>\n  </tbody>\n</table>\n<p>147 rows × 5 columns</p>\n</div>"
     },
     "execution_count": 17,
     "metadata": {},
     "output_type": "execute_result"
    }
   ]
  },
  {
   "cell_type": "code",
   "source": [
    "data[data['sentiment']=='positive']"
   ],
   "metadata": {
    "execution": {
     "iopub.status.busy": "2023-11-04T11:55:46.154503Z",
     "iopub.execute_input": "2023-11-04T11:55:46.154948Z",
     "iopub.status.idle": "2023-11-04T11:55:46.181742Z",
     "shell.execute_reply.started": "2023-11-04T11:55:46.154913Z",
     "shell.execute_reply": "2023-11-04T11:55:46.1803Z"
    },
    "trusted": true
   },
   "execution_count": 18,
   "outputs": [
    {
     "data": {
      "text/plain": "                                               message sentiment  \\\n0                           I really enjoyed the movie  positive   \n3                            The service was excellent  positive   \n5                              This is a great product  positive   \n8                         The weather is perfect today  positive   \n11                             The concert was amazing  positive   \n..                                                 ...       ...   \n549  I just finished a painting that I'm really pro...  positive   \n550   I love my new job and the people I work with! 💼😍  positive   \n551  I just got a text from my crush asking me out ...  positive   \n552  I'm grateful for my supportive community and t...  positive   \n553  I just had the best cup of coffee at this new ...  positive   \n\n                                                 score  compound comp_score  \n0    {'neg': 0.0, 'neu': 0.455, 'pos': 0.545, 'comp...    0.5563   positive  \n3    {'neg': 0.0, 'neu': 0.448, 'pos': 0.552, 'comp...    0.5719   positive  \n5    {'neg': 0.0, 'neu': 0.423, 'pos': 0.577, 'comp...    0.6249   positive  \n8    {'neg': 0.0, 'neu': 0.519, 'pos': 0.481, 'comp...    0.5719   positive  \n11   {'neg': 0.0, 'neu': 0.441, 'pos': 0.559, 'comp...    0.5859   positive  \n..                                                 ...       ...        ...  \n549  {'neg': 0.0, 'neu': 0.685, 'pos': 0.315, 'comp...    0.5697   positive  \n550  {'neg': 0.0, 'neu': 0.667, 'pos': 0.333, 'comp...    0.6696   positive  \n551  {'neg': 0.147, 'neu': 0.853, 'pos': 0.0, 'comp...   -0.2244   negative  \n552  {'neg': 0.0, 'neu': 0.446, 'pos': 0.554, 'comp...    0.8805   positive  \n553  {'neg': 0.0, 'neu': 0.769, 'pos': 0.231, 'comp...    0.6369   positive  \n\n[178 rows x 5 columns]",
      "text/html": "<div>\n<style scoped>\n    .dataframe tbody tr th:only-of-type {\n        vertical-align: middle;\n    }\n\n    .dataframe tbody tr th {\n        vertical-align: top;\n    }\n\n    .dataframe thead th {\n        text-align: right;\n    }\n</style>\n<table border=\"1\" class=\"dataframe\">\n  <thead>\n    <tr style=\"text-align: right;\">\n      <th></th>\n      <th>message</th>\n      <th>sentiment</th>\n      <th>score</th>\n      <th>compound</th>\n      <th>comp_score</th>\n    </tr>\n  </thead>\n  <tbody>\n    <tr>\n      <th>0</th>\n      <td>I really enjoyed the movie</td>\n      <td>positive</td>\n      <td>{'neg': 0.0, 'neu': 0.455, 'pos': 0.545, 'comp...</td>\n      <td>0.5563</td>\n      <td>positive</td>\n    </tr>\n    <tr>\n      <th>3</th>\n      <td>The service was excellent</td>\n      <td>positive</td>\n      <td>{'neg': 0.0, 'neu': 0.448, 'pos': 0.552, 'comp...</td>\n      <td>0.5719</td>\n      <td>positive</td>\n    </tr>\n    <tr>\n      <th>5</th>\n      <td>This is a great product</td>\n      <td>positive</td>\n      <td>{'neg': 0.0, 'neu': 0.423, 'pos': 0.577, 'comp...</td>\n      <td>0.6249</td>\n      <td>positive</td>\n    </tr>\n    <tr>\n      <th>8</th>\n      <td>The weather is perfect today</td>\n      <td>positive</td>\n      <td>{'neg': 0.0, 'neu': 0.519, 'pos': 0.481, 'comp...</td>\n      <td>0.5719</td>\n      <td>positive</td>\n    </tr>\n    <tr>\n      <th>11</th>\n      <td>The concert was amazing</td>\n      <td>positive</td>\n      <td>{'neg': 0.0, 'neu': 0.441, 'pos': 0.559, 'comp...</td>\n      <td>0.5859</td>\n      <td>positive</td>\n    </tr>\n    <tr>\n      <th>...</th>\n      <td>...</td>\n      <td>...</td>\n      <td>...</td>\n      <td>...</td>\n      <td>...</td>\n    </tr>\n    <tr>\n      <th>549</th>\n      <td>I just finished a painting that I'm really pro...</td>\n      <td>positive</td>\n      <td>{'neg': 0.0, 'neu': 0.685, 'pos': 0.315, 'comp...</td>\n      <td>0.5697</td>\n      <td>positive</td>\n    </tr>\n    <tr>\n      <th>550</th>\n      <td>I love my new job and the people I work with! 💼😍</td>\n      <td>positive</td>\n      <td>{'neg': 0.0, 'neu': 0.667, 'pos': 0.333, 'comp...</td>\n      <td>0.6696</td>\n      <td>positive</td>\n    </tr>\n    <tr>\n      <th>551</th>\n      <td>I just got a text from my crush asking me out ...</td>\n      <td>positive</td>\n      <td>{'neg': 0.147, 'neu': 0.853, 'pos': 0.0, 'comp...</td>\n      <td>-0.2244</td>\n      <td>negative</td>\n    </tr>\n    <tr>\n      <th>552</th>\n      <td>I'm grateful for my supportive community and t...</td>\n      <td>positive</td>\n      <td>{'neg': 0.0, 'neu': 0.446, 'pos': 0.554, 'comp...</td>\n      <td>0.8805</td>\n      <td>positive</td>\n    </tr>\n    <tr>\n      <th>553</th>\n      <td>I just had the best cup of coffee at this new ...</td>\n      <td>positive</td>\n      <td>{'neg': 0.0, 'neu': 0.769, 'pos': 0.231, 'comp...</td>\n      <td>0.6369</td>\n      <td>positive</td>\n    </tr>\n  </tbody>\n</table>\n<p>178 rows × 5 columns</p>\n</div>"
     },
     "execution_count": 18,
     "metadata": {},
     "output_type": "execute_result"
    }
   ]
  },
  {
   "cell_type": "code",
   "source": [
    "from sklearn.metrics import ConfusionMatrixDisplay, classification_report, accuracy_score"
   ],
   "metadata": {
    "execution": {
     "iopub.status.busy": "2023-11-04T11:56:51.038396Z",
     "iopub.execute_input": "2023-11-04T11:56:51.038861Z",
     "iopub.status.idle": "2023-11-04T11:56:51.044594Z",
     "shell.execute_reply.started": "2023-11-04T11:56:51.038828Z",
     "shell.execute_reply": "2023-11-04T11:56:51.043217Z"
    },
    "trusted": true
   },
   "execution_count": 19,
   "outputs": []
  },
  {
   "cell_type": "code",
   "source": [
    "accuracy_score(data['sentiment'], data['comp_score'])"
   ],
   "metadata": {
    "execution": {
     "iopub.status.busy": "2023-11-04T11:57:26.593651Z",
     "iopub.execute_input": "2023-11-04T11:57:26.594048Z",
     "iopub.status.idle": "2023-11-04T11:57:26.605375Z",
     "shell.execute_reply.started": "2023-11-04T11:57:26.594019Z",
     "shell.execute_reply": "2023-11-04T11:57:26.603576Z"
    },
    "trusted": true
   },
   "execution_count": 20,
   "outputs": [
    {
     "data": {
      "text/plain": "0.702054794520548"
     },
     "execution_count": 20,
     "metadata": {},
     "output_type": "execute_result"
    }
   ]
  },
  {
   "cell_type": "code",
   "source": [
    "data['comp_score_2'] = data['compound'].apply(lambda C: 'positive' if C>0.5 else('negative' if C<-0.5 else 'neutral'))"
   ],
   "metadata": {
    "execution": {
     "iopub.status.busy": "2023-11-04T11:58:40.313188Z",
     "iopub.execute_input": "2023-11-04T11:58:40.313628Z",
     "iopub.status.idle": "2023-11-04T11:58:40.321988Z",
     "shell.execute_reply.started": "2023-11-04T11:58:40.313594Z",
     "shell.execute_reply": "2023-11-04T11:58:40.320855Z"
    },
    "trusted": true
   },
   "execution_count": 21,
   "outputs": []
  },
  {
   "cell_type": "code",
   "source": [
    "accuracy_score(data['sentiment'], data['comp_score_2'])"
   ],
   "metadata": {
    "execution": {
     "iopub.status.busy": "2023-11-04T11:58:53.450185Z",
     "iopub.execute_input": "2023-11-04T11:58:53.450609Z",
     "iopub.status.idle": "2023-11-04T11:58:53.460256Z",
     "shell.execute_reply.started": "2023-11-04T11:58:53.450575Z",
     "shell.execute_reply": "2023-11-04T11:58:53.45908Z"
    },
    "trusted": true
   },
   "execution_count": 22,
   "outputs": [
    {
     "data": {
      "text/plain": "0.7174657534246576"
     },
     "execution_count": 22,
     "metadata": {},
     "output_type": "execute_result"
    }
   ]
  },
  {
   "cell_type": "code",
   "source": [
    "data['comp_score_3'] = data['compound'].apply(lambda C: 'positive' if C>0.6 else('negative' if C<-0.6 else 'neutral'))"
   ],
   "metadata": {
    "execution": {
     "iopub.status.busy": "2023-11-04T11:59:34.295748Z",
     "iopub.execute_input": "2023-11-04T11:59:34.296186Z",
     "iopub.status.idle": "2023-11-04T11:59:34.303674Z",
     "shell.execute_reply.started": "2023-11-04T11:59:34.296154Z",
     "shell.execute_reply": "2023-11-04T11:59:34.302601Z"
    },
    "trusted": true
   },
   "execution_count": 23,
   "outputs": []
  },
  {
   "cell_type": "code",
   "source": [
    "accuracy_score(data['sentiment'], data['comp_score_3'])"
   ],
   "metadata": {
    "execution": {
     "iopub.status.busy": "2023-11-04T11:59:46.108078Z",
     "iopub.execute_input": "2023-11-04T11:59:46.108557Z",
     "iopub.status.idle": "2023-11-04T11:59:46.119101Z",
     "shell.execute_reply.started": "2023-11-04T11:59:46.108523Z",
     "shell.execute_reply": "2023-11-04T11:59:46.117844Z"
    },
    "trusted": true
   },
   "execution_count": 24,
   "outputs": [
    {
     "data": {
      "text/plain": "0.6027397260273972"
     },
     "execution_count": 24,
     "metadata": {},
     "output_type": "execute_result"
    }
   ]
  },
  {
   "cell_type": "code",
   "source": [
    "data['comp_score_4'] = data['compound'].apply(lambda C: 'positive' if C>0.4 else('negative' if C<-0.4 else 'neutral'))"
   ],
   "metadata": {
    "execution": {
     "iopub.status.busy": "2023-11-04T12:01:14.649515Z",
     "iopub.execute_input": "2023-11-04T12:01:14.650739Z",
     "iopub.status.idle": "2023-11-04T12:01:14.658176Z",
     "shell.execute_reply.started": "2023-11-04T12:01:14.650697Z",
     "shell.execute_reply": "2023-11-04T12:01:14.656782Z"
    },
    "trusted": true
   },
   "execution_count": 25,
   "outputs": []
  },
  {
   "cell_type": "code",
   "source": [
    "accuracy_score(data['sentiment'], data['comp_score_4'])"
   ],
   "metadata": {
    "execution": {
     "iopub.status.busy": "2023-11-04T12:01:28.176303Z",
     "iopub.execute_input": "2023-11-04T12:01:28.176733Z",
     "iopub.status.idle": "2023-11-04T12:01:28.186465Z",
     "shell.execute_reply.started": "2023-11-04T12:01:28.176702Z",
     "shell.execute_reply": "2023-11-04T12:01:28.185355Z"
    },
    "trusted": true
   },
   "execution_count": 26,
   "outputs": [
    {
     "data": {
      "text/plain": "0.8047945205479452"
     },
     "execution_count": 26,
     "metadata": {},
     "output_type": "execute_result"
    }
   ]
  },
  {
   "cell_type": "code",
   "source": [
    "data['comp_score_5'] = data['compound'].apply(lambda C: 'positive' if C>0.3 else('negative' if C<-0.3 else 'neutral'))"
   ],
   "metadata": {
    "execution": {
     "iopub.status.busy": "2023-11-04T12:02:01.805671Z",
     "iopub.execute_input": "2023-11-04T12:02:01.806083Z",
     "iopub.status.idle": "2023-11-04T12:02:01.81299Z",
     "shell.execute_reply.started": "2023-11-04T12:02:01.806051Z",
     "shell.execute_reply": "2023-11-04T12:02:01.812136Z"
    },
    "trusted": true
   },
   "execution_count": 27,
   "outputs": []
  },
  {
   "cell_type": "code",
   "source": [
    "accuracy_score(data['sentiment'], data['comp_score_5'])"
   ],
   "metadata": {
    "execution": {
     "iopub.status.busy": "2023-11-04T12:02:13.278614Z",
     "iopub.execute_input": "2023-11-04T12:02:13.279004Z",
     "iopub.status.idle": "2023-11-04T12:02:13.28827Z",
     "shell.execute_reply.started": "2023-11-04T12:02:13.278975Z",
     "shell.execute_reply": "2023-11-04T12:02:13.287457Z"
    },
    "trusted": true
   },
   "execution_count": 28,
   "outputs": [
    {
     "data": {
      "text/plain": "0.809931506849315"
     },
     "execution_count": 28,
     "metadata": {},
     "output_type": "execute_result"
    }
   ]
  },
  {
   "cell_type": "code",
   "source": [
    "data['comp_score_6'] = data['compound'].apply(lambda C: 'positive' if C>0.2 else('negative' if C<-0.2 else 'neutral'))"
   ],
   "metadata": {
    "execution": {
     "iopub.status.busy": "2023-11-04T12:02:47.430471Z",
     "iopub.execute_input": "2023-11-04T12:02:47.43084Z",
     "iopub.status.idle": "2023-11-04T12:02:47.437822Z",
     "shell.execute_reply.started": "2023-11-04T12:02:47.430813Z",
     "shell.execute_reply": "2023-11-04T12:02:47.436643Z"
    },
    "trusted": true
   },
   "execution_count": 29,
   "outputs": []
  },
  {
   "cell_type": "code",
   "execution_count": 30,
   "outputs": [
    {
     "data": {
      "text/plain": "0.702054794520548"
     },
     "execution_count": 30,
     "metadata": {},
     "output_type": "execute_result"
    }
   ],
   "source": [
    "accuracy_score(data['sentiment'], data['comp_score_6'])"
   ],
   "metadata": {
    "collapsed": false
   }
  },
  {
   "cell_type": "code",
   "execution_count": 30,
   "outputs": [],
   "source": [],
   "metadata": {
    "collapsed": false
   }
  }
 ]
}
