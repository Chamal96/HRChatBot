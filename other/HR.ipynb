{
 "cells": [
  {
   "cell_type": "code",
   "execution_count": 129,
   "metadata": {
    "collapsed": true
   },
   "outputs": [],
   "source": [
    "from nltk.sentiment.vader import SentimentIntensityAnalyzer\n",
    "import pandas as pd\n",
    "from sklearn.feature_extraction.text import TfidfVectorizer\n",
    "from sklearn.metrics.pairwise import cosine_distances\n",
    "from nltk.stem import WordNetLemmatizer\n",
    "import nltk\n",
    "import joblib"
   ]
  },
  {
   "cell_type": "code",
   "execution_count": 130,
   "outputs": [
    {
     "name": "stderr",
     "output_type": "stream",
     "text": [
      "[nltk_data] Downloading package wordnet to\n",
      "[nltk_data]     C:\\Users\\chama\\AppData\\Roaming\\nltk_data...\n",
      "[nltk_data]   Package wordnet is already up-to-date!\n"
     ]
    }
   ],
   "source": [
    "# Download the WordNet resource\n",
    "nltk.download('wordnet')\n",
    "\n",
    "# Read conversation from the text file\n",
    "with open(\"../data/human_chat.txt\", \"r\") as file:\n",
    "    conversation = file.readlines()\n",
    "\n",
    "# Extract chatbot and employee responses\n",
    "chatbot_responses = []\n",
    "employee_responses = []\n",
    "\n",
    "for i in range(0, len(conversation), 2):\n",
    "    if i + 1 < len(conversation):  # Check if index is within bounds\n",
    "        chatbot_responses.append(conversation[i][9:].strip())  # Exclude \"Chatbot: \" and strip whitespace\n",
    "        employee_responses.append(conversation[i + 1][10:].strip())  # Exclude \"Employee: \" and strip whitespace\n",
    "    else:\n",
    "        print(\"Warning: Incomplete conversation data at index\", i)  # Debugging statement\n",
    "\n",
    "# Create a pandas DataFrame\n",
    "data = {\n",
    "    'Chatbot Response': chatbot_responses,\n",
    "    'Employee Response': employee_responses\n",
    "}\n",
    "df = pd.DataFrame(data)"
   ],
   "metadata": {
    "collapsed": false
   }
  },
  {
   "cell_type": "code",
   "execution_count": 131,
   "outputs": [],
   "source": [
    "# Sentiment Analysis\n",
    "Text = df['Employee Response']\n",
    "sid = SentimentIntensityAnalyzer()\n",
    "df['rating'] = Text.apply(sid.polarity_scores)\n",
    "df = pd.concat([df.drop(['rating'], axis=1), df['rating'].apply(pd.Series)], axis=1)\n"
   ],
   "metadata": {
    "collapsed": false
   }
  },
  {
   "cell_type": "code",
   "execution_count": 132,
   "outputs": [],
   "source": [
    "# TF-IDF Vectorization\n",
    "tfidf = TfidfVectorizer()\n",
    "factors = tfidf.fit_transform(df['Employee Response']).toarray()\n",
    "\n"
   ],
   "metadata": {
    "collapsed": false
   }
  },
  {
   "cell_type": "code",
   "execution_count": 133,
   "outputs": [],
   "source": [
    "# Initialize lemmatizer\n",
    "lemmatizer = WordNetLemmatizer()"
   ],
   "metadata": {
    "collapsed": false
   }
  },
  {
   "cell_type": "code",
   "execution_count": 134,
   "outputs": [],
   "source": [
    "\n",
    "def chatbot(query):\n",
    "    # step:-1 clean\n",
    "    query = lemmatizer.lemmatize(query)\n",
    "    # step:-2 word embedding - transform\n",
    "    query_vector = tfidf.transform([query]).toarray()\n",
    "    # step-3: cosine similarity\n",
    "    similar_score = 1 -cosine_distances(factors,query_vector)\n",
    "    index = similar_score.argmax() # take max index position\n",
    "    # searching or matching question\n",
    "    matching_question = df.loc[index]['Chatbot Response']\n",
    "    response = df.loc[index]['Employee Response']\n",
    "    pos_score = df.loc[index]['pos']\n",
    "    neg_score = df.loc[index]['neg']\n",
    "    neu_score = df.loc[index]['neu']\n",
    "    confidence = similar_score[index][0]\n",
    "    chat_dict = {'match':matching_question,\n",
    "                 'response':response,\n",
    "                 'score':confidence,\n",
    "                 'pos':pos_score,\n",
    "                 'neg':neg_score,\n",
    "                 'neu':neu_score}\n",
    "    return chat_dict"
   ],
   "metadata": {
    "collapsed": false
   }
  },
  {
   "cell_type": "code",
   "execution_count": 135,
   "outputs": [
    {
     "name": "stdout",
     "output_type": "stream",
     "text": [
      "{'match': 'Yep! I believe there is a day for that', 'response': \"Amazing to think about, isn't it.\", 'score': 1.0, 'pos': 0.432, 'neg': 0.0, 'neu': 0.568}\n"
     ]
    }
   ],
   "source": [
    "query = \"Amazing to think about, isn't it.\"\n",
    "response = chatbot(query)\n",
    "print(response)"
   ],
   "metadata": {
    "collapsed": false
   }
  },
  {
   "cell_type": "code",
   "execution_count": 135,
   "outputs": [],
   "source": [],
   "metadata": {
    "collapsed": false
   }
  },
  {
   "cell_type": "code",
   "execution_count": 135,
   "outputs": [],
   "source": [],
   "metadata": {
    "collapsed": false
   }
  }
 ],
 "metadata": {
  "kernelspec": {
   "display_name": "Python 3",
   "language": "python",
   "name": "python3"
  },
  "language_info": {
   "codemirror_mode": {
    "name": "ipython",
    "version": 2
   },
   "file_extension": ".py",
   "mimetype": "text/x-python",
   "name": "python",
   "nbconvert_exporter": "python",
   "pygments_lexer": "ipython2",
   "version": "2.7.6"
  }
 },
 "nbformat": 4,
 "nbformat_minor": 0
}
