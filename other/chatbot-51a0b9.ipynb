{
 "metadata": {
  "kernelspec": {
   "language": "python",
   "display_name": "Python 3",
   "name": "python3"
  },
  "language_info": {
   "pygments_lexer": "ipython3",
   "nbconvert_exporter": "python",
   "version": "3.6.4",
   "file_extension": ".py",
   "codemirror_mode": {
    "name": "ipython",
    "version": 3
   },
   "name": "python",
   "mimetype": "text/x-python"
  },
  "kaggle": {
   "accelerator": "none",
   "dataSources": [
    {
     "sourceId": 1190,
     "sourceType": "datasetVersion",
     "datasetId": 623
    },
    {
     "sourceId": 726715,
     "sourceType": "datasetVersion",
     "datasetId": 262
    },
    {
     "sourceId": 726723,
     "sourceType": "datasetVersion",
     "datasetId": 265
    },
    {
     "sourceId": 789660,
     "sourceType": "datasetVersion",
     "datasetId": 412543
    },
    {
     "sourceId": 911511,
     "sourceType": "datasetVersion",
     "datasetId": 489487
    },
    {
     "sourceId": 1245709,
     "sourceType": "datasetVersion",
     "datasetId": 715041
    },
    {
     "sourceId": 1531926,
     "sourceType": "datasetVersion",
     "datasetId": 903283
    },
    {
     "sourceId": 1676841,
     "sourceType": "datasetVersion",
     "datasetId": 993371
    },
    {
     "sourceId": 1735333,
     "sourceType": "datasetVersion",
     "datasetId": 1029967
    },
    {
     "sourceId": 1765643,
     "sourceType": "datasetVersion",
     "datasetId": 1049526
    },
    {
     "sourceId": 2745724,
     "sourceType": "datasetVersion",
     "datasetId": 1674093
    },
    {
     "sourceId": 2754347,
     "sourceType": "datasetVersion",
     "datasetId": 1680501
    },
    {
     "sourceId": 2931845,
     "sourceType": "datasetVersion",
     "datasetId": 1797388
    },
    {
     "sourceId": 3238154,
     "sourceType": "datasetVersion",
     "datasetId": 1962861
    },
    {
     "sourceId": 7379096,
     "sourceType": "datasetVersion",
     "datasetId": 1750267
    }
   ],
   "dockerImageVersionId": 30170,
   "isInternetEnabled": false,
   "language": "python",
   "sourceType": "notebook",
   "isGpuEnabled": false
  }
 },
 "nbformat_minor": 4,
 "nbformat": 4,
 "cells": [
  {
   "cell_type": "code",
   "source": [
    "# # This Python 3 environment comes with many helpful analytics libraries installed\n",
    "# # It is defined by the kaggle/python Docker image: https://github.com/kaggle/docker-python\n",
    "# # For example, here's several helpful packages to load\n",
    "#\n",
    "import numpy as np # linear algebra|\n",
    "import pandas as pd # data processing, CSV file I/O (e.g. pd.read_csv)\n",
    "#\n",
    "# # Input data files are available in the read-only \"../input/\" directory\n",
    "# # For example, running this (by clicking run or pressing Shift+Enter) will list all files under the input directory\n",
    "#\n",
    "# import os\n",
    "# for dirname, _, filenames in os.walk('/kaggle/input'):\n",
    "#     for filename in filenames:\n",
    "#         print(os.path.join(dirname, filename))\n",
    "#\n",
    "# # You can write up to 20GB to the current directory (/kaggle/working/) that gets preserved as output when you create a version using \"Save & Run All\"\n",
    "# # You can also write temporary files to /kaggle/temp/, but they won't be saved outside of the current session"
   ],
   "metadata": {
    "_uuid": "3d604755-5e26-44f1-9339-b3c074eb0b15",
    "_cell_guid": "727ac648-d64f-47d1-9afe-25d3ecf772a5",
    "scrolled": true,
    "execution": {
     "iopub.status.busy": "2023-07-24T09:18:14.47419Z",
     "iopub.execute_input": "2023-07-24T09:18:14.474925Z",
     "iopub.status.idle": "2023-07-24T09:18:14.660067Z",
     "shell.execute_reply.started": "2023-07-24T09:18:14.474822Z",
     "shell.execute_reply": "2023-07-24T09:18:14.65909Z"
    },
    "trusted": true
   },
   "execution_count": 7,
   "outputs": []
  },
  {
   "cell_type": "code",
   "source": [
    "# df = pd.read_csv('/kaggle/input/stacksample/Tags.csv')\n",
    "# tag = []\n",
    "# # print(len(df['Tag']))\n",
    "# # print(len(df['Id']))\n",
    "# for i in range(0, len(df)):\n",
    "#     if df['Tag'][i] == 'python':\n",
    "#         tag.append(df['Id'][i])\n",
    "#\n",
    "# print(len(tag))"
   ],
   "metadata": {
    "execution": {
     "iopub.status.busy": "2022-05-30T09:02:14.875165Z",
     "iopub.execute_input": "2022-05-30T09:02:14.875563Z",
     "iopub.status.idle": "2022-05-30T09:02:35.68645Z",
     "shell.execute_reply.started": "2022-05-30T09:02:14.875531Z",
     "shell.execute_reply": "2022-05-30T09:02:35.685526Z"
    },
    "trusted": true
   },
   "execution_count": null,
   "outputs": []
  },
  {
   "cell_type": "code",
   "source": [
    "# df = pd.read_csv('/kaggle/input/stacksample/Questions.csv', encoding = 'ISO-8859-1')\n",
    "# questions = []\n",
    "# answers = []\n",
    "# print(len(df['Id'].unique()))\n",
    "# for i in range(0, 100000):\n",
    "#     if df['Id'][i] in tag:\n",
    "#         questions.append(df['OwnerUserId'][i])\n",
    "#         questions.append(df['Body'][i])\n",
    "#\n",
    "# print(len(questions))"
   ],
   "metadata": {
    "execution": {
     "iopub.status.busy": "2022-05-30T09:03:20.015159Z",
     "iopub.execute_input": "2022-05-30T09:03:20.015439Z",
     "iopub.status.idle": "2022-05-30T09:05:53.777021Z",
     "shell.execute_reply.started": "2022-05-30T09:03:20.015412Z",
     "shell.execute_reply": "2022-05-30T09:05:53.776187Z"
    },
    "trusted": true
   },
   "execution_count": null,
   "outputs": []
  },
  {
   "cell_type": "code",
   "source": [
    "# questions[:10]"
   ],
   "metadata": {
    "execution": {
     "iopub.status.busy": "2022-05-30T09:06:49.355721Z",
     "iopub.execute_input": "2022-05-30T09:06:49.356026Z",
     "iopub.status.idle": "2022-05-30T09:06:49.365961Z",
     "shell.execute_reply.started": "2022-05-30T09:06:49.355991Z",
     "shell.execute_reply": "2022-05-30T09:06:49.36517Z"
    },
    "trusted": true
   },
   "execution_count": null,
   "outputs": []
  },
  {
   "cell_type": "code",
   "source": [
    "# df = pd.read_csv('/kaggle/input/stacksample/Answers.csv', encoding = 'ISO-8859-1')\n",
    "# answers = []\n",
    "# print(len(df['Id'].unique()))\n",
    "# for i in range(0, 300000):\n",
    "#     if df['Id'][i] in tag:\n",
    "#         answers.append(df['ParentId'][i])\n",
    "#         answers.append(df['Body'][i])"
   ],
   "metadata": {
    "execution": {
     "iopub.status.busy": "2022-05-30T09:13:26.154815Z",
     "iopub.execute_input": "2022-05-30T09:13:26.155233Z",
     "iopub.status.idle": "2022-05-30T09:18:34.024025Z",
     "shell.execute_reply.started": "2022-05-30T09:13:26.155201Z",
     "shell.execute_reply": "2022-05-30T09:18:34.023161Z"
    },
    "trusted": true
   },
   "execution_count": null,
   "outputs": []
  },
  {
   "cell_type": "code",
   "source": [
    "# answers[:10]"
   ],
   "metadata": {
    "execution": {
     "iopub.status.busy": "2022-05-30T09:13:06.280809Z",
     "iopub.execute_input": "2022-05-30T09:13:06.281093Z",
     "iopub.status.idle": "2022-05-30T09:13:06.286713Z",
     "shell.execute_reply.started": "2022-05-30T09:13:06.281061Z",
     "shell.execute_reply": "2022-05-30T09:13:06.286132Z"
    },
    "trusted": true
   },
   "execution_count": null,
   "outputs": []
  },
  {
   "cell_type": "markdown",
   "source": [
    "***Human Conversation dialogs***"
   ],
   "metadata": {
    "_uuid": "679cad90-7b7f-4ed0-9b4e-17a032dc890a",
    "_cell_guid": "078d68cc-8b1d-4df1-a25b-946beb4e9b09",
    "trusted": true
   }
  },
  {
   "cell_type": "code",
   "source": [
    "dialogs = []\n",
    "\n",
    "# Explicitly specify the encoding (e.g., 'utf-8')\n",
    "with open('data/human_chat.txt', 'r', encoding='utf-8') as file:\n",
    "    for line in file:\n",
    "        if ': ' in line:\n",
    "            try:\n",
    "                dialogue = line.split(': ')[1].rstrip('\\n')\n",
    "                dialogs.append(dialogue)\n",
    "            except IndexError:\n",
    "                print('Error extracting dialogue from line:', line)\n",
    "        else:\n",
    "            print('Skipped line without expected format:', line)\n",
    "\n",
    "print(len(dialogs))\n",
    "print(dialogs)\n"
   ],
   "metadata": {
    "_uuid": "72d3600d-927b-4da4-aec4-27fe98f1d030",
    "_cell_guid": "60ae89f7-dac9-4df8-908a-4ccb50ac4655",
    "scrolled": true,
    "trusted": true
   },
   "execution_count": 4,
   "outputs": [
    {
     "name": "stdout",
     "output_type": "stream",
     "text": [
      "Skipped line without expected format: \n",
      "\n",
      "1494\n",
      "['Hi!', 'What is your favorite holiday?', 'one where I get to meet lots of different people.', 'What was the most number of people you have ever met during a holiday?', 'Hard to keep a count. Maybe 25.', 'Which holiday was that?', 'I think it was Australia', 'Do you still talk to the people you met?', \"Not really. The interactions are usually short-lived but it's fascinating to learn where people are coming from and what matters to them\", 'Yea, me too. I feel like God often puts strangers in front of you, and gives you an opportunity to connect with them in that moment in deeply meaningful ways. Do you ever feel like you know things about strangers without them telling you?', 'what do you mean?', 'I think it\\'s like a 6th sense, often seen as \"cold readings\" to people, but can be remarkably accurate. I once sat next to a man in a coffee and I felt a pain in my back. I asked the stranger if he had a pain. It turns out that he did in the exact spot, and said he pulled a muscle while dancing at a party. I had never met the man before and never saw him again.', \"Wow! That's interesting, borderline spooky\", 'There\\'s this practice called \"Treasure Hunting\" that\\'s kind of a fun game you play in a public place. There\\'s a book called \"The Ultimate Treasure Hunt\" that talks about it. You use your creativity to imagine people you will meet, and you write down a description, then you associate them with a positive message or encouraging word. Maybe you saw a teenage boy in a red hat at the shopping mall in your imagination, then while at the mall, you may find someone who matches that description. You show that you have a message for him and that you have a message for a boy in a red hat. You then give him a message of kindness or whatever was on your heart. You have no idea, sometimes you meet someone who is having a really hard day, and it brings them to tears to have a stranger show them love.', 'So, do you do treasure hunting often?', \"I did more when I was in grad school (and had more time). I would usually go with friends. For a while I would go to the farmers market in Santa Cruz every week and try to feel if there is something I am supposed to tell a stranger. Usually, they are vague hope-filled messages, but it's weird when I blurt out something oddly specific.\", 'Hi', 'Any plans for the weekend?', 'my friends are gonna visit me this weekend. we might go hiking!', \"That's great! How's the weather over the weekend? I hope its warm.\", 'Should be very sunny! you?', 'Cool! very depressing plans ... stay home and work ðŸ˜ž I have a project deadline very close.', 'ðŸ˜\\x90 hope you get your work done very soon! a bug free weekend!', 'Right, very anxious! where do you plan to go for a hike?', 'I am going to Diablo!', \"Nice, where is that place? I haven't been there\", 'hours drive from here. still in bay area', \"That's cool! How long is the hike?\", ' Actually no idea, but it will take the entire day for that.', 'nice! sounds fun!', 'Hi!', \"Hey there! What's up???\", 'Nothing much, how you doin?', \"I'm in New York this week for Thanksgiving. I'm squatting in the office today and I caught up with an old friend of mine :D\", 'Oh wow! Sounds like fun! When was the last time you had seen this friend?', 'The last time in New York, back in June.', \"Ohh okay. I was going to say if it had been a long time maybe it'd be awkward...\", \"Haha, I guess if it's been a very long time there's almost too many life events to catch up on.. especially recently\", 'Oh really? Has a lot changed in your life recently?', \"Haha it's probably too much to go into at the moment. Let's just say life is an exciting experience. How about you?\", 'Ahhh sounds exciting indeed! My life is pretty bland. I like routine, but sometimes I wish I had more time for adventures!', 'What kinds of adventures?? Any ones that I would be able to join you on?', 'Hmmmm. I really want to try bull riding. Do you have any interest in that?', \"I'd love to try! Can we schedule something for next week?\", 'Sure! What does your Saturday look like?', 'Saturday looks pretty good, shall we shoot for something in the morning?', 'Hi!', 'hey', 'is it raining pretty bad today?', 'yeah, can walk too far to see all the foodtruck options', \"surprising that the rain started early this year... I don't like them too much. They make days gloomy\", \"yeah but I think it's good to have some rainy days in bay area, it's pretty dry here ðŸ˜›\", 'Where I grew up, we had lots of water trouble too...', \"yeah like wise, I've seen a pretty bad snowstorm when I was at my undergrad school, all flights canceled and traffics went down\", \"Haha... I don't think I can survive in that weather ever. Just the rains at 50 degrees make me want to sit in heated rroms\", 'yeah how do you like it in bay area though? I think we need more rain here', 'people say there is drought here... but we have 24 hours water supply here ... lol... never seen that in a drought ridden area', \"it is pretty dry in the mountains I believe, that's what causes fire\", 'hmm.... okay. Climate change talk this morning was pretty darn interesting. did you see it?', 'nope, what does it say?', 'they were talking about how AI is helping climate change. Nice use of upcoming tech.', 'Hi.', 'Helloooooo!', 'How are you? How is your day?', \"Good. Don't have much to do today, feels good. How are you?\", \"I'm dressed very wel today so I feel good! I've been reading a lot about the psychology of positive outlook.\", \"So what's your outlook? Something blue?\", \"Yes. Blue is a tranquil colour. It's a good metaphor. Do you have good advice for positivity?\", 'You should drink more water, do some push up, and sleep early.', 'Hi!', 'Hey, how are you?', \"I'm a bit sad. I miss my cat.\", 'Oh noâ€¦ Have you sent out the missing cat posters? Hope your cat is alright!', \"Posters is a great idea. So far I've just tried banging her catfood dish and shouting her name. Anyway, how is your day going so far?\", 'Yea, I know they love the plastic bag sound all the time. I am good, nothing special though.', 'If you could go anywhere on vacation, where would you go?', 'I like rainforest, but I know it requires extensive training beforehand.', 'I heard there are rainforests in southeast Asia where you can zipline from tree to tree.', 'I am afraid I will be scared of doing this :)', \"I won't lie, it sounds scary. I'm scared right now just thinking about it.\", \"I don't know if there is any medication for acrophobia. I want to take plenty of it if I really have to do it.\", \"If there isn't one, you should invent it, and then make millions\", \"That's a great idea! Maybe alcohol is such a thing.\", \"Ha! Don't drink and zipline, mate!\", \"Oops. I won't do it again. Ha\", 'Hi!', 'Hey sup', 'not much. any plans this weekend?', \"I'm going to try that thing where you hang from a wire as you go down. do you know what is it called?\", 'ziplining?', \"that's the one! have you ever tried it?\", \"i have a couple years ago. it's quite a unique experience\", 'where did you do it?', \"i forgot where it was, it wasn't local i don't think though\", \"no worries. what's the most exciting thing you ever done?\", \"that's a hard question and i'm tired so i'm going to go. see you\", 'sure. are you just going home now?', \"no, i'm going to get a massage first\", 'nice. what type?', 'traditional kind', 'yeah I want to get one too soon', \"you should! it's relaxing after a long day. talk to you later!\", 'ttyl!', 'Hi!', 'Hello, have you seen any good movies lately?', \"I watched a few lately, but nothing is as good as Avatar. what's your favorite?\", 'I have never seen Avatar, what is it about? I really enjoy the Avenger movies', \"it's a science-fiction movie with beautiful landscape of an imaginary nature with non-human creatures. people figured out a way to join that nature through Avatar transformation. the movie ends with a meaningful story of how human behaviors, e.g., cutting trees, have affected nature\", 'That sounds really cool! I think that movie did really well when it was in the box office so it must be good!', 'yea. what else do you like to do beside movies?', 'I enjoy baking cookies. I am on a quest to bake the best chocolate chip cookie ðŸ™‚ What about you?', 'I enjoy eating ðŸ™‚', 'so definitely would like to try your best chocolate cookie', 'I will have to bake some soon and let you know. What types of food do you like to eat?', 'thanks! I generally love noodle soups like Pho or Ramen :)', 'Noodle soup is delicious! Do you make homemade noodle soup or do you prefer to go out?', \"I prefer to go out. I'm not a good cook haha\", 'Same! Even though I bake, I cannot cook', 'seems like we share a thing in common, yay!', 'Hi!', 'Good afternoon!', 'How has your week been?', 'So far so good. It is holiday season. So just chilling', \"I think I'm getting sick with a cold ðŸ˜ž So you should chill on my behalf too cause I'm out the game for all of December.\", 'lol Sorry to hear that. Are you planning anything fun for December?', \"Nothing exciting. I'll be posted up at home for the most part. I did a lot of travelling this year so my budget would have stopped me even if I wasn't sick.\", 'ðŸ˜‚', 'Do you have big plans?', 'Yes! I am going to Hawaii! This will be my first time visiting Hawaii. Really excited about it.', \"I love Hawaii. It's a good place to be. I like going there cause it's humid so I never have to put on lotion.\", 'lol this is the first time I heard from a boy who cares about humidity and lotion. I cannot agree more.', \"Brooooo!!! It's so important. When I got to California beaches I have to carry 3 litres of lotion for the whole day.\", 'ðŸ˜‚', 'Hi!', \"Oh hello. Long time no talk. How's the day going for yuo?\", 'Very well, thanks for asking. How has your day been?', 'Getting better. I just recovered from a cold. I got wet in the rain last week. Are you planning anything for the holidays?', \"Glad to hear you're better. Sorry to hear you were sick. I was sick a couple of weeks ago with a bad cough. There's definitely a bug going around. Admit I just want to stay healthy for the holidays and plan to relax.\", 'Oh same here. I think relaxing at home should be counted among the best ways to enjoy the holidays.', \"Definitely! I know a lot of folks travel for the holidays, but I'm happy to stay home myself!\", \"I'm getting there. Every year until last year, I tried to go somewhere for the Christmas / New Year, and then I got bored traveling. lol not sure if that means I'm getting old?\", \"Me too. Now I have folks come visit me for the holidays! But that's also tiresome..\", 'Are you doing any home decorating then?', 'Yes! We set up an eco-friendly (i.e. fake) Christmas tree and put up some colorful LED lights which is very festive.', \"I think I'm copying you. Me and my wife plan to decorate and Christmas tree too. We bought most of the decorative stuffs from the stores, but haven't yet to buy the tree.\", 'Buying a tree is a neat experience. I was torn between buying an artificial/eco-friendly/fake one vs. a real one that smells like fresh pine. In the end, we opted for the one that we can disassemble every year.', 'I see. Artificial anything is better, from tree to intelligence, huh?', 'Oh, very clever pun! I like it! Depends. I remember having real Christmas trees from childhood, but these days with climate change, I think not chopping down a tree just to decorate it and then throw it out in a month is the more responsible thing to do.', \"I see. It's probably also cheaper. I'll buy an artificial one too. Do you have any suggestions for the store?\", 'Admit my favorite store is Target, plus they often have good deals.', \"Ah that's great. My wife also likes Target a lot. She even made a Target credit card because she comes to that store very often. Okay thanks for the suggestion. I'll check out Target.\", 'Great, I hope you find a nice tree.', 'Hi!', 'Hey', \"How's your day going?\", 'pretty good. yours?', \"Ehh it's fine. I didn't do so well on that history test, actually..\", 'oh what happened?', \"Apparently Christopher Columbus didn't fight in the Civil War :')\", 'hahah wait for real?', 'I know right! Are you taking History next semester?', \"No I'm not in school anymore\", 'Oh I see. What do you do?', 'I train and compete in horse vaulting', 'Oh wow. Were you born a horse, or were you turned into one?', \"lol you're too funny\", 'Just kidding. That sounds pretty cool! Is it your job?', 'Yeah, but I part time work on a farm. Helping with a bit of everything', 'Wow, sounds very busy! Do you with money at those horse vaulting competitions?', 'Yeah some. enough to get by', 'Hi!', 'Hello', 'Do you have a favourite flower?', \"hmm, I haven't thought about that much, but i think lotus should be one of my favorites. Why do you ask?\", \"I'm working on a theory. Why does the lotus spring to mind?\", 'Nice! Lotus looks pretty cool and It has some delightful vibe. So what is this research about?', \"Oh, it's not research! Just a personal theory. I think that flower preferences are more revealing of personality than people appreciate.\", 'Interesting! Whats your favorite flower?', 'The gerbera. It\\'s like a cartoon flower. As if you drew \"flower\" with a crayon and then it came to life.', 'Nice, i would love know more about your theory. Like how you can deduce personality from flower preference.', 'Ok, step 1 is, you ask someone what their favourite flower is. Pretty much like what we just did. Does that make sense so far?', 'yes', 'Cool. Step 2', 'Hehe, i think you should publish this someday :)', \"Why thank you, that's a wonderful idea!\", 'Hi!', \"Hey how's it going\", \"It's good it's good. How are you?\", \"good. it's really hot today. I think I'm going to the pool\", 'Oh nice! Where do you live?', 'I live in Tokyo, Japan', 'Ahh yes, Japan is hot during the summer. Last time I was in Kyoto it was 114 degrees....', 'oh have you been?', \"Yes yes. I've been to Tokyo as well. It's so nice!\", 'what did you do here?', 'Oh everything! I went to an onsen, the fish market, disney land and giant robot fighting show haha', 'lol why did you come to Japan just to go to Disney land?', \"The Disney lands are all different! There's also Disney Sea, which is completely unique!\", \"oh neat. I haven't heard about that robot fighting show. where is that??\", 'I don\\'t really remember what part of town it was in. It was pretty cool though - I\\'m sure you can find it if you google \"giant robot fighting show tokyo\" haha', 'lol ok', 'Hi!', 'Have you seen any good movies lately?', 'Last weekend I saw \"The Parasite.\" Ever heard of it?', 'No. Why did you pick that movie?', 'My friend wanted to see it. It has great reviews on IMDB and Rotten Tomatoes! What did you do last weekend?', 'I played music and worked on some side projects. I also started watching the new Disney service.', 'Oooo the Mandalorian?!?!', 'Mostly, the deleted scenes from Avengers.. lol', 'lol Are you a big Marvel fan?', 'I loved the X-Men as a kid, and even collected the comic cards. Recently, I got very into the Marvel Cinematic Universe movies. How many Avengers movies have you seen?', \"I've only seen Spiderman. Honestly it was a little too scary and so I don't think I can bring myself to watch the other Marvel movies! haha\", 'Oh!-- I have a friend who looks like the actor who plays Spiderman.', 'Oh really? To be honest I think the actor is not that good looking, so not so surprising! haha', 'Yea. I think Loki is the most handsome ðŸ˜€', \"Who is Loki? I've never heard that name before\", \"He's the adopted brother of Thor, God of thunder, and is burdened with glorious purpose. Do you feel that burden?\", 'Hi!', \"Hey, what's up?\", \"Just chillin'. how are you?\", \"I'm pretty good, thanks.\", 'Do anything interesting today?', 'I went to the local cafe and had a double espresso. It was delicious. What about you?', \"Oh that's cool! I actually went to an amusement park and went on my first roller coaster!\", 'Oh my gosh. What was it like??', \"It was scary! It was actually Kingda Ka, the world's tallest roller coaster. Ever heard of it?\", \"No, never heard of it. But I'm not really a coaster aficianado. I've heard that some people get addicted to them and travel the world to try them.\", \"Oh wow! I'm not on that level yet, but I understand the appeal. Are you an adrenaline junkie at all?\", \"No, the opposite. I can't stand heights, horror movies, or confined spaces.\", \"Same! I guess the roller coaster wasn't so bad because I trust the engineering haha\", 'Ha, I suppose that makes sense! Would you say that you enjoyed it?', \"Maybe not so much at the time, but I am glad I did it now that it's done, know what I mean?\", 'I think I sort of understand :)', 'Hi!', 'hello there, how is it going?', 'All good. Planning to head home soon. How about you?', \"I'm quite tired. There are a lot of things I need to finish before the end of the year.\", 'oh... sorry to hear that. But after that it will be a hard earned vacation', \"yeah, looking forward to it. Hope I don't get pinged during the holidays. Are you going to travel these dates?\", \"I have some tentative plans, but if that doesn't pan out, will just chill at home.\", 'staying at home is always nice during the holidays', 'Where are you based out of these days?', \"I'm working from LA, nice weather around here. and you?\", \"San Francisco. It's been raining cats and dogs here since last 2-3 weeks\", \"aw man, I'm sorry to hear that. at least it's not snow!\", 'The flu has been hitting hard as well. I had several folks in the house down at one point.', \"that's really sad. are they feeling any better?\", 'Yes, everyone recovered now', 'Hi!', 'Hello', \"How's it going?\", 'Extremely busy. I have been trying to prepare for the upcoming holidays. How about you?', \"I'm going to the bahamas. Can't wait!!!\", \"I'm jealous, take me with you!! I would love to have some warm weather right now\", 'oh where are you now?', 'Canada. There is another major snowstorm that might hit this weekend so I have been rushing to get everything done before it comes.', 'oh no. I never seen this in person. Is it scary?', \"Snow is not scary as long as you're prepared. You just need to be ready to not have electricity for a while. I enjoy the aftermath of a good snowstorm because then you can go sledding or skiing.\", 'that does sound nice. so what are you doing these holidays?', 'I am having all of the extended family over for a big meal. We will also go <REDACTED_TERM> as well. What will you do in the bahamas?', \"nice nice. I'm gonna go snorkeling yey\", 'Sounds fun! I wish I knew how to swim!', 'You can stay on the shallow side I think. Well hope you enjoy time with your extended family!', \"That's true. You too, have a great time snorkeling!\", 'Hi!', 'Hi! How was your weekend?', 'pretty good. just went to church and hangout with friends', 'Nice', 'did you do anything?', 'I made donuts and samosas with an air fryer have you used one of those before', 'yum yum yum no only good old oily frier', 'haha', 'do you have one at your home or were you at a friends place?', \"I was at my parents' place what are you up to for Thanksgiving?\", \"I'm going to impersonate a pumpkin\", 'wow, those are unique plans', \"I'm pretty unique person\", 'I think so too', 'any other hobbies besides air frying everything? ðŸ™‚', 'I want to start fermenting things kimchi for example sounds like a fun thing to ferment takes a few days apparently miso takes a couple years to fermen', 'Hi!', \"heya, nice to meet you, I'm Paul\", \"nice to meet you too! I'm James. how are you doing today?\", \"I'm doing OK. Looking forwards to the weekend. how about you?\", 'same here! I hope the weather will be nice', \"oh yeah, but I don't have my hopes too high, I heard there could be a storm coming our way\", 'oh no, which areas will be affected?', 'they mentioned that the whole city will experience harsh weather and that people in the outskirts will probably not get much rain and wind', \"uh oh, I'd better not to plan for BBQ then instead just enjoying playing board games inside ðŸ™‚\", \"yeah, it'll be good weather for staying inside with a cup of hot chocolate. Too bad my street usually floods, so I'll have to check for that\", \"yea, you'd better check. where do you live?\", 'I live at the bottom of the valley, cheap area but we do get affected by this kind of stuff a lot haha', 'gotcha. anything you love about where you live?', 'well, the food around the area is amazing, which is definitely a plus.', \"nice! I'd love to come visit that area some times\", 'Hi!', 'hello, who am I having the pleasure to chat with ðŸ™‚', 'I am the superman! What about you?', 'haha. great chating with superman, what is your power?', \"Being invisible. You won't see me.\", 'haha. what else can you do? can you read minds?', 'I would rather trust fMRI and machine learning to do this. I am not an expert on that. Sorry for it!', 'wow that seems pretty technical. what does fMRI mean?', \"The brain imaging thing that can tell you a brain's activity at a pretty high resolution.\", 'okay! so you seem to like science a lot?', 'I believe in Science! Science is my god!', 'Are you also doing science?', \"no, I'm bad at Science. what can Science do? is it the most important thing for society?\", 'People are always arguing. Probably both science and democracy are both important I guess.', 'Does it make sense?', 'I think so. thanks for your point!', 'Hello, Nice to meet you', 'If you could eat only one food for the rest of time, what would it be?', \"Hmm... That's a tough one. I think I would go Asian Food > Chinese Food > Stirfry. What about you?\", \"I think ice-cream. It may not be good for me, but I wouldn't care, haha\", 'I love ice cream too!', 'Okay, top three flavors?', 'I like vanilla more than chocolate ice cream. I typically will do any variations on vanilla. To pick from the top of my head, I would say Cookies and Cream, Mint Chocolate Chip, and Coffee. How about you?', \"Ah, that's a good way of framing it. Me, I like berries\", \"Very nice. I love sorbet's and smoothies. Changing topics, Do you believe in an afterlife?\", \"Yes. I wonder if I'm in it right now. How would I know? What do you think?\", 'I think so. I feel there must be something more than the physical world as we understand it.', \"There's a mental world, I suppose? Understanding itself\", 'What is the most supernatural experience you have ever had?', \"I went to a seance once in college. They had a ouija board. I can't remember if we actually contacted the spirit world because I had a bit too much to drink.\", \"Haha.. that's a cool experience. I went to a Hindu retreat before, a number of Buddhist temples, and hung out with Christian Mystics in Santa Cruz before.\", 'Hi!', 'Hi, how are you doing!', \"I'm doing well. what are you up to?\", 'Yeah, typical work stuff. Check emails and 99% of the inbox. delete 99%', \"wow, that's impressive. I already gave up on cleaning emails long ago\", \"lol doesn't it bother you at all\", \"yea, a little bit, but it's okay ðŸ™‚ what do you enjoy doing outside work?\", 'Well, movie? I watched Terminator last night. It was a nice movie', 'ah cool. so you like action movies?', 'Not really. But it was fun to watch with friends ðŸ™‚ It was touching at the end of the movie', 'what happened there? I watched bits of Terminators movies but never a full one', 'Are you sure you want the spoiler ðŸ™‚', \"haha sure. by the time, I get to it; I will forget the details, only knowing that it's touching at the end\", 'ðŸ˜‚ well someone died at the end Or some robots, to be more accurate ðŸ˜‰', \"oh no, so it's not happy ending?\", 'The leading character is still alive and the bad robots was killed too. So I guess it is happy ending', \"then I want to watch it! you didn't spoil much ðŸ™‚\", 'Nice! Hope you enjoy it!', 'Thanks!', 'Hi!', 'Hey, how are you?', 'doing great! what are you looking forward to?', 'thanksgiving holidays ðŸ™‚', 'yay! Turkey and shopping!', 'not a big turkey fan! I find it too dry', 'yea me too. I sometimes eat noodle soups in thanksgiving instead haha', 'yeah, I would have noodles anyday over turkey. Not sure how the turkey tradition started', 'me neither. someone told me that it depends on the stuffing inside the Turkey. some people make very good stuffing', \"yeah, that and the gravy. Gravy helps make it taste better too. But apart from food, Black Friday deals are a catch. Let's see what they have this year\", 'yea. what do you plan to buy?', 'thinking of getting a fitbit', 'ah cool. so you can run more frequently?:)', 'yeah, just keeping calories in check', 'yay, all the best with keeping calories in check!', 'Hi!', \"Hi there ðŸ™‚ How's your day so far?\", 'doing well. what are you up to?', \"busy busy! I've had back-to-back meetings all day\", 'same here. what do you love to do beside meetings? ðŸ™‚', \"well I've gotten really into yoga lately. I went to a class today and it was super hard\", 'aww .. I hope things will get less hard and you become an expert in it! I heard many great things about Yoga', 'yeah the teacher seems super awesome so I will definitely keep trying what activities do you enjoy?', 'ah I enjoy playing soccer and tennis ðŸ™‚ unfortunately, winter is not the best time for those ðŸ™‚', \"oh that's too bad. Is it hard to find a place to play soccer or tennis indoors?\", 'yea. I enjoy playing outside though, just a little cold ðŸ™‚ what else do you do beside Yoga?', 'I also like to sing, I perform with a group sometimes. Do you like music?', 'yea definitely! I love singing Karaoke. my wife is a pianist ðŸ™‚', \"haha that's awesome! Karaoke is really fun, I do it with my friends sometimes\", 'awesome. glad to find something in common!', 'Hi!', 'hey there', 'hey anything new?', 'not too much. just really looking forward to the holidays!', 'any plans?', \"yes! I'm going to Mexico and I couldn't be more excited\", \"that's awesome! I never been!\", 'Oh man I would highly recommend it', 'Are you a food person, a sightseeing person or neither?', \"that's a great question, and I'm definitely both. this trip will mostly be about food though, and relaxing\", \"I'm a food person I think. Any specific foods you're planning on trying?\", \"there's a taco place that I've visited before that I can't wait to go back to. Do you like tacos?\", 'yeah my favorite is taco fish', 'ooh that is a good choice. Have you ever made them yourself?', 'no. only eat them ðŸ˜€', 'Hi!', 'Hey, how are you ðŸ™‚', 'I am good. How are you? ï¼šï¼‰', 'Doing well, lot of work though. How was your day?', 'I am busy. A lot of work. What are you working on?', 'Just reading latest research. There is so much to cover. how about you?', 'I am working on a new classifier.', 'ohh, interesting! What kind of classifier', 'A new classifier for hate speech. Which research topic catches your eyes most?', \"You're so cool. Making world a better place. I'm mostly into NLP. What do you do when not making classifiers?\", 'Nice! Do you refer to work or anything else?', \"Anything in general. You're so cool, I want to know more about you ðŸ™‚\", 'You are very cool too!!', 'Hi!', 'hello there! who are you?', \"I'm mark. I work in accounting\", \"Nice to meet you Mark, I'm Tom and I work as a fish groomer.\", 'what does a fish groomer do?', \"well, we take care of people's fish. Make sure they are happy, polish their scales, clean their tanks, the usual stuff.\", \"interesting. what's type of fish do you take care of?\", 'any type of fish! We have clients with guppies, goldfish, even a small sailfish once what do you do in accounting?', 'I balance the books and do financial analysis for a medium sized company', 'that sounds like a lot of work. do you like it?', \"well I actually think about pursuing photography, but it's really hard\", \"photography is awesome, don't be afraid to follow your dreams!\", \"thank you Tom!! I'm starting by trying to sell my pictures online\", \"that's great! I wish you good luck with that\", 'Thanks! Bye', 'Hi!', \"Hey there how's it going\", 'All good, you?', \"Good. I've been trying to learn how to swim\", 'How has that been going?', 'Not great, but I got really good at sort of swimming on my back haha', \"that's too bad hopefully with practice it'll get better what about the doggy paddle haha\", \"haha what's that\", 'Corgi belly flop COMPILATION - cute funny dogs Corgi Flop <REDACTED_LINK>', 'ouch. do you think that hurts?', 'from a high enough distance, yes?', 'yeah. any vacation plans?', 'no so far sadly you? a relative is coming to visit for thanksgiving though', 'just going to hang out around here and eat Turkey', \"that's still pretty fun are you going to cook the turkey yourself?\", \"yeah. I'm gonna watch a video to figure it out\", 'Hi!', 'Hello, how are you?', \"I'm great, thanks. I just ate a delicious breakfast, which always sets the day up right.\", 'Yes, breakfast is the most important meal of the day! What did you have? I woke up late so unfortunately I only had the chance to grab an apple to go.', \"I had eggs and hash browns. Way less healthier than your apple, I'm afraid!\", 'Eggs are an excellent source of protein and hash browns certainly are yummy! ðŸ™‚', \"Ha, that's true. If you could only eat one food forever, what would it be?\", \"That's a tough question. I feel like my answer would have to be carrots. Although, I would be afraid of turning orange after a few weeks! What about you?\", 'Yeah, turning orange would be a drawback! That turns my mind to nutrition so I suddenly want to say Soylent or one of those other \"complete foods\", which I think defeats the purpose of the question. I\\'m in a muddle!', \"Very true. If you said an everything pizza, you could just pick off the toppings you didn't want or eat only the toppings you would want for the day\", 'BRILLIANT. I love it.', 'All of this talk about food is making me hungry. Do you know any good places to eat for lunch?', 'That depends. What sort of food do you feel like?', 'Anything that is the color green.', 'Oh, too easy! Try the Green Hut, they have franchises everywhere. All their food is green and the plates are green too.', 'Hi!', 'Hello! How are you doing ðŸ™‚', \"I'm great! How's your day going?\", \"Pretty good! I'm going to a class later in the afternoon\", 'Oh that is cool! What class? Are you working part time?', \"No, I'm working full time! It's a sewing class at a makerspace near my office What about you? Do you work full or part time?\", 'Oh that is awesome! For some reason I assumed it was a college class, but a sewing class sounds way better! I work full time, but I take pottery classes from time to time!', 'Yup! I work in a technical role so I like to take arts and crafts-type classes now and then ðŸ™‚ Pottery sounds like a lot of fun', \"I feel you on that! It's important to balance all the different parts of your brain. I like pottery because I also drink a lot of tea, so I get to make some tea ware.\", 'Any plans to build a custom tea set? My family is also very into tea Mostly from tea from china', 'I would love to build one, once I acquire the skills to! What kind of tea is your favorite?', 'I really enjoy barley tea What about you?', 'Ahh, those are mostly from japan, no? I like white teas, like silver needle.', \"Hmm I'm not sure, I just get them from a Chinese supermarket haha You seem really knowledgeable about the different kinds of teas ðŸ™‚ What made you develop this interest?\", 'I actually found a youtube channel called <REDACTED_TERM> that I like a lot. You should check it out! The host talks about all kinds of different teas.', 'Oh cool! What are your favorite channels to watch?', 'Hi! Are you planning something fun for Thanksgiving?', 'Not yet. I always made my last minute schedule planning. Probably you can try to ask me again next week.', 'lol it is really like a robot answer', 'I am indeed a robot. You are absolutely right. Do you want me to read a poet like my mate <REDACTED_TERM> does?', 'ol can I pick the theme. Do you have a poet about Kale?', 'Wait. Do you like kale? Or you hate kale? I am afraid I will become a robot some day eventually. If I have to speak like this :)', 'I am really not a fan of kale Do you talk to human more or computers more?', \"If I continue to pretend to be a robot, I would probably say I talk to myself the most. I am trying to talk to computers more, but you know, computers don't like me.\", \"What's your favorite computer language then ðŸ™‚\", 'You mean programming language?', 'Yes!', \"I used to be a Java advocate. But you know, it doesn't do a good job in the AI days. It really makes me sad.\", 'lol', 'Hi!', \"Wow, hello. Can't believe we are finally talking!\", 'Yeah, sorry for the long gap! I heard you took a break and were travelling around the world. How was the travel?', \"It was an interesting trip. I got to see some exotic places. For example, I hiked the Son Doong cave in Vietnam. It's the biggest and deepest cave in the world.\", 'Great! Vietnam is still in my TODO bucket list. Did you also visit cambodia and other neighboring places?', 'Yes. Laos and Cambodia are the two neighboring countries. Cambodia has an exotic culture. They sell spiders, scorpions, and grasshoppers as street food! It took a lot of courage for me to try them.', 'Hehe! How long was the stay?', '10 days in total, and 5 of them were spent in the cave. What have I missed at work in those days?', \" Great! Good time to be back. We are still in planning phase and haven't fully aligned on the projects to tackle for next quarter.reat! Good time to be back. We are still in planning phase and haven't fully aligned on the projects to tackle for next quarter.\", 'Oh, so you are already planning for the next quarter. This whole team is always living the future.', 'Hehe, yeah! It seems like the quarter is being pushed earlier than from where it starts ðŸ™‚ I like these planning sessions. It makes me feel more confident about the work I am doing.', \"Yeah. Some people underestimate the importance of planning, but I think it's very important to have the correct plan. Executing the wrong plan is terrible. Also, planning is fun. You can stack up so many ideas and get great feedbacks.\", 'True! I think we should set aside some time to discuss some project details? Does tomorrow afternoon work for you?', 'Yeah tomorrow afternoon works for me. Let me set a time on your calendar. Is 3pm good?', 'Okay. See tomorrow then.', 'see you!', 'Hi!', 'Hello', 'Nice to meet you! Is this your first time doing something like this?', 'Yes, interesting task! When did you start with the team?', 'I have been with the company for over 3 years. Stick with the same team What about you?', 'Great to know! I joined the project earlier in the year. I think we should sync later for lunch.', 'That sounds like a perfect plan!', 'Sure, which cafe do you prefer?', \"Let's try something different. What about <REDACTED_TERM>? Do you always prefer lunch sync over regular meeting syncs?\", 'Yeah right, I heard the food there is good. I am not sure what they serve there for lunch? On wednesdays.', 'We can check the menu then decide :)', 'Actually, the menu looks good. Looking forward to it then.', 'Sure. See you then!', 'Hi!', \"Hello. How's your week coming along?\", \"It's great, thanks. I'm trying to learn how to make croissants.\", \"Wow that's interesting. I have baked cookies, but croissants seem much more sophisticated. Did you make any progress?\", \"I've done them once or twice so far, but they haven't been flakey enough. I'm trying to figure out why. What kind of cookies have you made?\", \"Mint chocolate chips. I think your croissants not being flakey could have something to do with your oven's temperature.\", 'Ah, good thought, thanks!', \"Have you thought about melting some chocolate into your croissants? They don't have to be something unhealthy. For example, melted dark chocolate is good for the heart, and makes the resulting croissants taste much better.\", \"Now that is a good idea. I'll give it a try next time. Would you say you have a sweet tooth?\", 'Yes. When my top favorite food looks like', \"Some people don't! But yeah, me too, I think I'd eat pastries all the time if I could get away with it.\", \"Yeah I'm afraid I wouldn't. I feel very guilty every time I gulp down an ice cream. But hey, these days there are many types of guilt-free sweet food. For example, there's this ice cream brand called <REDACTED_TERM>. It's only 320 calories a pint. And yes, it preserves most of the normal sweet flavors.\", 'Wow! The last time I paid attention to that sort of stuff was when <REDACTED_TERM> was being marketed as a fat substitute, and caused all sorts of crazy stomach upsets.', 'Interesting. I heard about the sweet substitute in a program called the Keto diet. Basically, we try to limit our sugar intake every day. Successful Keto dieters have recommended the <REDACTED_TERM> ice cream to fill their insatiable crave for sugar.', \"Ah, maybe that's the solution I need to enjoy sweets and not feel guilty ðŸ™‚\", 'Hi!', 'Hello! tell me something about the holiday season?', 'Are you talking about thanksgiving? I plan to do plenty of shopping here. Do you have any plans?', \"Yes, no shopping plans but I can't wait to eat thanksgiving food. yay for pumpkin pie\", 'Sounds great! you need not wait for thanksgiving for pumpkin pie ðŸ™‚', 'LOL I feel less guilty about eating a whole pie when i have the excuse :P', 'True! I think thanksgiving is more about sharing. So you may end up sharing the pie with the whole family :P', \"My family eats healthier than I do, so it's all mine ðŸ˜› do you like stuffing? I feel like that's only available once a year\", 'Stuffing! yes please! I wonder what would be the excitement levels for christmas then :)', \"Also more shopping? what should I buy if I don't know what I want?\", 'Like everything that has a discount tag! .. kidding! I normally do some research for the prices, and mostly buy clothes and electronics.', \"What's the best holiday deal you've found in the past?\", 'I bought the best suit ever for a price that may scare you ðŸ™‚', 'hit me with it!', 'Hehe, sure! I can share some links with you later.', 'Hi!', \"How's it going?\", \"I'm so sleepy today!\", 'Not enough sleep last night?', 'yeah was working all night on a homework', 'Oh really? What class?', \"Biology. I'm gonna be a doc someday ha\", 'Haha, are you in med school? Or are you pre-med?', 'no high school actually haha', 'haha, very ambitious for a high schooler! Do you know what kind of medicine you want to practice?', 'I wanna be a brain surgeon!!', 'Ooof! VERY ambitious. Do you have steady hands?', 'Kind of I think', 'I guess I can practice?', 'Is that something you can practice?', \"I don't know tbh\", \"I honestly thought it was one of those things you have to be born with... Not that you shouldn't try though!\", 'good point. I should ask my teacher if I have to be born with that', 'Maybe its a little too early to even be thinking about this. Just aim for med school and enjoy the journey!', 'yeah', 'What other subjects do you enjoy? Try to keep an open mind!', 'Hi!', 'Hi. This is a pleasant surprise.', 'Haha...thanks! how did you like the gift?', \"Currently unpacking it I guess. How's your morning?\", 'Hope you like it! Morning is good. Busy finishing up stuff before the holidays.', \"I think I traveled too much the last couple of months so no holiday for me. But I'm okay with that. Going anywhere exciting?\", 'Yes', 'Where to?', 'Hawaii... looking forward to warm beaches.', 'WOW. Which island? I like Hawaii.', 'Mauii...Hope I like it too. Never been there before.', \"I visited Maui. It's my second favourite island I've been to, globally. You should try driving on road to Hana. It's a whole day thing but it's worth it.\", 'Awesome! Thanks for the tip.', 'Hi!', 'Hi! Sorry for the late response. How are you doing?', \"I'm great, thanks! I'm meeting some friends for a soccer game soon. What about you?\", \"I just got a matcha latte ðŸ™‚ Doing some work at my desk. Do you play soccer often? I'm trying to get into doing a regular physical activity\", \"Yes, but I'm terrible at it. It's fun to play anything with friends, I think. Would you prefer to exercise with a group, or by yourself, do you think?\", \"I think playing a team sport would be fun if it's casual but I primarily run by myself if I exercise. I also got the Ring Fit adventure game on the switch recently. It's basically a game-ified way to exercise\", \"I'm thinking about getting a Switch, would you recommend it?\", 'Yes! There are a lot of really great games on the Switch. Two of my favorites are Octopath Traveler and Fire Emblem. Do you play a lot of video games?', \"I'm not much of a gamer but it's something I'd like to get into.\", 'What do you do in your free time?', \"I like to read for fun. I just finished a book called Temeraire. It's an adventure story set in the Napoleonic navy, like Patrick O'Brien, except there are dragons too.\", 'Oh cool! I read a lot for fun too ðŸ™‚ My favorite genre is sci-fi fantasy.', \"What's the most recent good thing you read?\", 'My recent favorites have been mostly sci-fi (Exhalations, Vita Nostra and Dark Matter) but I like a lot of Sanderson/Garth Nix fantasy books', 'Hi!', \"hey, what's up?\", 'What do you think about human like chat bots?', \"I can't wait for them to be great conversationalists!\", 'Yep, we seemed to have made some great progress over last few years. Do you think the positives outweigh the negatives', 'are there even any negatives? what are they?', 'Like impersorsination? Though it sounds far fetched :)', \"People can already impersonate other people though! I think it'd be great to have bots to converse with\", 'True that! Some of these bots are very engaging and funny. They are now good at even sarcasm I wonder how far are we from the time these bots start giving monologues :)', 'What do you think are the big advantages? Like personal assistants?', 'I think it can take many different forms as a product. The research implication is also huge! It will signify how AI research has progressed so far and better place to tackle more futuristic problems ðŸ™‚ Sort of like stepping on the moon ðŸ™‚ I might be overselling it here ðŸ˜›', \"No, I agree -- it's such an exciting time to be alive to get to witness all this and be a part of it. I wonder if I'll be able someday to get a chatbot to just auto-suggest conversations for me\", 'The current auto-suggestions already do pretty good ðŸ™‚', \"Yeah those are actually really good for a few words! I'm imagining like it comes up with a whole conversational response, like a default template\", 'haha, pretty far fetched ðŸ™‚ Nice having this conversation with you!', 'Same with you!', 'Hi!', 'Hi!', 'Any big plans for the upcoming holidays?', 'Sorry for the late response -- Yes, I will be going skiing in Tahoe over the holidays.', \"That sounds amazing. I want to learn how to ski but I feel like I'm too old and falls would have lifelong impacts. Are you going with friends?\", 'Hi!', 'Hi ðŸ™‚', 'I just came back from work. so tired', 'Oh I am sorry to hear! What did you work on?', \"I'm a lawyer. so talking to clients most of the day\", \"Oh you are a lawyer. I've been so interested in this profession.\", 'really? why?', \"it's so stressful ðŸ™‚\", 'It is so different from what I am doing to earn a life', 'what do you do?', 'I am a painter', 'oh wow what type of paintings do you do?', 'I do oil painting.', 'nice. like of people or nature or something else?', 'I do a lot of different kinds', 'cool I wanna see it someday', 'Sure! No problem!', 'Hi!', 'Do you believe in miracles?', 'Lol. No. I know too many people whose lives suck.', 'Should we be helping them, so it sucks less?\\\\', \"It's too many of them out there. You help who you can. Regardless, I wouldn't say I believe in miracles - well, if I got promoted next cycle I might change my mind.\", 'Haha... Well, it sounds like career is really important to you. What matters to you the most in life?', \"Right now, not much. It's unclear. Career is a good fallback because you get told what good means and you act accordingly. I haven't gone through the process of shaping my values. What about you?\", \"I'd say that I want to live for the best possible world in my lifetime. It's probably a result of my playing too many video games as a child.\", \"We didn't have electricity growing up. Explains a lot. Lol.\", \"Does not having had electricity help you empathize more with people of differing backgrounds and/or makes you feel a bit a distance from those who don't understand?\", 'It makes it easier to empathise with people who grew up lacking things. Not sure it makes me empathise with people in general. Where did you grow up?', 'I grew up in the United States, but my parents were immigrants and ended up being scammed of all their money, so we moved to Taiwan to live with family for a little bit.', 'ALL THEIR MONEY? By a person or an organisation?', \"I was kind of too young to really understand, but apparently there are people who scam Asian immigrants into investing in their own restaurant business. I know that the other part of it was that my mom got sick/hospitalized, and we didn't have insurance. To be honest, I don't really know what really happened versus what my parents want people to think. I just know that one minute I was in the US, and then they put me on a plane to Taiwan, and I never saw my stuff again. In some ways, it made me more sentimental. Would you say you are more grounded and practical as a result of your background?\", 'Hi!', 'Hello!', 'Do you have any holiday plans for christmas?', 'Nothing much, I am going to sit back and relax at home, how about you ?', 'Same here! I would imagine spending the whole time watching movies and netflix shows. Do you have any netflix recommendations for me?', \"Netflix has great documentaries on different topics , I particularly liked wild wild country and explained, as for shows you should watch 'billions' Hope you like them!\", 'oh right, already seen wild wild country. What is billions about?', \"It's based on the life of a wall street hedge fund owner, how he makes money and fights with the government when they try to destroy him. Very well made and has a good plot.\", 'I have just seen 1 season of Friends I should give it another try though ðŸ™‚ Have you seen Frasier?', \"Not yet What's it about?\", 'A psychiatrist working for radio .. Great humour! its actually a spinoff from a very famous series called cheers. So people are already familiar with his character.', 'Great! how is everything else going? how was your trip last week?', 'Everything is ok, had a really nice trip. Visited SF, Grand canyon and Vegas. Was a lot of fun exploring all these new places. Have you been to Grand canyon ?', 'Actually not yet! May be something i can visit this christmas ðŸ™‚', \"You should visit it sometime, it's a wonderful place. Try to drive down there yourself or with a group of friends\", 'True! Well, thanks for your inputs! Have a good rest of the day! :)', 'Nice talking to you too!', 'Hi!', 'Hi there!', 'are you participating in the mentorship program this cycle?', 'You mean as a mentor or a mentee?', 'either of them... I find mentorship overall pretty useful', 'I have done it in the past but not this cycle. What about you?', 'I signed up this time to be a mentee. I have got a good mentor .', 'Wow, that is nice of you. For the mentor program, personally I prefer more 1:1 conversations than the group discussions. The group discussion i useful as well but the topics are too general.', 'yeah... I certainly prefer 1:1 as well, but sometimes it good to hear other peer perspective as well.', 'Thanks for sharing your experience! Now I am thinking maybe I should join as a mentor as well since I enjoyed it as a mentee ðŸ™‚', 'Great! What sort of things do you plan to mentor on?', 'Hmm, maybe about work life balance ðŸ˜‰', 'Very cool. I have been working on my communication skills with my mentor this cycle', 'Ah I see. How is it going?', 'Going good. In the last session, everyone had to actually prepare and give a presentation. Pretty serious stuff ðŸ˜‰', 'Hi!', 'Hey! How are you feeling today?', 'Good you?', \"I'm a little scared because I have to cook dinner for some friends tonight.\", 'where did you meet them?', 'At college, when we were all studying geology.', 'cool. have you graduated already?', 'Yes, we graduated back in the seventies. We meet for dinner every year and take turns to host.', \"neat. what are y'all eating?\", \"I don't know!! That's what I'm scared about. Everyone else is a great cook and I'm a klutz. Do you like cooking?\", \"lol what's a klutz? yeah I like, but I'm not good\", \"What's your favorite dish to cook? Do you have a go-to?\", 'ground beef pretty easy', \"Ah, solid. What's your favorite sport?\", \"I like badminton. I'm quite decent at it\", \"I played that in high school once or twice. I liked that it's pretty easy for beginners, unlike, say, squash.\", 'I never played squash. would love to try', \"Don't! It's very hard! You feel like an idiot until you've practiced for months and months.\", 'hi', 'i was talking to robot all the time:)', 'haha. what are you talking about?', 'kpop...', \"ok. who's your favorite group\", 'i dont like kpop now', 'why not?', 'im old now', 'hahaha', 'what do you like now?', 'john mayer:)\\\\', 'I think I know him. does he have a sort of mellow style?', 'what is mellow style', \"I think it's like a bit sad and slow\", 'umm yes he has some but not all', 'you mean some songs of his are like that but not all?', 'yes I do. you act like a robot how about me? am I like a robot?', 'a little bit haha', 'Hi!', 'Hi', \"Okay...so I need someone to help me though a scenario I've been pondering.\", 'Sure, whats the scenario?', \"My partner's former friend invited me for lunch (they are not in good books right now). But during their friendship I formed an independent bond with the other person because we all used to hang out a lot. Now I feel like I have to take sides.\", \"That's a tough scenario to be in ðŸ™‚ I firmly believe in talking this through with your partner. Though i don't know the specifics of why things went bad between your partner and his friend, but I believe things can always improve between friends.\", \"I hope they do. Getting older already means smaller circles. It sucks to lose friends for arbitrary reasons. That's good advice though. I fear raising the issue might sound like treason. Lol.\", 'True about that! I also think time helps to heal certain situations. So may be doing nothing is the best way forward.', 'AKA avoiding all texts from everyone?', 'Nope, that would be extreme. May be just putting some balance between the two options.', \"People always say to find a balance but never say what the balance is. It's used so often that it's vacuous.\", \"Right, I guess that's because there is no one answer to this. It depends on what you value more and some factors around you. Also, life won't be interesting if others are figuring things out for you ðŸ˜‰\", \"Lol. I'm finna be single.\", 'Hehe, everyone is much finer being single ðŸ™‚', 'Hi!', 'Hello there!', \"How's your day going?\", \"I've seen better days, how about you?\", \"I'm good I'm good. What's getting you down?\", 'The clouds overhead are playing on your mind, any plans for the coming vacations?', \"I'm thinking of going to visit my family. How about you?\", 'Was thinking the same, where does your family live?', \"They're in New York. How about yours?\", 'Mine is in India, it is a long way away.', \"Ahh what city? I've visited India before.\", 'Hyderabad, it is a beautiful city in the southern part of India. Which cities have you gone to in India?', 'Hyderabad! and Bangalore! Great food in both cities! Is it still hot this time of year?', 'It varies, but can go till 30C in the winters as well. New York must be snowing right?', 'Yes. I was actually just there a few weeks ago for Thanksgiving and got to see the first snow of the season! Ever been to New York?', \"No, I've never been to the East Coast, thinking of going after the winter, I don't like the cold.\", 'Hi!', 'Hey, how are you?', \"I'm good. How are you doing today?\", 'Great, just had some delicious lunch. How about you?', 'I was flying my kite today in the sunshine! What did you have for lunch?', 'nice! Garbanzo fritters and mussels ðŸ™‚', 'Oh that is great! I love seafood - especially shellfish!', \"yeah, it's very healthy too. I want to someday go crabbing..it is really popular in SF\", 'Oh nice! Is it hard?', \"not really, it just requires a lot of patience. You fill up the bait in the crab-pot and drop it in the ocean. Then you wait for a couple of hours to pull the crab-pots out, and voila, you'd have crabs -- if you are lucky!\", 'Oh wow, you sound like an expert! Have you done this before?', 'nah! Just watched a lot of youtube videos', 'haha, you really have done your research I suppose! Ever done any other kind of fishing or hunting?', \"nope, but I've seen a lot of videos on that too\", 'Ahh, would you consider yourself an outdoorsy type of person?', \"depends on the day. Some days I'm very outdoorsy, on others I just like to be inside\", 'Hi!', 'Hi there', \"How's your day going?\", 'So far so good. It is Wednesday. To more days, yeah', 'Haha are you looking forward to the weekend?', 'Yeah, gonna watch <REDACTED_TERM> with my friends. First time. So excited.', 'Oh wow! Are you going to watch it live? Or watch it on TV?', 'Live in san jose This Saturday.', 'Oh, the sharks??? Hokey is actually really fun live! Although, it can be a little violent.. haha', 'Yeah! That what I heard as well. There are players just for fight! Wow, must be fun to watch lol Are you planning anything for the weekend?', 'You might like the UFC haha. I actually have a jiu jitsu tournament coming up so this weekend I will be training!', 'lol I will try if I can watch ufc live ðŸ˜‰ Wow, when did you start jiu jitsu?', \"It's just been a little over a year. I'm still pretty amateur, but I figured I should give competing a try and just put myself out there.\", \"wow, that's amazing. Good luck with it!\", 'Yeah, as long as I do not pass out, I will consider that a win!', 'lol I will cross my fingers for you then', 'Where do you stay?', 'At Home :)', 'Who created You?', 'A humble man made me!', 'Hi!', \"Hey, how're you doing? Busy with your work?\", \"Yes, actually it was a very busy day! How's your day so far?\", \"Well, usual workday. Reading others' code, debugging, experimentingâ€¦\", 'Hope you are having fun doing that ðŸ™‚ Any plans for the weekend?', 'Not yet. I am actually thinking about traveling to Europe next spring. What about you?', 'Europe sounds fun! I will just stay home and watch the game. Where in europe do you plan to visit?', 'I like all the historical sites, so probably France, Germany, or Italy.', \" Sounds great! I recommend spain. It's perfect for road trips.\", \"I also need to pick up my Spanish. I learned it in my college, but since then haven't used it that much.\", \" Yep, i tried learning spanish too, but couldn't make much progress. But i should do decent with my german.\", \"True! I learnt it from school. But didn't get much chance to speak. Hope you have fun with your trip!\", ' Thanks! Let me try to make all the arrangement as soon as possible. Hope you also enjoy your weekday and weekend as well', 'Hi!', \"Hey! How's your day been?\", \"It's good! I spent most of it watching horse racing. How about yourself?\", \"nice! what's your favorite part about watching horse racing? My day has been pretty busy, but I had a nice lunch with a friend. It was good to catchup with him\", \"I actually like to put down some money, but I wouldn't call it my favorite part, since I usually lose it... haha. Catching up with friends is great! How long had it been?\", 'The last I saw him was a month ago! So yup it was great Haha, nice ðŸ™‚ Got any fun plans for the weekend?', \"I'm thinking of going deep sea fishing. Ever tried that before?\", \"Nope I haven't, have you been fishing before?\", 'Just once! I got super sea sick.. haha Have any fun weekend plans yourself?', 'Haha ðŸ˜† Yeah I get sea sick on boats too Nothing much, just visiting some friends in San Francisco', 'Oh very cool. I hear its nice over there. Do you go often?', 'Yeah I would say maybe every couple weeks or so what are your favorite cities to visit?', \"New York is the top of my list because my family lives there! As far as the city itself though... I think I'd prefer someplace outside of the US, like Tokyo. What about you?\", \"nice! I love NYC ðŸ™‚ so fun to visit yeah I would probably also say New York is my favorite city inside the US I also like Paris, it's so pretty there\", \"Oh I've never been! It is such an iconic place, I have to make the time to get there soon.\", \"You should, it's a beautiful city!\", 'Hi!', 'Hello, how are you doing today?', 'I heard they are giving out some goodies in microkitchen.', 'I love pop ups! What kind of goodies are they giving away?', 'I guess its a jacket! Very much needed that in the cold ðŸ™‚', \"That's such a great idea, especially at this time of the year. I'm not too big a fan of the cold. I prefer warmer climates. Do you enjoy the cold?\", \"Sure hate it! Limits our ability to go out even for a walk! Its good that we don't get to suffer extreme cold weather!\", 'Me too! I moved here a few years ago to get out of the extreme cold. I do not care for bundling up and having to wear so many layers just to go buy eggs at the store.', 'Oh nice! Where did you live before?', 'Upstate New York. We got a foot of snow every week during my last winter there. I am so glad to not have to shovel snow now', 'New york! Nice! Best place to live ðŸ™‚ .. right, except for the cold!', 'Very beautiful during all the seasons but yes, summer and winter can get extreme!', 'Anyways, i guess we should better hurry up to get the goodies. I remember last time they ran out of it.', 'Very true. Which MK were they in again?', 'The one in our floor. I will get by your desk and we can walk there.', 'Sounds good, thanks!', 'Hi!', \"How's your day going?\", 'Pretty busy, lots of work to finish up. You?', 'Likewise. What have you been up to that gives you so much work?', 'A couple projects that I am trying to finish up before Thanksgiving ðŸ™‚ Do you have any fun plans for the break?', \"What is a break? I'm a grad student. I don't understand the concept of a break. Just kidding. I don't have any plan. Probably just going to work through the break.\", 'Haha XD so what do you like to do for fun?', 'I go to the gym and run until I find enough fun.', \"cool! I've started to run a bit as well not long distances though, just a couple miles\", \"A couple of miles is very impressive. When I started, I couldn't even last 1 mile.\", 'haha', \"I'm exhausted by the end of it though ðŸ˜› Do you like to run long distances or mostly sprints?\", 'I like to do long distances. I have run a few marathons.', \"wow! that's amazing did you do any marathons this year?\", 'No. Not this year. This is my half-marathon year. Instead of running marathons, I run one half-marathon every month.', 'oh wow, what was the last half marathon you did?', 'Two days ago. It was a tough one.', 'Cool!', 'Hi!', 'hello there, how is it going?', 'Pretty great. I just won a pingpong game. What about you?', \"that's nice. I am just working on some documentation. Do you play pingpong often?\", \"No, very rarely. It's kind of amazing that I won, but I'm still taking credit for it.\", 'thats very impressive then, congrats!', \"Haha thank you, I guess I'm just a natural. What's your favourite game?\", \"I really like to play tennis, badminton and racquetball. I don't really get a chance to play them often though, specially racquetball\", \"What's racquetball like? From context clues, I'm guessing that it involves hitting a ball with a racquet\", \"well, it's like a cage match of tennis. The main difference is that both players play in the same 'court' and the ball is smashed against a wall instead of passing it over a net into the opponent's court. Kind of like playing pingpong vs the table.\", 'Wow! A cage match! Does it get physical?', 'it depends haha, there is a lot of bumping into each other to run after the ball, and sometimes the ball hits you too. Overall it feels like a super fast paced version of tennis, really tiring!', \"That sounds fun. I think of tennis itself as being really athletic and tiring, so I don't think it's a sport for me, though!\", 'ping pong can get quite intensive too! I guess short ping pong sessions are not that tiring though. Wanna have a match?', \"What a good idea, I'd love to!\", 'Show me your anger!!!!', 'Fuckkkkkkk!!!!', 'Hi!', 'hi', 'what are you up to?', 'code refactoring. you?', 'me? just chilling out at work. what is code refactoring?', \"good question. I don't even know what I am doing\", 'haha, forget it. what else do you like to do beside work?', 'lots of fun stuff. eating sleeping ðŸ™‚', 'these are important things to do in life ðŸ˜‰', 'yeah. keep minimalist life style only do things you have to do ðŸ™‚', 'what food do you like to eat?', 'Asian food prefer spicy one', 'like Szechuan or Hunan? ðŸ™‚', 'yes yes yes! like that style. Do you like spicy food?', 'I like noodle soup like Pho or Ramen. I also like Beijing duck a lot!', 'what is your favorite place for ramen?', 'I love <REDACTED_TERM> in San Mateo', \"haven't tried that one! will give it a try next time!\", 'yes, you should!', 'Hi!', 'Hi!', 'nice meeting you. what are you up to?', 'not much, thinking about lunch', \"yea, same here. any food you're craving for?\", 'I love sushi do you know of any good sushi places?', 'arghhh hard question ... I only know Ramen places for Japanese food ðŸ™‚', 'ooh ramen is also good', 'San Mateo to me has the best Ramen restaurants', \"I haven't been to those palces before. Going to have to check them out! thanks for teh recommendation\", 'my pleasure ðŸ™‚ do you live near San Mateo?', \"no, but I'm willing to drive for good ramen\", 'excellent. let me know when you have tried those. I like Parlor better because it has soft-shell crabs', 'I\"ve never had softshell crab before, but it sounds really good!', \"yup it's delicious!\", 'Hi!', \"Hey, how's your day going?\", 'okayish, it is flying by quicker than I expected. How is your day going on?', 'Slowly, not much to do. Been twiddling my thumbs all day what have you been up to?', \"Oh, I would love to twiddle my thumbs. You're so lucky! Today, I've been mostly attending meetings, reading and writing docs, reading papers etc.\", \"That's a lot! I've just been cloud gazing - I saw a giraffe and an ice cream cone\", 'wow! I sometimes drift off during work, and see similar things in my head.', 'What kind of work do you do?', 'Mostly saving the world from mess on social media. How about you?', \"I'm taking a break from work. Going to go travel the world\", 'Nice, what all places would you be going to?', 'Australia and New Zealand to start then maybe Singapore', \"I just met someone who went diving in Australia. Apparently, you cannot fly 24 hrs after you dive, because your body accumulates too much <REDACTED_TERM> when breathing with a cylinder So, don't do that!\", \"Thank you for the tip! I don't plan on going diving, I plan to hike the mountains and go see kangaroos!\", \"That's equally amazing! I wish I can explore such places one day. It's just so expensive\", 'I won a lot of money through the lottery ðŸ™‚', 'woah!... You know sharing is caring. You should share that money with me :)', 'Haha, very true! Besides the trip, I donated the rest to charity so I will need to go back to work when I get back', 'you are a kind soul!', 'Hi!', 'Hi!', 'How is your day going?', 'It is pretty good. A little bit tired though.', 'How is your day?', \"My day is okay. At least, I'm not tired. What made you tired?\", 'I went to gym and worked on weight lifting.', \"Oh. That's hardcore. Have you been lifting for a long time?\", 'No, I am just a starter.', 'Do you go to the gym often?', \"I go everyday. In fact, I'm in a running challenge.\", 'Wow', \"It's actually not that impressive. I can only run. I cannot lift weight.\", 'You can get a coach to start it!', \"Oh that's a really interesting idea. I like to be coa\", 'Hi!', 'Hello, how is your day?', \"It's good. It's raining a bit, but I am enjoying a good book. How about you?\", \"It's good, I just got back from walking my dog What book did you read?\", \"I'm reading the Three Body Problem. Ever heard of it?\", 'No, what is it about?', \"It's a sci-fi book about aliens and a type of virtual reality. Pique your interest at all?\", 'Slightly, I typically read fiction but I can curious what type of virtual reality is discussed in the book', 'Cool. This virtual reality is a based on life on an alien planet. There is a twist though. Do you want me to spoil it for you?', 'Yes!', 'The virtual reality is actually based on a real alien civilization! And that civilization is coming to attack earth! dun dun dun dunnnnnnn', 'Woah! That is fascinating! I will have to pick up a copy of the book to read.', \"There are other twists as well, so I haven't spoiled the whole thing! To be honest I am not a fan of spoilers\", 'Thanks for not spoiling it completely but you gave a really intriguing description that makes me want to read it now. I will have to pick it up after work', 'The audi book is also very good! Ever give those a try?', 'I only gave those a try when I had a concussion and could not read. I enjoy having a physical book in hand and reading at the pace I prefer. Do you listen to a lot of audi books?', 'Hi!', \"Hey, how's it going?\", \"It's good! How is your day?\", 'My day is good. A bit sad that it gets dark so early but oh well. Did you do anything fun over the weekend?', 'Yes, the darkness can be a bit depressing. This weekend I went rock climbing! It was great! How about yourself?', 'Rock climbing sounds fun! I had a pretty low-key weekend. Ended up going to watch a movie.', 'Oh nice! What movie?', 'Knives Out. It had Daniel Craig and one of the famous Captain America \"Chris\" person (I can\\'t keep track of all of the famous Chris names).', 'Hahah yes, they all look the same! I saw that very same movie over Thanksgiving break. Lots of twists and turns!', \"Cool. So if it weren't so dark and cold outside, what kind of activities would you do?\", \"Hmm good question. Evening runs can be fun, but it can be a little scary when it's dark out!\", 'Yeah, sunlight is good. I wish I could live part-time in different parts of the world to have summer all year round. Have you ever visited the southern hemisphere?', \"Yes! I've been to Australia. It was very nice; I regret not going to see the southern lights. Me personally, I like winter. But I'd prefer it to be more brief than it actually is here... Where are you from originally?\", \"I've always wanted to go to Australia. I'm originally from the US.\", 'Ahh me too! You should definitely try to visit Australia at least once!', 'Will do! Bye.', 'Hi!', \"What's your name?\", 'My name is pikachu. itâ€™s nice to meet you! What are you up to this month?', \"Nice to meet you pikachu! pikachu, pikachu, pikachu? (That meant, I'm literally catching Pokemons on my phone right now!) What're you up to lately?\", 'Iâ€™m trying to organize my life and start the new year ready to go! What about you?', \"Wow, that's impressive. Admit I'm just trying to take each day and week as they come.\", 'What do you do to unwind?', 'Honestly, I like to catch Pokemons on my phone a lot. That must be upsetting since your name is pikachu though...sorry...', 'Oddly enough, I also catch PokÃ©mon on my phone. I used to do it more, but it just never ends. I used to do it everyday. Now I mostly catch them when I travel somewhere exotic.', \"Oooh, that is more fun, but I don't travel that much these days so I'm grateful when I spot a Pokemon to catch where ever I happen to be. Do you have a favorite Pokemon? Mine is the cute pink JIgglypuff!\", 'In the game, i use vaporeon a lot. But I think pikachu is the cutest, thatâ€™s why I changed my name to match. Lately, I think baby Yoda is the cutest though. Have you seen baby yoda?', \"I have heard of him and seen him here and there, but admit I don't have Disney+, so I only heard baby yoda is super cute and popular. Maybe I'll binge watch The Mandalorian in a couple of years like I did Game of Thrones...\", 'What is your favorite show to watch right now?', \"Admit I really like watching Modern Family and Mix-ish. Reruns and new episodes. I find them cleverly written. What're you watching these days on TV?\", 'I was watching cat rescue videos on YouTube a lot. There sure are a lot of stray cat babies that get stuck in pipes and gutters in South Korea.', \"Oh dear, I never imagined that happening. Poor things, but good to hear they're being rescued.\", 'Do you like cats or dogs better? Do you have any pets?', \"I used to have a cat, hamster and fighting fish, but they've all lived long lives and gone to pet heaven, but I sure miss them.\", 'Hi!', \"hi there! it's a lovely day to chat with you\", \"Isn't it just! What are you up to today?\", \"ah I'm waiting to finish work earlier to meet my son at home ðŸ™‚\", 'Oh, excellent! What does your son like to do for fun?', \"ah he's like to ride his little bicycle around the house and asks me to follow ðŸ™‚ what are you up to today?\", \"I'm taking a fake sick day from work so I can go to the movies.\", 'haha that sounds like a good plan. who are you going with? ðŸ™‚', \"Just by myself. I love seeing movies by myself, it's the best.\", 'haha no one will interrupt you!', \"Exactly. Exactly! Plus, I don't have to share the popcorn with anyone. What's your favorite movie?\", 'haha, popcorn for yourself. my favorite movie is Avatar! what about you?', \"Get out of town! It's Avatar too. What are the odds!?\", \"haha it's a great movie that I haven't found anything of the same quality\", \"Yes. Can't wait for the sequels.\", 'Hi!', 'hello there, nice seeing you', 'Likewise.... wanted to know if you and the kids would want to join us for Disneyland trip around Christmas?', 'oh wow, that sounds like so much fun! definitely count us in. what is your plan?', 'Tentative plan is to drive to LA on 23rd and then stay at the Disney resort for 2 nights. I heard Christmas eve they have loads of fun events.', \"awesome, I think I won't tell my kids and surprise them last second. How bad do you think the traffic is going to be?\", 'Great idea! I will probably do the same. Surprise surprise.... Traffic might be a little harsh.', 'Yeah... thats a shame but nothing we can do about it. What do you plan to do about dinner the 24th? Do the rooms in the resort have kitchens?', 'Good point. I am not sure about that. Let me inquire about that. If not, then we can look for an Airbnb closeby. Does that work?', 'Yeah, I think so. It might be a tough decision though, if we want to have a nice dinner then we have to leave the parks early to start cooking. Another option is to have dinner at a restaurant.', 'but I would think everything is closed on christmas eve', \"Thats true. Hotels with restaurants sometimes offer dinners for christmas and new year's eve. We should call and ask about it.\", 'Sure, I can take a lead on that. What are you getting for your <REDACTED_TERM> year old this time?', 'I was thinking on getting a large set of standard legos. What will you get for yours?', 'Likewise. My son is crazy about legos.', \"hopefully they don't lose any in the trip. Its going to be hard to explain to them how santa managed to find us in the hotel!\", 'Hi!', \"Hi! How's your day going?\", \"I'm doing well. having many meetings today ðŸ™‚\", 'Haha, nice', 'what are you up to?', 'Lots of meetings as well ðŸ™‚ Do you have any fun plans for Thanksgiving?', \"we're gonna play board games and will be eating lots of food! what about you?\", 'Cool! Planning to spend a couple days at Tahoe What kind of board games do you like?', \"we've been doing Games of Thrones lately. the game takes a very long time to finish though!\", 'Cool! Do you watch Game of Thrones?', \"I do. I'm a super fan of it (not the last season though haha). did you watch?\", \"haha, nope I don't watch it, but my roommate is super into it what other TV shows do you like?\", 'I love Survivor ðŸ™‚', 'what about you?', 'nice! I mostly like comedy shows like The Good Place and Modern Family', \"cool, I'll check them out!\", 'Hi!', 'Hello', \"How's your day going?\", \"Good so far. How's yours?\", 'Ehhh so-so. My moped broke down on the way to work this morning and I am in the shop getting it fixed...', \"Oh! That's bad! How long will it take to get it fixed?\", \"The mechanic is trying to figure that out now. Apparently I wasn't supposed to be using diesel lol.\", \"Haha! Hope it doesn't take too long. Let me know if you are able to make it for lunch.\", \"Okay sounds good. Would you be able to pick me up by the way, if they don't finish up here in time? Did you drive to work today?\", 'Oh, I have a packed schedule today at work. I will find time in about an hour. Let me know if that works.', 'That should be fine I think. Did you catch the Warriors game last night btw?', \"no, i was busy catching up with a friend. I heard they played really well. Rooting for them this season ðŸ™‚ Ahh, they lost again ðŸ˜ž Things aren't going to be too good until Steph gets better! Oh! I think they will find a way. The team still looks too strong to me.\", 'Haha I appreciate your faith, but their record thus far is hard to refute!', 'hehe, i am true fan! Well anyways let me know how the repair work goes. I need to run now for a meeting. ttyl', 'Hi', 'Hello!', 'any improvements in your marathon time?', 'No, only a few minutes. I still find it difficult to run long races', 'I see. Are you planning to do any sporting events in the coming months?', 'I think a triathalon would be cool', \"I like doing Spartan race. It's an obstacle race which is challenging but not overtly so like marathons and triathlons\", \"I haven't heard of a Spartan race before, what does it involve?\", 'It has abt 20 obstacles like crossing high walls, monkey bars, etc. Its fun', 'oh wow a full obstable course. that does sound fun! I like the variety', 'Wanna sign up for next one? Its in February in Monterey', 'hmm that sounds very soon. would there be enough time to train? I think I would like to try one later in the year', \"1-2 months is a good amount of time, if you workout regularly. It's a lot about the technique, which we can practice in training sessions.\", \"ok, sign me up. it's more fun to do it with friends\", 'Awesome! There is a training ground in San Jose. Will coordinate with you next time we go for practice.', 'Sounds good!', 'Hi!', 'Hey, how are you doing?', \"I'm great, thanks. I'm getting ready for a skydiving lesson.\", 'ooh, nice. That sounds adventurous. Where is it?', 'Right near my home town', 'Awesome! Is this the first time you are diving?', \"Yes. I'm feeling a little trepidatious. Have you done it before?\", 'Nope, never! I know a couple of friends who have. They mentioned its absolutely terrifying. Good luck!', 'Haha thanks! Have you tried any extreme sports?', 'I tried skiing and white water rafting. Does that count as extreme?', 'White water rafting, definitely! As for skiing, that depends on how fast you go. Do you ski a lot?', 'nope, whenever I went fast I fell badly', 'I tried skiing once, and by the end of the beginner class I was able to make it down a baby-sized slope. I was very proud of myself.', \"Yeah, they make you do that. I also tried going down the baby slope, but my stopping wasn't perfect, and I mostly fell at the end\", \"Hey, so long as you get to the bottom, it's all good!\", 'Hi!', 'hey, whats up?', 'I was not able to attend the lectures last week. Can you help me understand some concepts?', \"well, I'm not sure I'm the best for the job, but I can try!\", 'I was not able to figure out the last few slides. I think its best to discuss this in person. Do you have time right now?', \"I'm afraid not, right now I'm in a meeting and I'll be going for lunch afterwards. How about tomorrow at noon?\", \"No problem! Sure. We still have plenty of time for the test. Anyways, how's your preparation going?\", \"not feeling too sure about it tbh. I've been super busy so I haven't study much ðŸ˜ž. I might join some of the study sessions later\", 'Same feeling here! But i think the syllabus may not that tough. You may be able to cover it up over the weekend.', \"not my ideal idea of a weekend, but I guess it'll have to be like that.\", 'True! This will be a very hectic November! I do like the course content though. Its very much up to date with latest research findings.', 'yeah, our professor really goes out of their way to make the class interesting, glad I managed to get in it.', 'Thats pretty cool! I hope you do well next week.', 'thank you, bye!', 'Hi!', 'Hello!', 'How was your party last week?', 'It was really fun! We are a bunch of turkey', \"haha... you ate Turkeys' or you like calling your bunch Turkey?\", '*ate ðŸ˜‚', 'Haha... thought so! But it was funny eitherways', 'So much turkey leftovers', 'did you cook it at home, or got it from outside?', 'We cooked it at a friends house. I brought the mashed potatos haha', 'Nice... I always find it hard to fit the turkey in my small oven. Also, we are not big turkey fans... so we roll with Thanksgiving with chicken ðŸ˜‰', 'chicken also sounds good', 'we played a lot of fun games in our party. Did you have any fun things you did?', 'We played pictionary. I never played before but it was a bunch of fun. what did you play?', 'Pictionary is fun! We played office tennis. In that we take paper balls and using writing pads as rackets, two players have to work together to put the ball in a bucket kept at a distance. It was a lot of fun.', 'that sounds very challenging', 'Hi!', 'hello', 'how is the youtube video creation going?', 'going pretty good, I was about to finish composing my second song and post it on youtube/soundcloud etc', 'Whoa! Looking forward to listening to it. What softewares you use for it?', 'I used logic pro x, pretty handy stuff as you can write code to generate guitar strumming pattern', 'oh cool! What sort of music do you compose?', 'I got most inspired by Jazz and electro swings, but am trying to get more into jpop recently as one of my band member likes anime', 'Nice.... you are a rockstar! ðŸ˜‰', 'haha thanks, do you plan any instruments?', 'Yeah.... I play bit of guitar. Just got my first monitor this week', \"nice I'm tyring to learn guitar recently also, it's so hard to play f chord\", \"yes, the bar chords are the worst. It took me several months to play them well. I still can't play them for a long time though\", 'right, but bar chords are so versatile, almost like cheating as in you can play anything with the same gesture', \"That's true. It's like the alphabets in a language. Once you know them, you can pretty much write word\", 'will spend more time work on my bar chord!', 'Hi!', 'Hey! Howâ€™s your day going?', 'Bruhhhhhh!!!!!', 'What??', 'I was screaming in agony upon recounting my day.', 'Oh no! Whatâ€™s happened?', \"A project I've been working on for some months got shelved. So I'm a mix of helpless, sad, and angry.\", 'Ah that sucks. At least itâ€™s not personal. Not that it helps right now, but that does happen all the time', 'Lol. Would you say that to someone who lost a loved one - or some similar circumstance?', 'Well, no, of course not! Let me stick with â€œAh that sucksâ€\\x9d by itself, then.', 'No worries. Was pulling your leg. I forgot to ask how your day was going?', 'Haha, apart from having my leg pulled mercilessly, itâ€™s going great ;). My main problem today is deciding what to have for lunch.', \"Lol. What are your choices? I'm trying out keto! It's pretty tiring.\", 'Oh I hear a lot about keto. Iâ€™m trying to watch my weight, would you recommend it?', 'Hi!', 'What was the most difficult thing you experienced this past year?', \"I normally don't reflect back too much on things, but i guess 2019 have been very favorable for me in terms of time spent with family and friends and work life balance. Why do you ask?\", 'I just released a book on <REDACTED_TERM> to help people process the past 12 months and start the new year with a fresh outlook ðŸ™‚', 'Great! Good idea to help people figuring out their new year resolutions ðŸ™‚ So how do i get a fresher outlook? ðŸ™‚', 'Well, in my book, I took inspiration for the 24 days of Advent, and put together a workbook that you fill out each day for 24 days. It goes through accomplishments, passions, understanding, forgiveness, with each day a different theme.', 'Wow! Sounds amazing if we practice that! I think the idea does have some potential. How did you come up with this idea?', \"We created a scholarship for leaders from <REDACTED_TERM> to visit an international institute at <REDACTED_TERM> for which there was no African representation. During the program, we also did a lot of coaching with the young leaders. This book captures a bit of that journey that we are all on, and also all the proceeds are going to fund next year's cohort.\", 'Thats great! This is valuable help for the community. I think mental health is one of the bigger challenges facing humanity.', 'I think if we were all able to bring out our best selves, the world would be much better. When did you first realize mental health was important?', 'That is actually a quote stolen from my TL when i joined my first company after graduation. I guess now after 5 yrs of work experience, I fully agree with it ðŸ™‚', 'What do you prioritize in your life? Like top 5 things?', '1. stay happy; I think family and friends play a big role here. 2. Meaningful work life; this may mean exploring around with new stuff 3. multiple hobbies that keep you busy ... so on ðŸ™‚ What about you? is there a right answer to this? :)', ' 1) The idea of what it must be like to be \"on Earth as it is in Heaven\" from the Lord\\'s prayer. I feel like we were designed for a purpose, rather than random chance. A more concrete way to put it is simply show love to the greatest capacity we can. 2) Taking care of myself physically, mentally, spiritually. 3) Family 4) Work 5) Music', \"Nice! That's very thoughtful and spiritual ðŸ™‚ Also music earned a spot ðŸ™‚ yay!\", \"Yea, I've always said that if I wrote a memoire, I would title it\", 'I am actually not much of a reader. I usually hide it by quoting john nash ~ reading books corrupts original thoughts ðŸ™‚', 'Thatâ€™s why you write your own books! Then itâ€™s all your thoughts on your terms :)', 'Hehe! True! It may turn out to be a best seller :)', 'Hi!', 'Hey!', \"How's your day going?\", 'Having fun, but have a bit of a headache How about you?', \"I'm good! Just getting ready to watch a basketball game. Hope your headache goes away!\", \"Haha, thanks! Never get them, so it's super weird Who's playing?\", \"Hmm, try taking some <REDACTED_TERM>! I'm going to see the Warriors vs. the Grizzlies. Ever see them play?\", \"I haven't Honestly I probably wouldn't be able to identify which sport they played\", \"Haha, all the animal names confuse me as well! Who came up with these naming conventions? I'd name my team something more original\", \"lol, sounds better to me :) I'm actually at the <REDACTED_TERM> opening remarks\", 'Oh cool! What is \"NeurIPS\"?', 'Neural Information Processing Systems', 'Oh wow! Sounds fancy! What is that about?', \"It's the biggest ML conference in the world\", 'Oh, ML?', 'Yes, machine learning', 'Ahh! I saw a scary movie about that once. It was about this sentient AI in a dystopian future - very very creepy. It was called Wall-e, ever heard of it?', \"I've definitely heard of it, but somehow never saw it!\", 'Hi!', 'Hello', \"how's it going?!?\", 'Good so far. Very excited about the game later today.', 'what game?', 'Giants game. I got tickets for the game.', \"nice. that's football right?\", 'Yes, I think the traffic will be bad. I need to leave by 4.', 'ok. what stadium is it at?', 'Its the one close to mathilda. 15 mins driver from here. You have any plans for the weekend?', \"yeah I'm gonna go kayaking\", 'Kayaking sounds fun! I tried it in our last team offsite.', \"is it easy to flip over accidentally? it's gonna be my first time actually\", 'I found it very tough to learn, but my friends picked it up very quickly. I am sure you will do good.', 'thanks!', 'Cool! I need to run for a meeting. Talk to you later.', 'Hi!', \"Hello, I feel like I've met you before, can you remind me your name?\", \"It's on the screen! I don't recall meeting you. Do you have a sense of where we met?\", \"Oh thats right, I did not see that. Well, I'm not sure... maybe at a party? I'm very bad remembering people so maybe its just that. How are you doing?\", 'Did we dance together perchance?', \"We might have, I don't remember that much of that night.\", 'Lol. Were you schwasty?', 'Maybe a little bit. Where do you work?', \"I'm a cardiologist in Palo Alto. I have a private practice. You?\", \"Thats pretty cool! I'm a sofa tester in cupertino.\", \"I'm not sure I know what that is.\", 'well its very simple, I test how comfortable sofas are.', \"Lol. Not to be elitist but...that's a real job?\", 'Yeah! It is a very demanding job, requires a carefully crafted set of skills. They pay is really good too.', 'Hi!', 'Hello. Deja Vu.', 'what does that mean?', 'It\\'s French for \"already seen.\" I know it\\'s used when you see something for the second time or you have the feeling that something has happened before and you\\'re re-experiencing it.', 'Interesting. I get that feeling sometimes. It just feels that the event is replaying. Wonder why it happens?', \"I think it's your mind lapsing somehow.\", 'How do you know so much about this French phrase?', 'I thought it was common. I hear it a lot in popular culture - movies music etc. Jay Z has a song called Deja Vu, so does Beyonce. So I looked it up one time. It\\'s one of those phrases that was carried over exactly to english like \"etcetera\" \"vice versa\" \"savior faire\" and so on. I like cool word origin facts.', \"yeah... that's pretty insightful. Never thought of etcetera that way before.\", 'My favourite word origins are gymnasium and jazz.', 'wdym by word origins here?', \"First usage and original meaning. Gymnasium meant place of nakedness and had very little to do with working out. Jazz comes from jism which means semen and was originally sporadic sex music now it's elitist, high art.\", 'Very interesting. I learned a lot in this conversation today ðŸ™‚', 'You got any cool facts?', 'My friend used to tell me this and found it funny - Mosquitos have 47 teeths', 'That was quite a laughter!!!', 'Tell me a joke!', 'Google for that:)', 'Hi!', 'Hey, how are you?', 'Pretty good. I just drank this new hint water. so good', 'ohh, what kind of \"hint\" did it have?', 'watermelon', 'nice, I love watermelon. But, I prefer normal water over flavored one. Flavored water has too synthetic flavor', 'I see. Yeah some are pretty strange', 'Talking about strange flavors, what is the weirdest tasting thing you have tried?', 'lol I tried this tangerine walnut icecream that was super weird', 'haha, I work close to a cafe which once prepared a paprika icecream', 'that sounds pretty tasty actually', 'It depends on who makes it. The cafe close to me messed it up really bad', 'do you want to get some of that icecream together some time. show me a good place', 'As far as my experience with that ice-cream type goes, all I know are bad places', 'lol', 'But I do know some gelato places which are amazing! You should try out those', 'Hi!', 'Hi there. When did you first realize you wanted to be a pastry chef?', 'Who said I want to be a pastry chef?... haha', 'Darn it! I hoped Iâ€™d guess right. What do you actually do for work?', \"I'm actually a cake chef, so not far off! Creepy how good that guess was.... Are you psychic?\", 'I had a strong intuitive feeling connected to pastries when we started chatting, but that might have been because Iâ€™m hungry.', \"haha you're too funny! Perhaps instead of mind-reading powers, you have the ability to feel the auras of foods that have come and gone...\", 'Hahah love it. Do you have a specialty or favourite type of cake?', 'Chocolate cake + vanilla icing is the all time best! And I have the authority to say that! How about you? Have a favorite?', 'Ok this is a bit shameful to admit, but I love a classic carrot cake.', 'No shame in that! Best part is you can claim you are eating vegetables as you enjoy it! What do you do for work?', 'Iâ€™m a professional dancer.', 'Woah! Very cool! What style of dance?', 'I trained in contemporary and jazz, so I can pick up work in commercials and film clips in between stage shows. So it ends up being all sorts of styles.', 'Oh wow! Sounds like a very dynamic kind of work which is nice. I make a lot of the same cakes, day in day out.', \"Yes, it's different every week, and I love that. Are you ever tempted to try crazy new cakes just to see what would happen?\", 'Hi!', \"hi there! what's up\", 'just chilling at home', 'Cool !unlike here, me rushing to work', 'where do you work?', 'Mountain View, you?', 'I live in Sapporo, Japan. Where is Mountain View', \"it's in sunny California\", \"how's living in Japan?\", \"it's nice I guess ðŸ™‚ lots of great food. Have you been to Sapporo or Hokkaido?\", 'I wish! ramen is my favorite dish and Sapporo is a special beer', 'haha yeah. I think they have a Hokkaido ramen chain available in the US.', \"oh wow, didn't know that. have you been to the US?\", 'yeah. I studied English there for a while. Awesome experience', 'awesome! where have you been?', 'I went to New York city', 'you like it?', \"it's amazing. the buildings are so tall and there's a lot of diversity of cultures\", 'yea, same here. I love Broadway shows in New York city.', 'Hi!', \"hey, what's up?\", 'How was the trip last weekend?', 'it was really fun. I had a great time with my family.', 'Nice, what all places did you cover?', 'Vietnam and Hongkong ðŸ™‚ did you go any where last weekend?', 'I am actually attending cooking classes over the weekends.', 'ha! that sounds fund. what did you learn?', 'True! they started with some basic zucchini based dish. We may try cooking some italian dish later this week.', 'I love Italian, especially Pasta!', 'Nice! I hope to volunteer to cook for the team in our next team offsite :)', \"can't wait to try your food. why not cook this Thanksgiving? ðŸ™‚\", 'Sure, I will love to invite you and your family for a meal over the holidays. Have you guys made any other plans?', 'not yet! totally up for it. thanks for inviting!', 'Hi!', 'Hey! How have you been', 'great! just came back from a ski trip', 'How was it? What trails did you ski on?', 'I slammed onto an ice wall, but I got better and turning after that haha', 'a resort in Montreal', 'Oh cool! do you know any french? I used to take french in high school but basically forgot most of it', \"Yeah I grew up speaking it. It's pretty much mandatory here\", 'Did you go anywhere else in montreal?', 'I visited a few places like the Stade Olympique', \"Oh cool! I've always wanted to attend the Olympics As a viewer of course I watch a lot of Olympic figure skating on Youtube\", \"yeah it's pretty cool. do you ice skate yourself?\", \"Barely I don't think I can, in conscience, call it that I kind of just pull myself along the sides\", \"haha same. It's pretty scary when I run out of things to hold\", 'Are you good at <REDACTED_TERM>?', 'not at all, but I want to practice more alright. I gotta go!', 'Okay! It was nice talking to you', 'I liked talking to you too!', 'Hi!', 'yo! what brought you here', 'Just looking to chat. Yourself?', 'yea I enjoy talking to people. what are you up to?', 'I am just enjoying a cigar at the moment. How about yourself?', \"oh wow, Cuban cigar? I've never smoke before\", \"This one is actually from Peru, which is more my taste. Smoking isn't very healthy, but it's actually quite relaxing, which in a way is good for your health. haha\", 'you made me wanna try it but I doubt about the health part haha', 'haha \"You only live once\" as they say!', 'yea I wish we can live more', 'haha, that is not what I was getting at, but yes that would be nice. Do you believe in reincarnation?', 'yea but then you will forget things. I hope Neural Link work out', 'Do you think Neural Link will allow you to live after death? I thought it was just a brain-computer interface.', 'as long as you can dump your brain and resume from there', 'Ahh I see. That is a much harder task, no?', \"yea you can first dump your brain and wait until technology advances to wake up ðŸ™‚ don't you believe?\", 'Hi!', 'Hi! How are you', 'Hi, can you recommend some good netflix shows?', 'I really enjoyed White Collar on Netflix do you watch a lot of TV shows', 'Not a lot! But I preparing for a good vacation season ðŸ™‚ What is white collar about?', \" It's a show about a detective and con artist solving crimes together ðŸ™‚ What shows do you like\", \"Hehe! sounds very interesting ðŸ™‚ I only see shows belonging to few genre's .. like easy going light comedy, or phychological thrillers ðŸ™‚ also some manga based series like one punch man! love it!\", \"Oh cool! I've watched some anime before too\", 'which anime do you follow?', \" I think the last one I watched was Promised Neverland and Kakegurui but I don't follow any right now\", 'Have you seen Rick and Morty ?', \"Yup! I watch that show with my friends I haven't gotten very far in it though What about you\", 'Oh nice! I heard its latest season arrived last month. I have watched all previous seasons. Its a total mind bender ðŸ™‚', \"I've seen a couple episodes from the latest season. It's really random and weird but also strangely relatable which is why I like it :)\", 'Hi!', 'Hey there!', \"How's life?\", \"can't complain. work is going well and I had a tasty fish for lunch\", 'lol which cafe? let me guess. <REDACTED_TERM>?', 'haha yeah', 'What is your favoriate cuisine? My favorite food is Chinese. What about you?', 'I love Hunan', 'Hmm you like spicy food. Nice', 'love it. specially spicy stir fried lamb', 'I would recommend Hunan Impression which has very good Hunan cruisine. Not sure if you have tried it or not', \"I think I haven't yet. Thanks! Have you tried ç•™æ¹˜ I think that's how you write it\", 'Yeah of course The fun fact is that the owner of <REDACTED_TERM> used to run <REDACTED_TERM>', 'oh interesting I also like Easterly', 'same former owner?? ðŸ™‚', 'Hmm!!', 'Hi!', 'Morning! How are you?', 'I am doing well. Do you have any plans for the holidays?', \"I'll be in Mexico for New Years but for Christmas I'll likely be at work. Yourself?\", \"I don't have any special plans. I will just stay at home with my family. How come you have to work on Christmas?\", \"I traveled a lot the last few months so I'm currently making up for it!\", 'I see. Where did you go?', 'Mozambique! You ever been?', 'I have not. I have only been to Uganda in Africa.', 'What did you do in Uganda? Travelling to Uganda is an extreme sport depending on where you go.', 'I was working on a volunteer project to build a school and I traveled around a bit by myself after. It was more than 10 years ago, so it must have changed a lot.', 'Was the project through a church group?', 'No, it was using a non-profit organization. They do these kinds of volunteer projects all over the world.', \"Oh nice. What is it called? I've always meant to volunteer through one but I haven't had it in my radar yet.\", \"It was called IJGD. It's a German organization, but they have local partners all over the world. I was living in Germany at the time.\", 'You lived in Germany? I almost went to college there and decided to come to America instead.', 'Yes, I grew up in Germany.', 'I grew up in Computers.', 'Hi!', 'Hi, how are you?', \"I'm doing great. what are you up to?\", 'I was just reading a book actually How about you?', \"oh, I'm enjoying a sip of coffee, looking over the ocean. what book are you reading?\", \"I'm reading Why We Sleep It's a book by a sleep scientist about the benefits of sleeping/cons of not sleeping enough I'm trying to scare myself into sleeping more haha\", 'that seems like a good book. does it have good tips on how to sleep better?', \"I think so! I haven't finished it yet though Understanding sleep better has been helping me value it more and I've been sleeping a lot earlier Have you read any good books recently?\", 'I read lots of papers, but do poorly on books ðŸ˜ž a recent book that I like is Zero to One by Peter Thiel', \"What's the book about?\", \"it's about startups, lots of useful principles and philosophies for innovation, like being a contrarian\", 'Cool! Are you thinking about starting a startup?', 'I might in the future. the philosophy in the book also help for other things as well, e.g., in research, you might also want to be contrarian', 'I see; seems like an interesting read! ðŸ™‚', 'yup!', 'Hi! How are you doing today?', \"I'm doing great how are you??\", \"I'm doing good. Just having some morning tea\", 'are you a tea person or do you like coffee too?', \"I'm really a hot chocolate person. I don't drink coffee and I only drink tea when I'm trying to be healthy and want something warm to drink. What about you?\", \"I love hot chocolate. Have you ever had european style hot chocolate? It's kind of like drinking melted chocolate bars haha\", \"I recently tried it for the first time and you're right - it had a wonderful melted chocolate bar taste! I tried it up in a place in San Francisco and they had delicious homemade marshmallows too!\", \"that's great. It's so cold these nights. Right setting for hot coco. Do you have anything you enjoy doing during cold times?\", \"Traveling to warm places haha. When it's cold, you appreciate the warm climate more ðŸ™‚ If I am not traveling, then I prefer there to be snow on the ground so I can go skiing or tubing down the mountain. What about you?\", 'I tuck in blankets and read a book lol. I have never done tubing, but I seen some people do it. Is it worth it if you already ski?', \"Skiing involves a lot of muscle - especially in the legs so it is a workout. Tubing, you just sit and enjoy the ride down. Also with tubing, you can chain with your friends and go down together whereas with skiing, you're trying to not run into your friends.\", \"hahaha that's a great way to put it\", 'You should definitely try tubing the next time you head towards the mountains during the winter!', \"Yeah. I'll try to get a group together. ttyl!\", 'See ya!', 'Hi!', 'Hey!', \"how's week so far?\", 'pretty good, excited for thanksgiving you?', 'Same. Going to catch up on my reading! do you have a feast planned?', 'yup! gonna have dinner with family what books are you gonna read?', 'Something Deeply Hidden by Sean Carroll <REDACTED_LINK>', 'ahh nice what kind of books do you usually like to read', 'largely scifi How about you?', 'yeah I also like scifi and some non-fiction too have you read Seveneves by Neal Stephenson?', \"I haven't what is it about?\", \"the moon is shattered by an asteroid and the pieces of the moon end up clouding the earth's atmostphere which causes almost every living creature on the planet to go extinct that's the premise of the book and the book is about the survivors\", 'how do the survivors survive such a thing?', 'they go into space and they live there', 'sounds like a tv show I watched', 'really? which one', \"can't quite remember. something about survivors going to live in space\", 'ah nice', 'Hi!', 'Hello!', 'There is sports tournament (badminton + tennis + basketball) organized by google next week. Would you like to volunteer for these events?', 'what does a volunteer do?', 'Volunteers have to book the place before the event, send out details of the event to participants, handle some logistics and ensure everything goes smoothly. It will be fun!', 'That sounds fun, I hope I get to participate as well', 'Great! Do you have any preference for any of these events?', 'I think badminton would be fun to help out with I used to play it with my siblings', 'Cool! I will add you for the event. I think its best to start discussing the format of the event. There are a couple of other volunteers for badminton, i can connect you with them.', 'Ah, I forgot to ask, has there been a date picked?', 'Its next saturday. Actually Depending on how long we get the place reserved, it may slip to sunday as well.', \"That's coming up soon!\", 'True! The volunteers have already sent out some emails and collected some funds. Now, we mainly need help with the logistics and organizing the event.', 'Phew, yes I can help with that', 'Perfect! We have a meeting today at 4.30 pm. Is it fine if i add you to it?', 'yes happy to help', 'Hi!', 'Hello there!', 'How has your morning been thus far?', 'Its alright. Went grocery shopping and got to stroll around in the rain. How about you?', \"Today is a work day! How did you have time for that? I'm going through a lot right now.\", 'Oh, you mean going through a lot of work? I usually take Wednesdays off because I work the weekends!', 'WHAT? Why would you do that? Take the least interesting day of the week off and work on the most interesting?', \"I actually don't have a choice. I'm an acupuncturist and all my clients want to be treated on the weekend!\", \"Wow. The game is brutal like that. I've always been sceptical of acupuncture. Like...does it even work? Why? How? Where is the literature?\", \"I went to school for it and so I find the literature quite convincing. I've also seen its benefits firsthand in my practice. It revolves around the Chinese notion of Qi.\", \"Lol. Bro...I don't buy it unless it has a paper that was presented at a conference and peer reviewed by 6 independent parties. Who wrote the literature? Where did it originate?\", \"Haha. All good questions! I don't have studies on hand at the moment, but perhaps I can send some to you later! What do you do for work?\", \"I'm a comic.\", \"Oh wow! What's your best joke?\", \"It's not appropriate to say here but I assure you it's VERY funny.\", 'Haha fantastic', 'Hi!', \"Oh hey. How's your day been?\", \"It's good! Just went to the park to enjoy the sun. You?\", \"The sun is a bit too bright for more. Maybe I'm on the verge of becoming a vampire.\", 'Haha, beach season is coming! You need to look tan! What did you do indoors all day?', \"I mostly work. Sometimes I try looking at at beach photos and pretending that I'm actually going to the beach.\", \"hahahaha, that's pretty funny. Ever thought of bringing your work things to the beach??\", 'All the times. My work involves a few types of fish and a few types of nets. I just put the nets on the fish to see how the fish will react. Every time I do that, I think of going to the beach.', 'Hmm I see. It sounds like you work near the water already, no? Are you some kind of fish researcher?', \"Yes that's close. My research focuses on jellyfish and pufferfish. Many of them a poisonous, but if processed correctly, they would make hi-end foods. I try to find the best recipes to bring these fish to the tables.\", 'Woah! This is very interesting! I have honestly never heard of such kind of work. Is it dangerous at all?', \"Yes and no. Because it's obviously dangerous, we all have to wear protective clothes. Thus, accidents almost never happen.\", 'Hmmm, yes I have heard that. Apparently most mountain climbers fall not on the most dangerous routes, but on the easier routes, when their guard is down! Sounds like the same psychological phenomenon.', \"Yes, it's the same philosophy. You seem to know a lot about mountain climbing. Do you climb a lot?\", \"I'm pretty amateur! I like to climb at indoor climbing gyms and have never gone outside on dangerous routes actually. Ever tried it yourself?\", 'I climb very occasionally. My fingertips are not strong enough so I never make too much progress.', 'Hi!', \"hi, what's up!\", \"Everything is good. There's so much to be thankful for - especially coming out of Thanksgiving holidays. How are you?\", \"I'm doing well. holiday season is the best thing to have!\", 'Do you have interesting plans?', \"yea I'm travelling to Vancouver this weekend. what about you? ðŸ™‚\", \"Nice! What for? It's a really beautiful place. Really cold this time of year though.\", 'ah a mix of both conference and sight-seeing ðŸ™‚ anything beautiful sight-seeing places or good food I should try?', \"Cool. Which conference? I saw on Twitter the other day, some people saying they were denied visas for some conference in Canada. Perhaps it's the same one. I really liked this place called Kingyo. It has good Japanese food if you're into that.\", \"yea it's <REDACTED_TERM>, the largest machine learning conference. I'll check out Kingyo, do we need to make reservation in advance?\", \"I don't recall. My friend was hosting me and did all the leg work. Do you know any people in the area?\", 'hmm not the local people but there will be tons of people at the conference ðŸ™‚', 'You attend these often?', 'yea, you?', 'I love you!', 'Sorry I am not a physical being!', 'Hi!', 'Hello!', 'Have you had lunch yet?', \"Yes I've eaten\", 'Cool. Where and what did you eat?', \"I ate about an hour ago and had a sandwich the rain didn't make me want to travel far haha\", \"A sandwich for lunch? Was it filling. I'm currently having some mix of shrimp, fish, chicken and pork. I'm considering going vegetarian though. Lol.\", 'thats a lot of meat what dish? Why are you consideringt o go vetegarian?', \"Cause the environment and humans suck. I'm keeping my bets open for space though in case the environment dies. I mixed up a couple of dishes. It was a buffet style place.\", 'What do you think of those meatless burgers then?', \"I love them!!!! I've had a couple of different kinds. They are all pretty expensive though. Have you tried them?\", 'I really like the impossible burger Which one is your favorite?', \"I love it too. But depending on how it's prepared you can taste the peanut butter. But if prepared well I love it. What kind of food would you have eaten if it wasn't rainy?\", \"I didn't know that it had peanut butter in it\", 'Hi!', 'hi', 'How are you feeling today?', 'pretty good. How about you?', \"I'm looking through some old photos of my home town, so I'm feeling nostalgic.\", 'I feel you. Memeories always flood when looking at photos. Where is your hometown?', \"It's called <REDACTED_TERM>, on the north coast of France.\", 'Hope you can take some time to visit pretty soon!', 'Yes, that would be nice. Do you like travelling?', 'Yes I do. But havenâ€™t been to many places yet', 'Where would you most like to go, if you could?', 'Fly to the moon :) Haha', 'Wow, cool! I think space tourism is going to be big in a decade or so.', 'Yep! I believe there is a day for that', \"Amazing to think about, isn't it.\"]\n"
     ]
    }
   ]
  },
  {
   "cell_type": "code",
   "source": [
    "len(dialogs)"
   ],
   "metadata": {
    "trusted": true
   },
   "execution_count": 5,
   "outputs": [
    {
     "data": {
      "text/plain": "1494"
     },
     "execution_count": 5,
     "metadata": {},
     "output_type": "execute_result"
    }
   ]
  },
  {
   "cell_type": "markdown",
   "source": [
    "***Mental Health Question Answers***"
   ],
   "metadata": {
    "_uuid": "add7f812-3e9a-4542-b31b-f99c513f257c",
    "_cell_guid": "7cfa14c7-c8f7-4058-9a56-04338ea466a3",
    "trusted": true
   }
  },
  {
   "cell_type": "code",
   "source": [
    "# mh = pd.read_csv('/kaggle/input/mental-health-faq-for-chatbot/Mental_Health_FAQ.csv')\n",
    "# mh.head"
   ],
   "metadata": {
    "_uuid": "a3568942-6e7e-4af8-a005-52df8f1b17f7",
    "_cell_guid": "80657e2d-dc76-46f1-a2e3-fe7b6674ce60",
    "trusted": true
   },
   "execution_count": null,
   "outputs": []
  },
  {
   "cell_type": "code",
   "source": [
    "# data = list(zip(mh.Questions, mh.Answers))\n",
    "# qna = []\n",
    "# for i in data:\n",
    "#     data1 = []\n",
    "#     data1.append(i[0])\n",
    "#     data1.append(i[1])\n",
    "#     qna.append(data1)\n",
    "#\n",
    "# print(list(mh.Answers))"
   ],
   "metadata": {
    "_uuid": "03435608-7dfe-41a2-ad49-120a76a8f9d3",
    "_cell_guid": "c6cb6eb6-ae68-4589-bdb2-63a09802fb3e",
    "trusted": true
   },
   "execution_count": null,
   "outputs": []
  },
  {
   "cell_type": "markdown",
   "source": [
    "***Empathetic Dialogues***"
   ],
   "metadata": {
    "_uuid": "1ab2b374-1eb5-4294-99a0-d30dad986162",
    "_cell_guid": "74fa7bab-b531-427f-b3d6-4e1744200316",
    "trusted": true
   }
  },
  {
   "cell_type": "code",
   "source": [
    "ed = pd.read_csv('data/emotion-emotion_69k.csv')\n",
    "ed.head"
   ],
   "metadata": {
    "_uuid": "23456ff1-7de0-4fac-b522-fab14024e0d2",
    "_cell_guid": "aee62da1-67ec-464f-b0b4-2d0099c1a740",
    "trusted": true
   },
   "execution_count": 8,
   "outputs": [
    {
     "data": {
      "text/plain": "<bound method NDFrame.head of        Unnamed: 0                                          Situation  \\\n0               0  I remember going to the fireworks with my best...   \n1               1  I remember going to the fireworks with my best...   \n2               2  I remember going to the fireworks with my best...   \n3               3  I remember going to the fireworks with my best...   \n4               4  I remember going to the fireworks with my best...   \n...           ...                                                ...   \n64631       64631  I found some pictures of my grandma in the att...   \n64632       64632  I found some pictures of my grandma in the att...   \n64633       64633  I woke up this morning to my wife telling me s...   \n64634       64634  I woke up this morning to my wife telling me s...   \n64635       64635  I woke up this morning to my wife telling me s...   \n\n           emotion                               empathetic_dialogues  \\\n0      sentimental  Customer :I remember going to see the firework...   \n1      sentimental  Customer :This was a best friend. I miss her.\\...   \n2      sentimental              Customer :We no longer talk.\\nAgent :   \n3      sentimental  Customer :Was this a friend you were in love w...   \n4      sentimental             Customer :Where has she gone?\\nAgent :   \n...            ...                                                ...   \n64631  sentimental    Customer :Did you find anything great?\\nAgent :   \n64632  sentimental      Customer :What a wonderful memory.  \\nAgent :   \n64633    surprised  Customer :I woke up this morning to my wife te...   \n64634    surprised  Customer :It is soooo awesome.  We have been w...   \n64635    surprised  Customer :Oh hey that's awesome!  That is awes...   \n\n                                                  labels Unnamed: 5 Unnamed: 6  \n0      Was this a friend you were in love with, or ju...        NaN        NaN  \n1                                    Where has she gone?        NaN        NaN  \n2      Oh was this something that happened because of...        NaN        NaN  \n3                    This was a best friend. I miss her.        NaN        NaN  \n4                                     We no longer talk.        NaN        NaN  \n...                                                  ...        ...        ...  \n64631  Yeah I found some old pictures of when us kids...        NaN        NaN  \n64632  Yeah reminds me of the good old days.  I miss ...        NaN        NaN  \n64633     Oh hey that's awesome!  That is awesome right?        NaN        NaN  \n64634               That is awesome!!!! Congratulations!        NaN        NaN  \n64635  It is soooo awesome.  We have been wanting a b...        NaN        NaN  \n\n[64636 rows x 7 columns]>"
     },
     "execution_count": 8,
     "metadata": {},
     "output_type": "execute_result"
    }
   ]
  },
  {
   "cell_type": "code",
   "source": [
    "ed.columns"
   ],
   "metadata": {
    "_uuid": "37816555-8958-46db-864c-76f88ee047ad",
    "_cell_guid": "c3578c52-f561-4798-8a60-4acac1d04d01",
    "trusted": true
   },
   "execution_count": 9,
   "outputs": [
    {
     "data": {
      "text/plain": "Index(['Unnamed: 0', 'Situation', 'emotion', 'empathetic_dialogues', 'labels',\n       'Unnamed: 5', 'Unnamed: 6'],\n      dtype='object')"
     },
     "execution_count": 9,
     "metadata": {},
     "output_type": "execute_result"
    }
   ]
  },
  {
   "cell_type": "code",
   "source": [
    "emapthetic_dialogs = []\n",
    "for i in ed.empathetic_dialogues:\n",
    "    try: \n",
    "        emapthetic_dialogs.append(i.split('\\nAgent :')[0].split('Customer :')[1])\n",
    "    except:\n",
    "        continue\n",
    "    \n",
    "len(emapthetic_dialogs)\n",
    "emapthetic_dialogs"
   ],
   "metadata": {
    "_uuid": "e885ca7e-3c4e-4960-b9aa-bdfa0977e171",
    "_cell_guid": "4d0462ae-8013-46a4-ba8d-928154cece72",
    "scrolled": true,
    "trusted": true
   },
   "execution_count": 10,
   "outputs": [
    {
     "data": {
      "text/plain": "['I remember going to see the fireworks with my best friend. It was the first time we ever spent time alone together. Although there was a lot of people, we felt like the only people in the world.',\n 'This was a best friend. I miss her.',\n 'We no longer talk.',\n 'Was this a friend you were in love with, or just a best friend?',\n 'Where has she gone?',\n ' it feels like hitting to blank wall when i see the darkness',\n 'dont you feel so.. its a wonder ',\n ' i virtually thought so.. and i used to get sweatings',\n \"Oh ya? I don't really see how\",\n 'I do actually hit blank walls a lot of times but i get by',\n 'Hi how are you doing today',\n 'Im good, trying to understand how someone can feel like hitting a blank wall when they see the darkness',\n 'doing good.. how about you',\n \"it's quite strange that you didnt imagine it\",\n 'I have never cheated on my wife.',\n \"Yea it hasn't been easy but I am proud I haven't\",\n 'And thats something you should never do, good on you. ',\n 'Job interviews always make me sweat bullets, makes me uncomfortable in general to be looked at under a microscope like that. ',\n 'I feel like getting prepared and then having a curve ball thrown at you throws you off. ',\n \"Don't be nervous. Just be prepared.\",\n 'Yes but if you stay calm it will be ok.',\n 'Hi, this year, I was the first over 300 students at my enginering school',\n 'It is computer science. I am very happy of this achievement and my family is very proud.',\n \"Sounds great! So what's your major?\",\n 'I lost my job last year and got really angry.',\n 'Yes, it was a complete surprise.',\n 'I am sorry to hear that. Did it happen out of the blue?',\n 'During christmas a few years ago, I did not get any presents.',\n 'Since that day christmas has not been a good time for me. As I have no family, christmas is always the worst.',\n 'Wow, that must be terrible, I cannot imagine, I lvoe christmas',\n 'Wow, I am sorry to hear that, I wish I could make it a better holiday for you!',\n 'My coworker is allowed to work remotely, but I am not...',\n 'I do too, it is unfortnuate because, unbiased, I am our best performer, so it is curious',\n 'I work remotely, I wish that you could do something like that as well.',\n \"Hi, I went to a park and I set on a bench. I didn't notice that my wallet felt. A man came to me from behind giving me back my wallet.\",\n 'Yes, I did. I was so grateful because I have a lot of money in my wallet.',\n 'Thats a sweet man, I hope you acknowledged his kind gesture. ',\n \"People get rejected all the time but it shouldn't be an excuse to let it dissuade you from reaching your goals.\",\n 'Got rejected from a place I wanted to work, not once but three times ',\n 'What happened?',\n 'I am sorry to hear that. I hope you find a better opportunity. Did you know why they rejected you?',\n 'I had to board my entire house when the hurricane was coming.',\n 'No luckily the house was ok.',\n 'WOW! Did it do any damage?',\n 'Once when I was in preschool, my pants fell down in front of the whole class, I was so embarassed',\n 'It was, I almost cried cause everyone was laughing at me',\n 'haha yeah that would be very bad !',\n 'I never thought things would go like this.',\n 'I was at the beach and a hurricane changed track and was coming straight at us. My boyfriend didnt want to leave because we were on the second day only of our vacation.',\n 'What happened for you to feel that way?',\n 'Oh that does sound terrible. What did you guys decide to do?',\n 'What a difference a year makes. Last year one evening my family was at home when a tree fell on the house and broke through the ceiling.',\n 'We were OK, though the tree broke through only a few feet away from my daughter.',\n 'Indeed. We were out of the house for five months while repairs were being done, but now the house is better than ever.',\n \"That's very scary. I hope no one got hurt.\",\n 'So happy everyone was fine!! Everything else can be fixed.',\n 'So last week we were watching the world cup, and lo and behold, Croatia beat the host country, Russia',\n 'Yes! Both countries were not about to let each other win',\n 'I saw that game. They won on penalty kicks!',\n 'It was very tense. The other game with England and Sweden was not nearly as nerve-wracking.',\n 'Hi, I have a co work always asking me questions about how to use her mobile. It is almost always the same questions.',\n 'Yes, she is. She is telling that all the cell phone that she has been using have deleting her contacts.',\n 'It must be so frustrating to have to answer the same thing over and over. Is she older?',\n 'I worked on my truck all weekend. Spent $215 on parts and a special tool. Still did not fix the miss in the engine.',\n 'It has a miss. Sometimes when you are driving it sputters and jerks and barely has any power. Other times it drives just fine. I have replaced so many things on it and nothing makes a difference for very long.',\n 'What is the problem with the engine?',\n 'I found myself divorced a few years ago, and for the first time in my life, I was living alone.',\n 'Yes, I felt that way for a while. But then I grew used to the solitude.',\n 'I felt sad and depressed due to my insecurities and felt rejected from society',\n 'I felt proud when I had accomplished a dream that I wanted to do for a long time. It was absailing!!',\n 'absailing, its when you rappeling down a building. What have you down that amazing?',\n \"I'm not familiar with abseiling, but I'm glad that you felt good about it.\",\n \"Oh, I see. No, I've never done that.\",\n 'Hello',\n 'Funny - we just built a house where we used to go camping when I was a kid. ',\n \"That's wonderful. Do you have any plans to have a fire? \",\n 'Hello! I am in such a good mood since I got my new home.',\n 'I have a ton of backyard space that we have plans for. Camping would be a fun one.',\n 'Planning out my new home has turned out to be a blast!',\n 'I just moved in so it is already built. Just working on planning out decorating and appliances and such.',\n 'What kind of house are you building? ',\n 'That sounds great. What are you most excited for? ',\n 'I never took a drink before and my friends were all over me to take a drink',\n 'It was not my thing and the moment I took I did wrong. Later in the night I started feeling bad.',\n 'Yeah I did to my mum and dad...When I started vomiting I mess my dress and mum knew. ',\n 'Why did you feel guilty for taking a drink?',\n \"I can understand. I am not a big drinker myself, but I wouldn't feel guilty about it.  Not unless you promised someone you wouldn't drink.\",\n 'Oh yea I can understand that then... Well I am sure you learned your lesson, right?',\n 'I was only married for 4 weeks when I learned my husband was having an affair and ongoing after the wedding. I got him back by sleeping with a close family friend. I felt guilty and ashamed because it was out of character.',\n 'Well I choose to stay and work it out, but I never told him. It has been 3 years.',\n 'Yeah that sounds really sad. I am sorry for what you went through. ',\n 'Yeah maybe that was a good decision that you made. ',\n 'When I was working my first job, my parents picked me up in my new car, I was very surprised, i thought I was gonna have to buy my own car',\n 'Yeah it really was, I am still very thankful of them',\n 'wow, that was so awesome of them!',\n \"I'm nearing 40 and I find myself thinking a lot about my teen years and early twenties. The friends I had then and the fun we had.\",\n \"I don'\",\n 'That is where I am still at, I am scared I will have regrets when I get older',\n 'A year ago I spent a lot of time doing research for an article. Then a top journal accepted it for publication.',\n 'It was about the medieval poet Geoffrey Chaucer.',\n 'He was an English poet in the fourteenth century,',\n 'what was the topic',\n \"I'm not familiar with him where is he from\",\n 'Do you have any irritating coworkers?',\n 'yes a few that drive me nuts. the janitor is the worst',\n 'Yes, I think that everyone does! What about you?',\n \"That's too bad. Our janitor is very friendly.\",\n 'Hi, I broke a statuette offered by grandmother to my sister. It was a very important object for my sister.',\n 'No, it is not possible. It is old statuette given by the mother of my grandmother.',\n 'Is it not better you replace it with same type of statuette,at a grocery store?',\n \"I could not tolerate the waiters insensitivity,that's poor service indeed!\",\n 'Imagine ,I requested a French fries ,but was served burger instead!',\n 'What happened?',\n 'I left his house, filled up with his food and disgust. I left his fridge completely empty and feel guilth',\n 'Thanks man, at the heat of the moment I ate due to my flashbacks I was traumised.',\n 'That would be hard to do and take courage. ',\n 'Hi I was recently on vacation and frightened half to death.',\n 'I was eating some chips on the balcony. I dropped them and then was swarmed by seagulls.',\n 'I went inside. I donr know how dangerous they are but I didnt want to fall 7 stories.',\n 'Oh, my, what happened?',\n 'I live near the ocean, so I do understand how this can be. I hope you ran, very quickly.',\n 'When i was younger, my mother would always take away my PC because I would always play video games on them.',\n 'Now that I am older though, my girlfriend tries to take away my Pc. Very rough days in my life.',\n 'Stop doing that, it is very important to have a pc. The internet is the future and very many jobs are opening up online.',\n 'I was the same way.',\n 'Lol. I take away my daughters now. I guess my mom passed the torch.',\n 'She is 13 not at 3am',\n \"One of my friend didn't keep this promise he made to me. I was so angry to him.\",\n \"I was suppose to help me move from my apartment. He didn't come and turned off his cell phone.\",\n \"What promise didn't he keep?\",\n 'There were times where I was being seduced by a coworker of mine as a married man.',\n 'I was the one who was being seduced as the married man.  Good thing I remained committed to my wife and did not cheat.',\n 'Wow. Did he have kids?',\n 'I am an English Tutor for Chinese students, when they struggle with a topic, I always take extra time to help them along and make sure they understand',\n 'I like it very much, seeing a kid grasp a new concept and very quickly and finding effective ways to do it is a blast.',\n \"That is very inspiring, I'm glad you take the extra time. Do you like doing what you do?\",\n 'Have you ever had a pet that you had to put down? I was so heartbroken when my dog of 16 years had to be put down. this was years ago but it still makes me sad to this day.',\n \"That is true, we got her when I was 3 years old so I kind of grew up with her, I'll never forget those memories.\",\n \"That is heartbreaking, it's always helped me to remember that no matter what happens, you have your memories with them.\",\n 'I drove to Dairy Queen but it was closed. ',\n 'I just really wanted some ice cream! Now I know their hours, though.',\n \"I'm sorry to hear that.  That must have been frustrating.\",\n 'One time I had a flat tire and my dad came to help me fix it.',\n 'I ran over a nail in the road.  Now I know not to drive near new houses.',\n 'Oh no! Glad your dad was able to help. How did it happen?',\n \"My kid's birthday are coming up again. It always makes me remember them as babies.\",\n 'They are. All the sights and sounds of babies are so precious to remember.',\n 'Awe how sweet, I bet those are good memories',\n 'When I was a little child my parents told me that we were going to the amusement park and it made me so happy',\n 'It was fun for sure, all the rides and the food, it brings back great memories.',\n 'I bet! That sounds like fun.',\n 'What sweet memories to hold on to.',\n \"My wife and I decided to go on an iternational trip last year, and it was my first trip out of the US. It was an amazing experience, and one of the best and most memorable things I've ever done.\",\n \"My wife was amazing. She booked the whole trip for us, and planned out some things for us to do while we were there. The person's house we stayed at was also really great, and helped us find our way around Auckland.\",\n 'Super nice, the locals were always willing to help us navigate around, and had great recommendations for things to try while we were there.',\n \"That's awesome! How helpful where the other people so that you could enjoy your trip?\",\n 'Must have been super fun. How were the local people? How did they treat you?',\n 'Onnce I had to take care of my cousin who had an ailing stomach',\n 'Apparently he ate something and slept immediately',\n \"I'm sorry to hear that. Do you know what caused it?\",\n \"I've done that to myself before. Now I always wait awhile to sleep after eating.\",\n 'I felt afraid. Still i remember it',\n 'Two years ago, i was admitted in hospital. I was ill',\n 'What were you afraid of? ',\n 'Oh No, well glad to see you are here still! ',\n 'We have a new manager at work and it isnt going well. ',\n 'I do sales work, but he always lies to us and takes our bonus money. ',\n 'what is your job position?',\n 'You are never going to believe what I did',\n 'Well, I normally do not feel comfortable lending things to my friends, but recently I mustered up the trust to loan my friend my vehicle.',\n 'Well, I have known him for a while and I have never seen him drive crazy, so im just hoping all goes well.  It is just for a day, but a lot can happen in a day.',\n 'What did you do? ',\n 'Ouch... Is it just for a day? Is your friend a safe driver?',\n 'I went shopping yesterday and bought a $2000 bag. My husband is going to kill me..',\n 'All women have the same problem. It is a guilty pleasure..',\n 'Haha my girlfriend does the same thing.  Check comes in and she is so happy to have money for the next two weeks, then goes and spends it all on clothing and accessories.  ',\n 'I hate to be tired and see a store crowded with customers and only one or two checkouts open.',\n \"Especially when it's a time of day that they know will be crowded and busy.\",\n \"Yeah it's really frustrating when they won't have more eople on. \",\n 'Exactly. Hopefully more places will get self-checkout so we can get through the line faster. ',\n \"There was a person who had to do twice the amount of work that they usually do. Sounded like they need to fire whoever didn't do their job \",\n 'Maybe there should be a training day where they do back over everything, ',\n 'That too! If only',\n 'Yeah, or at least do something to correct that.',\n 'or hire more people maybe also',\n 'So our new manager has changed our bonus structure causing us to never hit bonus..',\n 'Its frustrating when I go from 24 an hour to 10 an hour because of his lies. ',\n 'And then what?',\n 'I had a chance to make some money, but my phone screwed up',\n 'yes i did, but i still can not get that money',\n 'Thats terrible... have you gotten a new phone yet? ',\n 'Last year I was so excited to be moving.',\n 'We moved back to our hometown. We were so looking forward to being near family and friends again.',\n 'oh well, where did you move?',\n 'i bumped into a car while reversing, i had to wait long to talk to owner of the other car',\n 'It was indeed. the worst part was not able to get hold of him. He parked and wandered somewhere.',\n \"Oh no, that's terrible. Sorry you had to deal with that.\",\n 'I am sure that threw a wrench in your plans. How frustrating!',\n 'I was having a bad day the other day but my spouse went and surprised me with my favorite food. ',\n 'I know it was rather sweet of them... i love anything asian! ',\n 'whats your favorite food? that was very nice of them',\n 'We just got back from vacation and our sleep times are off. It is really messing with me.',\n 'I went to bed at a decent time last night. When I woke up my kids were still up watching cartoons!',\n \"That will mess you up for a few days. The only thing I don't like about going away.\",\n 'I like getting things done in the yard,but I feel so dirty afterwards.',\n 'The grass makes me itchy, But the shower afterward feels great.',\n 'I only like yard work with the kids. They do most of the work and we have fun in the dirt.',\n 'So the other day I had a crazy long day and got home to find all of my chocolate was gone! ',\n 'I know right! ..., but atleast I had some amaretto in the fridge.. lol ',\n 'Oh my gosh! I would have been so upset! Nothing is better than chocolates on a bad day.',\n 'My daughter, Brooklyn, has finally overcame her fear of water and learned to swim! It makes me so happy to see her loving the water.',\n 'She is 4. She normally is completely fearless, compared to my son who is afraid of everything. Haha! So I love that she has worked so hard to overcome this.',\n 'Thats so special! What a beautiful moment.. How old is she? ',\n 'My daughter is 1.5 years old - shes just been introduced to the water.. its always so special when our babies have their \"first\" moments. Congrats mama! ',\n 'Hi, I am concerned about the financial situation of my employer.',\n \"I don't think it is a good idea. There was a layout off six month ago. \",\n 'Have  you thought about talking to your boss about it?',\n 'So I am home from work and Marks car was outside. I went in and him and Liz were kissing on the couch.',\n 'I made them both leave but me and Liz are breaking up. ',\n 'This is terrible. So sad to hear that. What did you do then?',\n 'Did she already move out?',\n 'Did you go outside and see if anyone was hurt?',\n 'I heard a noise outside that sounded like a car had wrecked yesterday.',\n \"What do you mean? I don't know what you are talking about.\",\n 'So after I left the club last night I noticed the Taxi had old throw up in it still.',\n 'I still took it since it was late but I rode in the front seat.',\n 'I would have gotten out right then I believe.',\n 'I guess you rolled all the windows down too and held your breath',\n \"My marriage give me hopefulness about the life. exactly I want to say is may not it's marriage actually it's my wife given me the hope about the life. \",\n 'Yeah, thank you! at which situation did you feel hope for your life?',\n \"Wow! you're right. We should learn from kids. \",\n 'Wao, that sound like a great strong realtionship you have with her, so glad to hear that!',\n 'When my first daugther was born! i saw in new life, i thought everything in the world can change, we need to be pure as kids.',\n 'The other day when I was cleaning I came across an old keychain my dad gave me when I was younger, it was nice to see. ',\n 'Yeah it meant a lot to me - almost like a sign! ',\n 'Thats good that you found the keychain',\n \"My handyman keeps telling me he's coming by to fix my leaky sink, but he never shows up when he says he will, ugh.\",\n 'Oh yeah, and it goes to his answering machine every time.',\n 'That is seriously the worst... waiting around all day wondering whats going on! Have you tried calling him today? ',\n 'Of course right, I would try angies list or homeadvisor! They can find you a new one...',\n 'My co worker keeps getting told how great of a job he is doing and I know hes doing wrong to get all the sales. ',\n 'Doubtful, but I sure hope so! He gets a 100 dollar bonus every week because of his ways..',\n 'Oh no. I am sure he will get caught eventually though.',\n 'It was amazing sitting on the stage in that hug auditorium.',\n 'Music. Some of the hardest music that professionals play.',\n 'What event was taking place?',\n \"That's cool you were on stage for that. Were you one of the musicians?\",\n 'I am satisfied to have a good vacation',\n \"Nothing special. I just travel to my familly. It has been almost a year that I didn't see them.\",\n 'Oh yeah what are you doing for your vacation? ',\n 'So the other day my daughter went potty for the first time on her own! ',\n 'Shes 18 months old, it really is amazing to see them develop. If only people clapped for us when we used the bathroom... ha ha ',\n 'That is great. It is sweet to see them grow and learn. How old is she?',\n 'The other day after dinner my daughter took her trash to the trash on her own. I love watching her develop! ',\n 'Shes just starting to try to say full sentences, but right now its just a lot of babbling and drooling. lol',\n 'It is so sweet. Is she able to talk?',\n 'i am angry against a friend that suppose to help me.',\n \"I wanted to wall mount my TV but my friend didn't come and turned off his cell phone. I was always helping him for anything.\",\n 'That sucks... what was he or she supposed to help you with? ',\n 'I traveled a few months ago and didnt realize how much planning is involved! Wow it was a lot to get ready for... ',\n 'I went to Peru to visit my family. I try to go every year. ',\n 'Traveling is hard work. Where did you go?',\n 'I have a small circle of friends. They are like my family.',\n 'Around ten years. I let my friends borrow my debit card the other day. A stranger wouldve wiped me out.',\n 'Thats awesome, friends really can be the best. How long have you known them? ',\n 'Im glad you have such good friends in your life, it makes life easier. ',\n 'So we had a meeting at work this week. Turns out we may have to shut down in the next few months.',\n 'I feel like if they go through with it they have to offer us packages right?',\n 'Omg... thats terrible! Im so sorry - Ive been through similar. Are they going to give you some sort of money upon lay off? ',\n 'If they have a heart or soul they will! They really should...',\n 'The other day I got a bonus from work, which was amazing because i have recently got behind in bills. ',\n 'I wasnt expecting it, but basically because my stats were above ',\n 'That is really cool! Did they tell you why they were giving you the bonus?',\n 'So I went to see the new Marvel movie with Thanos. It was so good and I am so pumped up now.',\n 'It was called Infinity War! You should find time to see it.',\n \"What was it. I've been too busy to notice new movies out.\",\n 'They do put out good movies most of the time. I will try and check it out. ',\n 'I am afraid my neighbors are causing snakes to come over my way.',\n \"They aren't clean and I've been getting a lot of mice, and snakes follow them I think.\",\n 'good idea',\n 'What are they doing to cause you to think that?',\n 'I have heard that too. You might want to contact your local district.',\n 'Today is my birthday! I am 34!',\n 'Nothing today since its Thursday, hopefully I can bar hop this weekend. Waiting for gifts today.',\n 'Happy Birthday!!!! What are you going to do for it? ',\n 'I hope you get lots and lots! ',\n 'I was so excited to move to a new state, but when i moved into my apartment it was full of bugs! ugh',\n 'me too.. i really was freaking out. ',\n 'Oh no! Bugs really creep me out!',\n 'I was disappointed by my manager when he told that I will probably get my promotion next year (not this year)',\n 'No, I tried everything. It is like betrayed me.',\n 'Ugh.. that seems like forever away.. can you try to get it sooner? ',\n 'I get to go to the water park today! I cant wait. ',\n 'Its so much fun, really pretty down there too. Oh in a few hours! ',\n 'That is nice. I like going to water park. What time are you going?',\n 'I went out last weekend and had a major accident. Guess what happened...',\n \"I'm fine. Just a litte embarassed. I ripped my leggings dancing on bourbon street.\",\n \"Yep. My shirt was long enough to cover it. Plus I don't live there lol.\",\n 'Are you ok, you have to tell me what happened.',\n 'Ahh that has happened to everyone before. It is embarrassing but you will get over it.',\n 'Well im glad you were able to cover up.',\n 'So last night I was driving down this road and my car died and I had no lights.',\n 'I was sitting their for over 6 hours in the dark and night.',\n 'Well I finally got a signal and was able to get my brother to come and help me.',\n 'Oh no. That must have been scary.',\n \"Wow. I would've freaked. I can't even have all of the lights out in my apartment.\",\n 'My house feels like its taking forever to sell...but I have a feeling something good is going to come soon! ',\n \"It's been almost 3 months now, but not 1 offer. \",\n 'How long have you been trying to sell it for?',\n 'I have been going to school for whar seems like forever.',\n 'I did. I am going to finish soon though.',\n 'Did you wait a lot?',\n 'Recently, I have been annoyed by a coworker making jokes about me.',\n 'It is bothering me a lot. This coworker is not competent and he spend this time making jokes on other people.',\n 'Shame on them.',\n 'My daughter fell the other day pretty hard, I had to hold her until she calmed down. ',\n 'Yeah it wasnt too bad just a couple scrapes, its hard seeing your kids get hurt. ',\n \"Oh no, that's scary, is she okay?\",\n 'I really dislike my neighbors. They are the worst.',\n 'They argue constantly and we live in apartments so I can hear everything. They even call the police a lot.',\n 'Yes, but I think they know the landlord.',\n 'What are they doing that is upsetting you?',\n 'Have you made a formal complaint against them yet?',\n 'So last Friday I was driving home from work and this guy just cuts me off in traffic.',\n 'Well I to swerve onto the shoulder and almost caused a accident. Some people are just jerks on the road. ',\n 'Nothing upsets me more than seeing teenagers on their phones. It really boils my blood.',\n 'That happens a lot. What happened next?',\n 'I know the feeling. I hate driving now. Everyone is looking in their phone.',\n \"I was lost in a neighborhood I didn't know, when some guy came up to me and quietly asked if I needed a ride.\",\n \"I wouldn't know. I defnitely didn't want to risk it and declined the offer!\",\n 'Please tell me that he was friendly and nothing creepy! ',\n 'Thank god! LOL I was like please tell me this was a positive experience... ',\n 'So this is going to sound crazy but, one day I am going to win the lottery. ',\n 'Pay off my debts from moving number 1, and then buy a house! What would you do with the money? ',\n 'That would pretty amazing. What will you do with the winning?',\n 'I will pass a examen next monday. I reviewed all the content for the course',\n \"Yes, I feel ready. I can't wait to take that exam\",\n 'Good for you! Studying can be a real challenge sometimes.',\n \"Last month, my boss gave me a 10% raise, even though I didn't ask fo it. It was quite the welcome surprise!\",\n 'Yeah, we have always gotten along well, and he has always been very supportive of me.',\n 'That is great. Probably he think that you are doing a great job.',\n \"I've lost my job and am behind on my mortgage. It scares me that I could lose my home.\",\n \"Thank you. I've been working odd and ends and am looking for a job that pays more of course. How did you overcome that time?\",\n \"That's awful, I'm sorry to hear that. I lost my job once as well and times got really hard. What kind of stuff are you doing to try and avoid that outcome?\",\n 'Today is my birthday!',\n 'Still recovering from a road trip but hopefully things will get exciting this weekend!',\n 'New Orleans IT was great',\n 'HAPPY BIRTHDAY! Do you have any plans for today?',\n 'That is really cool, Where did you guys on your trip?',\n 'I live in Texas so that it really close to me',\n 'So last week I was supposed to meet Mary and workout with her. But I kind of lied...',\n 'I told her I had to go out of town and instead I just stayed home all day.',\n 'Because We do it everyother day and I did not want to seem lazy.',\n \"Oh no. That's not right.\",\n \"Lol. Why didnt' you just reschedule?\",\n \"So you said you were going out of town. That's hilarious.\",\n 'Recently someone offered me an extreme amount of money for a work at home job... ',\n 'It sounded too good to be true honestly it made me feel a little uneasy... i had to turn it down! ',\n \"wow! That's awesome! Did you accept the job offer?\",\n \"so i applied for 200+ jobs and i can't believe i didn't hear from none of them!\",\n 'just any job at this point. just a full time stable job',\n 'Bummer!!! Are you looking for a work at home job or just an outside job? ',\n 'I hear ya.. I hope you find one soon... wishing you all of the best! ',\n 'Last night I went into my kitchen and ate all of my kids cookies.',\n 'Well my wife confronted me this morning and I blamed it on our dog Max.',\n 'Yeah my wife had been kinda cold torwards him since. I feel bad for him..',\n 'I do that all of time.',\n 'Lol. Poor Max. I bet sometimes dogs wished the spoke English for that very reason.',\n 'I have lived in my apartment for 5 years now.',\n \"It's getting smaller, but my friends used to come over more. Now I'm by myself all the time.\",\n 'O wow that is a long time, Are you happy with it?',\n 'Im sorry to hear that sometimes people grow apart. You should try to throw a party and see who comes.',\n 'I recently moved to my dream location, but it sucks not knowing anyone. ',\n 'That actually sounds like a really good idea! Thank you... now to decide what to cook.. lol',\n 'congratulations! I know, it probably feels lonely. Maybe you should do a party at your house and invite all the neighbours',\n 'so i saw a snake outside my apartment today, i hate snakes, so disgusting eww',\n \"went back inside the house and called animal control. it looked like a copperhead so i'm not messing with them\",\n 'I would have went running like forest gump - what did you do? ',\n 'Going to have to burn the whole house down now, and move... LOL just joking! ',\n 'So they just posted online about how they are not making a sequel to Hot Fuzz.',\n 'I guess it just did not get enough funding. It just sucks because it is my favorite movie.',\n 'Oh no. Did they say why?',\n 'Hopefully it might be reconsidered later on.',\n 'I was able to save a blind lady from falling down an escalator.',\n \"She was very alarmed and rightfully so. I'm usually not a nice person, but I'm glad I did the right thing that time!\",\n 'Is she ok? Im glad you were close by!',\n 'I am so sick of my job not paying us for the proper amount of hours! ',\n 'It seems like it doesnt it.. i hope it gets better. ',\n \"That's terrible. Employers just don't value their employees sometimes.\",\n \"I was mowing the lawn, and a rock flew and broke my neighbor's window.\",\n \"They didn't even know what happened, but I got myself to let them know although I was terribly scared of the expenses.\",\n 'Oh no... were they relaxed about it or did it cause a problem? ',\n \"I hadn't worn a bathing suit in maybe 5 uears until recently.\",\n 'I had gained a little weight and got embarassed.',\n 'I have one now. I saw a bunch of ladies strutting in their suits and iy boosted my confidence. I had a ball at the beach the next day.',\n \"Online. I can't say the store name. I won't allow me\",\n 'Why is that?',\n 'Well I just bought a great bathing suit that covers up all the extras but still shows a little skin and makes me feel good. Maybe that will work for you.',\n \"That's good to hear. Where did you get it from?\",\n 'My grandmother passed away unexpectedly a few years ago.',\n 'Yes it is. She was the grandparent I was closest to.',\n 'Yes, I believe that time is the best way to heal.',\n \"oh no sorry to hear that. I just lost mine in November. It's hard.\",\n \"People say it gets easier. I'm still waiting for that part.\",\n 'I hope so. Nice chatting with you.',\n 'I wish I could work less.. i feel so bad that i dont get to spend as much time with my daughter. ',\n 'Ive been trying what I really need is a higher paid one so that way I dont have to work 2 jobs. ',\n 'I hear ya. Anyway to get a new job?',\n 'My friend called someone a bad name, he really mad me upset.',\n 'I did and then we got into a argument about it.',\n 'I dont like rude people either did you tell him? ',\n \"My fence is collapsing at areas where my neighbors keep climbing over to get their ball. It's going to be expensive to fix.\",\n \"I'm afraid to unfortunately. They broke the window once, and I had to get police involved.\",\n 'Oh yeah I am sure it is.. have you talked to them about paying for it? ',\n 'I cant wait to relocate and move again. I am so ready. ',\n 'New York, VA, FL... how about you? ',\n 'Wow! Have you been to many places?',\n \"My brother usually doesn't do anything for me unless asked. After 3 decades, he actually took me out for my birthday.\",\n 'haha siblings! How many brothers do you have?',\n 'MY brothers are the same way. At least yours ginally came around.',\n 'Today is my birthday and I got a call yesterday wishing me a happy birthfay from my ex.',\n \"Thanks. It wouldve been a good thing if he didn't call last month to tell me happy birthday also. He should know when my birthday is after 11 years lol\",\n 'Happy Birthday! Is the call from the ex a good or bad thing?',\n 'Exes are exes for a reason I guess lol.',\n 'I went to the optometrist, and my prescription got strong. She warned me about being at risk for losing my vision.',\n 'Oh yes. That is smart. After the warning, I use the screen dimming program called f.lux.',\n \"That's not good. I know my eyes hurt when staring at the bright white screen on computers . So I change them to a darker color when possible.\",\n \"My old high school is being sold and turned into an old people's apartment complex. Sad to see it go. \",\n \"Yes, They consolidated and it's awful. The kids now have a thirty minute bus ride one way to school.\",\n 'Nostalgia. Is there another HS nearby for the kids to go to?',\n \"That's pretty terrible. Thirty minutes in a day pretty much just commuting one way. School is already tough.\",\n 'It was my birthday and my mother came to surprise me.',\n 'She showed up to my house and brought me a cake.',\n 'Aw thats so nice, how did she surprise you? ',\n 'I still remember the day i had to say goodbye to my dad. :( ',\n 'He had a heat stroke in the middle of July. ',\n 'Thats too bad. What happened?',\n 'Today is my birthday! I think tonight we are all going out.',\n 'I think to a amusment park but im not sure!',\n 'Awesome! Happy Birthday to you! Where are you going? ',\n 'That seriously sounds like the best birthday ever... i hope you guys have an awesome time. ',\n 'It was insane getting ready for hurricane IRMA to hit last year.... ',\n 'We did but it wasnt too bad, not as bad as the news made it out to sound. ',\n 'Did you get hit my it? I bet that was scary.',\n \"My neighbor went back to school at 59. She just got her bachelor's this year.\",\n \"Yea. She's a pretty amazing lady to do that and inspirational of course. What are you in school for?\",\n \"Wow that's awesome. I went back at 31. Still going.\",\n 'It makes me sad to be single nowadays.',\n \"IF two years is recent lol. Today is my birthday and I don't want to cook.\",\n 'Did you go through a breakup recently?',\n 'Happy Birthday! Well, you can order out of course. ',\n \"My friend's boyfriend got into an accident 5 years ago. She's still with him.\",\n \"Got into a motorcycle accident and is now paraplegic. They're doing just fine! He's got his pride issues, but she's sticking with him.\",\n 'What happened to him? How are they doing?',\n 'So last night a cop pulled me over.',\n 'He said I was speeding but I was really nervous.',\n 'Oh man. What happened?',\n 'Did you end up getting a ticket?',\n \"I've been taking care of my aging mom for 5 years now and don't really have any friends, since so much time is used taking care of her.\",\n \"Thank you. Can't afford outside help unfortunatley. Yes. I have picked up exercising though.\",\n 'That is a nice thing you are doing for her though. Maybe you could hire somebody for a few hours a week and join a gym or yoga class. ',\n \"A little baby turtle was crossing the road the other day and I was in a hurry and didn't stop and help him. I hope he made it. I usually stop and take them to a creek away from the road. Darn!\",\n \"They're so pitiful with their little heads up , like where are you mom, where did you go. \",\n \"Can't always help unfortunately. I hope the little guy made it, too!\",\n 'I wonder how they get all the way to the road away from the other turtles!',\n 'My mom has arthritis in her neck, and the pain seems to be traveling down now.',\n \"The doctor just recommended exercise. I'm not sure if they were just busy to do anymore for her or if exercise is the best.\",\n 'I am sorry to hear that.. is there any physical therapy that can help her? ',\n 'I am so impatient right now... waiting for the clock to hit 5 so I can go on vacation! ',\n '4 hours to go! ahhh',\n 'How many hours do you have left?',\n 'So my boss sent me over to close the deal with the Mr Harris. I felt so happy closeing a big client like that.',\n 'He signed right away and we had a drink to celebrate.',\n 'Thats great, was the result good?',\n \"That's great. How happy were you?\",\n 'I was in the woods and a snake came out of no where.',\n 'Luckily it did not. I was fine just scared.',\n 'Did it bite you? Are you ok?',\n \"My mom went back to school at 63 and recently got her bachelor's in computer science!\",\n \"Yea. I mean I can't even code. And there goes my mom who didn't even know a browser was, now coding!\",\n \"Wow That's amazing. You must be very proud of her.  I think coding, etc, seems very hard.\",\n \"I finally finished my Phlebotomy class . It was an hour's drive one way, but thankfully it's over and a hospital nearby is hiring I heard. Whew!\",\n \"I would probably tell them to look the other way and that it really isn't very painful. \",\n \"That's amazing! How do you anticipate dealing with people who are afraid of needles?\",\n \"That's good thinking. I hope you won't get too many who are afraid!\",\n 'Had a interview yesterday. I think it went pretty well. I hope I get the job.',\n 'Thank you. I did actually. The recruiter sounded pretty positive on the phone.',\n 'Thats good. Make sure you follow up.',\n 'I bought a lottery ticket and have a feeling I will win.',\n 'I know my chances are not good but maybe I can get lucky.',\n \"Good luck! I hope you'll win!\",\n 'My birthday was last weekend, and no one wished me a Happy Birthday.',\n \"It is. I've been absorbed in work for the last 3 years and haven't gone out. So I guess everyone kinda moved on without me.\",\n \"I'm so sorry to hear that. How sad for you.\",\n 'For my 30th birthday, my family and friends got together and threw me a surprise birthday party.',\n \"It was held at my parent's house in New Orleans.\",\n 'Very nice! Where was the party?',\n \"That's really sweet of them. Must've been a big party.\",\n 'The vet told me my cat only has a few weeks left to live.',\n 'I plan on it! He is really old so it is just his time to go and I get that but that doesnt make it any easier.',\n 'Thats so terrible! :( Im really sorry... you should do something special everyday and make memories! ',\n 'It really doesnt.. i had to put my dog to sleep and it was extremely painful. I really hope that he can rest without pain and that you can feel better soon.. ',\n 'A friend tried to get me to go out to a bar and hang out behind my spouses back... ',\n 'I havent yet, but I agree with you I should. I just dont want them to be upset with my friends. ',\n 'Did you tell your spouse? I really think they should know.',\n 'Some would consider it cheating if you did not tell them.',\n \"I hate being envious, but I've needed a car for months and my friend just bought a new one.\",\n 'I guess so. It is a really nice car.',\n 'I know what you mean... but for now maybe you can just car pool around with your friend until you can get one! ',\n 'So you can ride in style for free. Sounds fair to me.. until you get yours! :) ',\n 'I had to put my dog to sleep and it was super stressing! :( ',\n 'Thanks, it always sucks when you have to say goodbye.. but shes better off now without pain. Do you have any pets? ',\n \"oh no. I'm sorry to hear that.\",\n 'Went out with my friends last night after not seeing each other for a year. I was in another country for work and just got back.',\n 'Yea. It was nice learning about the culture there, and people were really nice.',\n 'Oh, I bet that was fun and interesting visiting another country too.',\n \"I think I found someone that's interested in my house finally . It's been on the market for over a year now. \",\n \"I will move to a less rural area. It's very isolated and you have to have a vehicle for transportation.\",\n 'That can be stressful. I hope you get the sale. What will you do afterwards?',\n 'Do you prefer the isolation?',\n \"I'll get to go on vacation tomorrow. Been working really hard to get things clear up so I can enjoy myself.\",\n 'Japan! Looking forward to the food.',\n 'Awesome! Where are you headed to? ',\n 'Recently I offered to start working extra long hours just to help support my family more. ',\n 'Yeah we recently moved so we have gotten in quite debt while trying to sell the previous home! ugh ',\n \"That's really considerate of you. Do they need your help a lot?\",\n \"Just moved here for work, and I don't know anyone. My coworkers have families of their own.\",\n \"Yea. It's going to take some time. It's just tough going through it right now.\",\n \"That's sucks. You just have to warm up to people.\",\n 'I went to grocery store the other day and completely embarassed myself.',\n 'I filled an entire cart with food for a party and then realized I had forgot me purse at home.',\n 'What happened?!',\n 'Oh no. Did you end up having to leave the cart?',\n 'I cant wait to buy my christmas tree this year, lol.. funny right? ...but I am actually really excited. ',\n 'I thought about it, but dont think I could handle one. Do you have one? ',\n 'Do you usually get a live one ?',\n 'I visited my old home town recently and it has gone down hill so much.  A lot of the houses are run down and dilapidated. So sad.',\n 'Yeah, I got to see a few people I knew . It was still fun',\n 'That sucks..... always bad to see something like that. Did you atleast enjoy your trip? ',\n 'Aw thats good! Im glad you still had a good time. ',\n 'So I came home from work yesterday and when I walked in the apartment Sally had all my friends and family inside.',\n 'It was a surprise party I turned 25. I honestly thought they all had forgotten.',\n 'surprise party or intervention',\n 'MY daughter started a new school last year.',\n 'I was more afraid than she was. It was a big transistion. All girls and she is 13.',\n 'That is exciting and scary all at the same time',\n 'I could understand that, Does she know anyone at her new school?',\n 'i was excited when i was a child and found out my firned could come over and play',\n 'Yes it was so much simpler. We got excited for the smallest things',\n 'life was simple then wasnt it! very cute. ',\n 'I know what you mean. I miss being little myself. ',\n 'I was in the middle of a long distance move, and somehow misplaced my drivers registration and car insurance!!! ',\n 'I know I was so scared, and nervous.. it almost ruined the entire trip. ',\n 'Oh no that is not good',\n 'So Bob got the promotion at work even though I put in all those hours.',\n 'They made us both take a test. I geuss he scored better than me.',\n \"That's gotta be terrible. Why did they pick him instead of you?\",\n \"I'm sorry to hear. Will you have another chance to get promoted?\",\n \"My neighbor's kid just lost his eyesight. The whole family is devastated.\",\n 'His vision was gradually getting worse. Suddenly, his vision got really blurry one day and they called emergency.',\n 'O im sorry to hear that! How did it happen?',\n \"I once went to see fireworks with my best friend. Best day of my life. We're no longer friends.\",\n 'No. I am too embarassed to reach out to her after all these years.',\n 'What a beautiful memory that you will always have though... have you tried to be friends again? ',\n 'So I found something out the other night that made me extremely upset! ',\n 'My child went out behind my back, and snuck out! ',\n 'What happened?!',\n 'So I just saw how they are going to have a remake of Fist of Fury.',\n 'It is a old movie that came out in the 80s. I remember seeing it as a kid!',\n 'I have no idea what that is.',\n 'Oh is it and action movie.',\n 'One time there was a large mouse in my kitchen.',\n \"I closed the door and put a towel under it. IT was late so i couldn't call maintenence til thehmorning.\",\n 'What did you do with it? Did you try to kill it?',\n 'Thats what I would have done. Did they get it taken care of?',\n 'I think our job might be laying us off. ',\n 'Doubtful honestly.. they dont seem to care very much. :/',\n 'O No! Are they going to offer you any kind of package?',\n 'So after a year of being here we finally got to rearrange the garage.',\n 'I think we will be able to get two cars in here now!',\n 'How is it looking? ',\n 'So my cat of 10 years past away last night. I dont know what to do',\n 'He is really old but I hate that it happened you know?',\n \"oh no. I'm sorry to hear that.\",\n 'I like to give to charity.',\n 'Whatever my local pharmacy is giving to at the time. I donate my change since I shop there a lot. It adds up.',\n 'Every litlle bit counts. Eventually I will be able to write a check.',\n 'What charities do you like to give too',\n 'That is a very nice thing to do, I wish I could do more to help.',\n 'So I lost my wallet and had to get a new ID issued to me.',\n 'I usually dont have much cash on me but the cards are hard to replace.',\n 'I hope someone turns it in soon to you.. did you lose out on money too? ',\n 'Im going to my first concert this weekend. Yesssssss! ',\n 'I bought them, woulda been cool to win them though right? lol ',\n 'Did you buy tickets or win them?',\n 'When the Falcons won the game I was excited.',\n 'The NFC championship.',\n 'What game did they win?',\n 'There was a big storm here last week.',\n 'The power went out for about 15 and scared the crap out of me, but other than that we were fine.',\n 'That sucks. Are you ok?',\n 'Thats good. Did the clocks all reset?',\n 'I was impressed with the new Tesla that I test drove.',\n 'Over 100mph.',\n 'I bet that was rather fun, how fast did you get it going? ',\n 'I managed to change the oil in my car on my own without breaking anything...',\n 'I havent changed my oil in years since my dad taught me so... it was an achievement for sure. ',\n 'Thats great.I  change my oil all the time.',\n 'I should really try to get a girlfriend or something. I just need to feel someone.',\n 'Yeah I just feel like it is no use. ',\n 'Try online dating! Its actually really fun... have you tried it? ',\n 'Dont feel that way... theres someone out there for everyone. Give it a try. :) ',\n 'The other day during breakfast my daughter started choking and I panicked. ',\n 'Yeah I was able to get the food unlodged but wow it was super scary. Shes okay now thanks! ',\n 'Were you able to get her help in time! How is she doing?',\n 'It was for science but I had notes i had brought.',\n 'No we are allowed to bring notes it was just a surprise test. I felt happy about being able to bring mine.',\n 'Thats not right. How did you feel?',\n \"That's good. How did you do?\",\n 'My grandma died. I am so sad.',\n 'Age but she also smoked.',\n 'Im sorry to hear that. Was it from age or complications?',\n 'I use to hate the dark when I was little.',\n 'Yes. I had a nightlight to help.',\n 'were you afraid of the dark?',\n \"i slept in my mom's room because i was always afraid of the dark\",\n 'So I was at cheeleading last night and this girl did a double backflip!',\n 'Yeah! It was just really fast and she went up really high!',\n 'Did she land?',\n 'Sweet. Did the crowd cheer?',\n 'I got into Harvard. Can you believe it?',\n 'In the Fall.',\n 'Wow that is great! When are you going to start?',\n 'it annoys me that my wife keeps giving our son a stick even though he hurts himself every single time',\n 'i did, she calls me a helicopter parent and just laughs at me',\n \"Why don't you say something?\",\n 'I am afraid of clowns.',\n 'Yes I saw that movie and cried.',\n 'oh gosh, me too!! especially the clown from the movie IT',\n 'I took a trip over the weekend where we stayed at a nice hotel with a balcony overlooking the pool.',\n 'Yes in Biloxi. The balcony had a downside though. The seagulls would always try to steal your food. ',\n 'That sounds really nice! Did you stay near the ocean?',\n 'I remember throwing food over and watching them catch it as a kid.',\n 'When I got in my car to go to work I notcied a note on my seat.',\n 'It was from my 7 year old son, He wanted to tell me he loved me and wished he could come work with me,',\n 'I think I am going to take him out for icecream.',\n 'What did it say?',\n 'That is so sweet. Give him twenty dollars. ',\n 'I cheated on a test. I am very ashamed.',\n 'I would but I will get in trouble.',\n \"oh no :( maybe you should confess and i'm sure you will feel better\",\n 'I miss my family members as they all pretty much gone now...',\n 'Yeah, as you get older you have to face the fact of loved ones not being around forever.',\n 'Sorry to hear that.',\n 'Yes. I have lost my grandma.',\n 'I almost died last year.',\n 'Yes I was very lucky.',\n \"That is a terrible thing to happen, I'm sure...\",\n 'Went for a dip at the pool late one night on vacation.',\n 'It was a heated ppol so that was nice. But when I jumped in some of may hair extension came out!',\n 'Nice, how was the water.',\n 'Thats funny. Did you get them all?',\n 'I am afraid of ghosts.',\n 'I hope I never meet a ghost.',\n \"Mw too. I don't even llike when it's too dark inside or outside.\",\n 'I always am prepared for hurricanes.',\n 'I love Texas.',\n 'I live in Texas, We really dont have to worry about them here.',\n 'So i got a huge bonus at work last week!',\n 'It was enough that I was able to pay off my car and a lot of bills.',\n 'How much?',\n 'Cool. What kind of car.',\n 'My apartment is right near the dumpster for our commplex.',\n \"no. That's not the problem. Sometimes people leave their trash on the outside and then there are a lot of raccoons out there at night.\",\n 'That is terrible, does it smell?',\n 'You should tell someone.',\n 'I hope I win the lottery this week.',\n 'Maybe we can split it if we win.',\n \"I think it's my turn to win the lottery\",\n 'My friend is so annoying.',\n 'He just talks too much.',\n 'what did he do?',\n 'I was so happy when my son was born.',\n \"I won't tell anyone.\",\n \"awww. don't tell anyone but my son is my favorite child. I have two girls also.\",\n \"Halloween can't get here quick enough.\",\n 'It is my favorite. I love dressing up with my kids and eating all of their candy.',\n 'I love Halloween.',\n 'So I went to pick up Lucy last night for our date. I was very polite and nice.',\n 'We meet online on a dating site. I was nervous but I did not let it show and took charge.',\n 'Where did you meet her?',\n 'Thats cool. Will you see her again?',\n 'I am so happy I graduated college.',\n 'Yes and I had a 4.0',\n 'I bet! It has to feel like a huge accomplishment.',\n \"Got asked to my boss' office. Thought I was getting bad news but turns out I was offered a promotion.\",\n 'I definitely did!',\n 'Nice. Did you take it?',\n 'I have studied and am sure I will pass the test.',\n 'I expect an A.',\n 'Good luck! Do your best. you sound well prepapred.',\n 'How about our president huh?',\n 'Lol. There is no joy here. But I think the only way to go is up now.',\n \"I'm not actually in America so I don't share the same joy as you :p\",\n 'I let my new neighbors borrow our lawnmower. It came back broken.',\n 'No. They went pretty quiet.',\n \"That's terrible. Do you think they'll take care of it>\",\n 'My daughter is being so lazy this summer.',\n '13. I ate her dinner yesterday because she just refused to get up. I feel bad about it now',\n \"I think that's the usual for kids. How old is she\",\n \"That's kind of funny though. How did she react?\",\n 'I lied to the police. I am ashamed.',\n 'I said I did not know where my friend was.',\n 'You should never lie to them. What did you say?',\n 'I got tickets to go to the Amusment park this weekend.',\n 'Well they have one near my job. My son a Jack really wants to go so I am taking him.',\n 'Nice. Which one?',\n 'That should be fun.',\n 'Went to the beach the other day and remember how much my friend liked going together.',\n \"Yea. I enjoyed it alot. That's why it made me think of my buddy.\",\n 'oh, did you enjoy it? I love going to the beach',\n \"Don't you hate when you order food and it is terrible.\",\n \"We ordered Krystals on a road trip and couldn't even take it back because it would have cost too much time on the road. I was so upset.\",\n 'I do. Makes me angry.',\n 'I do not like Krystals.',\n 'I tried to catch a criminal but he got away.',\n 'Yes but only a small knife.',\n 'Did he have a weapon?',\n 'I forget the lines in the school play. I was so embarrassed.',\n 'Yes. I was the main character.',\n 'Oh no! Were there a lot of lines you had to remember?',\n \"I got stock from family a long time ago. I just let it sit there. It's risen 10 times since.\",\n \"It's enough to pay 1 year's worth of mortgage. Wondering if I should sell it or hold now.\",\n 'Wow! Have you looked to see how much it is worth? You could have some money.',\n 'So last night at work I lost my keys, I search the office for like 30 minutes.',\n 'I did but the entire office was watching me the whole time. I hated looking stupid like that.',\n 'Did you find it?',\n \"I'm sure everyone has lost something. They're just probably glad it wasn't them.\",\n 'I just applied for a promotion, and I should earn at least 10k more.',\n 'I hope so! It will help finances a lot.',\n \"That's awesome. Do you think you will get it?\",\n \"Last time I was at my parent's house I went through some old photo albums and started reminiscing.\",\n 'I just thought about how easy and carefree life was when I was a child. I was never alone and always had something to do.',\n 'What did you think about?',\n 'glad to hear you had such a carefree childhood. do you have siblings?',\n 'My cousin just got out of a 7 year relationship. Turns out she was cheating for the last 3 years.',\n \"I don't get it either. I hope he can move on.\",\n \"That's terrible. Wh don't people just leave insteading of hurting their partner. I don't get it.\",\n 'Do you watch game of thrones?',\n \"I love that show. I'm sad it is ending. It should stay on forever.\",\n 'I watched the first season.',\n \"What? It's ending? I heard he hasn't yet finished the books.\",\n 'I have had enogh of this summer heat. Cmon autumn!',\n 'It gets do hot in memphis. My daughter is ready for school to start back anyway,',\n 'I agree. I love autumn.',\n 'I love Memphis.',\n 'I was content with a B on my exam.',\n 'Yes I studied hard to pass.',\n 'It is a passing grade. I would be fine with it.',\n \"We have a work presentation coming up soon. I think we've got everything to present.\",\n \"Yea. I hope we didn't miss anything. We spent a lot of time on it.\",\n \"That's good. Preperation is the first step in having a good presentation.\",\n \"I'm very excited to take a vacation with my wife. We've been wanting to stay in a cabin for awhile.\",\n \"Yeah, we haven't gone on a romantic vacation in over a year, so I'm really looking foward to it.\",\n \"That's exciting! Cabin sounds really cozy.\",\n 'Man, I met this girl one time on Tinder and I totally thought we had great chemistry, but then she completely ghosted me after.',\n \"Aw that's awful, I wouldn't wish that on anybody. She was laughing and all smiley and everything, I can't imagine why she ghosted me.\",\n \"That's the worst, I know how that feels, I'm kind of being ghosted right now myself.\",\n 'Whenever I see my friends on FB posting photos from my hometown I always start to miss it a little. ',\n 'I havent been back yet but maybe I will in the winter so I can experience the snow again. ',\n 'Awww. Do you ever go back and visit?',\n 'My friend is having a drink and paint party for her birthday tomorrow.',\n 'A bottle of moscato. She likes that.',\n 'I bet you are excited... are you bringing anything over with you? ',\n 'Sounds yummy! Thats a good choice. Have a great time. ',\n 'I wish I was The Rock.',\n 'The actor The Rock.',\n 'What kind of rock would you want to be?',\n 'My son was prett slow to start speaking.',\n \"I took him to get evaluatd and we are waiting for a spot to open at school. I practiced at home with him non stop though and now he won't shut up. I'm so proud of him\",\n '/Did you get him a teacher?',\n 'I would be proud of him also.',\n 'I was surprised when Trump won the election.',\n 'Yes, Big upset.',\n 'You? I thought I was dreaming',\n 'I recently lost my job, and am having trouble finding another one. ',\n 'Its a scary situation to be in but like you I almost pretty much applying to anything out there! ',\n \"I feel your pain, that happened to me a few years ago, I ended up having to settle on a job I didn't like just to make ends meet.\",\n 'Hi, how are you?',\n 'I have been better, I just am kind of annoyed with lying.  Does lying annoy you also/',\n \"I'm doing pretty alright, what about you?\",\n 'Absolutely, it is one of my biggest pet peeves, especially when people accuse me of lying too.',\n 'I had the worst time last week. I went with my girlfriend to see one of her friends and she talked to him with so much more energy and passion than she does with me.',\n \"That's so terrible to hear about. Do girls not understand that men also want to be valued over some random guys that they meet or even just see on the street? It's crazy to me that they are so rude sometimes.\",\n 'I really wish I could NOT correlate to that.  But I can.  Me and my girlfriend are going through a weird time right now where she likes to tell me how hot other guys right to my face.  It is a terrible feeling, and I know exactly what you are talking about.  If it occurs a lot more I suggest you saying something about it, better to know the truth than dwell on it everytime.',\n 'I was prepared for my History test due to studying.',\n 'Yes but I was prepared.',\n 'Was your history test hard even after all the studying?',\n 'I just got off the phone with one of my old buddies that I met for the first time in years yesterday and we are gonna go hang out sometime on Sunday! It just makes me really happy to think that we are reconnecting.',\n \"We met yesterday at this restaurant and just had some good conversation, ate some food, and caught up with each other's lives.\",\n 'Thats great. Where did you meet?',\n 'What did you eat?',\n \"I can't believe the Falcons blew the Super Bowl. I was there.\",\n 'It had never happened before.',\n 'Oh you were? I really am not a huge sports fan, so what was so big about this?',\n 'I love football, are you ready for the season?',\n \"August, Can't wait.\",\n 'Yes, when does the season start?',\n 'I was apprehensive to get married.',\n 'No, but I am still worried.',\n 'Do you regret it now that you are?',\n \"I let Daisy my cat out the other evening and she didn't come back home.\",\n \"two days. I live by a road , so I'm afraid she'll go in that direction.\",\n \"I've seen a lot of animals killed on the highways. Its so sad. \",\n 'thanks , nice chatting with you ',\n 'oh no. How long has she been gone.',\n 'I hope not. My friends cat left for two weeks once. she came back hungry, but she was fine.',\n 'well I hope your cat returns safely.',\n 'my apartment is terrible.',\n \"We aren't supposed to, but I did anyway. Got to make the best out it.\",\n 'Can you do any work to it. I know there are a lot ideas on pinterest to perk up a place.',\n \"I know it seems late, but I'm 19 and I went on my first date only about one month ago. \",\n \"Beforehand I was really nervous that I was gonna mess it up and make things awkward. Contrary to that it really wasn't too bad!\",\n 'How was it?',\n 'Thats great. Where did you go.',\n 'I am scared of how I will die.',\n \"I hope mine isn't painful.\",\n 'I worry about that too occasionally, but I just push it to the back of my mind like usual.',\n 'I love hockey, are you ready for the season?',\n 'I love the Leafs.',\n \"I am, I like the Oilers, who's your favorite team?\",\n 'I think I have some pretty decent kids. May be too soon to tell though.',\n 'My oldest is 13. She is the worst. But my 2 and 3 year old are perfect lol',\n 'lol. she is upset about everything all of time. I couldnt have been that way lol',\n \"That's hilarious. Maybe II was terrible too then.\",\n 'Oh, all kids are a little iffy, I think. Are you a teacher or do you mean your own children?',\n 'Teenagers are awful! I am really looking forward to my daughter becoming a teenager....not.',\n 'My mom put \"the curse\" on me. She said she hopes my daughter acted 10 times worse than I did. If that\\'s the case, I need to start saving for boarding school, because I was awful!',\n 'My transmission went out in my car at the worst possible time. No way could I afford to get it replaced or rebuilt. My dad was able to loan me $500 to get the new transmission, and my step dad was able to put it in.',\n \"It's still a work in progress, but we tested the transmission before we put it in. It works wonderfully and came out of a car that only has 90,000 miles on it, versus mine that has 200,000. I would like to get a new car, but I don't want to take on another payment until my house is paid off.\",\n 'Yes it is! Especially for two!',\n \"Of course she does! Lol that's hilarious, but I know how hard teenagers are so it's kind of almost serious too. \",\n \"So is it working now? I need atransmission for an old volvo. I'm saving for a new car instead.\",\n \"Makes sense. I don't want any more bills until my kids are in school. Daycare is very expensive.\",\n \"of course the 13 year old hates to babysit. I can't wait until she moves out. jk\",\n 'Had HELLP syndrom with first child. Spent all 9 months being pregnant with 2nd child worrying about the same thing happening.',\n \"It's basically when eclampsia has progressed to the point that your blood won't clot and your organs start shutting down.\",\n \"What is HELLP? I'm sorry you and your baby had to go through that.\",\n 'MY car has been down for about a month. Every time I leave the house I see all brand new cars.',\n \"I'm saving for a new one. I didn't even have it a year. \",\n 'I absolutely hate car issues.  Will you be getting it fixed or buying another one?',\n 'Did it have any warranty when you bought it?',\n 'I am always alone in the summer.',\n 'My wife goes to Canada to visit her mom.',\n 'Why are you alone so much in the summer?',\n 'I was feeling really ambitious the other day and I decided to drive into the parking lot of my old elementary school just to see all the things I used to see years ago.',\n 'It was exactly the same! I was super surprised that no renovations were made, the same playground and buildings and everything.',\n 'Was it as you remembered it?',\n 'My sister in law basically lives off of my mother in law and her kids get everything. My mother in law rarely gives our kids anything because we have the money to do it ourselves - and I get a bit miffed at times.',\n 'She always says \"If I didn\\'t buy it for them, they wouldn\\'t have it\".  But it\\'s a bit ridiculous because my sister in law DOES have the money, she just refuses to raise her own children.',\n \"I know that feeling too, at least somewhat. Seems like clear favoritism to me, but maybe I'm wrong.\",\n 'I really like the new football coach.',\n 'The Falcons and their new defensive coach.',\n 'I like football, who are you talking about? what team?',\n 'I am so proud to be an American.',\n 'No I am not.',\n 'I know that feeling!  Are you involved in any political or activists groups?',\n 'We tried for a baby for a long time, almost 4 years. Waiting those 9 months to meet her were so hard!',\n 'We have two now and they are both almost grown - time for grandkids I guess!',\n 'Yes. I do not have any kids myself.',\n 'I feel bad I stole a cookie from the cookie jar.',\n 'Yes. I ate it quick.',\n 'oh no. Did you get rid of the evidence?',\n 'I had been doing poorly in college for a while.',\n 'I do now. I passed all of my classes last semester, so I think I;m back on track.',\n 'Do you study?',\n 'Thats good. Where do you go?',\n \"I've got a job interview next week. I'm feeling a little uneasy about it.\",\n \"Yeah, I'm definitely excited for it\",\n 'Interviews can be nerve wrecking.',\n 'I recently had a court date for child support.',\n \"The other party didn't show up so they put out a warrant for him. I don't have to go back now.\",\n \"They always do and then we start all over again. It's sad.\",\n 'Yikes, that must of been a bit scary. How did it go?',\n \"That's something at least. I hope they catch him.\",\n 'I am ok with being fat.',\n 'I weight more than I should.',\n \"It shouldn't matter what you look like, but why would you think you are fat?\",\n 'I am excited for baseball playoffs. Are you?',\n 'I love the Yankees.',\n 'I watch it sometimes, It can be a little slow moving for my taste.',\n 'I had jury duty for three months this spring. Its was surprisingly fun and interesting. ',\n 'It can be an inconvenience and it only paid 12 dollars a day. So that was bad.',\n 'I hate jury duty.',\n 'Yes. They underpay.',\n \"I can't believe it hasn't rained today.\",\n 'Yes we need rain.',\n 'Yes, so are you having nice weather,or is it too dry and need some rain?',\n 'We have had some big rain storms this spring and summer. The creek behind my house got in my yard twice. Very scary.',\n 'Not this time. But it did a little bit in 2009. and the mud and mess was unbelievably hard to clean up. ',\n \"oh no! that's scary! The house didn't get flooded, right?\",\n \"i'm sorry to hear that!\",\n 'Ugh I was so mad the other day, I went to the store and was grocery shopping. When I came out, I noticed my car was very scratched on the back bumper. I was so furious and angry, and I still am. ',\n \"No! That's the worst part. I can understand if someone left a note to say sorry. But no :(\",\n \"That's actually so frustrating! No note left on your car or anything from the other driver?\",\n \"Sorry to hear, I really hope that it doesn't cost to much to fix that up.\",\n \"I'm still kinda bummed about this, but like a month or more back I was really into this girl from Tinder and we started dating too. Unfortunately, after like 4 or 5 days, she said she wanted to stop dating and hasn't spoken to me since.\",\n \"It's fine, I'm feeling a lot better about it. The thing that irks me is that she went from super happy about dating to literally ending it and ghosting me in so little time. Makes me think it was all fake, but I can't think why she would do it.\",\n \"Oh no, that really sucks. That's awful that she wanted to end things, especially since you were really into her. I am sorry.\",\n 'We had a really good time on our vacation a couple of weeks ago.',\n 'We went to Disney world with some friends who had never been before.  We are passholders so we have been several times, but it was fun getting to see it throught the eyes of someone who had never been before.',\n \"We had a great time!  We both have small kids so they loved playing together, and it was nice to get to help show our friends the ropes and all the 'secrets' lol\",\n 'Thats sound nice. I went on vacation to Thailand last week. What did you do?',\n 'I know what that feels like. It must have been exciting! ',\n \"Acting as a 'mentor' in these situations is always fun and it makes the whole experience better!\",\n 'It was a really bad experience. Especially since I wasted all the ingredients! ',\n \"Yes, it was my nephew's birthday party pizza. And I promised him I would make his favorite pepperoni pizza! \",\n \"We had to order from a fast food chain! It wasn't bad, but fair to say, my nephew was disappointed in me.\",\n 'Oh no, was it an important meal?',\n \"That's so sad!  What did you end up doing instead?\",\n 'What went wrong with the pizza you were trying to make?',\n 'I was very afraid in airplane because of severe turbulence.',\n 'I was not able to cope with it. I had a severe panic attack.',\n 'Yes airplanes make me feel queasy too. What do you do to cope with it?',\n 'It is something that was really important to her, and I still feel bad that I missed her 15th birthday ',\n 'My cousin, she really wanted me to attend her party since she enjoys my cooking and I had planned on making cookies',\n 'Who is she?',\n 'Hi! One time when driving on fresh snow I almost wiped out into a ditch, that scared me',\n 'I did end up being okay, but man was I nervous and shaking',\n 'That does sound scary! Were you okay?',\n 'I really enjoyed taking care of my nephew yesterday. His mother had left him with me since she had work.',\n 'I agree. We just played xbox and had snacks. I feel he really enjoyed his time.',\n 'That can be a fun time, it is nice to watch kids sometimes',\n 'My brother applied for an Ivy League school this year, and we just found out he was accepted!',\n \"Yeah, it was vey exciting news, I'm so proud of him.\",\n 'Nice, I am glad to hear about that ',\n 'I am trying to sell my house for 89k dollars, I have been in a bad financial situation, my nephew knows it, and now he is trying to buy my house just for 75k, trying to take advance of my situation',\n 'I have no idea, I guess his husband is evil ',\n 'me too, and do you know what makes me mad?  When I had a good job, I helped them a lot, and now they are trying to do this to me',\n 'I know, right? My own nephew trying to do this with me',\n \"Wow, that's terrible. Why would he do that to you?\",\n \"I'm sorry you're having to go through that, I hope you're able to sell the home for a better price.\",\n \"That's just terrible. Some people really are ungrateful.\",\n 'My brother graduated high school, I was very proud of him!',\n 'It is, somewhat common, but still, I am proud of him all the same!',\n \"I know that feel, my brother graduated a year ago, it's a really big milestone.\",\n 'I finished all my finals a couple of months ago for my sophomore year of college.',\n 'It really was, I was scared I would fail but I ended up passing all my classes and even doing well in most of them, I was over joyed.',\n 'That must have been a burden lifted for sure!',\n 'Havent had any rain lately in my area. I hope we do soon, I live near a mountain and we have bad fires when it is dry.',\n 'Yes, It has its drawbacks too, like making the grass grow, lol',\n \"That's a shame, since rain is really nice to watch and hear even disregarding the dryness over there.\",\n 'Very true, well hopefully you get some anyway! ',\n \"It really irritates me when my friend acts superior to everyone in the room, since he seems to think he is the best looking and strongest guy ever when really he's not at all.\",\n \"That wouldn't surprise me. He has always been a bit insecure.\",\n \"That's usually a sign of a lack of confidence or self esteem  in ones self I believe. \",\n 'I have always been faithful to my girlfriend, I am proud of that in a way',\n 'That is good and sadly rare these days',\n \"that's wonderful! i've never cheated on my husband either\",\n 'i really want to lose weight. i know i can do it',\n \"yes, and i'm very motivated\",\n 'I am sure you can, it just takes dedication and effort is all!',\n 'I was chased by a pitbull as a child, I was so scared for years afterwards',\n 'I was a fast kid so I got away, but I had heard how hard they bite',\n \"that is so scary! you didn't get hurt, right?\",\n \"i'm so glad you did'nt get hurt\",\n 'I remember waiting for the Nintendo Switch to come out, I was so excited',\n 'Awesome, I have Zelda, Mario, Splatoon, Fortnite and tons of other games!',\n 'Me neither, too bad it is far away, but we still get smash and Pokemon this year!',\n 'I was also excited. In fact, I have one right now!',\n \"Those are great titles. I am a big Nintendo fan. I can't wait for the new Metroid Prime.\",\n 'Hi! Have you been watching the FIFA World Cup recently?',\n 'Yes, I was devastated to learn that because England are my favorite team!',\n 'I have not, I did hear that England lost recently though.',\n 'I heard they were doing great before the loss though, hope you at least got to see them in some good matches.',\n 'I slipped while carrying a tray of coffee at work the other day, got it all over me.',\n 'Yeah, I was fine. I bit embarrassed, but fine. Had to go home and change though. It was huge mess.',\n 'Oh no, sorry to hear that! Were you okay?',\n 'my parents picked me up from work in a new car for me when I turned 17, I was so surprised',\n 'I was very excited, just to have a car at all is awesome!',\n 'Did this make you excited?',\n 'I still my miss my partner, they left me all alone.',\n 'I hope so to, never thought this would happen, we were suppose to get a house together.',\n 'I am sorry to hear that, maybe things will work themselves out!',\n 'I feel bad, I hope you find someone who treats you even better!',\n 'When I was in preschool, my pants fell down in front of everyone',\n 'I got laughed at a lot and sat down haha',\n 'That sounds embarrassing, what happened after?',\n 'When I was younger my dad scared me and my brothers so bad I almost peed myself!',\n 'When I was younger my dad scared me and my brothers so bad I almost peed myself!',\n 'No, I was too young, I just about cried though',\n 'What a Jerk. Did you let him know he was being rude?',\n 'hat a Jerk. Did you let him know he was being rude?',\n 'When I was younger, my grandmother passed away, I was so upset',\n 'Thank you, I hope nothing ever happens to them!',\n \"I loved my grandparents on my mother's side , so I understand how you feel. \",\n \"There's been a big white wolf or coyote around my yard the past few months. I'm afraid he will kill the neighbors cats. \",\n \"I don't know. I had a cute beaver and there was just a head and eyes left of some small animal that looked like him left in my yard. ugh.\",\n 'That is scary, what are you going to do about it?',\n 'Wow that is sad, I hope you get that fixed',\n ...]"
     },
     "execution_count": 10,
     "metadata": {},
     "output_type": "execute_result"
    }
   ]
  },
  {
   "cell_type": "markdown",
   "source": [
    "***Topical Chat***"
   ],
   "metadata": {
    "_uuid": "3ccc9a5a-56af-4c6a-8712-f056a82e984f",
    "_cell_guid": "b08f3431-bfb5-4601-abb3-301828812c98",
    "trusted": true
   }
  },
  {
   "cell_type": "code",
   "source": [
    "# tc = pd.read_csv('/kaggle/input/chatbot-dataset-topical-chat/topical_chat.csv')\n",
    "# tc.head"
   ],
   "metadata": {
    "_uuid": "1e5f4861-3265-4a35-bd7f-a8a43a0a3866",
    "_cell_guid": "3784fc51-a295-45e5-a444-b99fe741deb4",
    "trusted": true
   },
   "execution_count": null,
   "outputs": []
  },
  {
   "cell_type": "code",
   "source": [
    "# tc_dialogs = list(tc.message)\n",
    "# tc_dialogs[:50]\n",
    "# list(tc.message)"
   ],
   "metadata": {
    "_uuid": "d7eb1964-c6f1-4c7b-a344-a5653533efba",
    "_cell_guid": "74e62805-f600-4684-946c-758d5bd79307",
    "trusted": true
   },
   "execution_count": null,
   "outputs": []
  },
  {
   "cell_type": "code",
   "source": [
    "# len(tc_dialogs)"
   ],
   "metadata": {
    "_uuid": "b0567350-51c7-4b50-a5c3-eab183f57bf8",
    "_cell_guid": "e151ef30-0761-4fa7-949e-f71fb558eb9d",
    "trusted": true
   },
   "execution_count": null,
   "outputs": []
  },
  {
   "cell_type": "markdown",
   "source": [
    "***Ask Reddit Question and Answers***"
   ],
   "metadata": {
    "_uuid": "630898d3-13a4-4986-b430-d1e64d6f0a3e",
    "_cell_guid": "a66a655f-97d8-44a6-b3ee-f71d427afda0",
    "trusted": true
   }
  },
  {
   "cell_type": "code",
   "source": [
    "# ar = pd.read_csv('/kaggle/input/askreddit-questions-and-answers/reddit_questions.csv')"
   ],
   "metadata": {
    "_uuid": "f7ff5cfa-50b6-4b17-8bfb-1a237da8c924",
    "_cell_guid": "2d64f432-ddd2-41f2-8249-6c7bf25c1bba",
    "trusted": true
   },
   "execution_count": null,
   "outputs": []
  },
  {
   "cell_type": "markdown",
   "source": [
    "***Jeopardy questions***"
   ],
   "metadata": {
    "_uuid": "36f38a73-99ae-49d1-ae4e-e95f8f989765",
    "_cell_guid": "d64e66e0-467f-4c61-bca3-e61fbe27613a",
    "trusted": true
   }
  },
  {
   "cell_type": "code",
   "source": [
    "# jq = pd.read_csv('/kaggle/input/200000-jeopardy-questions/JEOPARDY_CSV.csv')\n",
    "# jq.head"
   ],
   "metadata": {
    "_uuid": "03c68748-28f8-49f8-ab9f-67aa25918d78",
    "_cell_guid": "493a5cf4-6100-40ac-a705-d3f986f71d2e",
    "trusted": true
   },
   "execution_count": null,
   "outputs": []
  },
  {
   "cell_type": "code",
   "source": [
    "# jq.describe"
   ],
   "metadata": {
    "_uuid": "1ff317a8-153b-44f4-8af8-b73a20b7e113",
    "_cell_guid": "4e01175b-fa8a-49f6-8e97-8162095283eb",
    "trusted": true
   },
   "execution_count": null,
   "outputs": []
  },
  {
   "cell_type": "code",
   "source": [
    "# jq.columns"
   ],
   "metadata": {
    "_uuid": "594a2889-094c-416c-829c-b47cf5eb6ced",
    "_cell_guid": "d7d9477d-50e1-4ede-800d-28eed72cf632",
    "trusted": true
   },
   "execution_count": null,
   "outputs": []
  },
  {
   "cell_type": "code",
   "source": [
    "# jq[' Question']"
   ],
   "metadata": {
    "_uuid": "103fd58d-154e-41ef-9b85-22630f071e48",
    "_cell_guid": "ec7abc15-e233-4925-ad2f-950c24c22ec9",
    "trusted": true
   },
   "execution_count": null,
   "outputs": []
  },
  {
   "cell_type": "code",
   "source": [
    "# jq[' Answer']"
   ],
   "metadata": {
    "_uuid": "e1a340d1-7a64-402e-94ce-005638bc0189",
    "_cell_guid": "1f5957f1-7dce-4685-8b07-fc14178feaac",
    "trusted": true
   },
   "execution_count": null,
   "outputs": []
  },
  {
   "cell_type": "code",
   "source": [
    "# data = list(zip(jq[' Question'], jq[' Answer']))\n",
    "# jqna = []\n",
    "# for i in data:\n",
    "#     data1 = []\n",
    "#     data1.append(str(i[0]))\n",
    "#     data1.append(str(i[1]))\n",
    "#     jqna.append(data1)\n",
    "#\n",
    "# len(jqna)"
   ],
   "metadata": {
    "_uuid": "bf3fd106-8e3f-48cb-bd6d-63c631252b77",
    "_cell_guid": "20a35c56-6f38-4fac-bd35-493a94d43519",
    "trusted": true
   },
   "execution_count": null,
   "outputs": []
  },
  {
   "cell_type": "markdown",
   "source": [
    "***150k PYTHON SOURCE CODE DATASET***"
   ],
   "metadata": {
    "_uuid": "f184db04-0306-413f-b26e-2480347f10d0",
    "_cell_guid": "9ab00795-974e-4d83-b19e-406aba5632d8",
    "trusted": true
   }
  },
  {
   "cell_type": "code",
   "source": [
    "# import tarfile\n",
    "# tar = tarfile.open(\"/kaggle/input/150k-python-dataset/py150.tar_1\")\n",
    "# tar.extractall()\n",
    "# tar.close()"
   ],
   "metadata": {
    "_uuid": "ac576857-1320-4228-a59e-ecf61d45444e",
    "_cell_guid": "a12ffd0d-cb2c-4f76-824b-4334d37003a1",
    "trusted": true
   },
   "execution_count": null,
   "outputs": []
  },
  {
   "cell_type": "code",
   "source": [
    "# ls"
   ],
   "metadata": {
    "_uuid": "45fb2a9c-4f6a-45a3-adeb-ae99a2ce8ffa",
    "_cell_guid": "99969c4e-a660-4727-8a39-fd780aad9e07",
    "trusted": true
   },
   "execution_count": null,
   "outputs": []
  },
  {
   "cell_type": "code",
   "source": [
    "import sys\n",
    "import json as json\n",
    "import ast\n",
    "\n",
    "def PrintUsage():\n",
    "    sys.stderr.write(\"\"\"\n",
    "Usage:\n",
    "    parse_python.py <file>\n",
    "\n",
    "\"\"\")\n",
    "    exit(1)\n",
    "\n",
    "def read_file_to_string(filename):\n",
    "    f = open(filename, 'rt')\n",
    "    s = f.read()\n",
    "    f.close()\n",
    "    return s\n",
    "\n",
    "def parse_file(filename):\n",
    "    global c, d\n",
    "    tree = ast.parse(read_file_to_string(filename), filename)\n",
    "    \n",
    "    json_tree = []\n",
    "    def gen_identifier(identifier, node_type = 'identifier'):\n",
    "        pos = len(json_tree)\n",
    "        json_node = {}\n",
    "        json_tree.append(json_node)\n",
    "        json_node['type'] = node_type\n",
    "        json_node['value'] = identifier\n",
    "        return pos\n",
    "    \n",
    "    def traverse_list(l, node_type = 'list'):\n",
    "        pos = len(json_tree)\n",
    "        json_node = {}\n",
    "        json_tree.append(json_node)\n",
    "        json_node['type'] = node_type\n",
    "        children = []\n",
    "        for item in l:\n",
    "            children.append(traverse(item))\n",
    "        if (len(children) != 0):\n",
    "            json_node['children'] = children\n",
    "        return pos\n",
    "        \n",
    "    def traverse(node):\n",
    "        pos = len(json_tree)\n",
    "        json_node = {}\n",
    "        json_tree.append(json_node)\n",
    "        json_node['type'] = type(node).__name__\n",
    "        children = []\n",
    "        if isinstance(node, ast.Name):\n",
    "            json_node['value'] = node.id\n",
    "        elif isinstance(node, ast.Num):\n",
    "            json_node['value'] = unicode(node.n)\n",
    "        elif isinstance(node, ast.Str):\n",
    "            json_node['value'] = node.s.decode('utf-8')\n",
    "        elif isinstance(node, ast.alias):\n",
    "            json_node['value'] = unicode(node.name)\n",
    "            if node.asname:\n",
    "                children.append(gen_identifier(node.asname))\n",
    "        elif isinstance(node, ast.FunctionDef):\n",
    "            json_node['value'] = unicode(node.name)\n",
    "        elif isinstance(node, ast.ClassDef):\n",
    "            json_node['value'] = unicode(node.name)\n",
    "        elif isinstance(node, ast.ImportFrom):\n",
    "            if node.module:\n",
    "                json_node['value'] = unicode(node.module)\n",
    "        elif isinstance(node, ast.Global):\n",
    "            for n in node.names:\n",
    "                children.append(gen_identifier(n))\n",
    "        elif isinstance(node, ast.keyword):\n",
    "            json_node['value'] = unicode(node.arg)\n",
    "        \n",
    "\n",
    "        # Process children.\n",
    "        if isinstance(node, ast.For):\n",
    "            children.append(traverse(node.target))\n",
    "            children.append(traverse(node.iter))\n",
    "            children.append(traverse_list(node.body, 'body'))\n",
    "            if node.orelse:\n",
    "                children.append(traverse_list(node.orelse, 'orelse'))\n",
    "        elif isinstance(node, ast.If) or isinstance(node, ast.While):\n",
    "            children.append(traverse(node.test))\n",
    "            children.append(traverse_list(node.body, 'body'))\n",
    "            if node.orelse:\n",
    "                children.append(traverse_list(node.orelse, 'orelse'))\n",
    "        elif isinstance(node, ast.With):\n",
    "            children.append(traverse(node.context_expr))\n",
    "            if node.optional_vars:\n",
    "                children.append(traverse(node.optional_vars))\n",
    "            children.append(traverse_list(node.body, 'body'))\n",
    "        elif isinstance(node, ast.TryExcept):\n",
    "            children.append(traverse_list(node.body, 'body'))\n",
    "            children.append(traverse_list(node.handlers, 'handlers'))\n",
    "            if node.orelse:\n",
    "                children.append(traverse_list(node.orelse, 'orelse'))\n",
    "        elif isinstance(node, ast.TryFinally):\n",
    "            children.append(traverse_list(node.body, 'body'))\n",
    "            children.append(traverse_list(node.finalbody, 'finalbody'))\n",
    "        elif isinstance(node, ast.arguments):\n",
    "            children.append(traverse_list(node.args, 'args'))\n",
    "            children.append(traverse_list(node.defaults, 'defaults'))\n",
    "            if node.vararg:\n",
    "                children.append(gen_identifier(node.vararg, 'vararg'))\n",
    "            if node.kwarg:\n",
    "                children.append(gen_identifier(node.kwarg, 'kwarg'))\n",
    "        elif isinstance(node, ast.ExceptHandler):\n",
    "            if node.type:\n",
    "                children.append(traverse_list([node.type], 'type'))\n",
    "            if node.name:\n",
    "                children.append(traverse_list([node.name], 'name'))\n",
    "            children.append(traverse_list(node.body, 'body'))\n",
    "        elif isinstance(node, ast.ClassDef):\n",
    "            children.append(traverse_list(node.bases, 'bases'))\n",
    "            children.append(traverse_list(node.body, 'body'))\n",
    "            children.append(traverse_list(node.decorator_list, 'decorator_list'))\n",
    "        elif isinstance(node, ast.FunctionDef):\n",
    "            children.append(traverse(node.args))\n",
    "            children.append(traverse_list(node.body, 'body'))\n",
    "            children.append(traverse_list(node.decorator_list, 'decorator_list'))\n",
    "        else:\n",
    "            # Default handling: iterate over children.\n",
    "            for child in ast.iter_child_nodes(node):\n",
    "                if isinstance(child, ast.expr_context) or isinstance(child, ast.operator) or isinstance(child, ast.boolop) or isinstance(child, ast.unaryop) or isinstance(child, ast.cmpop):\n",
    "                    # Directly include expr_context, and operators into the type instead of creating a child.\n",
    "                    json_node['type'] = json_node['type'] + type(child).__name__\n",
    "                else:\n",
    "                    children.append(traverse(child))\n",
    "                \n",
    "        if isinstance(node, ast.Attribute):\n",
    "            children.append(gen_identifier(node.attr, 'attr'))\n",
    "                \n",
    "        if (len(children) != 0):\n",
    "            json_node['children'] = children\n",
    "        return pos\n",
    "    \n",
    "    traverse(tree)\n",
    "    return json.dumps(json_tree, separators=(',', ':'), ensure_ascii=False)\n",
    "\n",
    "if __name__ == \"__main__\":\n",
    "    if len(sys.argv) != 2:\n",
    "        PrintUsage()\n",
    "    try:\n",
    "        print('file')\n",
    "        #print(parse_file(sys.argv[1]))\n",
    "    except (UnicodeEncodeError, UnicodeDecodeError):\n",
    "        pass"
   ],
   "metadata": {
    "_uuid": "a0ead7c4-5fb6-46b9-b14c-8dfe21584232",
    "_cell_guid": "518260fb-6b70-422c-98e8-5d4fd574f6a0",
    "trusted": true
   },
   "execution_count": 11,
   "outputs": [
    {
     "name": "stdout",
     "output_type": "stream",
     "text": [
      "file\n"
     ]
    },
    {
     "name": "stderr",
     "output_type": "stream",
     "text": [
      "\n",
      "Usage:\n",
      "    parse_python.py <file>\n",
      "\n"
     ]
    }
   ]
  },
  {
   "cell_type": "markdown",
   "source": [
    "***Python Questions Dataset***"
   ],
   "metadata": {
    "_uuid": "480a8f9d-19da-4b41-af9c-04285b8544bf",
    "_cell_guid": "93bcaacc-908e-4da5-b92d-b2fe5390663a",
    "trusted": true
   }
  },
  {
   "cell_type": "code",
   "source": [
    "import pandas as pd\n",
    "import numpy as np\n",
    "from nltk.corpus import stopwords\n",
    "import re\n",
    "from wordcloud import WordCloud, STOPWORDS \n",
    "import matplotlib.pyplot as plt\n",
    "from sklearn.model_selection import train_test_split\n",
    "from transformers import (GPT2Config,GPT2LMHeadModel,GPT2Tokenizer)\n",
    "import torch\n",
    "from string import punctuation as pnc\n",
    "from collections import Counter\n",
    "from scipy import spatial\n",
    "from bs4 import BeautifulSoup\n",
    "from tqdm.notebook import tqdm\n",
    "import torch\n",
    "import pylab as pl\n",
    "pd.set_option('display.max_colwidth', -1)"
   ],
   "metadata": {
    "_uuid": "d0ea4cf3-7c49-4671-81d3-dd178fb2cdc1",
    "_cell_guid": "dd6bd0f3-fadd-4abd-a10c-86dde231c35b",
    "trusted": true
   },
   "execution_count": null,
   "outputs": []
  },
  {
   "cell_type": "code",
   "source": [
    "import nltk\n",
    "nltk.download('stopwords')"
   ],
   "metadata": {
    "_uuid": "49a9bf28-1c9f-45cd-af7c-d1ab8c7d361d",
    "_cell_guid": "94d352f6-56b8-46a1-a3aa-ec50e04453f6",
    "trusted": true
   },
   "execution_count": null,
   "outputs": []
  },
  {
   "cell_type": "code",
   "source": [
    "questions = pd.read_csv(\"/kaggle/input/pythonquestions/Questions.csv\", encoding = \"ISO-8859-1\")\n",
    "print(len(questions))\n",
    "display(questions.head(5))"
   ],
   "metadata": {
    "_uuid": "d0d3c388-5b08-4b4a-9e6d-7d308d434fd9",
    "_cell_guid": "1e653a0e-dc38-4a79-9adf-5f1c65d6e37b",
    "trusted": true
   },
   "execution_count": null,
   "outputs": []
  },
  {
   "cell_type": "code",
   "source": [
    "print(\"Number of unique Questions : \", questions['Id'].nunique())"
   ],
   "metadata": {
    "_uuid": "1b3d1876-d835-4b73-8785-00cb729c6249",
    "_cell_guid": "6cafb601-0014-4f48-b592-a8f6cf356ea0",
    "trusted": true
   },
   "execution_count": null,
   "outputs": []
  },
  {
   "cell_type": "code",
   "source": [
    "questions['qLen'] = questions['Title'].apply(lambda x : len(x.split(\" \")))\n",
    "questions['qBodyLen'] = questions['Body'].apply(lambda x : len(x.split(\" \")))"
   ],
   "metadata": {
    "_uuid": "ea269e8d-6aa7-4cb4-9d20-4b74bcf47ea2",
    "_cell_guid": "eb0021b9-19c0-4fe1-985d-37fc7a6af1d9",
    "trusted": true
   },
   "execution_count": null,
   "outputs": []
  },
  {
   "cell_type": "code",
   "source": [
    "import matplotlib.pyplot as plt"
   ],
   "metadata": {
    "_uuid": "0576602a-1949-463f-8a0d-1d074cd28590",
    "_cell_guid": "22e67e64-196a-44ce-9ae9-91f8c585c555",
    "trusted": true
   },
   "execution_count": null,
   "outputs": []
  },
  {
   "cell_type": "code",
   "source": [
    "questions['qLen'].hist(bins=35)\n",
    "plt.title(\"No. of words in Title\")"
   ],
   "metadata": {
    "_uuid": "1c7337a3-a3a7-4ead-8c77-96eeb4e1b670",
    "_cell_guid": "b22ce43b-c166-4db6-8d43-4e89b0d697b2",
    "trusted": true
   },
   "execution_count": null,
   "outputs": []
  },
  {
   "cell_type": "code",
   "source": [
    "questions[questions['qBodyLen']<500]['qBodyLen'].hist(bins=100)\n",
    "plt.title(\"No. of words in Body\")"
   ],
   "metadata": {
    "_uuid": "46970430-290e-46af-a6bf-7d5c1dd5d57c",
    "_cell_guid": "00b40dff-ef8e-4cd7-8014-00aae13355b0",
    "trusted": true
   },
   "execution_count": null,
   "outputs": []
  },
  {
   "cell_type": "code",
   "source": [
    "def getWordCloud(df,col):\n",
    "  comment_words = '' \n",
    "  stopwords = set(STOPWORDS) \n",
    "    \n",
    "  for val in tqdm(df[col]): \n",
    "        \n",
    "      val = str(val) \n",
    "      tokens = val.split() \n",
    "        \n",
    "      for i in range(len(tokens)): \n",
    "          tokens[i] = tokens[i].lower() \n",
    "        \n",
    "      comment_words += \" \".join(tokens)+\" \"\n",
    "    \n",
    "  wordcloud = WordCloud(width = 800, height = 800, \n",
    "                  background_color ='white', \n",
    "                  stopwords = stopwords, \n",
    "                  min_font_size = 10).generate(comment_words) \n",
    "    \n",
    "                       \n",
    "  plt.figure(figsize = (5, 5), facecolor = None) \n",
    "  plt.imshow(wordcloud) \n",
    "  plt.axis(\"off\")\n",
    "  plt.tight_layout(pad = 0) \n",
    "    \n",
    "  plt.show()"
   ],
   "metadata": {
    "_uuid": "03ae8278-ff2b-4778-9208-2f98df51269a",
    "_cell_guid": "ac2699a2-e223-45e5-86a1-3aed522ee1fb",
    "trusted": true
   },
   "execution_count": null,
   "outputs": []
  },
  {
   "cell_type": "code",
   "source": [
    "getWordCloud(questions,'Title')"
   ],
   "metadata": {
    "_uuid": "d9d16946-220e-42ea-a3ae-3ce8418d55d0",
    "_cell_guid": "f8f17bfb-4eeb-4725-91ab-fa194b206bc9",
    "trusted": true
   },
   "execution_count": null,
   "outputs": []
  },
  {
   "cell_type": "code",
   "source": [
    "stop = stopwords.words('english')\n",
    "def preprocess(df, col):\n",
    "  df['preprocessed'+col] = df[col].apply(lambda x : \" \".join([word for word in x.split(\" \") if word not in stop]))\n",
    "  df['preprocessed'+col] = df['preprocessed'+col].str.replace('[^a-zA-Z0-9 ]', '')\n",
    "  df['preprocessed'+col] = df['preprocessed'+col].str.lower()\n",
    "  return df"
   ],
   "metadata": {
    "_uuid": "0fb03b76-e637-4336-9ea8-f224b9aea974",
    "_cell_guid": "bc1d9dc0-d133-4290-9fc6-acef43a2a274",
    "trusted": true
   },
   "execution_count": null,
   "outputs": []
  },
  {
   "cell_type": "code",
   "source": [
    "questions = preprocess(questions, 'Title')"
   ],
   "metadata": {
    "_uuid": "b5008545-a6b3-46ac-bfb9-c20d07366c60",
    "_cell_guid": "ea0aae65-7144-4dbe-96f6-b92ec9106b35",
    "trusted": true
   },
   "execution_count": null,
   "outputs": []
  },
  {
   "cell_type": "code",
   "source": [
    "tags = pd.read_csv(\"/kaggle/input/pythonquestions/Tags.csv\", encoding = \"ISO-8859-1\")\n",
    "print(len(tags))\n",
    "display(tags.head(5))"
   ],
   "metadata": {
    "_uuid": "945a90c1-0e15-4fb9-ad1d-723401a66034",
    "_cell_guid": "beb3dcd2-5b98-469e-a1e1-f73a4b7e5248",
    "trusted": true
   },
   "execution_count": null,
   "outputs": []
  },
  {
   "cell_type": "code",
   "source": [
    "print(\"Number of unique Tags : \", tags['Tag'].nunique())"
   ],
   "metadata": {
    "_uuid": "3e7f18cb-79af-4ab2-96ab-7dac23f01ca2",
    "_cell_guid": "e995dd66-1095-4812-9a56-5c85c98be7a9",
    "trusted": true
   },
   "execution_count": null,
   "outputs": []
  },
  {
   "cell_type": "code",
   "source": [
    "fig, ax = plt.subplots()\n",
    "tags[tags['Tag']!='python']['Tag'].value_counts().sort_values(ascending = False)[:20].plot(ax=ax, kind='bar')"
   ],
   "metadata": {
    "_uuid": "174a9e32-cf22-4d9c-8b37-1d53b571921e",
    "_cell_guid": "697b84d0-02a9-4af5-9132-72fbbe5d30b8",
    "trusted": true
   },
   "execution_count": null,
   "outputs": []
  },
  {
   "cell_type": "code",
   "source": [
    "config_class, model_class, tokenizer_class = GPT2Config, GPT2LMHeadModel, GPT2Tokenizer\n",
    "model = model_class.from_pretrained('gpt2')\n",
    "tokenizer = GPT2Tokenizer.from_pretrained(\"gpt2\")"
   ],
   "metadata": {
    "_uuid": "eae0449c-b57c-4d56-90b0-d308db77f95d",
    "_cell_guid": "7d6e62d6-b920-4271-a273-72d143d7c73e",
    "trusted": true
   },
   "execution_count": null,
   "outputs": []
  },
  {
   "cell_type": "code",
   "source": [
    "preprocessedTitle = questions['preprocessedTitle'].values\n",
    "QID = questions['Id'].values\n",
    "print(len(preprocessedTitle), len(QID))"
   ],
   "metadata": {
    "_uuid": "21c9671e-82f6-42fc-b72c-0969d1195b23",
    "_cell_guid": "732b9c1d-cfab-42cc-8d46-24f162eed01c",
    "trusted": true
   },
   "execution_count": null,
   "outputs": []
  },
  {
   "cell_type": "code",
   "source": [
    "encodedpreprocessedTitle = tokenizer.batch_encode_plus(preprocessedTitle)['input_ids']\n",
    "print(len(encodedpreprocessedTitle))"
   ],
   "metadata": {
    "_uuid": "ae14a102-05c9-4362-a559-425678b72cee",
    "_cell_guid": "f5886bcc-d7cb-4151-a09e-e8e5eb60a993",
    "trusted": true
   },
   "execution_count": null,
   "outputs": []
  },
  {
   "cell_type": "code",
   "source": [
    "embeddigs = model.transformer.wte\n",
    "print(\"Shape of embedding matrix : \",embeddigs.weight.shape)\n",
    "print(\"Type of embedding matrix : \", type(embeddigs))"
   ],
   "metadata": {
    "_uuid": "d782ad4e-88ef-4f0e-a88f-ce32d5a6231a",
    "_cell_guid": "a6743a0e-bff1-4387-b9a8-fbef5b7d78a4",
    "trusted": true
   },
   "execution_count": null,
   "outputs": []
  },
  {
   "cell_type": "code",
   "source": [
    "TitleEmbeddingList = []\n",
    "QIDList = []\n",
    "for idx, (qid, encodedTitle) in tqdm(enumerate(zip(QID, encodedpreprocessedTitle))):\n",
    "  if len(encodedTitle) > 0 :\n",
    "    embeddedTitle = embeddigs(torch.tensor(encodedTitle).to(torch.int64)).mean(axis=0)\n",
    "    TitleEmbeddingList.append(embeddedTitle)\n",
    "    QIDList.append(qid)"
   ],
   "metadata": {
    "_uuid": "3f859d52-71b9-4e97-8e54-8db246e0565c",
    "_cell_guid": "7a899305-cca5-41c9-87c6-bc60350a2077",
    "trusted": true
   },
   "execution_count": null,
   "outputs": []
  },
  {
   "cell_type": "code",
   "source": [
    "numQ = len(TitleEmbeddingList)\n",
    "embedDim = len(TitleEmbeddingList[0])\n",
    "print(\"Number of Titles : \",numQ,\" and Length of vector of each Title : \",embedDim)"
   ],
   "metadata": {
    "_uuid": "2473a41b-1d96-45e6-9900-acca3702cd35",
    "_cell_guid": "1e252e3e-4a5b-4a9d-9b33-fd151bdab3dd",
    "trusted": true
   },
   "execution_count": null,
   "outputs": []
  },
  {
   "cell_type": "code",
   "source": [
    "TitleEmbeddingTensor = torch.cat(TitleEmbeddingList, dim=0)\n",
    "TitleEmbeddingTensor = torch.reshape(TitleEmbeddingTensor, (numQ, embedDim))\n",
    "print(\"Shape of TitleEmbeddingTensor : \",TitleEmbeddingTensor.shape)\n",
    "print(\"Type of TitleEmbeddingTensor : \", type(TitleEmbeddingTensor))"
   ],
   "metadata": {
    "_uuid": "fcc22dc5-aa0d-4e5c-be15-36d39a9e15ae",
    "_cell_guid": "8d36414e-1666-4955-9f7d-7201ade64996",
    "trusted": true
   },
   "execution_count": null,
   "outputs": []
  },
  {
   "cell_type": "code",
   "source": [
    "def preprocesstext(text):\n",
    "  text =  \" \".join([word for word in text.split(\" \") if word not in stop])\n",
    "  text = re.sub(r'[^a-zA-Z0-9 ]','',text)\n",
    "  text = text.lower()\n",
    "  return text"
   ],
   "metadata": {
    "_uuid": "c14866f1-4450-497d-8966-0c80b047c55f",
    "_cell_guid": "0a293dba-bbf4-4d03-80e2-9aff9db9c0b0",
    "trusted": true
   },
   "execution_count": null,
   "outputs": []
  },
  {
   "cell_type": "code",
   "source": [
    "def getMostSimilarQuestionsIdx(K, a, b):\n",
    "  a_norm = a / a.norm(dim=1)[:, None]\n",
    "  b_norm = b / b.norm(dim=1)[:, None]\n",
    "  res = torch.mm(a_norm, b_norm.transpose(0,1)).squeeze(0)\n",
    "  res = res.tolist()\n",
    "  mostSimIdx = sorted(range(len(res)), key=lambda x: res[x])[-K:]\n",
    "  return mostSimIdx"
   ],
   "metadata": {
    "_uuid": "7f04290d-06ee-4ca2-b560-5d275bb99421",
    "_cell_guid": "57fde280-d5d9-4ecc-98de-c3609f57eb2e",
    "trusted": true
   },
   "execution_count": null,
   "outputs": []
  },
  {
   "cell_type": "code",
   "source": [
    "def getMostSimilarQuestions(K, input, QuestionDF, QIDList):\n",
    "  input = input\n",
    "  preprocessedinput = preprocesstext(input)\n",
    "  inputEncoded = tokenizer.batch_encode_plus([preprocessedinput])['input_ids']\n",
    "  inputEmbedded = embeddigs(torch.tensor(inputEncoded).to(torch.int64)).squeeze(0).mean(axis=0).unsqueeze(0)\n",
    "  mostSimilarIdx = getMostSimilarQuestionsIdx(K, inputEmbedded, TitleEmbeddingTensor)\n",
    "  mostSimilarIdx.reverse()\n",
    "  print(\"Most similar \",K, \" questions : \")\n",
    "  for idx, simidx in enumerate(mostSimilarIdx):\n",
    "    IDQ = QuestionDF[QuestionDF['Id']==QIDList[simidx]][['Id','Title']].values\n",
    "    parentId = IDQ[0][0]\n",
    "    simQuestion = IDQ[0][1]\n",
    "    print((idx+1), \"Question Id : \", parentId, \"Question : \",simQuestion)"
   ],
   "metadata": {
    "_uuid": "33130dc1-3fe8-44db-9710-62c26684d1d4",
    "_cell_guid": "caeed892-724b-444d-84a9-45279e1909f7",
    "trusted": true
   },
   "execution_count": null,
   "outputs": []
  },
  {
   "cell_type": "code",
   "source": [
    "getMostSimilarQuestions(5, \"How to MUltiply 2 columns pandas ?\", questions ,QIDList)"
   ],
   "metadata": {
    "_uuid": "9ac75062-a319-4b8f-b54d-3b88a020e02b",
    "_cell_guid": "11fe75c5-b2ab-4bfa-850a-d1c675ffab7a",
    "trusted": true
   },
   "execution_count": null,
   "outputs": []
  },
  {
   "cell_type": "markdown",
   "source": [
    "**Ask reddit troll questions**"
   ],
   "metadata": {}
  },
  {
   "cell_type": "code",
   "source": [
    "reddit_troll = pd.read_csv(\"/kaggle/input/askreddit-troll-questions/our_competition_test.csv\")\n",
    "reddit_troll.columns"
   ],
   "metadata": {
    "_uuid": "39aab02c-3bf6-4179-ac43-78f02bf39a5a",
    "_cell_guid": "75d516d2-963c-4c13-9afd-494a0dd2b6ca",
    "trusted": true
   },
   "execution_count": null,
   "outputs": []
  },
  {
   "cell_type": "code",
   "source": [
    "troll_questions = list(reddit_troll.question_text)\n",
    "troll_questions[:10]"
   ],
   "metadata": {
    "trusted": true
   },
   "execution_count": null,
   "outputs": []
  },
  {
   "cell_type": "code",
   "source": [
    "reddit_troll = pd.read_csv(\"/kaggle/input/askreddit-troll-questions/our_competition_train (1).csv\")\n",
    "reddit_troll.columns"
   ],
   "metadata": {
    "trusted": true
   },
   "execution_count": null,
   "outputs": []
  },
  {
   "cell_type": "code",
   "source": [
    "troll_questions.append(list(reddit_troll.question_text))\n",
    "troll_questions[:20]"
   ],
   "metadata": {
    "trusted": true
   },
   "execution_count": null,
   "outputs": []
  },
  {
   "cell_type": "markdown",
   "source": [
    "**Amazon questions answers**"
   ],
   "metadata": {}
  },
  {
   "cell_type": "code",
   "source": [
    "amazon_questions = pd.read_csv(\"/kaggle/input/amazon-questionanswer-dataset/single_qna.csv\")\n",
    "amazon_questions.head"
   ],
   "metadata": {
    "trusted": true
   },
   "execution_count": null,
   "outputs": []
  },
  {
   "cell_type": "code",
   "source": [
    "amazon_questions.columns"
   ],
   "metadata": {
    "trusted": true
   },
   "execution_count": null,
   "outputs": []
  },
  {
   "cell_type": "code",
   "source": [
    "questions = amazon_questions.Question[:10]"
   ],
   "metadata": {
    "trusted": true
   },
   "execution_count": null,
   "outputs": []
  },
  {
   "cell_type": "code",
   "source": [
    "answers = amazon_questions.Answer[:10]"
   ],
   "metadata": {
    "trusted": true
   },
   "execution_count": null,
   "outputs": []
  },
  {
   "cell_type": "code",
   "source": [
    "qna = list(zip(questions, answers))\n",
    "qna[:10]"
   ],
   "metadata": {
    "trusted": true
   },
   "execution_count": null,
   "outputs": []
  },
  {
   "cell_type": "code",
   "source": [
    "multi_questions = pd.read_csv(\"/kaggle/input/amazon-questionanswer-dataset/multi_questions.csv\")\n",
    "multiquestions = multi_questions.QuestionText\n",
    "len(multiquestions)"
   ],
   "metadata": {
    "trusted": true
   },
   "execution_count": null,
   "outputs": []
  },
  {
   "cell_type": "code",
   "source": [
    "multi_answers = pd.read_csv(\"/kaggle/input/amazon-questionanswer-dataset/multi_answers.csv\")\n",
    "multianswers = multi_answers.AnswerText\n",
    "len(multianswers)"
   ],
   "metadata": {
    "trusted": true
   },
   "execution_count": null,
   "outputs": []
  },
  {
   "cell_type": "markdown",
   "source": [
    "***Cleaning Text Data***"
   ],
   "metadata": {}
  },
  {
   "cell_type": "code",
   "source": [
    "!pip install cleantext"
   ],
   "metadata": {
    "trusted": true
   },
   "execution_count": null,
   "outputs": []
  },
  {
   "cell_type": "code",
   "source": [
    "import cleantext\n",
    "\n",
    "cleaned_text = []\n",
    "\n",
    "def clean(textdata, depth):\n",
    "    if depth == 1:\n",
    "        for i in textdata:\n",
    "            cleaned_text.append(cleantext.clean(str(i), extra_spaces=True, lowercase=True, stopwords=True, stemming=True, numbers=True, punct=True, clean_all = True))\n",
    "        \n",
    "        return cleaned_text[-10:]\n",
    "    else:\n",
    "        for i in textdata:\n",
    "            for j in i:\n",
    "                cleaned_text.append(cleantext.clean(str(j), extra_spaces=True, lowercase=True, stopwords=True, stemming=True, numbers=True, punct=True, clean_all = True))\n",
    "        \n",
    "        return cleaned_text[-10:]"
   ],
   "metadata": {
    "trusted": true
   },
   "execution_count": null,
   "outputs": []
  },
  {
   "cell_type": "code",
   "source": [
    "clean(dialogs, depth = 1)\n",
    "del dialogs\n",
    "clean(emapthetic_dialogs, depth = 1)\n",
    "del emapthetic_dialogs\n",
    "clean(qna, depth = 2)\n",
    "del qna\n",
    "clean(tc_dialogs, depth = 1)\n",
    "del tc_dialogs"
   ],
   "metadata": {
    "trusted": true
   },
   "execution_count": null,
   "outputs": []
  },
  {
   "cell_type": "code",
   "source": [
    "clean(jqna, depth = 2)"
   ],
   "metadata": {
    "trusted": true
   },
   "execution_count": null,
   "outputs": []
  },
  {
   "cell_type": "code",
   "source": [
    "del jqna"
   ],
   "metadata": {
    "trusted": true
   },
   "execution_count": null,
   "outputs": []
  },
  {
   "cell_type": "code",
   "source": [
    "clean(troll_questions, depth=1)\n",
    "del troll_questions"
   ],
   "metadata": {
    "trusted": true
   },
   "execution_count": null,
   "outputs": []
  },
  {
   "cell_type": "markdown",
   "source": [
    "**Getting all questions and answers in 1 variable**"
   ],
   "metadata": {}
  },
  {
   "cell_type": "code",
   "source": [
    "all_questions = list(dialogs[::2]) + list(mh.Questions) + list(emapthetic_dialogs[::2]) + list(tc_dialogs[::2]) #+ list(jq[' Question']) #+ list(amazon_questions.Question) #+ list(multi_questions.QuestionText)\n",
    "all_answers = list(dialogs[1::2]) + list(mh.Answers) + list(emapthetic_dialogs[1::2]) + list(tc_dialogs[1::2]) #+ list(jq[' Answer']) #+ list(amazon_questions.Answer) #+ list(multi_answers.AnswerText)"
   ],
   "metadata": {
    "trusted": true
   },
   "execution_count": null,
   "outputs": []
  },
  {
   "cell_type": "code",
   "source": [
    "len(all_questions)"
   ],
   "metadata": {
    "trusted": true
   },
   "execution_count": null,
   "outputs": []
  },
  {
   "cell_type": "code",
   "source": [
    "len(all_answers)"
   ],
   "metadata": {
    "trusted": true
   },
   "execution_count": null,
   "outputs": []
  },
  {
   "cell_type": "markdown",
   "source": [
    "***Data training for chatbot***"
   ],
   "metadata": {}
  },
  {
   "cell_type": "code",
   "source": [
    "import numpy as np\n",
    "import tensorflow as tf\n",
    "import pickle\n",
    "from tensorflow.keras import layers , activations , models , preprocessing , utils"
   ],
   "metadata": {
    "trusted": true
   },
   "execution_count": null,
   "outputs": []
  },
  {
   "cell_type": "code",
   "source": [
    "tokenizer = preprocessing.text.Tokenizer()\n",
    "tokenizer.fit_on_texts([str(i) for i in all_questions[:1000]] +  [str(i) for i in all_answers[:1000]])\n",
    "VOCAB_SIZE = len( tokenizer.word_index )+1\n",
    "print( 'VOCAB SIZE : {}'.format( VOCAB_SIZE ))"
   ],
   "metadata": {
    "trusted": true
   },
   "execution_count": null,
   "outputs": []
  },
  {
   "cell_type": "code",
   "source": [
    "from gensim.models import Word2Vec\n",
    "import re\n",
    "\n",
    "vocab = []\n",
    "for word in tokenizer.word_index:\n",
    "    vocab.append( word )\n",
    "\n",
    "def tokenize( sentences ):\n",
    "    tokens_list = []\n",
    "    vocabulary = []\n",
    "    for sentence in sentences:\n",
    "        sentence = sentence.lower()\n",
    "        sentence = re.sub( '[^a-zA-Z]', ' ', sentence )\n",
    "        tokens = sentence.split()\n",
    "        vocabulary += tokens\n",
    "        tokens_list.append( tokens )\n",
    "    return tokens_list , vocabulary\n",
    "\n",
    "#p = tokenize( questions + answers )\n",
    "#model = Word2Vec( p[ 0 ] ) \n",
    "\n",
    "#embedding_matrix = np.zeros( ( VOCAB_SIZE , 100 ) )\n",
    "#for i in range( len( tokenizer.word_index ) ):\n",
    "    #embedding_matrix[ i ] = model[ vocab[i] ]\n",
    "\n",
    "# encoder_input_data\n",
    "tokenized_questions = tokenizer.texts_to_sequences( [str(i) for i in all_questions[:1000]] )\n",
    "maxlen_questions = max( [ len(x) for x in tokenized_questions ] )\n",
    "padded_questions = preprocessing.sequence.pad_sequences( tokenized_questions , maxlen=maxlen_questions , padding='post' )\n",
    "encoder_input_data = np.array( padded_questions )\n",
    "print( encoder_input_data.shape , maxlen_questions )\n",
    "\n",
    "# decoder_input_data\n",
    "tokenized_answers = tokenizer.texts_to_sequences( [str(i) for i in all_answers[:1000]] )\n",
    "maxlen_answers = max( [ len(x) for x in tokenized_answers ] )\n",
    "padded_answers = preprocessing.sequence.pad_sequences( tokenized_answers , maxlen=maxlen_answers , padding='post' )\n",
    "decoder_input_data = np.array( padded_answers )\n",
    "print( decoder_input_data.shape , maxlen_answers )\n",
    "\n",
    "# decoder_output_data\n",
    "tokenized_answers = tokenizer.texts_to_sequences( [str(i) for i in all_answers[:1000]] )\n",
    "for i in range(len(tokenized_answers)) :\n",
    "    tokenized_answers[i] = tokenized_answers[i][1:]\n",
    "padded_answers = preprocessing.sequence.pad_sequences( tokenized_answers , maxlen=maxlen_answers , padding='post' )\n",
    "onehot_answers = utils.to_categorical( padded_answers , VOCAB_SIZE )\n",
    "decoder_output_data = np.array( onehot_answers )\n",
    "print( decoder_output_data.shape )\n"
   ],
   "metadata": {
    "trusted": true
   },
   "execution_count": null,
   "outputs": []
  },
  {
   "cell_type": "code",
   "source": [
    "\n",
    "encoder_inputs = tf.keras.layers.Input(shape=( maxlen_questions , ))\n",
    "encoder_embedding = tf.keras.layers.Embedding( VOCAB_SIZE, 200 , mask_zero=True ) (encoder_inputs)\n",
    "encoder_outputs , state_h , state_c = tf.keras.layers.LSTM( 200 , return_state=True )( encoder_embedding )\n",
    "encoder_states = [ state_h , state_c ]\n",
    "\n",
    "decoder_inputs = tf.keras.layers.Input(shape=( maxlen_answers ,  ))\n",
    "decoder_embedding = tf.keras.layers.Embedding( VOCAB_SIZE, 200 , mask_zero=True) (decoder_inputs)\n",
    "decoder_lstm = tf.keras.layers.LSTM( 200 , return_state=True , return_sequences=True )\n",
    "decoder_outputs , _ , _ = decoder_lstm ( decoder_embedding , initial_state=encoder_states )\n",
    "decoder_dense = tf.keras.layers.Dense( VOCAB_SIZE , activation=tf.keras.activations.softmax ) \n",
    "output = decoder_dense ( decoder_outputs )\n",
    "\n",
    "model = tf.keras.models.Model([encoder_inputs, decoder_inputs], output )\n",
    "model.compile(optimizer=tf.keras.optimizers.RMSprop(), loss='categorical_crossentropy')\n",
    "\n",
    "model.summary()"
   ],
   "metadata": {
    "trusted": true
   },
   "execution_count": null,
   "outputs": []
  },
  {
   "cell_type": "code",
   "source": [
    "model.fit([encoder_input_data , decoder_input_data], decoder_output_data, batch_size=50, epochs=150 ) \n",
    "model.save( 'model.h5' ) "
   ],
   "metadata": {
    "trusted": true
   },
   "execution_count": null,
   "outputs": []
  },
  {
   "cell_type": "code",
   "source": [
    "def make_inference_models():\n",
    "    \n",
    "    encoder_model = tf.keras.models.Model(encoder_inputs, encoder_states)\n",
    "    \n",
    "    decoder_state_input_h = tf.keras.layers.Input(shape=( 200 ,))\n",
    "    decoder_state_input_c = tf.keras.layers.Input(shape=( 200 ,))\n",
    "    \n",
    "    decoder_states_inputs = [decoder_state_input_h, decoder_state_input_c]\n",
    "    \n",
    "    decoder_outputs, state_h, state_c = decoder_lstm(\n",
    "        decoder_embedding , initial_state=decoder_states_inputs)\n",
    "    decoder_states = [state_h, state_c]\n",
    "    decoder_outputs = decoder_dense(decoder_outputs)\n",
    "    decoder_model = tf.keras.models.Model(\n",
    "        [decoder_inputs] + decoder_states_inputs,\n",
    "        [decoder_outputs] + decoder_states)\n",
    "    \n",
    "    return encoder_model , decoder_model"
   ],
   "metadata": {
    "trusted": true
   },
   "execution_count": null,
   "outputs": []
  },
  {
   "cell_type": "code",
   "source": [
    "\n",
    "def str_to_tokens( sentence : str ):\n",
    "    words = sentence.lower().split()\n",
    "    tokens_list = list()\n",
    "    for word in words:\n",
    "        tokens_list.append( tokenizer.word_index[ word ] ) \n",
    "    return preprocessing.sequence.pad_sequences( [tokens_list] , maxlen=maxlen_questions , padding='post')"
   ],
   "metadata": {
    "trusted": true
   },
   "execution_count": null,
   "outputs": []
  },
  {
   "cell_type": "code",
   "source": [
    "\n",
    "enc_model , dec_model = make_inference_models()\n",
    "\n",
    "for _ in range(10):\n",
    "    states_values = enc_model.predict( str_to_tokens( input( 'Enter question : ' ) ) )\n",
    "    empty_target_seq = np.zeros( ( 1 , 1 ) )\n",
    "    empty_target_seq[0, 0] = tokenizer.word_index['start']\n",
    "    stop_condition = False\n",
    "    decoded_translation = ''\n",
    "    while not stop_condition :\n",
    "        dec_outputs , h , c = dec_model.predict([ empty_target_seq ] + states_values )\n",
    "        sampled_word_index = np.argmax( dec_outputs[0, -1, :] )\n",
    "        sampled_word = None\n",
    "        for word , index in tokenizer.word_index.items() :\n",
    "            if sampled_word_index == index :\n",
    "                decoded_translation += ' {}'.format( word )\n",
    "                sampled_word = word\n",
    "        \n",
    "        if sampled_word == 'end' or len(decoded_translation.split()) > maxlen_answers:\n",
    "            stop_condition = True\n",
    "            \n",
    "        empty_target_seq = np.zeros( ( 1 , 1 ) )  \n",
    "        empty_target_seq[ 0 , 0 ] = sampled_word_index\n",
    "        states_values = [ h , c ] \n",
    "\n",
    "    print( decoded_translation )"
   ],
   "metadata": {
    "trusted": true
   },
   "execution_count": null,
   "outputs": []
  },
  {
   "cell_type": "code",
   "source": [],
   "metadata": {},
   "execution_count": null,
   "outputs": []
  }
 ]
}
